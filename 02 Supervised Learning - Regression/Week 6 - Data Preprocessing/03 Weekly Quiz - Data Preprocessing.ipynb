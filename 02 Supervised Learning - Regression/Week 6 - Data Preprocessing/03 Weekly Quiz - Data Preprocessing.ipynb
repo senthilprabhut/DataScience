{
 "cells": [
  {
   "cell_type": "markdown",
   "id": "0754bd6b",
   "metadata": {},
   "source": [
    "# Weekly Quiz - Data Preprocessing - Kickstarter Projects."
   ]
  },
  {
   "cell_type": "markdown",
   "id": "e47646bd",
   "metadata": {},
   "source": [
    "## Problem Statement\n",
    "Kickstarter is a crowdfunding website where people can ask people to invest in various projects and concept products. They have provided data having different attributes of a project like its name, category, the currency of funding, deadline for crowdfunding, goal and raised amounts for funding, etc."
   ]
  },
  {
   "cell_type": "markdown",
   "id": "48fe5c08",
   "metadata": {},
   "source": [
    "## Data Description\n",
    "Attribute information:\n",
    "\n",
    "- id - project id\n",
    "- name - project name\n",
    "- subcategory - project subcategory\n",
    "- category - project category\n",
    "- currency - project currency\n",
    "- deadline - deadline for crowdfunding on Kickstarter\n",
    "- goal - goal amount in project currency\n",
    "- launched - launch date on Kickstarter\n",
    "- pledged - pledged (raised) amount in the project currency\n",
    "- state - project state\n",
    "- backers - count of backers\n",
    "- country - project country\n",
    "- usd_pledged_real - pledged (raised) amount in USD\n",
    "- usd_goal_real - goal amount in USD\n"
   ]
  },
  {
   "cell_type": "markdown",
   "id": "02169595",
   "metadata": {},
   "source": [
    "# 1. Loading libraries"
   ]
  },
  {
   "cell_type": "code",
   "execution_count": 26,
   "id": "4fe14f47",
   "metadata": {},
   "outputs": [
    {
     "name": "stdout",
     "output_type": "stream",
     "text": [
      "The nb_black extension is already loaded. To reload it, use:\n",
      "  %reload_ext nb_black\n"
     ]
    },
    {
     "data": {
      "application/javascript": [
       "\n",
       "            setTimeout(function() {\n",
       "                var nbb_cell_id = 26;\n",
       "                var nbb_unformatted_code = \"# this will help in making the Python code more structured automatically (good coding practice)\\n%load_ext nb_black\\n\\n# Libraries to help with reading and manipulating data\\nimport numpy as np\\nimport pandas as pd\\n\\n# Libraries to help with data visualization\\nimport matplotlib.pyplot as plt\\nimport seaborn as sns\\n\\n%matplotlib inline\\nsns.set()\\n\\n# Removes the limit for the number of displayed columns\\npd.set_option(\\\"display.max_columns\\\", None)\\n# Sets the limit for the number of displayed rows\\npd.set_option(\\\"display.max_rows\\\", 200)\";\n",
       "                var nbb_formatted_code = \"# this will help in making the Python code more structured automatically (good coding practice)\\n%load_ext nb_black\\n\\n# Libraries to help with reading and manipulating data\\nimport numpy as np\\nimport pandas as pd\\n\\n# Libraries to help with data visualization\\nimport matplotlib.pyplot as plt\\nimport seaborn as sns\\n\\n%matplotlib inline\\nsns.set()\\n\\n# Removes the limit for the number of displayed columns\\npd.set_option(\\\"display.max_columns\\\", None)\\n# Sets the limit for the number of displayed rows\\npd.set_option(\\\"display.max_rows\\\", 200)\";\n",
       "                var nbb_cells = Jupyter.notebook.get_cells();\n",
       "                for (var i = 0; i < nbb_cells.length; ++i) {\n",
       "                    if (nbb_cells[i].input_prompt_number == nbb_cell_id) {\n",
       "                        if (nbb_cells[i].get_text() == nbb_unformatted_code) {\n",
       "                             nbb_cells[i].set_text(nbb_formatted_code);\n",
       "                        }\n",
       "                        break;\n",
       "                    }\n",
       "                }\n",
       "            }, 500);\n",
       "            "
      ],
      "text/plain": [
       "<IPython.core.display.Javascript object>"
      ]
     },
     "metadata": {},
     "output_type": "display_data"
    }
   ],
   "source": [
    "# this will help in making the Python code more structured automatically (good coding practice)\n",
    "%load_ext nb_black\n",
    "\n",
    "# Libraries to help with reading and manipulating data\n",
    "import numpy as np\n",
    "import pandas as pd\n",
    "\n",
    "# Libraries to help with data visualization\n",
    "import matplotlib.pyplot as plt\n",
    "import seaborn as sns\n",
    "\n",
    "%matplotlib inline\n",
    "sns.set()\n",
    "\n",
    "# Removes the limit for the number of displayed columns\n",
    "pd.set_option(\"display.max_columns\", None)\n",
    "# Sets the limit for the number of displayed rows\n",
    "pd.set_option(\"display.max_rows\", 200)"
   ]
  },
  {
   "cell_type": "markdown",
   "id": "2d4cdec9",
   "metadata": {},
   "source": [
    "### Quiz"
   ]
  },
  {
   "cell_type": "markdown",
   "id": "cddff1b1",
   "metadata": {},
   "source": [
    "**1. Read the data into a pandas dataframe and drop the ‘currency’ and ‘goal’ columns.  \n",
    "The resulting dataframe contains ___ rows and ___ columns, respectively.**"
   ]
  },
  {
   "cell_type": "code",
   "execution_count": 3,
   "id": "59f7602f",
   "metadata": {},
   "outputs": [
    {
     "name": "stdout",
     "output_type": "stream",
     "text": [
      "There are 378661 rows and 12 columns.\n"
     ]
    },
    {
     "data": {
      "application/javascript": [
       "\n",
       "            setTimeout(function() {\n",
       "                var nbb_cell_id = 3;\n",
       "                var nbb_unformatted_code = \"df = pd.read_csv(\\\"./datasets/KickStarterProjects.csv\\\")\\ndf.drop([\\\"currency\\\", \\\"goal\\\"], axis=1, inplace=True)\\nprint(f\\\"There are {df.shape[0]} rows and {df.shape[1]} columns.\\\")  # f-string\";\n",
       "                var nbb_formatted_code = \"df = pd.read_csv(\\\"./datasets/KickStarterProjects.csv\\\")\\ndf.drop([\\\"currency\\\", \\\"goal\\\"], axis=1, inplace=True)\\nprint(f\\\"There are {df.shape[0]} rows and {df.shape[1]} columns.\\\")  # f-string\";\n",
       "                var nbb_cells = Jupyter.notebook.get_cells();\n",
       "                for (var i = 0; i < nbb_cells.length; ++i) {\n",
       "                    if (nbb_cells[i].input_prompt_number == nbb_cell_id) {\n",
       "                        if (nbb_cells[i].get_text() == nbb_unformatted_code) {\n",
       "                             nbb_cells[i].set_text(nbb_formatted_code);\n",
       "                        }\n",
       "                        break;\n",
       "                    }\n",
       "                }\n",
       "            }, 500);\n",
       "            "
      ],
      "text/plain": [
       "<IPython.core.display.Javascript object>"
      ]
     },
     "metadata": {},
     "output_type": "display_data"
    }
   ],
   "source": [
    "df = pd.read_csv(\"./datasets/KickStarterProjects.csv\")\n",
    "df.drop([\"currency\", \"goal\"], axis=1, inplace=True)\n",
    "print(f\"There are {df.shape[0]} rows and {df.shape[1]} columns.\")  # f-string"
   ]
  },
  {
   "cell_type": "markdown",
   "id": "44c64fdc",
   "metadata": {},
   "source": [
    "**2. The dataframe obtained in Question 1 should be used in the subsequent questions.  \n",
    "How many columns in the dataset contain missing values?**"
   ]
  },
  {
   "cell_type": "code",
   "execution_count": 45,
   "id": "f9afc098",
   "metadata": {},
   "outputs": [
    {
     "data": {
      "text/plain": [
       "name                4\n",
       "ID                  0\n",
       "subcategory         0\n",
       "category            0\n",
       "deadline            0\n",
       "launched            0\n",
       "pledged             0\n",
       "state               0\n",
       "backers             0\n",
       "country             0\n",
       "usd_pledged_real    0\n",
       "usd_goal_real       0\n",
       "dtype: int64"
      ]
     },
     "execution_count": 45,
     "metadata": {},
     "output_type": "execute_result"
    },
    {
     "data": {
      "application/javascript": [
       "\n",
       "            setTimeout(function() {\n",
       "                var nbb_cell_id = 45;\n",
       "                var nbb_unformatted_code = \"df.isnull().sum().sort_values(ascending=False)\";\n",
       "                var nbb_formatted_code = \"df.isnull().sum().sort_values(ascending=False)\";\n",
       "                var nbb_cells = Jupyter.notebook.get_cells();\n",
       "                for (var i = 0; i < nbb_cells.length; ++i) {\n",
       "                    if (nbb_cells[i].input_prompt_number == nbb_cell_id) {\n",
       "                        if (nbb_cells[i].get_text() == nbb_unformatted_code) {\n",
       "                             nbb_cells[i].set_text(nbb_formatted_code);\n",
       "                        }\n",
       "                        break;\n",
       "                    }\n",
       "                }\n",
       "            }, 500);\n",
       "            "
      ],
      "text/plain": [
       "<IPython.core.display.Javascript object>"
      ]
     },
     "metadata": {},
     "output_type": "display_data"
    }
   ],
   "source": [
    "df.isnull().sum().sort_values(ascending=False)"
   ]
  },
  {
   "cell_type": "markdown",
   "id": "f5fa7930",
   "metadata": {},
   "source": [
    "`name` column has the missing values"
   ]
  },
  {
   "cell_type": "markdown",
   "id": "aed75b13",
   "metadata": {},
   "source": [
    "**3. If there are any missing values in the dataframe, <span style=\"text-decoration: underline\">drop the rows</span> that contain missing values before moving ahead, and use this dataframe for subsequent questions.  \n",
    "How many unique project states are there in the data and which among them is the most frequent?**"
   ]
  },
  {
   "cell_type": "code",
   "execution_count": 56,
   "id": "64a1a179",
   "metadata": {},
   "outputs": [
    {
     "data": {
      "application/javascript": [
       "\n",
       "            setTimeout(function() {\n",
       "                var nbb_cell_id = 56;\n",
       "                var nbb_unformatted_code = \"df.dropna(inplace=True)\";\n",
       "                var nbb_formatted_code = \"df.dropna(inplace=True)\";\n",
       "                var nbb_cells = Jupyter.notebook.get_cells();\n",
       "                for (var i = 0; i < nbb_cells.length; ++i) {\n",
       "                    if (nbb_cells[i].input_prompt_number == nbb_cell_id) {\n",
       "                        if (nbb_cells[i].get_text() == nbb_unformatted_code) {\n",
       "                             nbb_cells[i].set_text(nbb_formatted_code);\n",
       "                        }\n",
       "                        break;\n",
       "                    }\n",
       "                }\n",
       "            }, 500);\n",
       "            "
      ],
      "text/plain": [
       "<IPython.core.display.Javascript object>"
      ]
     },
     "metadata": {},
     "output_type": "display_data"
    }
   ],
   "source": [
    "df.dropna(inplace=True)"
   ]
  },
  {
   "cell_type": "code",
   "execution_count": 58,
   "id": "a6d99141",
   "metadata": {},
   "outputs": [
    {
     "name": "stdout",
     "output_type": "stream",
     "text": [
      "There are 6 states and the most frequent state is 'failed'\n"
     ]
    },
    {
     "data": {
      "application/javascript": [
       "\n",
       "            setTimeout(function() {\n",
       "                var nbb_cell_id = 58;\n",
       "                var nbb_unformatted_code = \"value_counts = df[\\\"state\\\"].value_counts(dropna=False)\\nprint(\\n    f\\\"There are {len(value_counts)} states and the most frequent state is '{value_counts.index[0]}'\\\"\\n)\";\n",
       "                var nbb_formatted_code = \"value_counts = df[\\\"state\\\"].value_counts(dropna=False)\\nprint(\\n    f\\\"There are {len(value_counts)} states and the most frequent state is '{value_counts.index[0]}'\\\"\\n)\";\n",
       "                var nbb_cells = Jupyter.notebook.get_cells();\n",
       "                for (var i = 0; i < nbb_cells.length; ++i) {\n",
       "                    if (nbb_cells[i].input_prompt_number == nbb_cell_id) {\n",
       "                        if (nbb_cells[i].get_text() == nbb_unformatted_code) {\n",
       "                             nbb_cells[i].set_text(nbb_formatted_code);\n",
       "                        }\n",
       "                        break;\n",
       "                    }\n",
       "                }\n",
       "            }, 500);\n",
       "            "
      ],
      "text/plain": [
       "<IPython.core.display.Javascript object>"
      ]
     },
     "metadata": {},
     "output_type": "display_data"
    }
   ],
   "source": [
    "value_counts = df[\"state\"].value_counts(dropna=False)\n",
    "print(\n",
    "    f\"There are {len(value_counts)} states and the most frequent state is '{value_counts.index[0]}'\"\n",
    ")"
   ]
  },
  {
   "cell_type": "markdown",
   "id": "aea10c19",
   "metadata": {},
   "source": [
    "**4. Which of the following values (respectively) are the closest approximation of the mean and median number of backers the projects in the dataset have been able to secure?**"
   ]
  },
  {
   "cell_type": "code",
   "execution_count": 60,
   "id": "e04ac1b5",
   "metadata": {},
   "outputs": [
    {
     "name": "stdout",
     "output_type": "stream",
     "text": [
      "The mean value of backers is 105.61854395930882 and the median value of backers is 12.0\n"
     ]
    },
    {
     "data": {
      "application/javascript": [
       "\n",
       "            setTimeout(function() {\n",
       "                var nbb_cell_id = 60;\n",
       "                var nbb_unformatted_code = \"print(f'The mean value of backers is {df.backers.mean()} and the median value of backers is {df.backers.median()}')\";\n",
       "                var nbb_formatted_code = \"print(\\n    f\\\"The mean value of backers is {df.backers.mean()} and the median value of backers is {df.backers.median()}\\\"\\n)\";\n",
       "                var nbb_cells = Jupyter.notebook.get_cells();\n",
       "                for (var i = 0; i < nbb_cells.length; ++i) {\n",
       "                    if (nbb_cells[i].input_prompt_number == nbb_cell_id) {\n",
       "                        if (nbb_cells[i].get_text() == nbb_unformatted_code) {\n",
       "                             nbb_cells[i].set_text(nbb_formatted_code);\n",
       "                        }\n",
       "                        break;\n",
       "                    }\n",
       "                }\n",
       "            }, 500);\n",
       "            "
      ],
      "text/plain": [
       "<IPython.core.display.Javascript object>"
      ]
     },
     "metadata": {},
     "output_type": "display_data"
    }
   ],
   "source": [
    "print(\n",
    "    f\"The mean value of backers is {df.backers.mean()} and the median value of backers is {df.backers.median()}\"\n",
    ")"
   ]
  },
  {
   "cell_type": "markdown",
   "id": "8848c25d",
   "metadata": {},
   "source": [
    "**5. Are there any indications that the number of backers have extreme values?**  \n",
    "\n",
    "Yes, the mean and median number of backers are starkly different values and this is an indication that this column has outliers."
   ]
  },
  {
   "cell_type": "markdown",
   "id": "c3c3a763",
   "metadata": {},
   "source": [
    "**6. The goal amount in USD has a highly skewed distribution. Please apply min-max scaling to this column and confirm if that helped in reducing the skewness.  \n",
    "Note: Create a new scaled column, do not replace the existing column.**\n",
    "\n",
    "No, and even standard scaling does not help in reducing the skewness"
   ]
  },
  {
   "cell_type": "code",
   "execution_count": 5,
   "id": "059f298e",
   "metadata": {},
   "outputs": [
    {
     "data": {
      "text/plain": [
       "Text(0.5, 1.0, 'usd_goal_real before transformation')"
      ]
     },
     "execution_count": 5,
     "metadata": {},
     "output_type": "execute_result"
    },
    {
     "data": {
      "image/png": "[encoded data removed]",
      "text/plain": [
       "<Figure size 432x288 with 1 Axes>"
      ]
     },
     "metadata": {},
     "output_type": "display_data"
    },
    {
     "data": {
      "application/javascript": [
       "\n",
       "            setTimeout(function() {\n",
       "                var nbb_cell_id = 5;\n",
       "                var nbb_unformatted_code = \"ax = sns.histplot(df[\\\"usd_goal_real\\\"], bins=50);\\nax.set_title(\\\"usd_goal_real before transformation\\\")\";\n",
       "                var nbb_formatted_code = \"ax = sns.histplot(df[\\\"usd_goal_real\\\"], bins=50)\\nax.set_title(\\\"usd_goal_real before transformation\\\")\";\n",
       "                var nbb_cells = Jupyter.notebook.get_cells();\n",
       "                for (var i = 0; i < nbb_cells.length; ++i) {\n",
       "                    if (nbb_cells[i].input_prompt_number == nbb_cell_id) {\n",
       "                        if (nbb_cells[i].get_text() == nbb_unformatted_code) {\n",
       "                             nbb_cells[i].set_text(nbb_formatted_code);\n",
       "                        }\n",
       "                        break;\n",
       "                    }\n",
       "                }\n",
       "            }, 500);\n",
       "            "
      ],
      "text/plain": [
       "<IPython.core.display.Javascript object>"
      ]
     },
     "metadata": {},
     "output_type": "display_data"
    }
   ],
   "source": [
    "ax = sns.histplot(df[\"usd_goal_real\"], bins=50)\n",
    "ax.set_title(\"usd_goal_real before transformation\")"
   ]
  },
  {
   "cell_type": "code",
   "execution_count": 9,
   "id": "0061c20a",
   "metadata": {},
   "outputs": [
    {
     "data": {
      "text/plain": [
       "Text(0.5, 1.0, 'usd_goal_real after minmax transformation')"
      ]
     },
     "execution_count": 9,
     "metadata": {},
     "output_type": "execute_result"
    },
    {
     "data": {
      "image/png": "[encoded data removed]",
      "text/plain": [
       "<Figure size 432x288 with 1 Axes>"
      ]
     },
     "metadata": {},
     "output_type": "display_data"
    },
    {
     "data": {
      "application/javascript": [
       "\n",
       "            setTimeout(function() {\n",
       "                var nbb_cell_id = 9;\n",
       "                var nbb_unformatted_code = \"from sklearn.preprocessing import StandardScaler, MinMaxScaler\\n\\ndf[\\\"usd_goal_real_min_max_sc\\\"] = MinMaxScaler().fit_transform(df[[\\\"usd_goal_real\\\"]])\\nax = sns.histplot(df[\\\"usd_goal_real_min_max_sc\\\"], bins=50)\\nax.set_title(\\\"usd_goal_real after minmax transformation\\\")\\n\\n# print(np.sum(df_engineered[\\\"usd_goal_real\\\"] <= 0))\";\n",
       "                var nbb_formatted_code = \"from sklearn.preprocessing import StandardScaler, MinMaxScaler\\n\\ndf[\\\"usd_goal_real_min_max_sc\\\"] = MinMaxScaler().fit_transform(df[[\\\"usd_goal_real\\\"]])\\nax = sns.histplot(df[\\\"usd_goal_real_min_max_sc\\\"], bins=50)\\nax.set_title(\\\"usd_goal_real after minmax transformation\\\")\\n\\n# print(np.sum(df_engineered[\\\"usd_goal_real\\\"] <= 0))\";\n",
       "                var nbb_cells = Jupyter.notebook.get_cells();\n",
       "                for (var i = 0; i < nbb_cells.length; ++i) {\n",
       "                    if (nbb_cells[i].input_prompt_number == nbb_cell_id) {\n",
       "                        if (nbb_cells[i].get_text() == nbb_unformatted_code) {\n",
       "                             nbb_cells[i].set_text(nbb_formatted_code);\n",
       "                        }\n",
       "                        break;\n",
       "                    }\n",
       "                }\n",
       "            }, 500);\n",
       "            "
      ],
      "text/plain": [
       "<IPython.core.display.Javascript object>"
      ]
     },
     "metadata": {},
     "output_type": "display_data"
    }
   ],
   "source": [
    "from sklearn.preprocessing import MinMaxScaler\n",
    "\n",
    "df[\"usd_goal_real_min_max_sc\"] = MinMaxScaler().fit_transform(df[[\"usd_goal_real\"]])\n",
    "ax = sns.histplot(df[\"usd_goal_real_min_max_sc\"], bins=50)\n",
    "ax.set_title(\"usd_goal_real after minmax transformation\")"
   ]
  },
  {
   "cell_type": "code",
   "execution_count": 10,
   "id": "8abc6b1e",
   "metadata": {},
   "outputs": [
    {
     "data": {
      "text/plain": [
       "Text(0.5, 1.0, 'usd_goal_real after z transformation')"
      ]
     },
     "execution_count": 10,
     "metadata": {},
     "output_type": "execute_result"
    },
    {
     "data": {
      "image/png": "[encoded data removed]",
      "text/plain": [
       "<Figure size 432x288 with 1 Axes>"
      ]
     },
     "metadata": {},
     "output_type": "display_data"
    },
    {
     "data": {
      "application/javascript": [
       "\n",
       "            setTimeout(function() {\n",
       "                var nbb_cell_id = 10;\n",
       "                var nbb_unformatted_code = \"from sklearn.preprocessing import StandardScaler\\n\\nstd_scaler = StandardScaler()\\ndf[\\\"usd_goal_real_z_std\\\"] = std_scaler.fit_transform(df[[\\\"usd_goal_real\\\"]])\\nax = sns.histplot(df[\\\"usd_goal_real_z_std\\\"], bins=50)\\nax.set_title(\\\"usd_goal_real after z transformation\\\")\";\n",
       "                var nbb_formatted_code = \"from sklearn.preprocessing import StandardScaler\\n\\nstd_scaler = StandardScaler()\\ndf[\\\"usd_goal_real_z_std\\\"] = std_scaler.fit_transform(df[[\\\"usd_goal_real\\\"]])\\nax = sns.histplot(df[\\\"usd_goal_real_z_std\\\"], bins=50)\\nax.set_title(\\\"usd_goal_real after z transformation\\\")\";\n",
       "                var nbb_cells = Jupyter.notebook.get_cells();\n",
       "                for (var i = 0; i < nbb_cells.length; ++i) {\n",
       "                    if (nbb_cells[i].input_prompt_number == nbb_cell_id) {\n",
       "                        if (nbb_cells[i].get_text() == nbb_unformatted_code) {\n",
       "                             nbb_cells[i].set_text(nbb_formatted_code);\n",
       "                        }\n",
       "                        break;\n",
       "                    }\n",
       "                }\n",
       "            }, 500);\n",
       "            "
      ],
      "text/plain": [
       "<IPython.core.display.Javascript object>"
      ]
     },
     "metadata": {},
     "output_type": "display_data"
    }
   ],
   "source": [
    "from sklearn.preprocessing import StandardScaler\n",
    "\n",
    "df[\"usd_goal_real_z_std\"] = StandardScaler().fit_transform(df[[\"usd_goal_real\"]])\n",
    "ax = sns.histplot(df[\"usd_goal_real_z_std\"], bins=50)\n",
    "ax.set_title(\"usd_goal_real after z transformation\")"
   ]
  },
  {
   "cell_type": "markdown",
   "id": "ac736ab2",
   "metadata": {},
   "source": [
    "**7. Which of these plots represent the 'usd_goal_real' column after applying log transformation to this column?**"
   ]
  },
  {
   "cell_type": "code",
   "execution_count": 12,
   "id": "4e23aafa",
   "metadata": {},
   "outputs": [
    {
     "data": {
      "text/plain": [
       "Text(0.5, 1.0, 'usd_goal_real after ')"
      ]
     },
     "execution_count": 12,
     "metadata": {},
     "output_type": "execute_result"
    },
    {
     "data": {
      "image/png": "[encoded data removed]",
      "text/plain": [
       "<Figure size 432x288 with 1 Axes>"
      ]
     },
     "metadata": {},
     "output_type": "display_data"
    },
    {
     "data": {
      "application/javascript": [
       "\n",
       "            setTimeout(function() {\n",
       "                var nbb_cell_id = 12;\n",
       "                var nbb_unformatted_code = \"ax = sns.histplot(np.log(df[\\\"usd_goal_real\\\"]), bins=50, kde=True)\\nax.set_title(\\\"usd_goal_real after \\\")\";\n",
       "                var nbb_formatted_code = \"ax = sns.histplot(np.log(df[\\\"usd_goal_real\\\"]), bins=50, kde=True)\\nax.set_title(\\\"usd_goal_real after \\\")\";\n",
       "                var nbb_cells = Jupyter.notebook.get_cells();\n",
       "                for (var i = 0; i < nbb_cells.length; ++i) {\n",
       "                    if (nbb_cells[i].input_prompt_number == nbb_cell_id) {\n",
       "                        if (nbb_cells[i].get_text() == nbb_unformatted_code) {\n",
       "                             nbb_cells[i].set_text(nbb_formatted_code);\n",
       "                        }\n",
       "                        break;\n",
       "                    }\n",
       "                }\n",
       "            }, 500);\n",
       "            "
      ],
      "text/plain": [
       "<IPython.core.display.Javascript object>"
      ]
     },
     "metadata": {},
     "output_type": "display_data"
    }
   ],
   "source": [
    "ax = sns.histplot(np.log(df[\"usd_goal_real\"]), bins=50, kde=True)\n",
    "ax.set_title(\"usd_goal_real after \")"
   ]
  },
  {
   "cell_type": "markdown",
   "id": "7b5c2ae1",
   "metadata": {},
   "source": [
    "**8. In which month was the highest number of projects launched?**"
   ]
  },
  {
   "cell_type": "code",
   "execution_count": 13,
   "id": "57ef6c74",
   "metadata": {},
   "outputs": [
    {
     "data": {
      "text/plain": [
       "7     34477\n",
       "1     34347\n",
       "10    33409\n",
       "3     32837\n",
       "11    32135\n",
       "8     31619\n",
       "5     31573\n",
       "9     31538\n",
       "6     31383\n",
       "4     31038\n",
       "2     29876\n",
       "12    24429\n",
       "Name: launched month, dtype: int64"
      ]
     },
     "execution_count": 13,
     "metadata": {},
     "output_type": "execute_result"
    },
    {
     "data": {
      "application/javascript": [
       "\n",
       "            setTimeout(function() {\n",
       "                var nbb_cell_id = 13;\n",
       "                var nbb_unformatted_code = \"df[\\\"launched month\\\"] = pd.to_datetime(df[\\\"launched\\\"]).dt.month\\ndf[\\\"launched month\\\"].value_counts(dropna=False)\";\n",
       "                var nbb_formatted_code = \"df[\\\"launched month\\\"] = pd.to_datetime(df[\\\"launched\\\"]).dt.month\\ndf[\\\"launched month\\\"].value_counts(dropna=False)\";\n",
       "                var nbb_cells = Jupyter.notebook.get_cells();\n",
       "                for (var i = 0; i < nbb_cells.length; ++i) {\n",
       "                    if (nbb_cells[i].input_prompt_number == nbb_cell_id) {\n",
       "                        if (nbb_cells[i].get_text() == nbb_unformatted_code) {\n",
       "                             nbb_cells[i].set_text(nbb_formatted_code);\n",
       "                        }\n",
       "                        break;\n",
       "                    }\n",
       "                }\n",
       "            }, 500);\n",
       "            "
      ],
      "text/plain": [
       "<IPython.core.display.Javascript object>"
      ]
     },
     "metadata": {},
     "output_type": "display_data"
    }
   ],
   "source": [
    "df[\"launched month\"] = pd.to_datetime(df[\"launched\"]).dt.month\n",
    "df[\"launched month\"].value_counts(dropna=False)"
   ]
  },
  {
   "cell_type": "markdown",
   "id": "b5114e2d",
   "metadata": {},
   "source": [
    "**9. Which of the following project categories has been able to raise the most funds on average?**"
   ]
  },
  {
   "cell_type": "code",
   "execution_count": 17,
   "id": "e13f2d6b",
   "metadata": {},
   "outputs": [
    {
     "name": "stdout",
     "output_type": "stream",
     "text": [
      "The category with most funds on average is Design\n"
     ]
    },
    {
     "data": {
      "application/javascript": [
       "\n",
       "            setTimeout(function() {\n",
       "                var nbb_cell_id = 17;\n",
       "                var nbb_unformatted_code = \"cat_mean_series = (\\n    df.groupby([\\\"category\\\"]).usd_pledged_real.mean().sort_values(ascending=False)\\n)\\nprint(f\\\"The category with most funds on average is {cat_mean_series.index[0]}\\\")\";\n",
       "                var nbb_formatted_code = \"cat_mean_series = (\\n    df.groupby([\\\"category\\\"]).usd_pledged_real.mean().sort_values(ascending=False)\\n)\\nprint(f\\\"The category with most funds on average is {cat_mean_series.index[0]}\\\")\";\n",
       "                var nbb_cells = Jupyter.notebook.get_cells();\n",
       "                for (var i = 0; i < nbb_cells.length; ++i) {\n",
       "                    if (nbb_cells[i].input_prompt_number == nbb_cell_id) {\n",
       "                        if (nbb_cells[i].get_text() == nbb_unformatted_code) {\n",
       "                             nbb_cells[i].set_text(nbb_formatted_code);\n",
       "                        }\n",
       "                        break;\n",
       "                    }\n",
       "                }\n",
       "            }, 500);\n",
       "            "
      ],
      "text/plain": [
       "<IPython.core.display.Javascript object>"
      ]
     },
     "metadata": {},
     "output_type": "display_data"
    }
   ],
   "source": [
    "cat_mean_series = (\n",
    "    df.groupby([\"category\"]).usd_pledged_real.mean().sort_values(ascending=False)\n",
    ")\n",
    "print(f\"The category with most funds on average is {cat_mean_series.index[0]}\")"
   ]
  },
  {
   "cell_type": "markdown",
   "id": "daeeb599",
   "metadata": {},
   "source": [
    "**10. Are there any duplicates in the project names?**\n",
    "\n",
    "Find unique items and subtract it from the total rows (obtained from the shape)"
   ]
  },
  {
   "cell_type": "code",
   "execution_count": 20,
   "id": "568991c8",
   "metadata": {},
   "outputs": [
    {
     "data": {
      "text/plain": [
       "2939"
      ]
     },
     "execution_count": 20,
     "metadata": {},
     "output_type": "execute_result"
    },
    {
     "data": {
      "application/javascript": [
       "\n",
       "            setTimeout(function() {\n",
       "                var nbb_cell_id = 20;\n",
       "                var nbb_unformatted_code = \"df.shape[0] - df[\\\"name\\\"].nunique()\";\n",
       "                var nbb_formatted_code = \"df.shape[0] - df[\\\"name\\\"].nunique()\";\n",
       "                var nbb_cells = Jupyter.notebook.get_cells();\n",
       "                for (var i = 0; i < nbb_cells.length; ++i) {\n",
       "                    if (nbb_cells[i].input_prompt_number == nbb_cell_id) {\n",
       "                        if (nbb_cells[i].get_text() == nbb_unformatted_code) {\n",
       "                             nbb_cells[i].set_text(nbb_formatted_code);\n",
       "                        }\n",
       "                        break;\n",
       "                    }\n",
       "                }\n",
       "            }, 500);\n",
       "            "
      ],
      "text/plain": [
       "<IPython.core.display.Javascript object>"
      ]
     },
     "metadata": {},
     "output_type": "display_data"
    }
   ],
   "source": [
    "df.shape[0] - df[\"name\"].nunique()"
   ]
  },
  {
   "cell_type": "markdown",
   "id": "9d52ab53",
   "metadata": {},
   "source": [
    "Another way is use the duplicated() method"
   ]
  },
  {
   "cell_type": "code",
   "execution_count": 24,
   "id": "45fcd092",
   "metadata": {},
   "outputs": [
    {
     "data": {
      "text/plain": [
       "2938"
      ]
     },
     "execution_count": 24,
     "metadata": {},
     "output_type": "execute_result"
    },
    {
     "data": {
      "application/javascript": [
       "\n",
       "            setTimeout(function() {\n",
       "                var nbb_cell_id = 24;\n",
       "                var nbb_unformatted_code = \"df.name.duplicated().sum()\";\n",
       "                var nbb_formatted_code = \"df.name.duplicated().sum()\";\n",
       "                var nbb_cells = Jupyter.notebook.get_cells();\n",
       "                for (var i = 0; i < nbb_cells.length; ++i) {\n",
       "                    if (nbb_cells[i].input_prompt_number == nbb_cell_id) {\n",
       "                        if (nbb_cells[i].get_text() == nbb_unformatted_code) {\n",
       "                             nbb_cells[i].set_text(nbb_formatted_code);\n",
       "                        }\n",
       "                        break;\n",
       "                    }\n",
       "                }\n",
       "            }, 500);\n",
       "            "
      ],
      "text/plain": [
       "<IPython.core.display.Javascript object>"
      ]
     },
     "metadata": {},
     "output_type": "display_data"
    }
   ],
   "source": [
    "df.name.duplicated().sum()"
   ]
  }
 ],
 "metadata": {
  "kernelspec": {
   "display_name": "Python 3",
   "language": "python",
   "name": "python3"
  },
  "language_info": {
   "codemirror_mode": {
    "name": "ipython",
    "version": 3
   },
   "file_extension": ".py",
   "mimetype": "text/x-python",
   "name": "python",
   "nbconvert_exporter": "python",
   "pygments_lexer": "ipython3",
   "version": "3.8.8"
  }
 },
 "nbformat": 4,
 "nbformat_minor": 5
}
