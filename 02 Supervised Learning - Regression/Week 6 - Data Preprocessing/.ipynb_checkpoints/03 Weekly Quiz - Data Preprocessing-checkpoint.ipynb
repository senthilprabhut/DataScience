{
 "cells": [
  {
   "cell_type": "markdown",
   "id": "0754bd6b",
   "metadata": {},
   "source": [
    "# Weekly Quiz - Data Preprocessing - Kickstarter Projects."
   ]
  },
  {
   "cell_type": "markdown",
   "id": "e47646bd",
   "metadata": {},
   "source": [
    "## Problem Statement\n",
    "Kickstarter is a crowdfunding website where people can ask people to invest in various projects and concept products. They have provided data having different attributes of a project like its name, category, the currency of funding, deadline for crowdfunding, goal and raised amounts for funding, etc."
   ]
  },
  {
   "cell_type": "markdown",
   "id": "48fe5c08",
   "metadata": {},
   "source": [
    "## Data Description\n",
    "Attribute information:\n",
    "\n",
    "- id - project id\n",
    "- name - project name\n",
    "- subcategory - project subcategory\n",
    "- category - project category\n",
    "- currency - project currency\n",
    "- deadline - deadline for crowdfunding on Kickstarter\n",
    "- goal - goal amount in project currency\n",
    "- launched - launch date on Kickstarter\n",
    "- pledged - pledged (raised) amount in the project currency\n",
    "- state - project state\n",
    "- backers - count of backers\n",
    "- country - project country\n",
    "- usd_pledged_real - pledged (raised) amount in USD\n",
    "- usd_goal_real - goal amount in USD\n"
   ]
  },
  {
   "cell_type": "markdown",
   "id": "02169595",
   "metadata": {},
   "source": [
    "# 1. Loading libraries"
   ]
  },
  {
   "cell_type": "code",
   "execution_count": 2,
   "id": "4fe14f47",
   "metadata": {},
   "outputs": [
    {
     "data": {
      "application/javascript": [
       "\n",
       "            setTimeout(function() {\n",
       "                var nbb_cell_id = 2;\n",
       "                var nbb_unformatted_code = \"# this will help in making the Python code more structured automatically (good coding practice)\\n%load_ext nb_black\\n\\n# Libraries to help with reading and manipulating data\\nimport numpy as np\\nimport pandas as pd\\n\\n# Libraries to help with data visualization\\nimport matplotlib.pyplot as plt\\nimport seaborn as sns\\n\\nsns.set()\\n\\n# Removes the limit for the number of displayed columns\\npd.set_option(\\\"display.max_columns\\\", None)\\n# Sets the limit for the number of displayed rows\\npd.set_option(\\\"display.max_rows\\\", 200)\";\n",
       "                var nbb_formatted_code = \"# this will help in making the Python code more structured automatically (good coding practice)\\n%load_ext nb_black\\n\\n# Libraries to help with reading and manipulating data\\nimport numpy as np\\nimport pandas as pd\\n\\n# Libraries to help with data visualization\\nimport matplotlib.pyplot as plt\\nimport seaborn as sns\\n\\nsns.set()\\n\\n# Removes the limit for the number of displayed columns\\npd.set_option(\\\"display.max_columns\\\", None)\\n# Sets the limit for the number of displayed rows\\npd.set_option(\\\"display.max_rows\\\", 200)\";\n",
       "                var nbb_cells = Jupyter.notebook.get_cells();\n",
       "                for (var i = 0; i < nbb_cells.length; ++i) {\n",
       "                    if (nbb_cells[i].input_prompt_number == nbb_cell_id) {\n",
       "                        if (nbb_cells[i].get_text() == nbb_unformatted_code) {\n",
       "                             nbb_cells[i].set_text(nbb_formatted_code);\n",
       "                        }\n",
       "                        break;\n",
       "                    }\n",
       "                }\n",
       "            }, 500);\n",
       "            "
      ],
      "text/plain": [
       "<IPython.core.display.Javascript object>"
      ]
     },
     "metadata": {},
     "output_type": "display_data"
    }
   ],
   "source": [
    "# this will help in making the Python code more structured automatically (good coding practice)\n",
    "%load_ext nb_black\n",
    "\n",
    "# Libraries to help with reading and manipulating data\n",
    "import numpy as np\n",
    "import pandas as pd\n",
    "\n",
    "# Libraries to help with data visualization\n",
    "import matplotlib.pyplot as plt\n",
    "import seaborn as sns\n",
    "\n",
    "sns.set()\n",
    "\n",
    "# Removes the limit for the number of displayed columns\n",
    "pd.set_option(\"display.max_columns\", None)\n",
    "# Sets the limit for the number of displayed rows\n",
    "pd.set_option(\"display.max_rows\", 200)"
   ]
  },
  {
   "cell_type": "markdown",
   "id": "2d4cdec9",
   "metadata": {},
   "source": [
    "### Quiz"
   ]
  },
  {
   "cell_type": "markdown",
   "id": "43955f47",
   "metadata": {},
   "source": [
    "**1. Read the data into a pandas dataframe and drop the ‘currency’ and ‘goal’ columns.  \n",
    "The resulting dataframe contains ___ rows and ___ columns, respectively.**"
   ]
  },
  {
   "cell_type": "code",
   "execution_count": 3,
   "id": "59f7602f",
   "metadata": {},
   "outputs": [
    {
     "name": "stdout",
     "output_type": "stream",
     "text": [
      "There are 378661 rows and 12 columns.\n"
     ]
    },
    {
     "data": {
      "application/javascript": [
       "\n",
       "            setTimeout(function() {\n",
       "                var nbb_cell_id = 3;\n",
       "                var nbb_unformatted_code = \"df = pd.read_csv(\\\"./datasets/KickStarterProjects.csv\\\")\\ndf.drop([\\\"currency\\\", \\\"goal\\\"], axis=1, inplace=True)\\nprint(f\\\"There are {df.shape[0]} rows and {df.shape[1]} columns.\\\")  # f-string\";\n",
       "                var nbb_formatted_code = \"df = pd.read_csv(\\\"./datasets/KickStarterProjects.csv\\\")\\ndf.drop([\\\"currency\\\", \\\"goal\\\"], axis=1, inplace=True)\\nprint(f\\\"There are {df.shape[0]} rows and {df.shape[1]} columns.\\\")  # f-string\";\n",
       "                var nbb_cells = Jupyter.notebook.get_cells();\n",
       "                for (var i = 0; i < nbb_cells.length; ++i) {\n",
       "                    if (nbb_cells[i].input_prompt_number == nbb_cell_id) {\n",
       "                        if (nbb_cells[i].get_text() == nbb_unformatted_code) {\n",
       "                             nbb_cells[i].set_text(nbb_formatted_code);\n",
       "                        }\n",
       "                        break;\n",
       "                    }\n",
       "                }\n",
       "            }, 500);\n",
       "            "
      ],
      "text/plain": [
       "<IPython.core.display.Javascript object>"
      ]
     },
     "metadata": {},
     "output_type": "display_data"
    }
   ],
   "source": [
    "df = pd.read_csv(\"./datasets/KickStarterProjects.csv\")\n",
    "df.drop([\"currency\", \"goal\"], axis=1, inplace=True)\n",
    "print(f\"There are {df.shape[0]} rows and {df.shape[1]} columns.\")  # f-string"
   ]
  },
  {
   "cell_type": "markdown",
   "id": "2dba0dca",
   "metadata": {},
   "source": [
    "**2. The dataframe obtained in Question 1 should be used in the subsequent questions.  \n",
    "How many columns in the dataset contain missing values?**"
   ]
  },
  {
   "cell_type": "code",
   "execution_count": 45,
   "id": "f9afc098",
   "metadata": {},
   "outputs": [
    {
     "data": {
      "text/plain": [
       "name                4\n",
       "ID                  0\n",
       "subcategory         0\n",
       "category            0\n",
       "deadline            0\n",
       "launched            0\n",
       "pledged             0\n",
       "state               0\n",
       "backers             0\n",
       "country             0\n",
       "usd_pledged_real    0\n",
       "usd_goal_real       0\n",
       "dtype: int64"
      ]
     },
     "execution_count": 45,
     "metadata": {},
     "output_type": "execute_result"
    },
    {
     "data": {
      "application/javascript": [
       "\n",
       "            setTimeout(function() {\n",
       "                var nbb_cell_id = 45;\n",
       "                var nbb_unformatted_code = \"df.isnull().sum().sort_values(ascending=False)\";\n",
       "                var nbb_formatted_code = \"df.isnull().sum().sort_values(ascending=False)\";\n",
       "                var nbb_cells = Jupyter.notebook.get_cells();\n",
       "                for (var i = 0; i < nbb_cells.length; ++i) {\n",
       "                    if (nbb_cells[i].input_prompt_number == nbb_cell_id) {\n",
       "                        if (nbb_cells[i].get_text() == nbb_unformatted_code) {\n",
       "                             nbb_cells[i].set_text(nbb_formatted_code);\n",
       "                        }\n",
       "                        break;\n",
       "                    }\n",
       "                }\n",
       "            }, 500);\n",
       "            "
      ],
      "text/plain": [
       "<IPython.core.display.Javascript object>"
      ]
     },
     "metadata": {},
     "output_type": "display_data"
    }
   ],
   "source": [
    "df.isnull().sum().sort_values(ascending=False)"
   ]
  },
  {
   "cell_type": "markdown",
   "id": "6fee27eb",
   "metadata": {},
   "source": [
    "`name` column has the missing values"
   ]
  },
  {
   "cell_type": "markdown",
   "id": "346a305d",
   "metadata": {},
   "source": [
    "**3. If there are any missing values in the dataframe, <span style=\"text-decoration: underline\">drop the rows</span> that contain missing values before moving ahead, and use this dataframe for subsequent questions.  \n",
    "How many unique project states are there in the data and which among them is the most frequent?**"
   ]
  },
  {
   "cell_type": "code",
   "execution_count": 56,
   "id": "64a1a179",
   "metadata": {},
   "outputs": [
    {
     "data": {
      "application/javascript": [
       "\n",
       "            setTimeout(function() {\n",
       "                var nbb_cell_id = 56;\n",
       "                var nbb_unformatted_code = \"df.dropna(inplace=True)\";\n",
       "                var nbb_formatted_code = \"df.dropna(inplace=True)\";\n",
       "                var nbb_cells = Jupyter.notebook.get_cells();\n",
       "                for (var i = 0; i < nbb_cells.length; ++i) {\n",
       "                    if (nbb_cells[i].input_prompt_number == nbb_cell_id) {\n",
       "                        if (nbb_cells[i].get_text() == nbb_unformatted_code) {\n",
       "                             nbb_cells[i].set_text(nbb_formatted_code);\n",
       "                        }\n",
       "                        break;\n",
       "                    }\n",
       "                }\n",
       "            }, 500);\n",
       "            "
      ],
      "text/plain": [
       "<IPython.core.display.Javascript object>"
      ]
     },
     "metadata": {},
     "output_type": "display_data"
    }
   ],
   "source": [
    "df.dropna(inplace=True)"
   ]
  },
  {
   "cell_type": "code",
   "execution_count": 58,
   "id": "a6d99141",
   "metadata": {},
   "outputs": [
    {
     "name": "stdout",
     "output_type": "stream",
     "text": [
      "There are 6 states and the most frequent state is 'failed'\n"
     ]
    },
    {
     "data": {
      "application/javascript": [
       "\n",
       "            setTimeout(function() {\n",
       "                var nbb_cell_id = 58;\n",
       "                var nbb_unformatted_code = \"value_counts = df[\\\"state\\\"].value_counts(dropna=False)\\nprint(\\n    f\\\"There are {len(value_counts)} states and the most frequent state is '{value_counts.index[0]}'\\\"\\n)\";\n",
       "                var nbb_formatted_code = \"value_counts = df[\\\"state\\\"].value_counts(dropna=False)\\nprint(\\n    f\\\"There are {len(value_counts)} states and the most frequent state is '{value_counts.index[0]}'\\\"\\n)\";\n",
       "                var nbb_cells = Jupyter.notebook.get_cells();\n",
       "                for (var i = 0; i < nbb_cells.length; ++i) {\n",
       "                    if (nbb_cells[i].input_prompt_number == nbb_cell_id) {\n",
       "                        if (nbb_cells[i].get_text() == nbb_unformatted_code) {\n",
       "                             nbb_cells[i].set_text(nbb_formatted_code);\n",
       "                        }\n",
       "                        break;\n",
       "                    }\n",
       "                }\n",
       "            }, 500);\n",
       "            "
      ],
      "text/plain": [
       "<IPython.core.display.Javascript object>"
      ]
     },
     "metadata": {},
     "output_type": "display_data"
    }
   ],
   "source": [
    "value_counts = df[\"state\"].value_counts(dropna=False)\n",
    "print(\n",
    "    f\"There are {len(value_counts)} states and the most frequent state is '{value_counts.index[0]}'\"\n",
    ")"
   ]
  },
  {
   "cell_type": "markdown",
   "id": "72064ca9",
   "metadata": {},
   "source": [
    "**4. Which of the following values (respectively) are the closest approximation of the mean and median number of backers the projects in the dataset have been able to secure?**"
   ]
  },
  {
   "cell_type": "code",
   "execution_count": 60,
   "id": "29ffbbac",
   "metadata": {},
   "outputs": [
    {
     "name": "stdout",
     "output_type": "stream",
     "text": [
      "The mean value of backers is 105.61854395930882 and the median value of backers is 12.0\n"
     ]
    },
    {
     "data": {
      "application/javascript": [
       "\n",
       "            setTimeout(function() {\n",
       "                var nbb_cell_id = 60;\n",
       "                var nbb_unformatted_code = \"print(f'The mean value of backers is {df.backers.mean()} and the median value of backers is {df.backers.median()}')\";\n",
       "                var nbb_formatted_code = \"print(\\n    f\\\"The mean value of backers is {df.backers.mean()} and the median value of backers is {df.backers.median()}\\\"\\n)\";\n",
       "                var nbb_cells = Jupyter.notebook.get_cells();\n",
       "                for (var i = 0; i < nbb_cells.length; ++i) {\n",
       "                    if (nbb_cells[i].input_prompt_number == nbb_cell_id) {\n",
       "                        if (nbb_cells[i].get_text() == nbb_unformatted_code) {\n",
       "                             nbb_cells[i].set_text(nbb_formatted_code);\n",
       "                        }\n",
       "                        break;\n",
       "                    }\n",
       "                }\n",
       "            }, 500);\n",
       "            "
      ],
      "text/plain": [
       "<IPython.core.display.Javascript object>"
      ]
     },
     "metadata": {},
     "output_type": "display_data"
    }
   ],
   "source": [
    "print(\n",
    "    f\"The mean value of backers is {df.backers.mean()} and the median value of backers is {df.backers.median()}\"\n",
    ")"
   ]
  },
  {
   "cell_type": "markdown",
   "id": "12b86926",
   "metadata": {},
   "source": [
    "**5. Are there any indications that the number of backers have extreme values?**  \n",
    "\n",
    "Yes, the mean and median number of backers are starkly different values and this is an indication that this column has outliers."
   ]
  },
  {
   "cell_type": "markdown",
   "id": "66a68e8e",
   "metadata": {},
   "source": [
    "**6. The goal amount in USD has a highly skewed distribution. Please apply min-max scaling to this column and confirm if that helped in reducing the skewness.  \n",
    "Note: Create a new scaled column, do not replace the existing column.**\n",
    "\n",
    "No, and even standard scaling does not help in reducing the skewness"
   ]
  },
  {
   "cell_type": "code",
   "execution_count": 5,
   "id": "c04e1bf4",
   "metadata": {},
   "outputs": [
    {
     "data": {
      "text/plain": [
       "Text(0.5, 1.0, 'usd_goal_real before transformation')"
      ]
     },
     "execution_count": 5,
     "metadata": {},
     "output_type": "execute_result"
    },
    {
     "data": {
      "image/png": "[encoded data removed]",
      "text/plain": [
       "<Figure size 432x288 with 1 Axes>"
      ]
     },
     "metadata": {},
     "output_type": "display_data"
    },
    {
     "data": {
      "application/javascript": [
       "\n",
       "            setTimeout(function() {\n",
       "                var nbb_cell_id = 5;\n",
       "                var nbb_unformatted_code = \"ax = sns.histplot(df[\\\"usd_goal_real\\\"], bins=50);\\nax.set_title(\\\"usd_goal_real before transformation\\\")\";\n",
       "                var nbb_formatted_code = \"ax = sns.histplot(df[\\\"usd_goal_real\\\"], bins=50)\\nax.set_title(\\\"usd_goal_real before transformation\\\")\";\n",
       "                var nbb_cells = Jupyter.notebook.get_cells();\n",
       "                for (var i = 0; i < nbb_cells.length; ++i) {\n",
       "                    if (nbb_cells[i].input_prompt_number == nbb_cell_id) {\n",
       "                        if (nbb_cells[i].get_text() == nbb_unformatted_code) {\n",
       "                             nbb_cells[i].set_text(nbb_formatted_code);\n",
       "                        }\n",
       "                        break;\n",
       "                    }\n",
       "                }\n",
       "            }, 500);\n",
       "            "
      ],
      "text/plain": [
       "<IPython.core.display.Javascript object>"
      ]
     },
     "metadata": {},
     "output_type": "display_data"
    }
   ],
   "source": [
    "ax = sns.histplot(df[\"usd_goal_real\"], bins=50)\n",
    "ax.set_title(\"usd_goal_real before transformation\")"
   ]
  },
  {
   "cell_type": "code",
   "execution_count": 9,
   "id": "3dd12f62",
   "metadata": {},
   "outputs": [
    {
     "data": {
      "text/plain": [
       "Text(0.5, 1.0, 'usd_goal_real after minmax transformation')"
      ]
     },
     "execution_count": 9,
     "metadata": {},
     "output_type": "execute_result"
    },
    {
     "data": {
      "image/png": "[encoded data removed]",
      "text/plain": [
       "<Figure size 432x288 with 1 Axes>"
      ]
     },
     "metadata": {},
     "output_type": "display_data"
    },
    {
     "data": {
      "application/javascript": [
       "\n",
       "            setTimeout(function() {\n",
       "                var nbb_cell_id = 9;\n",
       "                var nbb_unformatted_code = \"from sklearn.preprocessing import StandardScaler, MinMaxScaler\\n\\ndf[\\\"usd_goal_real_min_max_sc\\\"] = MinMaxScaler().fit_transform(df[[\\\"usd_goal_real\\\"]])\\nax = sns.histplot(df[\\\"usd_goal_real_min_max_sc\\\"], bins=50)\\nax.set_title(\\\"usd_goal_real after minmax transformation\\\")\\n\\n# print(np.sum(df_engineered[\\\"usd_goal_real\\\"] <= 0))\";\n",
       "                var nbb_formatted_code = \"from sklearn.preprocessing import StandardScaler, MinMaxScaler\\n\\ndf[\\\"usd_goal_real_min_max_sc\\\"] = MinMaxScaler().fit_transform(df[[\\\"usd_goal_real\\\"]])\\nax = sns.histplot(df[\\\"usd_goal_real_min_max_sc\\\"], bins=50)\\nax.set_title(\\\"usd_goal_real after minmax transformation\\\")\\n\\n# print(np.sum(df_engineered[\\\"usd_goal_real\\\"] <= 0))\";\n",
       "                var nbb_cells = Jupyter.notebook.get_cells();\n",
       "                for (var i = 0; i < nbb_cells.length; ++i) {\n",
       "                    if (nbb_cells[i].input_prompt_number == nbb_cell_id) {\n",
       "                        if (nbb_cells[i].get_text() == nbb_unformatted_code) {\n",
       "                             nbb_cells[i].set_text(nbb_formatted_code);\n",
       "                        }\n",
       "                        break;\n",
       "                    }\n",
       "                }\n",
       "            }, 500);\n",
       "            "
      ],
      "text/plain": [
       "<IPython.core.display.Javascript object>"
      ]
     },
     "metadata": {},
     "output_type": "display_data"
    }
   ],
   "source": [
    "from sklearn.preprocessing import MinMaxScaler\n",
    "\n",
    "df[\"usd_goal_real_min_max_sc\"] = MinMaxScaler().fit_transform(df[[\"usd_goal_real\"]])\n",
    "ax = sns.histplot(df[\"usd_goal_real_min_max_sc\"], bins=50)\n",
    "ax.set_title(\"usd_goal_real after minmax transformation\")\n",
    "\n",
    "# print(np.sum(df_engineered[\"usd_goal_real\"] <= 0))"
   ]
  },
  {
   "cell_type": "code",
   "execution_count": null,
   "id": "fa98ca2f",
   "metadata": {},
   "outputs": [],
   "source": [
    "from sklearn.preprocessing import StandardScaler\n",
    "\n",
    "std_scaler = StandardScaler()\n",
    "df[\"usd_goal_real_z_std\"] = std_scaler.fit_transform(df[[\"usd_goal_real\"]])\n",
    "ax = sns.histplot(df[\"usd_goal_real_z_std\"], bins=50)\n",
    "ax.set_title(\"usd_goal_real after z transformation\")"
   ]
  },
  {
   "cell_type": "code",
   "execution_count": null,
   "id": "ef57f93d",
   "metadata": {},
   "outputs": [],
   "source": [
    "\n",
    "\n",
    "df['usd_goal_real_mm_sc'] = MinMaxScaler().fit_transform(df[['usd_goal_real']])\n",
    "sns.histplot(df['usd_goal_real_mm_sc'], bins=50, kde=True)\n",
    "\n",
    "df['usd_goal_real_std_sc'] = StandardScaler().fit_transform(df[['usd_goal_real']])\n",
    "sns.histplot(df['usd_goal_real_std_sc'], bins=50, kde=True)"
   ]
  },
  {
   "cell_type": "code",
   "execution_count": 19,
   "id": "4de8b151",
   "metadata": {},
   "outputs": [
    {
     "data": {
      "image/png": "[encoded data removed]",
      "text/plain": [
       "<Figure size 432x288 with 1 Axes>"
      ]
     },
     "metadata": {},
     "output_type": "display_data"
    },
    {
     "data": {
      "application/javascript": [
       "\n",
       "            setTimeout(function() {\n",
       "                var nbb_cell_id = 19;\n",
       "                var nbb_unformatted_code = \"from sklearn.preprocessing import MinMaxScaler\\ndf_engineered[\\\"usd_goal_real_min_max\\\"] = MinMaxScaler().fit_transform(\\n    df_engineered[[\\\"usd_goal_real\\\"]]\\n)\\ndf_engineered[\\\"usd_goal_real_min_max\\\"].hist(bins=20)\\nplt.title('usd_goal_real after minmax scaling')\\nplt.show()\";\n",
       "                var nbb_formatted_code = \"from sklearn.preprocessing import MinMaxScaler\\n\\ndf_engineered[\\\"usd_goal_real_min_max\\\"] = MinMaxScaler().fit_transform(\\n    df_engineered[[\\\"usd_goal_real\\\"]]\\n)\\ndf_engineered[\\\"usd_goal_real_min_max\\\"].hist(bins=20)\\nplt.title(\\\"usd_goal_real after minmax scaling\\\")\\nplt.show()\";\n",
       "                var nbb_cells = Jupyter.notebook.get_cells();\n",
       "                for (var i = 0; i < nbb_cells.length; ++i) {\n",
       "                    if (nbb_cells[i].input_prompt_number == nbb_cell_id) {\n",
       "                        if (nbb_cells[i].get_text() == nbb_unformatted_code) {\n",
       "                             nbb_cells[i].set_text(nbb_formatted_code);\n",
       "                        }\n",
       "                        break;\n",
       "                    }\n",
       "                }\n",
       "            }, 500);\n",
       "            "
      ],
      "text/plain": [
       "<IPython.core.display.Javascript object>"
      ]
     },
     "metadata": {},
     "output_type": "display_data"
    }
   ],
   "source": [
    "from sklearn.preprocessing import MinMaxScaler\n",
    "\n",
    "df_engineered[\"usd_goal_real_min_max\"] = MinMaxScaler().fit_transform(\n",
    "    df_engineered[[\"usd_goal_real\"]]\n",
    ")\n",
    "df_engineered[\"usd_goal_real_min_max\"].hist(bins=20)\n",
    "plt.title(\"usd_goal_real after minmax scaling\")\n",
    "plt.show()"
   ]
  },
  {
   "cell_type": "code",
   "execution_count": 15,
   "id": "674d2088",
   "metadata": {},
   "outputs": [
    {
     "data": {
      "image/png": "[encoded data removed]",
      "text/plain": [
       "<Figure size 432x288 with 1 Axes>"
      ]
     },
     "metadata": {},
     "output_type": "display_data"
    },
    {
     "data": {
      "application/javascript": [
       "\n",
       "            setTimeout(function() {\n",
       "                var nbb_cell_id = 15;\n",
       "                var nbb_unformatted_code = \"from sklearn.preprocessing import StandardScaler, MinMaxScaler\\n\\nstd_scaler = StandardScaler()\\ndf_engineered[\\\"usd_goal_real_z_std\\\"] = std_scaler.fit_transform(df_engineered[[\\\"usd_goal_real\\\"]])\\ndf_engineered[\\\"usd_goal_real_z_std\\\"].hist(bins=20)\\nplt.title(\\\"usd_goal_real after z transformation\\\")\\nplt.show()\";\n",
       "                var nbb_formatted_code = \"from sklearn.preprocessing import StandardScaler, MinMaxScaler\\n\\nstd_scaler = StandardScaler()\\ndf_engineered[\\\"usd_goal_real_z_std\\\"] = std_scaler.fit_transform(\\n    df_engineered[[\\\"usd_goal_real\\\"]]\\n)\\ndf_engineered[\\\"usd_goal_real_z_std\\\"].hist(bins=20)\\nplt.title(\\\"usd_goal_real after z transformation\\\")\\nplt.show()\";\n",
       "                var nbb_cells = Jupyter.notebook.get_cells();\n",
       "                for (var i = 0; i < nbb_cells.length; ++i) {\n",
       "                    if (nbb_cells[i].input_prompt_number == nbb_cell_id) {\n",
       "                        if (nbb_cells[i].get_text() == nbb_unformatted_code) {\n",
       "                             nbb_cells[i].set_text(nbb_formatted_code);\n",
       "                        }\n",
       "                        break;\n",
       "                    }\n",
       "                }\n",
       "            }, 500);\n",
       "            "
      ],
      "text/plain": [
       "<IPython.core.display.Javascript object>"
      ]
     },
     "metadata": {},
     "output_type": "display_data"
    }
   ],
   "source": [
    "from sklearn.preprocessing import StandardScaler\n",
    "\n",
    "std_scaler = StandardScaler()\n",
    "df_engineered[\"usd_goal_real_z_std\"] = std_scaler.fit_transform(\n",
    "    df_engineered[[\"usd_goal_real\"]]\n",
    ")\n",
    "df_engineered[\"usd_goal_real_z_std\"].hist(bins=20)\n",
    "plt.title(\"usd_goal_real after z transformation\")\n",
    "plt.show()"
   ]
  },
  {
   "cell_type": "code",
   "execution_count": 39,
   "id": "4e23aafa",
   "metadata": {},
   "outputs": [
    {
     "data": {
      "text/plain": [
       "<AxesSubplot:xlabel='usd_goal_real', ylabel='Count'>"
      ]
     },
     "execution_count": 39,
     "metadata": {},
     "output_type": "execute_result"
    },
    {
     "data": {
      "image/png": "[encoded data removed]",
      "text/plain": [
       "<Figure size 432x288 with 1 Axes>"
      ]
     },
     "metadata": {},
     "output_type": "display_data"
    },
    {
     "data": {
      "application/javascript": [
       "\n",
       "            setTimeout(function() {\n",
       "                var nbb_cell_id = 39;\n",
       "                var nbb_unformatted_code = \"# plt.hist(np.log(df_engineered[\\\"usd_goal_real\\\"]), 6)\\n# plt.title(\\\"log(usd_goal_real)\\\")\\n# plt.show()\\n\\nsns.histplot(np.log(df_engineered['usd_goal_real']), bins=50, kde=True)\";\n",
       "                var nbb_formatted_code = \"# plt.hist(np.log(df_engineered[\\\"usd_goal_real\\\"]), 6)\\n# plt.title(\\\"log(usd_goal_real)\\\")\\n# plt.show()\\n\\nsns.histplot(np.log(df_engineered[\\\"usd_goal_real\\\"]), bins=50, kde=True)\";\n",
       "                var nbb_cells = Jupyter.notebook.get_cells();\n",
       "                for (var i = 0; i < nbb_cells.length; ++i) {\n",
       "                    if (nbb_cells[i].input_prompt_number == nbb_cell_id) {\n",
       "                        if (nbb_cells[i].get_text() == nbb_unformatted_code) {\n",
       "                             nbb_cells[i].set_text(nbb_formatted_code);\n",
       "                        }\n",
       "                        break;\n",
       "                    }\n",
       "                }\n",
       "            }, 500);\n",
       "            "
      ],
      "text/plain": [
       "<IPython.core.display.Javascript object>"
      ]
     },
     "metadata": {},
     "output_type": "display_data"
    }
   ],
   "source": [
    "# plt.hist(np.log(df_engineered[\"usd_goal_real\"]), 6)\n",
    "# plt.title(\"log(usd_goal_real)\")\n",
    "# plt.show()\n",
    "\n",
    "sns.histplot(np.log(df_engineered[\"usd_goal_real\"]), bins=50, kde=True)"
   ]
  },
  {
   "cell_type": "code",
   "execution_count": 30,
   "id": "57ef6c74",
   "metadata": {},
   "outputs": [
    {
     "data": {
      "text/plain": [
       "7     34477\n",
       "1     34347\n",
       "10    33409\n",
       "3     32837\n",
       "11    32135\n",
       "8     31619\n",
       "5     31573\n",
       "9     31538\n",
       "6     31383\n",
       "4     31038\n",
       "2     29876\n",
       "12    24429\n",
       "Name: launched month, dtype: int64"
      ]
     },
     "execution_count": 30,
     "metadata": {},
     "output_type": "execute_result"
    },
    {
     "data": {
      "application/javascript": [
       "\n",
       "            setTimeout(function() {\n",
       "                var nbb_cell_id = 30;\n",
       "                var nbb_unformatted_code = \"df_engineered[\\\"launched\\\"] = pd.to_datetime(df_engineered[\\\"launched\\\"])\\ndf_engineered[\\\"launched month\\\"] = df_engineered[\\\"launched\\\"].dt.month\\ndf_engineered[\\\"launched month\\\"].value_counts(dropna=False)\";\n",
       "                var nbb_formatted_code = \"df_engineered[\\\"launched\\\"] = pd.to_datetime(df_engineered[\\\"launched\\\"])\\ndf_engineered[\\\"launched month\\\"] = df_engineered[\\\"launched\\\"].dt.month\\ndf_engineered[\\\"launched month\\\"].value_counts(dropna=False)\";\n",
       "                var nbb_cells = Jupyter.notebook.get_cells();\n",
       "                for (var i = 0; i < nbb_cells.length; ++i) {\n",
       "                    if (nbb_cells[i].input_prompt_number == nbb_cell_id) {\n",
       "                        if (nbb_cells[i].get_text() == nbb_unformatted_code) {\n",
       "                             nbb_cells[i].set_text(nbb_formatted_code);\n",
       "                        }\n",
       "                        break;\n",
       "                    }\n",
       "                }\n",
       "            }, 500);\n",
       "            "
      ],
      "text/plain": [
       "<IPython.core.display.Javascript object>"
      ]
     },
     "metadata": {},
     "output_type": "display_data"
    }
   ],
   "source": [
    "df_engineered[\"launched\"] = pd.to_datetime(df_engineered[\"launched\"])\n",
    "df_engineered[\"launched month\"] = df_engineered[\"launched\"].dt.month\n",
    "df_engineered[\"launched month\"].value_counts(dropna=False)"
   ]
  },
  {
   "cell_type": "code",
   "execution_count": 33,
   "id": "e13f2d6b",
   "metadata": {},
   "outputs": [
    {
     "data": {
      "text/plain": [
       "category\n",
       "Design          24417.034698\n",
       "Technology      21151.171165\n",
       "Games           21041.903140\n",
       "Comics           6610.443828\n",
       "Film & Video     6157.978427\n",
       "Fashion          5712.450839\n",
       "Food             5113.669716\n",
       "Theater          4005.918099\n",
       "Music            3858.367608\n",
       "Photography      3571.909322\n",
       "Dance            3452.946356\n",
       "Publishing       3349.951931\n",
       "Art              3220.986968\n",
       "Journalism       2615.702568\n",
       "Crafts           1632.907282\n",
       "Name: usd_pledged_real, dtype: float64"
      ]
     },
     "execution_count": 33,
     "metadata": {},
     "output_type": "execute_result"
    },
    {
     "data": {
      "application/javascript": [
       "\n",
       "            setTimeout(function() {\n",
       "                var nbb_cell_id = 33;\n",
       "                var nbb_unformatted_code = \"df_engineered.groupby([\\\"category\\\"]).usd_pledged_real.mean().sort_values(ascending=False)\";\n",
       "                var nbb_formatted_code = \"df_engineered.groupby([\\\"category\\\"]).usd_pledged_real.mean().sort_values(ascending=False)\";\n",
       "                var nbb_cells = Jupyter.notebook.get_cells();\n",
       "                for (var i = 0; i < nbb_cells.length; ++i) {\n",
       "                    if (nbb_cells[i].input_prompt_number == nbb_cell_id) {\n",
       "                        if (nbb_cells[i].get_text() == nbb_unformatted_code) {\n",
       "                             nbb_cells[i].set_text(nbb_formatted_code);\n",
       "                        }\n",
       "                        break;\n",
       "                    }\n",
       "                }\n",
       "            }, 500);\n",
       "            "
      ],
      "text/plain": [
       "<IPython.core.display.Javascript object>"
      ]
     },
     "metadata": {},
     "output_type": "display_data"
    }
   ],
   "source": [
    "df_engineered.groupby([\"category\"]).usd_pledged_real.mean().sort_values(ascending=False)"
   ]
  },
  {
   "cell_type": "code",
   "execution_count": 35,
   "id": "568991c8",
   "metadata": {},
   "outputs": [
    {
     "data": {
      "text/plain": [
       "375722"
      ]
     },
     "execution_count": 35,
     "metadata": {},
     "output_type": "execute_result"
    },
    {
     "data": {
      "application/javascript": [
       "\n",
       "            setTimeout(function() {\n",
       "                var nbb_cell_id = 35;\n",
       "                var nbb_unformatted_code = \"df1[\\\"name\\\"].nunique()\";\n",
       "                var nbb_formatted_code = \"df1[\\\"name\\\"].nunique()\";\n",
       "                var nbb_cells = Jupyter.notebook.get_cells();\n",
       "                for (var i = 0; i < nbb_cells.length; ++i) {\n",
       "                    if (nbb_cells[i].input_prompt_number == nbb_cell_id) {\n",
       "                        if (nbb_cells[i].get_text() == nbb_unformatted_code) {\n",
       "                             nbb_cells[i].set_text(nbb_formatted_code);\n",
       "                        }\n",
       "                        break;\n",
       "                    }\n",
       "                }\n",
       "            }, 500);\n",
       "            "
      ],
      "text/plain": [
       "<IPython.core.display.Javascript object>"
      ]
     },
     "metadata": {},
     "output_type": "display_data"
    }
   ],
   "source": [
    "df1[\"name\"].nunique()"
   ]
  },
  {
   "cell_type": "code",
   "execution_count": 38,
   "id": "b2134e25",
   "metadata": {},
   "outputs": [
    {
     "data": {
      "text/plain": [
       "(378661, 14)"
      ]
     },
     "execution_count": 38,
     "metadata": {},
     "output_type": "execute_result"
    },
    {
     "data": {
      "application/javascript": [
       "\n",
       "            setTimeout(function() {\n",
       "                var nbb_cell_id = 38;\n",
       "                var nbb_unformatted_code = \"df1.shape\";\n",
       "                var nbb_formatted_code = \"df1.shape\";\n",
       "                var nbb_cells = Jupyter.notebook.get_cells();\n",
       "                for (var i = 0; i < nbb_cells.length; ++i) {\n",
       "                    if (nbb_cells[i].input_prompt_number == nbb_cell_id) {\n",
       "                        if (nbb_cells[i].get_text() == nbb_unformatted_code) {\n",
       "                             nbb_cells[i].set_text(nbb_formatted_code);\n",
       "                        }\n",
       "                        break;\n",
       "                    }\n",
       "                }\n",
       "            }, 500);\n",
       "            "
      ],
      "text/plain": [
       "<IPython.core.display.Javascript object>"
      ]
     },
     "metadata": {},
     "output_type": "display_data"
    }
   ],
   "source": [
    "df1.shape"
   ]
  }
 ],
 "metadata": {
  "kernelspec": {
   "display_name": "Python 3",
   "language": "python",
   "name": "python3"
  },
  "language_info": {
   "codemirror_mode": {
    "name": "ipython",
    "version": 3
   },
   "file_extension": ".py",
   "mimetype": "text/x-python",
   "name": "python",
   "nbconvert_exporter": "python",
   "pygments_lexer": "ipython3",
   "version": "3.8.8"
  }
 },
 "nbformat": 4,
 "nbformat_minor": 5
}
