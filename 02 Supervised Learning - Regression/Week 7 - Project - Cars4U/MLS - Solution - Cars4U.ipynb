{
 "cells": [
  {
   "cell_type": "markdown",
   "metadata": {
    "toc": true
   },
   "source": [
    "<h1>Table of Contents<span class=\"tocSkip\"></span></h1>\n",
    "<div class=\"toc\"><ul class=\"toc-item\"><li><span><a href=\"#Note:-This-is-a-sample-solution-for-the-project.-Projects-will-NOT-be-graded-on-the-basis-of-how-well-the-submission-matches-this-sample-solution.-Projects-will-be-graded-on-the-basis-of-the-rubric-only.\" data-toc-modified-id=\"Note:-This-is-a-sample-solution-for-the-project.-Projects-will-NOT-be-graded-on-the-basis-of-how-well-the-submission-matches-this-sample-solution.-Projects-will-be-graded-on-the-basis-of-the-rubric-only.-1\">Note: This is a sample solution for the project. Projects will NOT be graded on the basis of how well the submission matches this sample solution. Projects will be graded on the basis of the rubric only.</a></span></li><li><span><a href=\"#Context\" data-toc-modified-id=\"Context-2\">Context</a></span></li><li><span><a href=\"#Objective\" data-toc-modified-id=\"Objective-3\">Objective</a></span></li><li><span><a href=\"#Data-Description\" data-toc-modified-id=\"Data-Description-4\">Data Description</a></span></li><li><span><a href=\"#Let's-start-coding!\" data-toc-modified-id=\"Let's-start-coding!-5\">Let's start coding!</a></span><ul class=\"toc-item\"><li><span><a href=\"#Importing-necessary-libraries\" data-toc-modified-id=\"Importing-necessary-libraries-5.1\">Importing necessary libraries</a></span></li></ul></li><li><span><a href=\"#Data-Preprocessing\" data-toc-modified-id=\"Data-Preprocessing-6\">Data Preprocessing</a></span><ul class=\"toc-item\"><li><span><a href=\"#Processing-columns\" data-toc-modified-id=\"Processing-columns-6.1\">Processing columns</a></span></li><li><span><a href=\"#Feature-Engineering\" data-toc-modified-id=\"Feature-Engineering-6.2\">Feature Engineering</a></span><ul class=\"toc-item\"><li><span><a href=\"#1.-Car-Brand-Name\" data-toc-modified-id=\"1.-Car-Brand-Name-6.2.1\">1. Car Brand Name</a></span></li><li><span><a href=\"#2.-Car-Model-Name\" data-toc-modified-id=\"2.-Car-Model-Name-6.2.2\">2. Car Model Name</a></span></li></ul></li></ul></li><li><span><a href=\"#Exploratory-Data-Analysis\" data-toc-modified-id=\"Exploratory-Data-Analysis-7\">Exploratory Data Analysis</a></span><ul class=\"toc-item\"><li><span><a href=\"#Univariate-Analysis\" data-toc-modified-id=\"Univariate-Analysis-7.1\">Univariate Analysis</a></span></li><li><span><a href=\"#Kilometers_Driven\" data-toc-modified-id=\"Kilometers_Driven-7.2\"><em>Kilometers_Driven</em></a></span></li><li><span><a href=\"#Bivariate-Distributions\" data-toc-modified-id=\"Bivariate-Distributions-7.3\">Bivariate Distributions</a></span></li></ul></li><li><span><a href=\"#Data-Preprocessing-(contd.)\" data-toc-modified-id=\"Data-Preprocessing-(contd.)-8\">Data Preprocessing (contd.)</a></span><ul class=\"toc-item\"><li><span><a href=\"#Missing-Value-Treatment\" data-toc-modified-id=\"Missing-Value-Treatment-8.1\">Missing Value Treatment</a></span></li></ul></li><li><span><a href=\"#Linear-Model-Building\" data-toc-modified-id=\"Linear-Model-Building-9\">Linear Model Building</a></span><ul class=\"toc-item\"><li><span><a href=\"#Model-Performance-Check\" data-toc-modified-id=\"Model-Performance-Check-9.1\">Model Performance Check</a></span></li><li><span><a href=\"#Forward-Feature-Selection\" data-toc-modified-id=\"Forward-Feature-Selection-9.2\">Forward Feature Selection</a></span></li></ul></li><li><span><a href=\"#Observations\" data-toc-modified-id=\"Observations-10\">Observations</a></span></li><li><span><a href=\"#Business-Insights-and-Recommendations\" data-toc-modified-id=\"Business-Insights-and-Recommendations-11\">Business Insights and Recommendations</a></span></li><li><span><a href=\"#Add-on:-Analysing-predictions-where-we-were-way-off-the-mark\" data-toc-modified-id=\"Add-on:-Analysing-predictions-where-we-were-way-off-the-mark-12\">Add-on: Analysing predictions where we were way off the mark</a></span></li><li><span><a href=\"#Add-on:-Advanced-Data-Preprocessing\" data-toc-modified-id=\"Add-on:-Advanced-Data-Preprocessing-13\">Add-on: Advanced Data Preprocessing</a></span></li></ul></div>"
   ]
  },
  {
   "cell_type": "markdown",
   "metadata": {},
   "source": [
    "## Note: This is a sample solution for the project. Projects will NOT be graded on the basis of how well the submission matches this sample solution. Projects will be graded on the basis of the rubric only."
   ]
  },
  {
   "cell_type": "markdown",
   "metadata": {},
   "source": [
    "## Context\n",
    "\n",
    "There is a huge demand for used cars in the Indian Market today. As sales of new cars have slowed down in the recent past, the pre-owned car market has continued to grow over the past years and is larger than the new car market now. Cars4U is a budding tech start-up that aims to find footholes in this market.\n",
    "\n",
    "In 2018-19, while new car sales were recorded at 3.6 million units, around 4 million second-hand cars were bought and sold. There is a slowdown in new car sales and that could mean that the demand is shifting towards the pre-owned market. In fact, some car sellers replace their old cars with pre-owned cars instead of buying new ones. Unlike new cars, where price and supply are fairly deterministic and managed by OEMs (Original Equipment Manufacturer / except for dealership level discounts which come into play only in the last stage of the customer journey), used cars are very different beasts with huge uncertainty in both pricing and supply. Keeping this in mind, the pricing scheme of these used cars becomes important in order to grow in the market.\n",
    "\n",
    "As a senior data scientist at Cars4U, you have to come up with a pricing model that can effectively predict the price of used cars and can help the business in devising profitable strategies using differential pricing. For example, if the business knows the market price, it will never sell anything below it. \n",
    "\n",
    "\n",
    "## Objective\n",
    "\n",
    "To explore and visualize the dataset, build a linear regression model to predict the prices of used cars, and generate a set of insights and recommendations that will help the business.\n",
    "\n",
    "\n",
    "## Data Description\n",
    "\n",
    "The data contains the different attributes of used cars sold in different locations. The detailed data dictionary is given below. \n",
    "\n",
    "**Data Dictionary** \n",
    "\n",
    "- S.No.: Serial number\n",
    "- Name: Name of the car which includes brand name and model name\n",
    "- Location: Location in which the car is being sold or is available for purchase (cities)\n",
    "- Year: Manufacturing year of the car\n",
    "- Kilometers_driven: The total kilometers driven in the car by the previous owner(s) in km\n",
    "- Fuel_Type: The type of fuel used by the car (Petrol, Diesel, Electric, CNG, LPG)\n",
    "- Transmission: The type of transmission used by the car (Automatic/Manual)\n",
    "- Owner: Type of ownership\n",
    "- Mileage: The standard mileage offered by the car company in kmpl or km/kg\n",
    "- Engine: The displacement volume of the engine in CC\n",
    "- Power: The maximum power of the engine in bhp\n",
    "- Seats: The number of seats in the car\n",
    "- New_Price: The price of a new car of the same model in INR Lakhs (1 Lakh = 100,000 INR)\n",
    "- Price: The price of the used car in INR Lakhs"
   ]
  },
  {
   "cell_type": "markdown",
   "metadata": {
    "id": "ztm8i-vTbbj8"
   },
   "source": [
    "## Let's start coding!"
   ]
  },
  {
   "cell_type": "markdown",
   "metadata": {},
   "source": [
    "### Importing necessary libraries"
   ]
  },
  {
   "cell_type": "code",
   "execution_count": 36,
   "metadata": {},
   "outputs": [
    {
     "name": "stdout",
     "output_type": "stream",
     "text": [
      "The nb_black extension is already loaded. To reload it, use:\n",
      "  %reload_ext nb_black\n"
     ]
    },
    {
     "data": {
      "application/javascript": [
       "\n",
       "            setTimeout(function() {\n",
       "                var nbb_cell_id = 36;\n",
       "                var nbb_unformatted_code = \"# this will help in making the Python code more structured automatically (good coding practice)\\n%load_ext nb_black\\n\\n# Libraries to help with reading and manipulating data\\nimport numpy as np\\nimport pandas as pd\\n\\n# Libraries to help with data visualization\\nimport matplotlib.pyplot as plt\\nimport seaborn as sns\\n\\nsns.set()\\n\\n# Removes the limit for the number of displayed columns\\npd.set_option(\\\"display.max_columns\\\", None)\\n# Sets the limit for the number of displayed rows\\npd.set_option(\\\"display.max_rows\\\", 500)\\n\\n# to split the data into train and test\\nfrom sklearn.model_selection import train_test_split\\n\\n# to build linear regression_model\\nfrom sklearn.linear_model import LinearRegression\\n\\n# to check model performance\\nfrom sklearn.metrics import mean_absolute_error, mean_squared_error, r2_score\\n\\n# to suppress warnings\\nimport warnings\\n\\nwarnings.filterwarnings(\\\"ignore\\\")\";\n",
       "                var nbb_formatted_code = \"# this will help in making the Python code more structured automatically (good coding practice)\\n%load_ext nb_black\\n\\n# Libraries to help with reading and manipulating data\\nimport numpy as np\\nimport pandas as pd\\n\\n# Libraries to help with data visualization\\nimport matplotlib.pyplot as plt\\nimport seaborn as sns\\n\\nsns.set()\\n\\n# Removes the limit for the number of displayed columns\\npd.set_option(\\\"display.max_columns\\\", None)\\n# Sets the limit for the number of displayed rows\\npd.set_option(\\\"display.max_rows\\\", 500)\\n\\n# to split the data into train and test\\nfrom sklearn.model_selection import train_test_split\\n\\n# to build linear regression_model\\nfrom sklearn.linear_model import LinearRegression\\n\\n# to check model performance\\nfrom sklearn.metrics import mean_absolute_error, mean_squared_error, r2_score\\n\\n# to suppress warnings\\nimport warnings\\n\\nwarnings.filterwarnings(\\\"ignore\\\")\";\n",
       "                var nbb_cells = Jupyter.notebook.get_cells();\n",
       "                for (var i = 0; i < nbb_cells.length; ++i) {\n",
       "                    if (nbb_cells[i].input_prompt_number == nbb_cell_id) {\n",
       "                        if (nbb_cells[i].get_text() == nbb_unformatted_code) {\n",
       "                             nbb_cells[i].set_text(nbb_formatted_code);\n",
       "                        }\n",
       "                        break;\n",
       "                    }\n",
       "                }\n",
       "            }, 500);\n",
       "            "
      ],
      "text/plain": [
       "<IPython.core.display.Javascript object>"
      ]
     },
     "metadata": {},
     "output_type": "display_data"
    }
   ],
   "source": [
    "# this will help in making the Python code more structured automatically (good coding practice)\n",
    "%load_ext nb_black\n",
    "\n",
    "# Libraries to help with reading and manipulating data\n",
    "import numpy as np\n",
    "import pandas as pd\n",
    "\n",
    "# Libraries to help with data visualization\n",
    "import matplotlib.pyplot as plt\n",
    "import seaborn as sns\n",
    "\n",
    "sns.set()\n",
    "\n",
    "# Removes the limit for the number of displayed columns\n",
    "pd.set_option(\"display.max_columns\", None)\n",
    "# Sets the limit for the number of displayed rows\n",
    "pd.set_option(\"display.max_rows\", 500)\n",
    "\n",
    "# to split the data into train and test\n",
    "from sklearn.model_selection import train_test_split\n",
    "\n",
    "# to build linear regression_model\n",
    "from sklearn.linear_model import LinearRegression\n",
    "\n",
    "# to check model performance\n",
    "from sklearn.metrics import mean_absolute_error, mean_squared_error, r2_score\n",
    "\n",
    "# to suppress warnings\n",
    "import warnings\n",
    "\n",
    "warnings.filterwarnings(\"ignore\")"
   ]
  },
  {
   "cell_type": "code",
   "execution_count": 37,
   "metadata": {},
   "outputs": [
    {
     "data": {
      "application/javascript": [
       "\n",
       "            setTimeout(function() {\n",
       "                var nbb_cell_id = 37;\n",
       "                var nbb_unformatted_code = \"# loading the dataset\\ndata = pd.read_csv(\\\"./datasets/used_cars_data.csv\\\")\";\n",
       "                var nbb_formatted_code = \"# loading the dataset\\ndata = pd.read_csv(\\\"./datasets/used_cars_data.csv\\\")\";\n",
       "                var nbb_cells = Jupyter.notebook.get_cells();\n",
       "                for (var i = 0; i < nbb_cells.length; ++i) {\n",
       "                    if (nbb_cells[i].input_prompt_number == nbb_cell_id) {\n",
       "                        if (nbb_cells[i].get_text() == nbb_unformatted_code) {\n",
       "                             nbb_cells[i].set_text(nbb_formatted_code);\n",
       "                        }\n",
       "                        break;\n",
       "                    }\n",
       "                }\n",
       "            }, 500);\n",
       "            "
      ],
      "text/plain": [
       "<IPython.core.display.Javascript object>"
      ]
     },
     "metadata": {},
     "output_type": "display_data"
    }
   ],
   "source": [
    "# loading the dataset\n",
    "data = pd.read_csv(\"./datasets/used_cars_data.csv\")"
   ]
  },
  {
   "cell_type": "code",
   "execution_count": 38,
   "metadata": {},
   "outputs": [
    {
     "name": "stdout",
     "output_type": "stream",
     "text": [
      "There are 7253 rows and 14 columns.\n"
     ]
    },
    {
     "data": {
      "application/javascript": [
       "\n",
       "            setTimeout(function() {\n",
       "                var nbb_cell_id = 38;\n",
       "                var nbb_unformatted_code = \"# checking shape of the data\\nprint(f\\\"There are {data.shape[0]} rows and {data.shape[1]} columns.\\\")\";\n",
       "                var nbb_formatted_code = \"# checking shape of the data\\nprint(f\\\"There are {data.shape[0]} rows and {data.shape[1]} columns.\\\")\";\n",
       "                var nbb_cells = Jupyter.notebook.get_cells();\n",
       "                for (var i = 0; i < nbb_cells.length; ++i) {\n",
       "                    if (nbb_cells[i].input_prompt_number == nbb_cell_id) {\n",
       "                        if (nbb_cells[i].get_text() == nbb_unformatted_code) {\n",
       "                             nbb_cells[i].set_text(nbb_formatted_code);\n",
       "                        }\n",
       "                        break;\n",
       "                    }\n",
       "                }\n",
       "            }, 500);\n",
       "            "
      ],
      "text/plain": [
       "<IPython.core.display.Javascript object>"
      ]
     },
     "metadata": {},
     "output_type": "display_data"
    }
   ],
   "source": [
    "# checking shape of the data\n",
    "print(f\"There are {data.shape[0]} rows and {data.shape[1]} columns.\")"
   ]
  },
  {
   "cell_type": "code",
   "execution_count": 39,
   "metadata": {},
   "outputs": [
    {
     "data": {
      "text/html": [
       "<div>\n",
       "<style scoped>\n",
       "    .dataframe tbody tr th:only-of-type {\n",
       "        vertical-align: middle;\n",
       "    }\n",
       "\n",
       "    .dataframe tbody tr th {\n",
       "        vertical-align: top;\n",
       "    }\n",
       "\n",
       "    .dataframe thead th {\n",
       "        text-align: right;\n",
       "    }\n",
       "</style>\n",
       "<table border=\"1\" class=\"dataframe\">\n",
       "  <thead>\n",
       "    <tr style=\"text-align: right;\">\n",
       "      <th></th>\n",
       "      <th>S.No.</th>\n",
       "      <th>Name</th>\n",
       "      <th>Location</th>\n",
       "      <th>Year</th>\n",
       "      <th>Kilometers_Driven</th>\n",
       "      <th>Fuel_Type</th>\n",
       "      <th>Transmission</th>\n",
       "      <th>Owner_Type</th>\n",
       "      <th>Mileage</th>\n",
       "      <th>Engine</th>\n",
       "      <th>Power</th>\n",
       "      <th>Seats</th>\n",
       "      <th>New_Price</th>\n",
       "      <th>Price</th>\n",
       "    </tr>\n",
       "  </thead>\n",
       "  <tbody>\n",
       "    <tr>\n",
       "      <th>2397</th>\n",
       "      <td>2397</td>\n",
       "      <td>Ford EcoSport 1.5 Petrol Trend</td>\n",
       "      <td>Kolkata</td>\n",
       "      <td>2016</td>\n",
       "      <td>21460</td>\n",
       "      <td>Petrol</td>\n",
       "      <td>Manual</td>\n",
       "      <td>First</td>\n",
       "      <td>17.0 kmpl</td>\n",
       "      <td>1497 CC</td>\n",
       "      <td>121.36 bhp</td>\n",
       "      <td>5.0</td>\n",
       "      <td>9.47 Lakh</td>\n",
       "      <td>6.00</td>\n",
       "    </tr>\n",
       "    <tr>\n",
       "      <th>3777</th>\n",
       "      <td>3777</td>\n",
       "      <td>Maruti Wagon R VXI 1.2</td>\n",
       "      <td>Kochi</td>\n",
       "      <td>2015</td>\n",
       "      <td>49818</td>\n",
       "      <td>Petrol</td>\n",
       "      <td>Manual</td>\n",
       "      <td>First</td>\n",
       "      <td>21.5 kmpl</td>\n",
       "      <td>1197 CC</td>\n",
       "      <td>81.80 bhp</td>\n",
       "      <td>5.0</td>\n",
       "      <td>5.44 Lakh</td>\n",
       "      <td>4.11</td>\n",
       "    </tr>\n",
       "    <tr>\n",
       "      <th>4425</th>\n",
       "      <td>4425</td>\n",
       "      <td>Ford Endeavour 4x2 XLT</td>\n",
       "      <td>Hyderabad</td>\n",
       "      <td>2007</td>\n",
       "      <td>130000</td>\n",
       "      <td>Diesel</td>\n",
       "      <td>Manual</td>\n",
       "      <td>First</td>\n",
       "      <td>13.1 kmpl</td>\n",
       "      <td>2499 CC</td>\n",
       "      <td>141 bhp</td>\n",
       "      <td>7.0</td>\n",
       "      <td>NaN</td>\n",
       "      <td>6.00</td>\n",
       "    </tr>\n",
       "    <tr>\n",
       "      <th>3661</th>\n",
       "      <td>3661</td>\n",
       "      <td>Mercedes-Benz E-Class E250 CDI Avantgrade</td>\n",
       "      <td>Coimbatore</td>\n",
       "      <td>2016</td>\n",
       "      <td>39753</td>\n",
       "      <td>Diesel</td>\n",
       "      <td>Automatic</td>\n",
       "      <td>First</td>\n",
       "      <td>13.0 kmpl</td>\n",
       "      <td>2143 CC</td>\n",
       "      <td>201.1 bhp</td>\n",
       "      <td>5.0</td>\n",
       "      <td>NaN</td>\n",
       "      <td>35.28</td>\n",
       "    </tr>\n",
       "    <tr>\n",
       "      <th>4514</th>\n",
       "      <td>4514</td>\n",
       "      <td>Hyundai Xcent 1.2 Kappa AT SX Option</td>\n",
       "      <td>Kochi</td>\n",
       "      <td>2016</td>\n",
       "      <td>45560</td>\n",
       "      <td>Petrol</td>\n",
       "      <td>Automatic</td>\n",
       "      <td>First</td>\n",
       "      <td>16.9 kmpl</td>\n",
       "      <td>1197 CC</td>\n",
       "      <td>82 bhp</td>\n",
       "      <td>5.0</td>\n",
       "      <td>NaN</td>\n",
       "      <td>6.34</td>\n",
       "    </tr>\n",
       "    <tr>\n",
       "      <th>599</th>\n",
       "      <td>599</td>\n",
       "      <td>Toyota Innova Crysta 2.8 ZX AT</td>\n",
       "      <td>Coimbatore</td>\n",
       "      <td>2019</td>\n",
       "      <td>40674</td>\n",
       "      <td>Diesel</td>\n",
       "      <td>Automatic</td>\n",
       "      <td>First</td>\n",
       "      <td>11.36 kmpl</td>\n",
       "      <td>2755 CC</td>\n",
       "      <td>171.5 bhp</td>\n",
       "      <td>7.0</td>\n",
       "      <td>28.05 Lakh</td>\n",
       "      <td>24.82</td>\n",
       "    </tr>\n",
       "    <tr>\n",
       "      <th>186</th>\n",
       "      <td>186</td>\n",
       "      <td>Mercedes-Benz E-Class E250 CDI Avantgrade</td>\n",
       "      <td>Bangalore</td>\n",
       "      <td>2014</td>\n",
       "      <td>37382</td>\n",
       "      <td>Diesel</td>\n",
       "      <td>Automatic</td>\n",
       "      <td>First</td>\n",
       "      <td>13.0 kmpl</td>\n",
       "      <td>2143 CC</td>\n",
       "      <td>201.1 bhp</td>\n",
       "      <td>5.0</td>\n",
       "      <td>NaN</td>\n",
       "      <td>32.00</td>\n",
       "    </tr>\n",
       "    <tr>\n",
       "      <th>305</th>\n",
       "      <td>305</td>\n",
       "      <td>Audi A6 2011-2015 2.0 TDI Premium Plus</td>\n",
       "      <td>Kochi</td>\n",
       "      <td>2014</td>\n",
       "      <td>61726</td>\n",
       "      <td>Diesel</td>\n",
       "      <td>Automatic</td>\n",
       "      <td>First</td>\n",
       "      <td>17.68 kmpl</td>\n",
       "      <td>1968 CC</td>\n",
       "      <td>174.33 bhp</td>\n",
       "      <td>5.0</td>\n",
       "      <td>NaN</td>\n",
       "      <td>20.77</td>\n",
       "    </tr>\n",
       "    <tr>\n",
       "      <th>4582</th>\n",
       "      <td>4582</td>\n",
       "      <td>Hyundai i20 1.2 Magna</td>\n",
       "      <td>Kolkata</td>\n",
       "      <td>2011</td>\n",
       "      <td>36000</td>\n",
       "      <td>Petrol</td>\n",
       "      <td>Manual</td>\n",
       "      <td>First</td>\n",
       "      <td>18.5 kmpl</td>\n",
       "      <td>1197 CC</td>\n",
       "      <td>80 bhp</td>\n",
       "      <td>5.0</td>\n",
       "      <td>NaN</td>\n",
       "      <td>2.50</td>\n",
       "    </tr>\n",
       "    <tr>\n",
       "      <th>5434</th>\n",
       "      <td>5434</td>\n",
       "      <td>Honda WR-V Edge Edition i-VTEC S</td>\n",
       "      <td>Kochi</td>\n",
       "      <td>2019</td>\n",
       "      <td>13913</td>\n",
       "      <td>Petrol</td>\n",
       "      <td>Manual</td>\n",
       "      <td>First</td>\n",
       "      <td>17.5 kmpl</td>\n",
       "      <td>1199 CC</td>\n",
       "      <td>88.7 bhp</td>\n",
       "      <td>5.0</td>\n",
       "      <td>9.36 Lakh</td>\n",
       "      <td>8.20</td>\n",
       "    </tr>\n",
       "  </tbody>\n",
       "</table>\n",
       "</div>"
      ],
      "text/plain": [
       "      S.No.                                       Name    Location  Year  \\\n",
       "2397   2397             Ford EcoSport 1.5 Petrol Trend     Kolkata  2016   \n",
       "3777   3777                     Maruti Wagon R VXI 1.2       Kochi  2015   \n",
       "4425   4425                     Ford Endeavour 4x2 XLT   Hyderabad  2007   \n",
       "3661   3661  Mercedes-Benz E-Class E250 CDI Avantgrade  Coimbatore  2016   \n",
       "4514   4514       Hyundai Xcent 1.2 Kappa AT SX Option       Kochi  2016   \n",
       "599     599             Toyota Innova Crysta 2.8 ZX AT  Coimbatore  2019   \n",
       "186     186  Mercedes-Benz E-Class E250 CDI Avantgrade   Bangalore  2014   \n",
       "305     305     Audi A6 2011-2015 2.0 TDI Premium Plus       Kochi  2014   \n",
       "4582   4582                      Hyundai i20 1.2 Magna     Kolkata  2011   \n",
       "5434   5434           Honda WR-V Edge Edition i-VTEC S       Kochi  2019   \n",
       "\n",
       "      Kilometers_Driven Fuel_Type Transmission Owner_Type     Mileage  \\\n",
       "2397              21460    Petrol       Manual      First   17.0 kmpl   \n",
       "3777              49818    Petrol       Manual      First   21.5 kmpl   \n",
       "4425             130000    Diesel       Manual      First   13.1 kmpl   \n",
       "3661              39753    Diesel    Automatic      First   13.0 kmpl   \n",
       "4514              45560    Petrol    Automatic      First   16.9 kmpl   \n",
       "599               40674    Diesel    Automatic      First  11.36 kmpl   \n",
       "186               37382    Diesel    Automatic      First   13.0 kmpl   \n",
       "305               61726    Diesel    Automatic      First  17.68 kmpl   \n",
       "4582              36000    Petrol       Manual      First   18.5 kmpl   \n",
       "5434              13913    Petrol       Manual      First   17.5 kmpl   \n",
       "\n",
       "       Engine       Power  Seats   New_Price  Price  \n",
       "2397  1497 CC  121.36 bhp    5.0   9.47 Lakh   6.00  \n",
       "3777  1197 CC   81.80 bhp    5.0   5.44 Lakh   4.11  \n",
       "4425  2499 CC     141 bhp    7.0         NaN   6.00  \n",
       "3661  2143 CC   201.1 bhp    5.0         NaN  35.28  \n",
       "4514  1197 CC      82 bhp    5.0         NaN   6.34  \n",
       "599   2755 CC   171.5 bhp    7.0  28.05 Lakh  24.82  \n",
       "186   2143 CC   201.1 bhp    5.0         NaN  32.00  \n",
       "305   1968 CC  174.33 bhp    5.0         NaN  20.77  \n",
       "4582  1197 CC      80 bhp    5.0         NaN   2.50  \n",
       "5434  1199 CC    88.7 bhp    5.0   9.36 Lakh   8.20  "
      ]
     },
     "execution_count": 39,
     "metadata": {},
     "output_type": "execute_result"
    },
    {
     "data": {
      "application/javascript": [
       "\n",
       "            setTimeout(function() {\n",
       "                var nbb_cell_id = 39;\n",
       "                var nbb_unformatted_code = \"# let's view a sample of the data\\ndata.sample(n=10, random_state=1)\";\n",
       "                var nbb_formatted_code = \"# let's view a sample of the data\\ndata.sample(n=10, random_state=1)\";\n",
       "                var nbb_cells = Jupyter.notebook.get_cells();\n",
       "                for (var i = 0; i < nbb_cells.length; ++i) {\n",
       "                    if (nbb_cells[i].input_prompt_number == nbb_cell_id) {\n",
       "                        if (nbb_cells[i].get_text() == nbb_unformatted_code) {\n",
       "                             nbb_cells[i].set_text(nbb_formatted_code);\n",
       "                        }\n",
       "                        break;\n",
       "                    }\n",
       "                }\n",
       "            }, 500);\n",
       "            "
      ],
      "text/plain": [
       "<IPython.core.display.Javascript object>"
      ]
     },
     "metadata": {},
     "output_type": "display_data"
    }
   ],
   "source": [
    "# let's view a sample of the data\n",
    "data.sample(n=10, random_state=1)"
   ]
  },
  {
   "cell_type": "markdown",
   "metadata": {},
   "source": [
    "**Observations**\n",
    "\n",
    "- `S.No.` is just an index for the data entry and will add no value to our analysis. So, we will drop it.\n",
    "\n",
    "- `Name` contains a lot of model information. Let us check how many individual names we have. If they are too many, we can process this column to extract important information.\n",
    "\n",
    "- `Mileage`, `Engine`, and `Power` columns will also need some processing before we are able to explore them. We'll have to extract numerical information from these columns.\n",
    "\n",
    "- The `New_Price` column also needs some processing. This one also contains strings and a lot of missing values."
   ]
  },
  {
   "cell_type": "code",
   "execution_count": 40,
   "metadata": {},
   "outputs": [
    {
     "data": {
      "application/javascript": [
       "\n",
       "            setTimeout(function() {\n",
       "                var nbb_cell_id = 40;\n",
       "                var nbb_unformatted_code = \"# let's create a copy of the data to avoid any changes to original data\\ndf = data.copy()\";\n",
       "                var nbb_formatted_code = \"# let's create a copy of the data to avoid any changes to original data\\ndf = data.copy()\";\n",
       "                var nbb_cells = Jupyter.notebook.get_cells();\n",
       "                for (var i = 0; i < nbb_cells.length; ++i) {\n",
       "                    if (nbb_cells[i].input_prompt_number == nbb_cell_id) {\n",
       "                        if (nbb_cells[i].get_text() == nbb_unformatted_code) {\n",
       "                             nbb_cells[i].set_text(nbb_formatted_code);\n",
       "                        }\n",
       "                        break;\n",
       "                    }\n",
       "                }\n",
       "            }, 500);\n",
       "            "
      ],
      "text/plain": [
       "<IPython.core.display.Javascript object>"
      ]
     },
     "metadata": {},
     "output_type": "display_data"
    }
   ],
   "source": [
    "# let's create a copy of the data to avoid any changes to original data\n",
    "df = data.copy()"
   ]
  },
  {
   "cell_type": "code",
   "execution_count": 41,
   "metadata": {},
   "outputs": [
    {
     "data": {
      "application/javascript": [
       "\n",
       "            setTimeout(function() {\n",
       "                var nbb_cell_id = 41;\n",
       "                var nbb_unformatted_code = \"# drop the S.No. column as it does not add any value to the analysis\\ndf.drop(\\\"S.No.\\\", axis=1, inplace=True)\";\n",
       "                var nbb_formatted_code = \"# drop the S.No. column as it does not add any value to the analysis\\ndf.drop(\\\"S.No.\\\", axis=1, inplace=True)\";\n",
       "                var nbb_cells = Jupyter.notebook.get_cells();\n",
       "                for (var i = 0; i < nbb_cells.length; ++i) {\n",
       "                    if (nbb_cells[i].input_prompt_number == nbb_cell_id) {\n",
       "                        if (nbb_cells[i].get_text() == nbb_unformatted_code) {\n",
       "                             nbb_cells[i].set_text(nbb_formatted_code);\n",
       "                        }\n",
       "                        break;\n",
       "                    }\n",
       "                }\n",
       "            }, 500);\n",
       "            "
      ],
      "text/plain": [
       "<IPython.core.display.Javascript object>"
      ]
     },
     "metadata": {},
     "output_type": "display_data"
    }
   ],
   "source": [
    "# drop the S.No. column as it does not add any value to the analysis\n",
    "df.drop(\"S.No.\", axis=1, inplace=True)"
   ]
  },
  {
   "cell_type": "code",
   "execution_count": 42,
   "metadata": {},
   "outputs": [
    {
     "name": "stdout",
     "output_type": "stream",
     "text": [
      "<class 'pandas.core.frame.DataFrame'>\n",
      "RangeIndex: 7253 entries, 0 to 7252\n",
      "Data columns (total 13 columns):\n",
      " #   Column             Non-Null Count  Dtype  \n",
      "---  ------             --------------  -----  \n",
      " 0   Name               7253 non-null   object \n",
      " 1   Location           7253 non-null   object \n",
      " 2   Year               7253 non-null   int64  \n",
      " 3   Kilometers_Driven  7253 non-null   int64  \n",
      " 4   Fuel_Type          7253 non-null   object \n",
      " 5   Transmission       7253 non-null   object \n",
      " 6   Owner_Type         7253 non-null   object \n",
      " 7   Mileage            7251 non-null   object \n",
      " 8   Engine             7207 non-null   object \n",
      " 9   Power              7078 non-null   object \n",
      " 10  Seats              7200 non-null   float64\n",
      " 11  New_Price          1006 non-null   object \n",
      " 12  Price              6019 non-null   float64\n",
      "dtypes: float64(2), int64(2), object(9)\n",
      "memory usage: 736.8+ KB\n"
     ]
    },
    {
     "data": {
      "application/javascript": [
       "\n",
       "            setTimeout(function() {\n",
       "                var nbb_cell_id = 42;\n",
       "                var nbb_unformatted_code = \"# checking column datatypes and number of non-null values\\ndf.info()\";\n",
       "                var nbb_formatted_code = \"# checking column datatypes and number of non-null values\\ndf.info()\";\n",
       "                var nbb_cells = Jupyter.notebook.get_cells();\n",
       "                for (var i = 0; i < nbb_cells.length; ++i) {\n",
       "                    if (nbb_cells[i].input_prompt_number == nbb_cell_id) {\n",
       "                        if (nbb_cells[i].get_text() == nbb_unformatted_code) {\n",
       "                             nbb_cells[i].set_text(nbb_formatted_code);\n",
       "                        }\n",
       "                        break;\n",
       "                    }\n",
       "                }\n",
       "            }, 500);\n",
       "            "
      ],
      "text/plain": [
       "<IPython.core.display.Javascript object>"
      ]
     },
     "metadata": {},
     "output_type": "display_data"
    }
   ],
   "source": [
    "# checking column datatypes and number of non-null values\n",
    "df.info()"
   ]
  },
  {
   "cell_type": "code",
   "execution_count": 43,
   "metadata": {},
   "outputs": [
    {
     "data": {
      "text/plain": [
       "Name                    0\n",
       "Location                0\n",
       "Year                    0\n",
       "Kilometers_Driven       0\n",
       "Fuel_Type               0\n",
       "Transmission            0\n",
       "Owner_Type              0\n",
       "Mileage                 2\n",
       "Engine                 46\n",
       "Power                 175\n",
       "Seats                  53\n",
       "New_Price            6247\n",
       "Price                1234\n",
       "dtype: int64"
      ]
     },
     "execution_count": 43,
     "metadata": {},
     "output_type": "execute_result"
    },
    {
     "data": {
      "application/javascript": [
       "\n",
       "            setTimeout(function() {\n",
       "                var nbb_cell_id = 43;\n",
       "                var nbb_unformatted_code = \"df.isnull().sum()\";\n",
       "                var nbb_formatted_code = \"df.isnull().sum()\";\n",
       "                var nbb_cells = Jupyter.notebook.get_cells();\n",
       "                for (var i = 0; i < nbb_cells.length; ++i) {\n",
       "                    if (nbb_cells[i].input_prompt_number == nbb_cell_id) {\n",
       "                        if (nbb_cells[i].get_text() == nbb_unformatted_code) {\n",
       "                             nbb_cells[i].set_text(nbb_formatted_code);\n",
       "                        }\n",
       "                        break;\n",
       "                    }\n",
       "                }\n",
       "            }, 500);\n",
       "            "
      ],
      "text/plain": [
       "<IPython.core.display.Javascript object>"
      ]
     },
     "metadata": {},
     "output_type": "display_data"
    }
   ],
   "source": [
    "df.isnull().sum()"
   ]
  },
  {
   "cell_type": "markdown",
   "metadata": {},
   "source": [
    "**Observations**\n",
    "\n",
    "- `Mileage`, `Engine`, `Power`, and `New_Price` are *object* type columns when they should ideally be numerical.\n",
    "- To be able to get summary statistics for these columns, we will have to process them first."
   ]
  },
  {
   "cell_type": "code",
   "execution_count": 44,
   "metadata": {},
   "outputs": [
    {
     "data": {
      "text/plain": [
       "1"
      ]
     },
     "execution_count": 44,
     "metadata": {},
     "output_type": "execute_result"
    },
    {
     "data": {
      "application/javascript": [
       "\n",
       "            setTimeout(function() {\n",
       "                var nbb_cell_id = 44;\n",
       "                var nbb_unformatted_code = \"# checking for duplicate values\\ndf.duplicated().sum()\";\n",
       "                var nbb_formatted_code = \"# checking for duplicate values\\ndf.duplicated().sum()\";\n",
       "                var nbb_cells = Jupyter.notebook.get_cells();\n",
       "                for (var i = 0; i < nbb_cells.length; ++i) {\n",
       "                    if (nbb_cells[i].input_prompt_number == nbb_cell_id) {\n",
       "                        if (nbb_cells[i].get_text() == nbb_unformatted_code) {\n",
       "                             nbb_cells[i].set_text(nbb_formatted_code);\n",
       "                        }\n",
       "                        break;\n",
       "                    }\n",
       "                }\n",
       "            }, 500);\n",
       "            "
      ],
      "text/plain": [
       "<IPython.core.display.Javascript object>"
      ]
     },
     "metadata": {},
     "output_type": "display_data"
    }
   ],
   "source": [
    "# checking for duplicate values\n",
    "df.duplicated().sum()"
   ]
  },
  {
   "cell_type": "markdown",
   "metadata": {},
   "source": [
    "- There is one duplicate value in the data.\n",
    "- Let's take a closer look at it."
   ]
  },
  {
   "cell_type": "code",
   "execution_count": 45,
   "metadata": {
    "scrolled": true
   },
   "outputs": [
    {
     "data": {
      "text/html": [
       "<div>\n",
       "<style scoped>\n",
       "    .dataframe tbody tr th:only-of-type {\n",
       "        vertical-align: middle;\n",
       "    }\n",
       "\n",
       "    .dataframe tbody tr th {\n",
       "        vertical-align: top;\n",
       "    }\n",
       "\n",
       "    .dataframe thead th {\n",
       "        text-align: right;\n",
       "    }\n",
       "</style>\n",
       "<table border=\"1\" class=\"dataframe\">\n",
       "  <thead>\n",
       "    <tr style=\"text-align: right;\">\n",
       "      <th></th>\n",
       "      <th>Name</th>\n",
       "      <th>Location</th>\n",
       "      <th>Year</th>\n",
       "      <th>Kilometers_Driven</th>\n",
       "      <th>Fuel_Type</th>\n",
       "      <th>Transmission</th>\n",
       "      <th>Owner_Type</th>\n",
       "      <th>Mileage</th>\n",
       "      <th>Engine</th>\n",
       "      <th>Power</th>\n",
       "      <th>Seats</th>\n",
       "      <th>New_Price</th>\n",
       "      <th>Price</th>\n",
       "    </tr>\n",
       "  </thead>\n",
       "  <tbody>\n",
       "    <tr>\n",
       "      <th>6498</th>\n",
       "      <td>Honda City 1.5 E MT</td>\n",
       "      <td>Mumbai</td>\n",
       "      <td>2010</td>\n",
       "      <td>52000</td>\n",
       "      <td>Petrol</td>\n",
       "      <td>Manual</td>\n",
       "      <td>First</td>\n",
       "      <td>17.0 kmpl</td>\n",
       "      <td>1497 CC</td>\n",
       "      <td>118 bhp</td>\n",
       "      <td>5.0</td>\n",
       "      <td>NaN</td>\n",
       "      <td>NaN</td>\n",
       "    </tr>\n",
       "    <tr>\n",
       "      <th>6582</th>\n",
       "      <td>Honda City 1.5 E MT</td>\n",
       "      <td>Mumbai</td>\n",
       "      <td>2010</td>\n",
       "      <td>52000</td>\n",
       "      <td>Petrol</td>\n",
       "      <td>Manual</td>\n",
       "      <td>First</td>\n",
       "      <td>17.0 kmpl</td>\n",
       "      <td>1497 CC</td>\n",
       "      <td>118 bhp</td>\n",
       "      <td>5.0</td>\n",
       "      <td>NaN</td>\n",
       "      <td>NaN</td>\n",
       "    </tr>\n",
       "  </tbody>\n",
       "</table>\n",
       "</div>"
      ],
      "text/plain": [
       "                     Name Location  Year  Kilometers_Driven Fuel_Type  \\\n",
       "6498  Honda City 1.5 E MT   Mumbai  2010              52000    Petrol   \n",
       "6582  Honda City 1.5 E MT   Mumbai  2010              52000    Petrol   \n",
       "\n",
       "     Transmission Owner_Type    Mileage   Engine    Power  Seats New_Price  \\\n",
       "6498       Manual      First  17.0 kmpl  1497 CC  118 bhp    5.0       NaN   \n",
       "6582       Manual      First  17.0 kmpl  1497 CC  118 bhp    5.0       NaN   \n",
       "\n",
       "      Price  \n",
       "6498    NaN  \n",
       "6582    NaN  "
      ]
     },
     "execution_count": 45,
     "metadata": {},
     "output_type": "execute_result"
    },
    {
     "data": {
      "application/javascript": [
       "\n",
       "            setTimeout(function() {\n",
       "                var nbb_cell_id = 45;\n",
       "                var nbb_unformatted_code = \"df[df.duplicated(keep=False) == True]\";\n",
       "                var nbb_formatted_code = \"df[df.duplicated(keep=False) == True]\";\n",
       "                var nbb_cells = Jupyter.notebook.get_cells();\n",
       "                for (var i = 0; i < nbb_cells.length; ++i) {\n",
       "                    if (nbb_cells[i].input_prompt_number == nbb_cell_id) {\n",
       "                        if (nbb_cells[i].get_text() == nbb_unformatted_code) {\n",
       "                             nbb_cells[i].set_text(nbb_formatted_code);\n",
       "                        }\n",
       "                        break;\n",
       "                    }\n",
       "                }\n",
       "            }, 500);\n",
       "            "
      ],
      "text/plain": [
       "<IPython.core.display.Javascript object>"
      ]
     },
     "metadata": {},
     "output_type": "display_data"
    }
   ],
   "source": [
    "df[df.duplicated(keep=False) == True]"
   ]
  },
  {
   "cell_type": "markdown",
   "metadata": {},
   "source": [
    "**Observations**\n",
    "\n",
    "- There is a good chance that two cars of the same build were sold in the same location.\n",
    "- But it is highly unlikely that both of them will have the same number of kilometers driven.\n",
    "- So, we will drop the row which occurs second."
   ]
  },
  {
   "cell_type": "code",
   "execution_count": 46,
   "metadata": {},
   "outputs": [
    {
     "data": {
      "application/javascript": [
       "\n",
       "            setTimeout(function() {\n",
       "                var nbb_cell_id = 46;\n",
       "                var nbb_unformatted_code = \"df.drop(6582, inplace=True)\";\n",
       "                var nbb_formatted_code = \"df.drop(6582, inplace=True)\";\n",
       "                var nbb_cells = Jupyter.notebook.get_cells();\n",
       "                for (var i = 0; i < nbb_cells.length; ++i) {\n",
       "                    if (nbb_cells[i].input_prompt_number == nbb_cell_id) {\n",
       "                        if (nbb_cells[i].get_text() == nbb_unformatted_code) {\n",
       "                             nbb_cells[i].set_text(nbb_formatted_code);\n",
       "                        }\n",
       "                        break;\n",
       "                    }\n",
       "                }\n",
       "            }, 500);\n",
       "            "
      ],
      "text/plain": [
       "<IPython.core.display.Javascript object>"
      ]
     },
     "metadata": {},
     "output_type": "display_data"
    }
   ],
   "source": [
    "df.drop(6582, inplace=True)"
   ]
  },
  {
   "cell_type": "markdown",
   "metadata": {},
   "source": [
    "## Data Preprocessing"
   ]
  },
  {
   "cell_type": "markdown",
   "metadata": {},
   "source": [
    "### Processing columns\n",
    "\n",
    "- Let's process the `Mileage`, `Engine`, `Power`, and `New_Price` columns to extract numerical values from them."
   ]
  },
  {
   "cell_type": "markdown",
   "metadata": {},
   "source": [
    "**1. `Mileage`**\n",
    "\n",
    "* We have car mileage in two units as per the data dictionary - kmpl and km/kg.\n",
    "\n",
    "* After quick research on the internet, it is clear that these 2 units are used for cars of 2 different fuel types.\n",
    "\n",
    "    * kmpl (kilometers per liter) is used for petrol and diesel cars.\n",
    "    * km/kg (kilometers per kg) is used for CNG and LPG-based engines.\n",
    "\n",
    "* We have the variable `Fuel_type` in our data. We will check if these observations hold true in our data too."
   ]
  },
  {
   "cell_type": "code",
   "execution_count": 47,
   "metadata": {},
   "outputs": [
    {
     "data": {
      "text/plain": [
       "0    26.6 km/kg\n",
       "1    19.67 kmpl\n",
       "2     18.2 kmpl\n",
       "3    20.77 kmpl\n",
       "4     15.2 kmpl\n",
       "5    21.1 km/kg\n",
       "6    23.08 kmpl\n",
       "7    11.36 kmpl\n",
       "8    20.54 kmpl\n",
       "9     22.3 kmpl\n",
       "Name: Mileage, dtype: object"
      ]
     },
     "execution_count": 47,
     "metadata": {},
     "output_type": "execute_result"
    },
    {
     "data": {
      "application/javascript": [
       "\n",
       "            setTimeout(function() {\n",
       "                var nbb_cell_id = 47;\n",
       "                var nbb_unformatted_code = \"# viewing the column values\\ndf[\\\"Mileage\\\"].head(10)\";\n",
       "                var nbb_formatted_code = \"# viewing the column values\\ndf[\\\"Mileage\\\"].head(10)\";\n",
       "                var nbb_cells = Jupyter.notebook.get_cells();\n",
       "                for (var i = 0; i < nbb_cells.length; ++i) {\n",
       "                    if (nbb_cells[i].input_prompt_number == nbb_cell_id) {\n",
       "                        if (nbb_cells[i].get_text() == nbb_unformatted_code) {\n",
       "                             nbb_cells[i].set_text(nbb_formatted_code);\n",
       "                        }\n",
       "                        break;\n",
       "                    }\n",
       "                }\n",
       "            }, 500);\n",
       "            "
      ],
      "text/plain": [
       "<IPython.core.display.Javascript object>"
      ]
     },
     "metadata": {},
     "output_type": "display_data"
    }
   ],
   "source": [
    "# viewing the column values\n",
    "df[\"Mileage\"].head(10)"
   ]
  },
  {
   "cell_type": "code",
   "execution_count": 48,
   "metadata": {},
   "outputs": [
    {
     "data": {
      "text/html": [
       "<div>\n",
       "<style scoped>\n",
       "    .dataframe tbody tr th:only-of-type {\n",
       "        vertical-align: middle;\n",
       "    }\n",
       "\n",
       "    .dataframe tbody tr th {\n",
       "        vertical-align: top;\n",
       "    }\n",
       "\n",
       "    .dataframe thead th {\n",
       "        text-align: right;\n",
       "    }\n",
       "</style>\n",
       "<table border=\"1\" class=\"dataframe\">\n",
       "  <thead>\n",
       "    <tr style=\"text-align: right;\">\n",
       "      <th></th>\n",
       "      <th>0</th>\n",
       "      <th>1</th>\n",
       "    </tr>\n",
       "  </thead>\n",
       "  <tbody>\n",
       "    <tr>\n",
       "      <th>0</th>\n",
       "      <td>26.6</td>\n",
       "      <td>km/kg</td>\n",
       "    </tr>\n",
       "    <tr>\n",
       "      <th>1</th>\n",
       "      <td>19.67</td>\n",
       "      <td>kmpl</td>\n",
       "    </tr>\n",
       "    <tr>\n",
       "      <th>2</th>\n",
       "      <td>18.2</td>\n",
       "      <td>kmpl</td>\n",
       "    </tr>\n",
       "    <tr>\n",
       "      <th>3</th>\n",
       "      <td>20.77</td>\n",
       "      <td>kmpl</td>\n",
       "    </tr>\n",
       "    <tr>\n",
       "      <th>4</th>\n",
       "      <td>15.2</td>\n",
       "      <td>kmpl</td>\n",
       "    </tr>\n",
       "  </tbody>\n",
       "</table>\n",
       "</div>"
      ],
      "text/plain": [
       "       0      1\n",
       "0   26.6  km/kg\n",
       "1  19.67   kmpl\n",
       "2   18.2   kmpl\n",
       "3  20.77   kmpl\n",
       "4   15.2   kmpl"
      ]
     },
     "execution_count": 48,
     "metadata": {},
     "output_type": "execute_result"
    },
    {
     "data": {
      "application/javascript": [
       "\n",
       "            setTimeout(function() {\n",
       "                var nbb_cell_id = 48;\n",
       "                var nbb_unformatted_code = \"df_mileage = df[\\\"Mileage\\\"].str.split(\\\" \\\", expand=True)\\ndf_mileage.head()\";\n",
       "                var nbb_formatted_code = \"df_mileage = df[\\\"Mileage\\\"].str.split(\\\" \\\", expand=True)\\ndf_mileage.head()\";\n",
       "                var nbb_cells = Jupyter.notebook.get_cells();\n",
       "                for (var i = 0; i < nbb_cells.length; ++i) {\n",
       "                    if (nbb_cells[i].input_prompt_number == nbb_cell_id) {\n",
       "                        if (nbb_cells[i].get_text() == nbb_unformatted_code) {\n",
       "                             nbb_cells[i].set_text(nbb_formatted_code);\n",
       "                        }\n",
       "                        break;\n",
       "                    }\n",
       "                }\n",
       "            }, 500);\n",
       "            "
      ],
      "text/plain": [
       "<IPython.core.display.Javascript object>"
      ]
     },
     "metadata": {},
     "output_type": "display_data"
    }
   ],
   "source": [
    "df_mileage = df[\"Mileage\"].str.split(\" \", expand=True)\n",
    "df_mileage.head()"
   ]
  },
  {
   "cell_type": "code",
   "execution_count": 49,
   "metadata": {},
   "outputs": [
    {
     "data": {
      "text/plain": [
       "kmpl     7176\n",
       "km/kg      74\n",
       "Name: 1, dtype: int64"
      ]
     },
     "execution_count": 49,
     "metadata": {},
     "output_type": "execute_result"
    },
    {
     "data": {
      "application/javascript": [
       "\n",
       "            setTimeout(function() {\n",
       "                var nbb_cell_id = 49;\n",
       "                var nbb_unformatted_code = \"# let's verify that there are two units\\ndf_mileage[1].value_counts()\";\n",
       "                var nbb_formatted_code = \"# let's verify that there are two units\\ndf_mileage[1].value_counts()\";\n",
       "                var nbb_cells = Jupyter.notebook.get_cells();\n",
       "                for (var i = 0; i < nbb_cells.length; ++i) {\n",
       "                    if (nbb_cells[i].input_prompt_number == nbb_cell_id) {\n",
       "                        if (nbb_cells[i].get_text() == nbb_unformatted_code) {\n",
       "                             nbb_cells[i].set_text(nbb_formatted_code);\n",
       "                        }\n",
       "                        break;\n",
       "                    }\n",
       "                }\n",
       "            }, 500);\n",
       "            "
      ],
      "text/plain": [
       "<IPython.core.display.Javascript object>"
      ]
     },
     "metadata": {},
     "output_type": "display_data"
    }
   ],
   "source": [
    "# let's verify that there are two units\n",
    "df_mileage[1].value_counts()"
   ]
  },
  {
   "cell_type": "code",
   "execution_count": 50,
   "metadata": {},
   "outputs": [
    {
     "data": {
      "text/html": [
       "<div>\n",
       "<style scoped>\n",
       "    .dataframe tbody tr th:only-of-type {\n",
       "        vertical-align: middle;\n",
       "    }\n",
       "\n",
       "    .dataframe tbody tr th {\n",
       "        vertical-align: top;\n",
       "    }\n",
       "\n",
       "    .dataframe thead th {\n",
       "        text-align: right;\n",
       "    }\n",
       "</style>\n",
       "<table border=\"1\" class=\"dataframe\">\n",
       "  <thead>\n",
       "    <tr style=\"text-align: right;\">\n",
       "      <th></th>\n",
       "      <th>Name</th>\n",
       "      <th>Location</th>\n",
       "      <th>Year</th>\n",
       "      <th>Kilometers_Driven</th>\n",
       "      <th>Fuel_Type</th>\n",
       "      <th>Transmission</th>\n",
       "      <th>Owner_Type</th>\n",
       "      <th>Mileage</th>\n",
       "      <th>Engine</th>\n",
       "      <th>Power</th>\n",
       "      <th>Seats</th>\n",
       "      <th>New_Price</th>\n",
       "      <th>Price</th>\n",
       "      <th>mileage_num</th>\n",
       "      <th>mileage_unit</th>\n",
       "    </tr>\n",
       "  </thead>\n",
       "  <tbody>\n",
       "    <tr>\n",
       "      <th>0</th>\n",
       "      <td>Maruti Wagon R LXI CNG</td>\n",
       "      <td>Mumbai</td>\n",
       "      <td>2010</td>\n",
       "      <td>72000</td>\n",
       "      <td>CNG</td>\n",
       "      <td>Manual</td>\n",
       "      <td>First</td>\n",
       "      <td>26.6 km/kg</td>\n",
       "      <td>998 CC</td>\n",
       "      <td>58.16 bhp</td>\n",
       "      <td>5.0</td>\n",
       "      <td>NaN</td>\n",
       "      <td>1.75</td>\n",
       "      <td>26.60</td>\n",
       "      <td>km/kg</td>\n",
       "    </tr>\n",
       "    <tr>\n",
       "      <th>1</th>\n",
       "      <td>Hyundai Creta 1.6 CRDi SX Option</td>\n",
       "      <td>Pune</td>\n",
       "      <td>2015</td>\n",
       "      <td>41000</td>\n",
       "      <td>Diesel</td>\n",
       "      <td>Manual</td>\n",
       "      <td>First</td>\n",
       "      <td>19.67 kmpl</td>\n",
       "      <td>1582 CC</td>\n",
       "      <td>126.2 bhp</td>\n",
       "      <td>5.0</td>\n",
       "      <td>NaN</td>\n",
       "      <td>12.50</td>\n",
       "      <td>19.67</td>\n",
       "      <td>kmpl</td>\n",
       "    </tr>\n",
       "    <tr>\n",
       "      <th>2</th>\n",
       "      <td>Honda Jazz V</td>\n",
       "      <td>Chennai</td>\n",
       "      <td>2011</td>\n",
       "      <td>46000</td>\n",
       "      <td>Petrol</td>\n",
       "      <td>Manual</td>\n",
       "      <td>First</td>\n",
       "      <td>18.2 kmpl</td>\n",
       "      <td>1199 CC</td>\n",
       "      <td>88.7 bhp</td>\n",
       "      <td>5.0</td>\n",
       "      <td>8.61 Lakh</td>\n",
       "      <td>4.50</td>\n",
       "      <td>18.20</td>\n",
       "      <td>kmpl</td>\n",
       "    </tr>\n",
       "    <tr>\n",
       "      <th>3</th>\n",
       "      <td>Maruti Ertiga VDI</td>\n",
       "      <td>Chennai</td>\n",
       "      <td>2012</td>\n",
       "      <td>87000</td>\n",
       "      <td>Diesel</td>\n",
       "      <td>Manual</td>\n",
       "      <td>First</td>\n",
       "      <td>20.77 kmpl</td>\n",
       "      <td>1248 CC</td>\n",
       "      <td>88.76 bhp</td>\n",
       "      <td>7.0</td>\n",
       "      <td>NaN</td>\n",
       "      <td>6.00</td>\n",
       "      <td>20.77</td>\n",
       "      <td>kmpl</td>\n",
       "    </tr>\n",
       "    <tr>\n",
       "      <th>4</th>\n",
       "      <td>Audi A4 New 2.0 TDI Multitronic</td>\n",
       "      <td>Coimbatore</td>\n",
       "      <td>2013</td>\n",
       "      <td>40670</td>\n",
       "      <td>Diesel</td>\n",
       "      <td>Automatic</td>\n",
       "      <td>Second</td>\n",
       "      <td>15.2 kmpl</td>\n",
       "      <td>1968 CC</td>\n",
       "      <td>140.8 bhp</td>\n",
       "      <td>5.0</td>\n",
       "      <td>NaN</td>\n",
       "      <td>17.74</td>\n",
       "      <td>15.20</td>\n",
       "      <td>kmpl</td>\n",
       "    </tr>\n",
       "  </tbody>\n",
       "</table>\n",
       "</div>"
      ],
      "text/plain": [
       "                               Name    Location  Year  Kilometers_Driven  \\\n",
       "0            Maruti Wagon R LXI CNG      Mumbai  2010              72000   \n",
       "1  Hyundai Creta 1.6 CRDi SX Option        Pune  2015              41000   \n",
       "2                      Honda Jazz V     Chennai  2011              46000   \n",
       "3                 Maruti Ertiga VDI     Chennai  2012              87000   \n",
       "4   Audi A4 New 2.0 TDI Multitronic  Coimbatore  2013              40670   \n",
       "\n",
       "  Fuel_Type Transmission Owner_Type     Mileage   Engine      Power  Seats  \\\n",
       "0       CNG       Manual      First  26.6 km/kg   998 CC  58.16 bhp    5.0   \n",
       "1    Diesel       Manual      First  19.67 kmpl  1582 CC  126.2 bhp    5.0   \n",
       "2    Petrol       Manual      First   18.2 kmpl  1199 CC   88.7 bhp    5.0   \n",
       "3    Diesel       Manual      First  20.77 kmpl  1248 CC  88.76 bhp    7.0   \n",
       "4    Diesel    Automatic     Second   15.2 kmpl  1968 CC  140.8 bhp    5.0   \n",
       "\n",
       "   New_Price  Price  mileage_num mileage_unit  \n",
       "0        NaN   1.75        26.60        km/kg  \n",
       "1        NaN  12.50        19.67         kmpl  \n",
       "2  8.61 Lakh   4.50        18.20         kmpl  \n",
       "3        NaN   6.00        20.77         kmpl  \n",
       "4        NaN  17.74        15.20         kmpl  "
      ]
     },
     "execution_count": 50,
     "metadata": {},
     "output_type": "execute_result"
    },
    {
     "data": {
      "application/javascript": [
       "\n",
       "            setTimeout(function() {\n",
       "                var nbb_cell_id = 50;\n",
       "                var nbb_unformatted_code = \"# we will create two new columns for mileage values and units\\ndf[\\\"mileage_num\\\"] = df_mileage[0].astype(float)\\ndf[\\\"mileage_unit\\\"] = df_mileage[1]\\n\\n# Checking the new dataframe\\ndf.head()\";\n",
       "                var nbb_formatted_code = \"# we will create two new columns for mileage values and units\\ndf[\\\"mileage_num\\\"] = df_mileage[0].astype(float)\\ndf[\\\"mileage_unit\\\"] = df_mileage[1]\\n\\n# Checking the new dataframe\\ndf.head()\";\n",
       "                var nbb_cells = Jupyter.notebook.get_cells();\n",
       "                for (var i = 0; i < nbb_cells.length; ++i) {\n",
       "                    if (nbb_cells[i].input_prompt_number == nbb_cell_id) {\n",
       "                        if (nbb_cells[i].get_text() == nbb_unformatted_code) {\n",
       "                             nbb_cells[i].set_text(nbb_formatted_code);\n",
       "                        }\n",
       "                        break;\n",
       "                    }\n",
       "                }\n",
       "            }, 500);\n",
       "            "
      ],
      "text/plain": [
       "<IPython.core.display.Javascript object>"
      ]
     },
     "metadata": {},
     "output_type": "display_data"
    }
   ],
   "source": [
    "# we will create two new columns for mileage values and units\n",
    "df[\"mileage_num\"] = df_mileage[0].astype(float)\n",
    "df[\"mileage_unit\"] = df_mileage[1]\n",
    "\n",
    "# Checking the new dataframe\n",
    "df.head()"
   ]
  },
  {
   "cell_type": "code",
   "execution_count": 51,
   "metadata": {},
   "outputs": [
    {
     "data": {
      "text/plain": [
       "Fuel_Type  mileage_unit\n",
       "CNG        km/kg             62\n",
       "Diesel     kmpl            3852\n",
       "LPG        km/kg             12\n",
       "Petrol     kmpl            3324\n",
       "dtype: int64"
      ]
     },
     "execution_count": 51,
     "metadata": {},
     "output_type": "execute_result"
    },
    {
     "data": {
      "application/javascript": [
       "\n",
       "            setTimeout(function() {\n",
       "                var nbb_cell_id = 51;\n",
       "                var nbb_unformatted_code = \"# Let's check if the units correspond to the fuel types\\ndf.groupby(by=[\\\"Fuel_Type\\\", \\\"mileage_unit\\\"]).size()\";\n",
       "                var nbb_formatted_code = \"# Let's check if the units correspond to the fuel types\\ndf.groupby(by=[\\\"Fuel_Type\\\", \\\"mileage_unit\\\"]).size()\";\n",
       "                var nbb_cells = Jupyter.notebook.get_cells();\n",
       "                for (var i = 0; i < nbb_cells.length; ++i) {\n",
       "                    if (nbb_cells[i].input_prompt_number == nbb_cell_id) {\n",
       "                        if (nbb_cells[i].get_text() == nbb_unformatted_code) {\n",
       "                             nbb_cells[i].set_text(nbb_formatted_code);\n",
       "                        }\n",
       "                        break;\n",
       "                    }\n",
       "                }\n",
       "            }, 500);\n",
       "            "
      ],
      "text/plain": [
       "<IPython.core.display.Javascript object>"
      ]
     },
     "metadata": {},
     "output_type": "display_data"
    }
   ],
   "source": [
    "# Let's check if the units correspond to the fuel types\n",
    "df.groupby(by=[\"Fuel_Type\", \"mileage_unit\"]).size()"
   ]
  },
  {
   "cell_type": "markdown",
   "metadata": {},
   "source": [
    "* As expected, km/kg is for CNG/LPG cars and kmpl is for Petrol and Diesel cars."
   ]
  },
  {
   "cell_type": "markdown",
   "metadata": {},
   "source": [
    "**2. `Engine`**\n",
    "\n",
    "* As per the data dictionary, the `Engine` column indicates the displacement volume of the engine in CC.\n",
    "* Let's extract the numerical part of the column values."
   ]
  },
  {
   "cell_type": "code",
   "execution_count": 52,
   "metadata": {},
   "outputs": [
    {
     "data": {
      "text/plain": [
       "0     998 CC\n",
       "1    1582 CC\n",
       "2    1199 CC\n",
       "3    1248 CC\n",
       "4    1968 CC\n",
       "5     814 CC\n",
       "6    1461 CC\n",
       "7    2755 CC\n",
       "8    1598 CC\n",
       "9    1248 CC\n",
       "Name: Engine, dtype: object"
      ]
     },
     "execution_count": 52,
     "metadata": {},
     "output_type": "execute_result"
    },
    {
     "data": {
      "application/javascript": [
       "\n",
       "            setTimeout(function() {\n",
       "                var nbb_cell_id = 52;\n",
       "                var nbb_unformatted_code = \"# viewing the column values\\ndf[\\\"Engine\\\"].head(10)\";\n",
       "                var nbb_formatted_code = \"# viewing the column values\\ndf[\\\"Engine\\\"].head(10)\";\n",
       "                var nbb_cells = Jupyter.notebook.get_cells();\n",
       "                for (var i = 0; i < nbb_cells.length; ++i) {\n",
       "                    if (nbb_cells[i].input_prompt_number == nbb_cell_id) {\n",
       "                        if (nbb_cells[i].get_text() == nbb_unformatted_code) {\n",
       "                             nbb_cells[i].set_text(nbb_formatted_code);\n",
       "                        }\n",
       "                        break;\n",
       "                    }\n",
       "                }\n",
       "            }, 500);\n",
       "            "
      ],
      "text/plain": [
       "<IPython.core.display.Javascript object>"
      ]
     },
     "metadata": {},
     "output_type": "display_data"
    }
   ],
   "source": [
    "# viewing the column values\n",
    "df[\"Engine\"].head(10)"
   ]
  },
  {
   "cell_type": "markdown",
   "metadata": {},
   "source": [
    "- The numeric values and units are separated by a space. We will split the values by space."
   ]
  },
  {
   "cell_type": "code",
   "execution_count": 53,
   "metadata": {},
   "outputs": [
    {
     "data": {
      "text/html": [
       "<div>\n",
       "<style scoped>\n",
       "    .dataframe tbody tr th:only-of-type {\n",
       "        vertical-align: middle;\n",
       "    }\n",
       "\n",
       "    .dataframe tbody tr th {\n",
       "        vertical-align: top;\n",
       "    }\n",
       "\n",
       "    .dataframe thead th {\n",
       "        text-align: right;\n",
       "    }\n",
       "</style>\n",
       "<table border=\"1\" class=\"dataframe\">\n",
       "  <thead>\n",
       "    <tr style=\"text-align: right;\">\n",
       "      <th></th>\n",
       "      <th>0</th>\n",
       "      <th>1</th>\n",
       "    </tr>\n",
       "  </thead>\n",
       "  <tbody>\n",
       "    <tr>\n",
       "      <th>0</th>\n",
       "      <td>998</td>\n",
       "      <td>CC</td>\n",
       "    </tr>\n",
       "    <tr>\n",
       "      <th>1</th>\n",
       "      <td>1582</td>\n",
       "      <td>CC</td>\n",
       "    </tr>\n",
       "    <tr>\n",
       "      <th>2</th>\n",
       "      <td>1199</td>\n",
       "      <td>CC</td>\n",
       "    </tr>\n",
       "    <tr>\n",
       "      <th>3</th>\n",
       "      <td>1248</td>\n",
       "      <td>CC</td>\n",
       "    </tr>\n",
       "    <tr>\n",
       "      <th>4</th>\n",
       "      <td>1968</td>\n",
       "      <td>CC</td>\n",
       "    </tr>\n",
       "  </tbody>\n",
       "</table>\n",
       "</div>"
      ],
      "text/plain": [
       "      0   1\n",
       "0   998  CC\n",
       "1  1582  CC\n",
       "2  1199  CC\n",
       "3  1248  CC\n",
       "4  1968  CC"
      ]
     },
     "execution_count": 53,
     "metadata": {},
     "output_type": "execute_result"
    },
    {
     "data": {
      "application/javascript": [
       "\n",
       "            setTimeout(function() {\n",
       "                var nbb_cell_id = 53;\n",
       "                var nbb_unformatted_code = \"df_engine = df[\\\"Engine\\\"].str.split(\\\" \\\", expand=True)\\ndf_engine.head()\";\n",
       "                var nbb_formatted_code = \"df_engine = df[\\\"Engine\\\"].str.split(\\\" \\\", expand=True)\\ndf_engine.head()\";\n",
       "                var nbb_cells = Jupyter.notebook.get_cells();\n",
       "                for (var i = 0; i < nbb_cells.length; ++i) {\n",
       "                    if (nbb_cells[i].input_prompt_number == nbb_cell_id) {\n",
       "                        if (nbb_cells[i].get_text() == nbb_unformatted_code) {\n",
       "                             nbb_cells[i].set_text(nbb_formatted_code);\n",
       "                        }\n",
       "                        break;\n",
       "                    }\n",
       "                }\n",
       "            }, 500);\n",
       "            "
      ],
      "text/plain": [
       "<IPython.core.display.Javascript object>"
      ]
     },
     "metadata": {},
     "output_type": "display_data"
    }
   ],
   "source": [
    "df_engine = df[\"Engine\"].str.split(\" \", expand=True)\n",
    "df_engine.head()"
   ]
  },
  {
   "cell_type": "code",
   "execution_count": 54,
   "metadata": {},
   "outputs": [
    {
     "data": {
      "text/plain": [
       "CC    7206\n",
       "Name: 1, dtype: int64"
      ]
     },
     "execution_count": 54,
     "metadata": {},
     "output_type": "execute_result"
    },
    {
     "data": {
      "application/javascript": [
       "\n",
       "            setTimeout(function() {\n",
       "                var nbb_cell_id = 54;\n",
       "                var nbb_unformatted_code = \"# let's verify that there is only one unit\\ndf_engine[1].value_counts()\";\n",
       "                var nbb_formatted_code = \"# let's verify that there is only one unit\\ndf_engine[1].value_counts()\";\n",
       "                var nbb_cells = Jupyter.notebook.get_cells();\n",
       "                for (var i = 0; i < nbb_cells.length; ++i) {\n",
       "                    if (nbb_cells[i].input_prompt_number == nbb_cell_id) {\n",
       "                        if (nbb_cells[i].get_text() == nbb_unformatted_code) {\n",
       "                             nbb_cells[i].set_text(nbb_formatted_code);\n",
       "                        }\n",
       "                        break;\n",
       "                    }\n",
       "                }\n",
       "            }, 500);\n",
       "            "
      ],
      "text/plain": [
       "<IPython.core.display.Javascript object>"
      ]
     },
     "metadata": {},
     "output_type": "display_data"
    }
   ],
   "source": [
    "# let's verify that there is only one unit\n",
    "df_engine[1].value_counts()"
   ]
  },
  {
   "cell_type": "code",
   "execution_count": 55,
   "metadata": {
    "scrolled": true
   },
   "outputs": [
    {
     "data": {
      "text/html": [
       "<div>\n",
       "<style scoped>\n",
       "    .dataframe tbody tr th:only-of-type {\n",
       "        vertical-align: middle;\n",
       "    }\n",
       "\n",
       "    .dataframe tbody tr th {\n",
       "        vertical-align: top;\n",
       "    }\n",
       "\n",
       "    .dataframe thead th {\n",
       "        text-align: right;\n",
       "    }\n",
       "</style>\n",
       "<table border=\"1\" class=\"dataframe\">\n",
       "  <thead>\n",
       "    <tr style=\"text-align: right;\">\n",
       "      <th></th>\n",
       "      <th>Name</th>\n",
       "      <th>Location</th>\n",
       "      <th>Year</th>\n",
       "      <th>Kilometers_Driven</th>\n",
       "      <th>Fuel_Type</th>\n",
       "      <th>Transmission</th>\n",
       "      <th>Owner_Type</th>\n",
       "      <th>Mileage</th>\n",
       "      <th>Engine</th>\n",
       "      <th>Power</th>\n",
       "      <th>Seats</th>\n",
       "      <th>New_Price</th>\n",
       "      <th>Price</th>\n",
       "      <th>mileage_num</th>\n",
       "      <th>mileage_unit</th>\n",
       "      <th>engine_num</th>\n",
       "    </tr>\n",
       "  </thead>\n",
       "  <tbody>\n",
       "    <tr>\n",
       "      <th>0</th>\n",
       "      <td>Maruti Wagon R LXI CNG</td>\n",
       "      <td>Mumbai</td>\n",
       "      <td>2010</td>\n",
       "      <td>72000</td>\n",
       "      <td>CNG</td>\n",
       "      <td>Manual</td>\n",
       "      <td>First</td>\n",
       "      <td>26.6 km/kg</td>\n",
       "      <td>998 CC</td>\n",
       "      <td>58.16 bhp</td>\n",
       "      <td>5.0</td>\n",
       "      <td>NaN</td>\n",
       "      <td>1.75</td>\n",
       "      <td>26.60</td>\n",
       "      <td>km/kg</td>\n",
       "      <td>998.0</td>\n",
       "    </tr>\n",
       "    <tr>\n",
       "      <th>1</th>\n",
       "      <td>Hyundai Creta 1.6 CRDi SX Option</td>\n",
       "      <td>Pune</td>\n",
       "      <td>2015</td>\n",
       "      <td>41000</td>\n",
       "      <td>Diesel</td>\n",
       "      <td>Manual</td>\n",
       "      <td>First</td>\n",
       "      <td>19.67 kmpl</td>\n",
       "      <td>1582 CC</td>\n",
       "      <td>126.2 bhp</td>\n",
       "      <td>5.0</td>\n",
       "      <td>NaN</td>\n",
       "      <td>12.50</td>\n",
       "      <td>19.67</td>\n",
       "      <td>kmpl</td>\n",
       "      <td>1582.0</td>\n",
       "    </tr>\n",
       "    <tr>\n",
       "      <th>2</th>\n",
       "      <td>Honda Jazz V</td>\n",
       "      <td>Chennai</td>\n",
       "      <td>2011</td>\n",
       "      <td>46000</td>\n",
       "      <td>Petrol</td>\n",
       "      <td>Manual</td>\n",
       "      <td>First</td>\n",
       "      <td>18.2 kmpl</td>\n",
       "      <td>1199 CC</td>\n",
       "      <td>88.7 bhp</td>\n",
       "      <td>5.0</td>\n",
       "      <td>8.61 Lakh</td>\n",
       "      <td>4.50</td>\n",
       "      <td>18.20</td>\n",
       "      <td>kmpl</td>\n",
       "      <td>1199.0</td>\n",
       "    </tr>\n",
       "    <tr>\n",
       "      <th>3</th>\n",
       "      <td>Maruti Ertiga VDI</td>\n",
       "      <td>Chennai</td>\n",
       "      <td>2012</td>\n",
       "      <td>87000</td>\n",
       "      <td>Diesel</td>\n",
       "      <td>Manual</td>\n",
       "      <td>First</td>\n",
       "      <td>20.77 kmpl</td>\n",
       "      <td>1248 CC</td>\n",
       "      <td>88.76 bhp</td>\n",
       "      <td>7.0</td>\n",
       "      <td>NaN</td>\n",
       "      <td>6.00</td>\n",
       "      <td>20.77</td>\n",
       "      <td>kmpl</td>\n",
       "      <td>1248.0</td>\n",
       "    </tr>\n",
       "    <tr>\n",
       "      <th>4</th>\n",
       "      <td>Audi A4 New 2.0 TDI Multitronic</td>\n",
       "      <td>Coimbatore</td>\n",
       "      <td>2013</td>\n",
       "      <td>40670</td>\n",
       "      <td>Diesel</td>\n",
       "      <td>Automatic</td>\n",
       "      <td>Second</td>\n",
       "      <td>15.2 kmpl</td>\n",
       "      <td>1968 CC</td>\n",
       "      <td>140.8 bhp</td>\n",
       "      <td>5.0</td>\n",
       "      <td>NaN</td>\n",
       "      <td>17.74</td>\n",
       "      <td>15.20</td>\n",
       "      <td>kmpl</td>\n",
       "      <td>1968.0</td>\n",
       "    </tr>\n",
       "  </tbody>\n",
       "</table>\n",
       "</div>"
      ],
      "text/plain": [
       "                               Name    Location  Year  Kilometers_Driven  \\\n",
       "0            Maruti Wagon R LXI CNG      Mumbai  2010              72000   \n",
       "1  Hyundai Creta 1.6 CRDi SX Option        Pune  2015              41000   \n",
       "2                      Honda Jazz V     Chennai  2011              46000   \n",
       "3                 Maruti Ertiga VDI     Chennai  2012              87000   \n",
       "4   Audi A4 New 2.0 TDI Multitronic  Coimbatore  2013              40670   \n",
       "\n",
       "  Fuel_Type Transmission Owner_Type     Mileage   Engine      Power  Seats  \\\n",
       "0       CNG       Manual      First  26.6 km/kg   998 CC  58.16 bhp    5.0   \n",
       "1    Diesel       Manual      First  19.67 kmpl  1582 CC  126.2 bhp    5.0   \n",
       "2    Petrol       Manual      First   18.2 kmpl  1199 CC   88.7 bhp    5.0   \n",
       "3    Diesel       Manual      First  20.77 kmpl  1248 CC  88.76 bhp    7.0   \n",
       "4    Diesel    Automatic     Second   15.2 kmpl  1968 CC  140.8 bhp    5.0   \n",
       "\n",
       "   New_Price  Price  mileage_num mileage_unit  engine_num  \n",
       "0        NaN   1.75        26.60        km/kg       998.0  \n",
       "1        NaN  12.50        19.67         kmpl      1582.0  \n",
       "2  8.61 Lakh   4.50        18.20         kmpl      1199.0  \n",
       "3        NaN   6.00        20.77         kmpl      1248.0  \n",
       "4        NaN  17.74        15.20         kmpl      1968.0  "
      ]
     },
     "execution_count": 55,
     "metadata": {},
     "output_type": "execute_result"
    },
    {
     "data": {
      "application/javascript": [
       "\n",
       "            setTimeout(function() {\n",
       "                var nbb_cell_id = 55;\n",
       "                var nbb_unformatted_code = \"# we will create a new column for engine values\\ndf[\\\"engine_num\\\"] = df_engine[0].astype(float)\\n\\n# Checking the new dataframe\\ndf.head()\";\n",
       "                var nbb_formatted_code = \"# we will create a new column for engine values\\ndf[\\\"engine_num\\\"] = df_engine[0].astype(float)\\n\\n# Checking the new dataframe\\ndf.head()\";\n",
       "                var nbb_cells = Jupyter.notebook.get_cells();\n",
       "                for (var i = 0; i < nbb_cells.length; ++i) {\n",
       "                    if (nbb_cells[i].input_prompt_number == nbb_cell_id) {\n",
       "                        if (nbb_cells[i].get_text() == nbb_unformatted_code) {\n",
       "                             nbb_cells[i].set_text(nbb_formatted_code);\n",
       "                        }\n",
       "                        break;\n",
       "                    }\n",
       "                }\n",
       "            }, 500);\n",
       "            "
      ],
      "text/plain": [
       "<IPython.core.display.Javascript object>"
      ]
     },
     "metadata": {},
     "output_type": "display_data"
    }
   ],
   "source": [
    "# we will create a new column for engine values\n",
    "df[\"engine_num\"] = df_engine[0].astype(float)\n",
    "\n",
    "# Checking the new dataframe\n",
    "df.head()"
   ]
  },
  {
   "cell_type": "markdown",
   "metadata": {},
   "source": [
    "**3. `Power`**\n",
    "\n",
    "* As per the data dictionary, the `Power` column indicates the maximum power of the engine in bhp.\n",
    "* Let's extract the numerical part of the column values."
   ]
  },
  {
   "cell_type": "code",
   "execution_count": 56,
   "metadata": {},
   "outputs": [
    {
     "data": {
      "text/plain": [
       "0    58.16 bhp\n",
       "1    126.2 bhp\n",
       "2     88.7 bhp\n",
       "3    88.76 bhp\n",
       "4    140.8 bhp\n",
       "5     55.2 bhp\n",
       "6     63.1 bhp\n",
       "7    171.5 bhp\n",
       "8    103.6 bhp\n",
       "9       74 bhp\n",
       "Name: Power, dtype: object"
      ]
     },
     "execution_count": 56,
     "metadata": {},
     "output_type": "execute_result"
    },
    {
     "data": {
      "application/javascript": [
       "\n",
       "            setTimeout(function() {\n",
       "                var nbb_cell_id = 56;\n",
       "                var nbb_unformatted_code = \"# viewing the column values\\ndf[\\\"Power\\\"].head(10)\";\n",
       "                var nbb_formatted_code = \"# viewing the column values\\ndf[\\\"Power\\\"].head(10)\";\n",
       "                var nbb_cells = Jupyter.notebook.get_cells();\n",
       "                for (var i = 0; i < nbb_cells.length; ++i) {\n",
       "                    if (nbb_cells[i].input_prompt_number == nbb_cell_id) {\n",
       "                        if (nbb_cells[i].get_text() == nbb_unformatted_code) {\n",
       "                             nbb_cells[i].set_text(nbb_formatted_code);\n",
       "                        }\n",
       "                        break;\n",
       "                    }\n",
       "                }\n",
       "            }, 500);\n",
       "            "
      ],
      "text/plain": [
       "<IPython.core.display.Javascript object>"
      ]
     },
     "metadata": {},
     "output_type": "display_data"
    }
   ],
   "source": [
    "# viewing the column values\n",
    "df[\"Power\"].head(10)"
   ]
  },
  {
   "cell_type": "code",
   "execution_count": 57,
   "metadata": {},
   "outputs": [
    {
     "data": {
      "text/html": [
       "<div>\n",
       "<style scoped>\n",
       "    .dataframe tbody tr th:only-of-type {\n",
       "        vertical-align: middle;\n",
       "    }\n",
       "\n",
       "    .dataframe tbody tr th {\n",
       "        vertical-align: top;\n",
       "    }\n",
       "\n",
       "    .dataframe thead th {\n",
       "        text-align: right;\n",
       "    }\n",
       "</style>\n",
       "<table border=\"1\" class=\"dataframe\">\n",
       "  <thead>\n",
       "    <tr style=\"text-align: right;\">\n",
       "      <th></th>\n",
       "      <th>0</th>\n",
       "      <th>1</th>\n",
       "    </tr>\n",
       "  </thead>\n",
       "  <tbody>\n",
       "    <tr>\n",
       "      <th>0</th>\n",
       "      <td>58.16</td>\n",
       "      <td>bhp</td>\n",
       "    </tr>\n",
       "    <tr>\n",
       "      <th>1</th>\n",
       "      <td>126.2</td>\n",
       "      <td>bhp</td>\n",
       "    </tr>\n",
       "    <tr>\n",
       "      <th>2</th>\n",
       "      <td>88.7</td>\n",
       "      <td>bhp</td>\n",
       "    </tr>\n",
       "    <tr>\n",
       "      <th>3</th>\n",
       "      <td>88.76</td>\n",
       "      <td>bhp</td>\n",
       "    </tr>\n",
       "    <tr>\n",
       "      <th>4</th>\n",
       "      <td>140.8</td>\n",
       "      <td>bhp</td>\n",
       "    </tr>\n",
       "  </tbody>\n",
       "</table>\n",
       "</div>"
      ],
      "text/plain": [
       "       0    1\n",
       "0  58.16  bhp\n",
       "1  126.2  bhp\n",
       "2   88.7  bhp\n",
       "3  88.76  bhp\n",
       "4  140.8  bhp"
      ]
     },
     "execution_count": 57,
     "metadata": {},
     "output_type": "execute_result"
    },
    {
     "data": {
      "application/javascript": [
       "\n",
       "            setTimeout(function() {\n",
       "                var nbb_cell_id = 57;\n",
       "                var nbb_unformatted_code = \"df_power = df[\\\"Power\\\"].str.split(\\\" \\\", expand=True)\\ndf_power.head()\";\n",
       "                var nbb_formatted_code = \"df_power = df[\\\"Power\\\"].str.split(\\\" \\\", expand=True)\\ndf_power.head()\";\n",
       "                var nbb_cells = Jupyter.notebook.get_cells();\n",
       "                for (var i = 0; i < nbb_cells.length; ++i) {\n",
       "                    if (nbb_cells[i].input_prompt_number == nbb_cell_id) {\n",
       "                        if (nbb_cells[i].get_text() == nbb_unformatted_code) {\n",
       "                             nbb_cells[i].set_text(nbb_formatted_code);\n",
       "                        }\n",
       "                        break;\n",
       "                    }\n",
       "                }\n",
       "            }, 500);\n",
       "            "
      ],
      "text/plain": [
       "<IPython.core.display.Javascript object>"
      ]
     },
     "metadata": {},
     "output_type": "display_data"
    }
   ],
   "source": [
    "df_power = df[\"Power\"].str.split(\" \", expand=True)\n",
    "df_power.head()"
   ]
  },
  {
   "cell_type": "code",
   "execution_count": 58,
   "metadata": {},
   "outputs": [
    {
     "data": {
      "text/plain": [
       "bhp    7077\n",
       "Name: 1, dtype: int64"
      ]
     },
     "execution_count": 58,
     "metadata": {},
     "output_type": "execute_result"
    },
    {
     "data": {
      "application/javascript": [
       "\n",
       "            setTimeout(function() {\n",
       "                var nbb_cell_id = 58;\n",
       "                var nbb_unformatted_code = \"# let's verify that there is only one unit\\ndf_power[1].value_counts()\";\n",
       "                var nbb_formatted_code = \"# let's verify that there is only one unit\\ndf_power[1].value_counts()\";\n",
       "                var nbb_cells = Jupyter.notebook.get_cells();\n",
       "                for (var i = 0; i < nbb_cells.length; ++i) {\n",
       "                    if (nbb_cells[i].input_prompt_number == nbb_cell_id) {\n",
       "                        if (nbb_cells[i].get_text() == nbb_unformatted_code) {\n",
       "                             nbb_cells[i].set_text(nbb_formatted_code);\n",
       "                        }\n",
       "                        break;\n",
       "                    }\n",
       "                }\n",
       "            }, 500);\n",
       "            "
      ],
      "text/plain": [
       "<IPython.core.display.Javascript object>"
      ]
     },
     "metadata": {},
     "output_type": "display_data"
    }
   ],
   "source": [
    "# let's verify that there is only one unit\n",
    "df_power[1].value_counts()"
   ]
  },
  {
   "cell_type": "code",
   "execution_count": 59,
   "metadata": {},
   "outputs": [
    {
     "data": {
      "text/html": [
       "<div>\n",
       "<style scoped>\n",
       "    .dataframe tbody tr th:only-of-type {\n",
       "        vertical-align: middle;\n",
       "    }\n",
       "\n",
       "    .dataframe tbody tr th {\n",
       "        vertical-align: top;\n",
       "    }\n",
       "\n",
       "    .dataframe thead th {\n",
       "        text-align: right;\n",
       "    }\n",
       "</style>\n",
       "<table border=\"1\" class=\"dataframe\">\n",
       "  <thead>\n",
       "    <tr style=\"text-align: right;\">\n",
       "      <th></th>\n",
       "      <th>Name</th>\n",
       "      <th>Location</th>\n",
       "      <th>Year</th>\n",
       "      <th>Kilometers_Driven</th>\n",
       "      <th>Fuel_Type</th>\n",
       "      <th>Transmission</th>\n",
       "      <th>Owner_Type</th>\n",
       "      <th>Mileage</th>\n",
       "      <th>Engine</th>\n",
       "      <th>Power</th>\n",
       "      <th>Seats</th>\n",
       "      <th>New_Price</th>\n",
       "      <th>Price</th>\n",
       "      <th>mileage_num</th>\n",
       "      <th>mileage_unit</th>\n",
       "      <th>engine_num</th>\n",
       "      <th>power_num</th>\n",
       "    </tr>\n",
       "  </thead>\n",
       "  <tbody>\n",
       "    <tr>\n",
       "      <th>0</th>\n",
       "      <td>Maruti Wagon R LXI CNG</td>\n",
       "      <td>Mumbai</td>\n",
       "      <td>2010</td>\n",
       "      <td>72000</td>\n",
       "      <td>CNG</td>\n",
       "      <td>Manual</td>\n",
       "      <td>First</td>\n",
       "      <td>26.6 km/kg</td>\n",
       "      <td>998 CC</td>\n",
       "      <td>58.16 bhp</td>\n",
       "      <td>5.0</td>\n",
       "      <td>NaN</td>\n",
       "      <td>1.75</td>\n",
       "      <td>26.60</td>\n",
       "      <td>km/kg</td>\n",
       "      <td>998.0</td>\n",
       "      <td>58.16</td>\n",
       "    </tr>\n",
       "    <tr>\n",
       "      <th>1</th>\n",
       "      <td>Hyundai Creta 1.6 CRDi SX Option</td>\n",
       "      <td>Pune</td>\n",
       "      <td>2015</td>\n",
       "      <td>41000</td>\n",
       "      <td>Diesel</td>\n",
       "      <td>Manual</td>\n",
       "      <td>First</td>\n",
       "      <td>19.67 kmpl</td>\n",
       "      <td>1582 CC</td>\n",
       "      <td>126.2 bhp</td>\n",
       "      <td>5.0</td>\n",
       "      <td>NaN</td>\n",
       "      <td>12.50</td>\n",
       "      <td>19.67</td>\n",
       "      <td>kmpl</td>\n",
       "      <td>1582.0</td>\n",
       "      <td>126.20</td>\n",
       "    </tr>\n",
       "    <tr>\n",
       "      <th>2</th>\n",
       "      <td>Honda Jazz V</td>\n",
       "      <td>Chennai</td>\n",
       "      <td>2011</td>\n",
       "      <td>46000</td>\n",
       "      <td>Petrol</td>\n",
       "      <td>Manual</td>\n",
       "      <td>First</td>\n",
       "      <td>18.2 kmpl</td>\n",
       "      <td>1199 CC</td>\n",
       "      <td>88.7 bhp</td>\n",
       "      <td>5.0</td>\n",
       "      <td>8.61 Lakh</td>\n",
       "      <td>4.50</td>\n",
       "      <td>18.20</td>\n",
       "      <td>kmpl</td>\n",
       "      <td>1199.0</td>\n",
       "      <td>88.70</td>\n",
       "    </tr>\n",
       "    <tr>\n",
       "      <th>3</th>\n",
       "      <td>Maruti Ertiga VDI</td>\n",
       "      <td>Chennai</td>\n",
       "      <td>2012</td>\n",
       "      <td>87000</td>\n",
       "      <td>Diesel</td>\n",
       "      <td>Manual</td>\n",
       "      <td>First</td>\n",
       "      <td>20.77 kmpl</td>\n",
       "      <td>1248 CC</td>\n",
       "      <td>88.76 bhp</td>\n",
       "      <td>7.0</td>\n",
       "      <td>NaN</td>\n",
       "      <td>6.00</td>\n",
       "      <td>20.77</td>\n",
       "      <td>kmpl</td>\n",
       "      <td>1248.0</td>\n",
       "      <td>88.76</td>\n",
       "    </tr>\n",
       "    <tr>\n",
       "      <th>4</th>\n",
       "      <td>Audi A4 New 2.0 TDI Multitronic</td>\n",
       "      <td>Coimbatore</td>\n",
       "      <td>2013</td>\n",
       "      <td>40670</td>\n",
       "      <td>Diesel</td>\n",
       "      <td>Automatic</td>\n",
       "      <td>Second</td>\n",
       "      <td>15.2 kmpl</td>\n",
       "      <td>1968 CC</td>\n",
       "      <td>140.8 bhp</td>\n",
       "      <td>5.0</td>\n",
       "      <td>NaN</td>\n",
       "      <td>17.74</td>\n",
       "      <td>15.20</td>\n",
       "      <td>kmpl</td>\n",
       "      <td>1968.0</td>\n",
       "      <td>140.80</td>\n",
       "    </tr>\n",
       "  </tbody>\n",
       "</table>\n",
       "</div>"
      ],
      "text/plain": [
       "                               Name    Location  Year  Kilometers_Driven  \\\n",
       "0            Maruti Wagon R LXI CNG      Mumbai  2010              72000   \n",
       "1  Hyundai Creta 1.6 CRDi SX Option        Pune  2015              41000   \n",
       "2                      Honda Jazz V     Chennai  2011              46000   \n",
       "3                 Maruti Ertiga VDI     Chennai  2012              87000   \n",
       "4   Audi A4 New 2.0 TDI Multitronic  Coimbatore  2013              40670   \n",
       "\n",
       "  Fuel_Type Transmission Owner_Type     Mileage   Engine      Power  Seats  \\\n",
       "0       CNG       Manual      First  26.6 km/kg   998 CC  58.16 bhp    5.0   \n",
       "1    Diesel       Manual      First  19.67 kmpl  1582 CC  126.2 bhp    5.0   \n",
       "2    Petrol       Manual      First   18.2 kmpl  1199 CC   88.7 bhp    5.0   \n",
       "3    Diesel       Manual      First  20.77 kmpl  1248 CC  88.76 bhp    7.0   \n",
       "4    Diesel    Automatic     Second   15.2 kmpl  1968 CC  140.8 bhp    5.0   \n",
       "\n",
       "   New_Price  Price  mileage_num mileage_unit  engine_num  power_num  \n",
       "0        NaN   1.75        26.60        km/kg       998.0      58.16  \n",
       "1        NaN  12.50        19.67         kmpl      1582.0     126.20  \n",
       "2  8.61 Lakh   4.50        18.20         kmpl      1199.0      88.70  \n",
       "3        NaN   6.00        20.77         kmpl      1248.0      88.76  \n",
       "4        NaN  17.74        15.20         kmpl      1968.0     140.80  "
      ]
     },
     "execution_count": 59,
     "metadata": {},
     "output_type": "execute_result"
    },
    {
     "data": {
      "application/javascript": [
       "\n",
       "            setTimeout(function() {\n",
       "                var nbb_cell_id = 59;\n",
       "                var nbb_unformatted_code = \"# we will create a new column for power values\\ndf[\\\"power_num\\\"] = df_power[0].astype(float)\\n\\n# Checking the new dataframe\\ndf.head()\";\n",
       "                var nbb_formatted_code = \"# we will create a new column for power values\\ndf[\\\"power_num\\\"] = df_power[0].astype(float)\\n\\n# Checking the new dataframe\\ndf.head()\";\n",
       "                var nbb_cells = Jupyter.notebook.get_cells();\n",
       "                for (var i = 0; i < nbb_cells.length; ++i) {\n",
       "                    if (nbb_cells[i].input_prompt_number == nbb_cell_id) {\n",
       "                        if (nbb_cells[i].get_text() == nbb_unformatted_code) {\n",
       "                             nbb_cells[i].set_text(nbb_formatted_code);\n",
       "                        }\n",
       "                        break;\n",
       "                    }\n",
       "                }\n",
       "            }, 500);\n",
       "            "
      ],
      "text/plain": [
       "<IPython.core.display.Javascript object>"
      ]
     },
     "metadata": {},
     "output_type": "display_data"
    }
   ],
   "source": [
    "# we will create a new column for power values\n",
    "df[\"power_num\"] = df_power[0].astype(float)\n",
    "\n",
    "# Checking the new dataframe\n",
    "df.head()"
   ]
  },
  {
   "cell_type": "markdown",
   "metadata": {},
   "source": [
    "**4. `New_Price`**\n",
    "\n",
    "* We know that `New_Price` is the price of a new car of the same model in INR Lakhs (1 Lakh INR = 100, 000 INR)\n",
    "* Let's extract the numerical part of the column values."
   ]
  },
  {
   "cell_type": "code",
   "execution_count": 60,
   "metadata": {},
   "outputs": [
    {
     "data": {
      "text/plain": [
       "0          NaN\n",
       "1          NaN\n",
       "2    8.61 Lakh\n",
       "3          NaN\n",
       "4          NaN\n",
       "5          NaN\n",
       "6          NaN\n",
       "7      21 Lakh\n",
       "8          NaN\n",
       "9          NaN\n",
       "Name: New_Price, dtype: object"
      ]
     },
     "execution_count": 60,
     "metadata": {},
     "output_type": "execute_result"
    },
    {
     "data": {
      "application/javascript": [
       "\n",
       "            setTimeout(function() {\n",
       "                var nbb_cell_id = 60;\n",
       "                var nbb_unformatted_code = \"# viewing the column values\\ndf[\\\"New_Price\\\"].head(10)\";\n",
       "                var nbb_formatted_code = \"# viewing the column values\\ndf[\\\"New_Price\\\"].head(10)\";\n",
       "                var nbb_cells = Jupyter.notebook.get_cells();\n",
       "                for (var i = 0; i < nbb_cells.length; ++i) {\n",
       "                    if (nbb_cells[i].input_prompt_number == nbb_cell_id) {\n",
       "                        if (nbb_cells[i].get_text() == nbb_unformatted_code) {\n",
       "                             nbb_cells[i].set_text(nbb_formatted_code);\n",
       "                        }\n",
       "                        break;\n",
       "                    }\n",
       "                }\n",
       "            }, 500);\n",
       "            "
      ],
      "text/plain": [
       "<IPython.core.display.Javascript object>"
      ]
     },
     "metadata": {},
     "output_type": "display_data"
    }
   ],
   "source": [
    "# viewing the column values\n",
    "df[\"New_Price\"].head(10)"
   ]
  },
  {
   "cell_type": "code",
   "execution_count": 61,
   "metadata": {},
   "outputs": [
    {
     "data": {
      "text/html": [
       "<div>\n",
       "<style scoped>\n",
       "    .dataframe tbody tr th:only-of-type {\n",
       "        vertical-align: middle;\n",
       "    }\n",
       "\n",
       "    .dataframe tbody tr th {\n",
       "        vertical-align: top;\n",
       "    }\n",
       "\n",
       "    .dataframe thead th {\n",
       "        text-align: right;\n",
       "    }\n",
       "</style>\n",
       "<table border=\"1\" class=\"dataframe\">\n",
       "  <thead>\n",
       "    <tr style=\"text-align: right;\">\n",
       "      <th></th>\n",
       "      <th>0</th>\n",
       "      <th>1</th>\n",
       "    </tr>\n",
       "  </thead>\n",
       "  <tbody>\n",
       "    <tr>\n",
       "      <th>0</th>\n",
       "      <td>NaN</td>\n",
       "      <td>NaN</td>\n",
       "    </tr>\n",
       "    <tr>\n",
       "      <th>1</th>\n",
       "      <td>NaN</td>\n",
       "      <td>NaN</td>\n",
       "    </tr>\n",
       "    <tr>\n",
       "      <th>2</th>\n",
       "      <td>8.61</td>\n",
       "      <td>Lakh</td>\n",
       "    </tr>\n",
       "    <tr>\n",
       "      <th>3</th>\n",
       "      <td>NaN</td>\n",
       "      <td>NaN</td>\n",
       "    </tr>\n",
       "    <tr>\n",
       "      <th>4</th>\n",
       "      <td>NaN</td>\n",
       "      <td>NaN</td>\n",
       "    </tr>\n",
       "  </tbody>\n",
       "</table>\n",
       "</div>"
      ],
      "text/plain": [
       "      0     1\n",
       "0   NaN   NaN\n",
       "1   NaN   NaN\n",
       "2  8.61  Lakh\n",
       "3   NaN   NaN\n",
       "4   NaN   NaN"
      ]
     },
     "execution_count": 61,
     "metadata": {},
     "output_type": "execute_result"
    },
    {
     "data": {
      "application/javascript": [
       "\n",
       "            setTimeout(function() {\n",
       "                var nbb_cell_id = 61;\n",
       "                var nbb_unformatted_code = \"df_new_price = df[\\\"New_Price\\\"].str.split(\\\" \\\", expand=True)\\ndf_new_price.head()\";\n",
       "                var nbb_formatted_code = \"df_new_price = df[\\\"New_Price\\\"].str.split(\\\" \\\", expand=True)\\ndf_new_price.head()\";\n",
       "                var nbb_cells = Jupyter.notebook.get_cells();\n",
       "                for (var i = 0; i < nbb_cells.length; ++i) {\n",
       "                    if (nbb_cells[i].input_prompt_number == nbb_cell_id) {\n",
       "                        if (nbb_cells[i].get_text() == nbb_unformatted_code) {\n",
       "                             nbb_cells[i].set_text(nbb_formatted_code);\n",
       "                        }\n",
       "                        break;\n",
       "                    }\n",
       "                }\n",
       "            }, 500);\n",
       "            "
      ],
      "text/plain": [
       "<IPython.core.display.Javascript object>"
      ]
     },
     "metadata": {},
     "output_type": "display_data"
    }
   ],
   "source": [
    "df_new_price = df[\"New_Price\"].str.split(\" \", expand=True)\n",
    "df_new_price.head()"
   ]
  },
  {
   "cell_type": "code",
   "execution_count": 62,
   "metadata": {},
   "outputs": [
    {
     "data": {
      "text/plain": [
       "Lakh    986\n",
       "Cr       20\n",
       "Name: 1, dtype: int64"
      ]
     },
     "execution_count": 62,
     "metadata": {},
     "output_type": "execute_result"
    },
    {
     "data": {
      "application/javascript": [
       "\n",
       "            setTimeout(function() {\n",
       "                var nbb_cell_id = 62;\n",
       "                var nbb_unformatted_code = \"# let's verify that there is only one unit\\ndf_new_price[1].value_counts()\";\n",
       "                var nbb_formatted_code = \"# let's verify that there is only one unit\\ndf_new_price[1].value_counts()\";\n",
       "                var nbb_cells = Jupyter.notebook.get_cells();\n",
       "                for (var i = 0; i < nbb_cells.length; ++i) {\n",
       "                    if (nbb_cells[i].input_prompt_number == nbb_cell_id) {\n",
       "                        if (nbb_cells[i].get_text() == nbb_unformatted_code) {\n",
       "                             nbb_cells[i].set_text(nbb_formatted_code);\n",
       "                        }\n",
       "                        break;\n",
       "                    }\n",
       "                }\n",
       "            }, 500);\n",
       "            "
      ],
      "text/plain": [
       "<IPython.core.display.Javascript object>"
      ]
     },
     "metadata": {},
     "output_type": "display_data"
    }
   ],
   "source": [
    "# let's verify that there is only one unit\n",
    "df_new_price[1].value_counts()"
   ]
  },
  {
   "cell_type": "markdown",
   "metadata": {},
   "source": [
    "* There are two units - Lakh and Cr.\n",
    "* Let us convert all values to lakhs using the conversion rate 1 Cr = 100 Lakhs."
   ]
  },
  {
   "cell_type": "code",
   "execution_count": 63,
   "metadata": {},
   "outputs": [
    {
     "data": {
      "application/javascript": [
       "\n",
       "            setTimeout(function() {\n",
       "                var nbb_cell_id = 63;\n",
       "                var nbb_unformatted_code = \"# let's define a function to convert the New_Price column to float\\n\\n\\ndef new_price_to_num(new_price_val):\\n    \\\"\\\"\\\"\\n    This function takes in a string representing a new car price\\n    and converts it to a number. For example, '8.61 Lakh' becomes 8.61.\\n    If the input is already numeric, which probably means it's NaN,\\n    this function just returns np.nan.\\n    \\\"\\\"\\\"\\n    if isinstance(new_price_val, str):  # checks if `new_price_val` is a string\\n        multiplier = 1  # handles Lakh vs Cr values\\n        if new_price_val.endswith(\\\"Lakh\\\"):\\n            multiplier = 1\\n        elif new_price_val.endswith(\\\"Cr\\\"):\\n            multiplier = 100\\n        return float(new_price_val.replace(\\\" Lakh\\\", \\\"\\\").replace(\\\" Cr\\\", \\\"\\\")) * multiplier\\n    else:  # this happens when the current new_price is np.nan\\n        return np.nan\";\n",
       "                var nbb_formatted_code = \"# let's define a function to convert the New_Price column to float\\n\\n\\ndef new_price_to_num(new_price_val):\\n    \\\"\\\"\\\"\\n    This function takes in a string representing a new car price\\n    and converts it to a number. For example, '8.61 Lakh' becomes 8.61.\\n    If the input is already numeric, which probably means it's NaN,\\n    this function just returns np.nan.\\n    \\\"\\\"\\\"\\n    if isinstance(new_price_val, str):  # checks if `new_price_val` is a string\\n        multiplier = 1  # handles Lakh vs Cr values\\n        if new_price_val.endswith(\\\"Lakh\\\"):\\n            multiplier = 1\\n        elif new_price_val.endswith(\\\"Cr\\\"):\\n            multiplier = 100\\n        return float(new_price_val.replace(\\\" Lakh\\\", \\\"\\\").replace(\\\" Cr\\\", \\\"\\\")) * multiplier\\n    else:  # this happens when the current new_price is np.nan\\n        return np.nan\";\n",
       "                var nbb_cells = Jupyter.notebook.get_cells();\n",
       "                for (var i = 0; i < nbb_cells.length; ++i) {\n",
       "                    if (nbb_cells[i].input_prompt_number == nbb_cell_id) {\n",
       "                        if (nbb_cells[i].get_text() == nbb_unformatted_code) {\n",
       "                             nbb_cells[i].set_text(nbb_formatted_code);\n",
       "                        }\n",
       "                        break;\n",
       "                    }\n",
       "                }\n",
       "            }, 500);\n",
       "            "
      ],
      "text/plain": [
       "<IPython.core.display.Javascript object>"
      ]
     },
     "metadata": {},
     "output_type": "display_data"
    }
   ],
   "source": [
    "# let's define a function to convert the New_Price column to float\n",
    "\n",
    "\n",
    "def new_price_to_num(new_price_val):\n",
    "    \"\"\"\n",
    "    This function takes in a string representing a new car price\n",
    "    and converts it to a number. For example, '8.61 Lakh' becomes 8.61.\n",
    "    If the input is already numeric, which probably means it's NaN,\n",
    "    this function just returns np.nan.\n",
    "    \"\"\"\n",
    "    if isinstance(new_price_val, str):  # checks if `new_price_val` is a string\n",
    "        multiplier = 1  # handles Lakh vs Cr values\n",
    "        if new_price_val.endswith(\"Lakh\"):\n",
    "            multiplier = 1\n",
    "        elif new_price_val.endswith(\"Cr\"):\n",
    "            multiplier = 100\n",
    "        return float(new_price_val.replace(\" Lakh\", \"\").replace(\" Cr\", \"\")) * multiplier\n",
    "    else:  # this happens when the current new_price is np.nan\n",
    "        return np.nan"
   ]
  },
  {
   "cell_type": "code",
   "execution_count": 64,
   "metadata": {
    "scrolled": true
   },
   "outputs": [
    {
     "data": {
      "text/html": [
       "<div>\n",
       "<style scoped>\n",
       "    .dataframe tbody tr th:only-of-type {\n",
       "        vertical-align: middle;\n",
       "    }\n",
       "\n",
       "    .dataframe tbody tr th {\n",
       "        vertical-align: top;\n",
       "    }\n",
       "\n",
       "    .dataframe thead th {\n",
       "        text-align: right;\n",
       "    }\n",
       "</style>\n",
       "<table border=\"1\" class=\"dataframe\">\n",
       "  <thead>\n",
       "    <tr style=\"text-align: right;\">\n",
       "      <th></th>\n",
       "      <th>Name</th>\n",
       "      <th>Location</th>\n",
       "      <th>Year</th>\n",
       "      <th>Kilometers_Driven</th>\n",
       "      <th>Fuel_Type</th>\n",
       "      <th>Transmission</th>\n",
       "      <th>Owner_Type</th>\n",
       "      <th>Mileage</th>\n",
       "      <th>Engine</th>\n",
       "      <th>Power</th>\n",
       "      <th>Seats</th>\n",
       "      <th>New_Price</th>\n",
       "      <th>Price</th>\n",
       "      <th>mileage_num</th>\n",
       "      <th>mileage_unit</th>\n",
       "      <th>engine_num</th>\n",
       "      <th>power_num</th>\n",
       "      <th>new_price_num</th>\n",
       "    </tr>\n",
       "  </thead>\n",
       "  <tbody>\n",
       "    <tr>\n",
       "      <th>0</th>\n",
       "      <td>Maruti Wagon R LXI CNG</td>\n",
       "      <td>Mumbai</td>\n",
       "      <td>2010</td>\n",
       "      <td>72000</td>\n",
       "      <td>CNG</td>\n",
       "      <td>Manual</td>\n",
       "      <td>First</td>\n",
       "      <td>26.6 km/kg</td>\n",
       "      <td>998 CC</td>\n",
       "      <td>58.16 bhp</td>\n",
       "      <td>5.0</td>\n",
       "      <td>NaN</td>\n",
       "      <td>1.75</td>\n",
       "      <td>26.60</td>\n",
       "      <td>km/kg</td>\n",
       "      <td>998.0</td>\n",
       "      <td>58.16</td>\n",
       "      <td>NaN</td>\n",
       "    </tr>\n",
       "    <tr>\n",
       "      <th>1</th>\n",
       "      <td>Hyundai Creta 1.6 CRDi SX Option</td>\n",
       "      <td>Pune</td>\n",
       "      <td>2015</td>\n",
       "      <td>41000</td>\n",
       "      <td>Diesel</td>\n",
       "      <td>Manual</td>\n",
       "      <td>First</td>\n",
       "      <td>19.67 kmpl</td>\n",
       "      <td>1582 CC</td>\n",
       "      <td>126.2 bhp</td>\n",
       "      <td>5.0</td>\n",
       "      <td>NaN</td>\n",
       "      <td>12.50</td>\n",
       "      <td>19.67</td>\n",
       "      <td>kmpl</td>\n",
       "      <td>1582.0</td>\n",
       "      <td>126.20</td>\n",
       "      <td>NaN</td>\n",
       "    </tr>\n",
       "    <tr>\n",
       "      <th>2</th>\n",
       "      <td>Honda Jazz V</td>\n",
       "      <td>Chennai</td>\n",
       "      <td>2011</td>\n",
       "      <td>46000</td>\n",
       "      <td>Petrol</td>\n",
       "      <td>Manual</td>\n",
       "      <td>First</td>\n",
       "      <td>18.2 kmpl</td>\n",
       "      <td>1199 CC</td>\n",
       "      <td>88.7 bhp</td>\n",
       "      <td>5.0</td>\n",
       "      <td>8.61 Lakh</td>\n",
       "      <td>4.50</td>\n",
       "      <td>18.20</td>\n",
       "      <td>kmpl</td>\n",
       "      <td>1199.0</td>\n",
       "      <td>88.70</td>\n",
       "      <td>8.61</td>\n",
       "    </tr>\n",
       "    <tr>\n",
       "      <th>3</th>\n",
       "      <td>Maruti Ertiga VDI</td>\n",
       "      <td>Chennai</td>\n",
       "      <td>2012</td>\n",
       "      <td>87000</td>\n",
       "      <td>Diesel</td>\n",
       "      <td>Manual</td>\n",
       "      <td>First</td>\n",
       "      <td>20.77 kmpl</td>\n",
       "      <td>1248 CC</td>\n",
       "      <td>88.76 bhp</td>\n",
       "      <td>7.0</td>\n",
       "      <td>NaN</td>\n",
       "      <td>6.00</td>\n",
       "      <td>20.77</td>\n",
       "      <td>kmpl</td>\n",
       "      <td>1248.0</td>\n",
       "      <td>88.76</td>\n",
       "      <td>NaN</td>\n",
       "    </tr>\n",
       "    <tr>\n",
       "      <th>4</th>\n",
       "      <td>Audi A4 New 2.0 TDI Multitronic</td>\n",
       "      <td>Coimbatore</td>\n",
       "      <td>2013</td>\n",
       "      <td>40670</td>\n",
       "      <td>Diesel</td>\n",
       "      <td>Automatic</td>\n",
       "      <td>Second</td>\n",
       "      <td>15.2 kmpl</td>\n",
       "      <td>1968 CC</td>\n",
       "      <td>140.8 bhp</td>\n",
       "      <td>5.0</td>\n",
       "      <td>NaN</td>\n",
       "      <td>17.74</td>\n",
       "      <td>15.20</td>\n",
       "      <td>kmpl</td>\n",
       "      <td>1968.0</td>\n",
       "      <td>140.80</td>\n",
       "      <td>NaN</td>\n",
       "    </tr>\n",
       "  </tbody>\n",
       "</table>\n",
       "</div>"
      ],
      "text/plain": [
       "                               Name    Location  Year  Kilometers_Driven  \\\n",
       "0            Maruti Wagon R LXI CNG      Mumbai  2010              72000   \n",
       "1  Hyundai Creta 1.6 CRDi SX Option        Pune  2015              41000   \n",
       "2                      Honda Jazz V     Chennai  2011              46000   \n",
       "3                 Maruti Ertiga VDI     Chennai  2012              87000   \n",
       "4   Audi A4 New 2.0 TDI Multitronic  Coimbatore  2013              40670   \n",
       "\n",
       "  Fuel_Type Transmission Owner_Type     Mileage   Engine      Power  Seats  \\\n",
       "0       CNG       Manual      First  26.6 km/kg   998 CC  58.16 bhp    5.0   \n",
       "1    Diesel       Manual      First  19.67 kmpl  1582 CC  126.2 bhp    5.0   \n",
       "2    Petrol       Manual      First   18.2 kmpl  1199 CC   88.7 bhp    5.0   \n",
       "3    Diesel       Manual      First  20.77 kmpl  1248 CC  88.76 bhp    7.0   \n",
       "4    Diesel    Automatic     Second   15.2 kmpl  1968 CC  140.8 bhp    5.0   \n",
       "\n",
       "   New_Price  Price  mileage_num mileage_unit  engine_num  power_num  \\\n",
       "0        NaN   1.75        26.60        km/kg       998.0      58.16   \n",
       "1        NaN  12.50        19.67         kmpl      1582.0     126.20   \n",
       "2  8.61 Lakh   4.50        18.20         kmpl      1199.0      88.70   \n",
       "3        NaN   6.00        20.77         kmpl      1248.0      88.76   \n",
       "4        NaN  17.74        15.20         kmpl      1968.0     140.80   \n",
       "\n",
       "   new_price_num  \n",
       "0            NaN  \n",
       "1            NaN  \n",
       "2           8.61  \n",
       "3            NaN  \n",
       "4            NaN  "
      ]
     },
     "execution_count": 64,
     "metadata": {},
     "output_type": "execute_result"
    },
    {
     "data": {
      "application/javascript": [
       "\n",
       "            setTimeout(function() {\n",
       "                var nbb_cell_id = 64;\n",
       "                var nbb_unformatted_code = \"# let's apply the function to the New_Price column\\ndf[\\\"new_price_num\\\"] = df[\\\"New_Price\\\"].apply(new_price_to_num)\\n\\n# Checking the new dataframe\\ndf.head()\";\n",
       "                var nbb_formatted_code = \"# let's apply the function to the New_Price column\\ndf[\\\"new_price_num\\\"] = df[\\\"New_Price\\\"].apply(new_price_to_num)\\n\\n# Checking the new dataframe\\ndf.head()\";\n",
       "                var nbb_cells = Jupyter.notebook.get_cells();\n",
       "                for (var i = 0; i < nbb_cells.length; ++i) {\n",
       "                    if (nbb_cells[i].input_prompt_number == nbb_cell_id) {\n",
       "                        if (nbb_cells[i].get_text() == nbb_unformatted_code) {\n",
       "                             nbb_cells[i].set_text(nbb_formatted_code);\n",
       "                        }\n",
       "                        break;\n",
       "                    }\n",
       "                }\n",
       "            }, 500);\n",
       "            "
      ],
      "text/plain": [
       "<IPython.core.display.Javascript object>"
      ]
     },
     "metadata": {},
     "output_type": "display_data"
    }
   ],
   "source": [
    "# let's apply the function to the New_Price column\n",
    "df[\"new_price_num\"] = df[\"New_Price\"].apply(new_price_to_num)\n",
    "\n",
    "# Checking the new dataframe\n",
    "df.head()"
   ]
  },
  {
   "cell_type": "markdown",
   "metadata": {},
   "source": [
    "- We have extracted numerical values from the `Mileage`, `Engine`, `Power`, and `New_Price` columns."
   ]
  },
  {
   "cell_type": "markdown",
   "metadata": {},
   "source": [
    "### Feature Engineering"
   ]
  },
  {
   "cell_type": "markdown",
   "metadata": {},
   "source": [
    "- The `Name` column in the current format might not be very useful in our analysis.\n",
    "- Since the name contains both the brand name and the model name of the vehicle, the column would have too many unique values to be useful in prediction."
   ]
  },
  {
   "cell_type": "code",
   "execution_count": 65,
   "metadata": {},
   "outputs": [
    {
     "data": {
      "text/plain": [
       "2041"
      ]
     },
     "execution_count": 65,
     "metadata": {},
     "output_type": "execute_result"
    },
    {
     "data": {
      "application/javascript": [
       "\n",
       "            setTimeout(function() {\n",
       "                var nbb_cell_id = 65;\n",
       "                var nbb_unformatted_code = \"# checking number of unique values\\ndf[\\\"Name\\\"].nunique()\";\n",
       "                var nbb_formatted_code = \"# checking number of unique values\\ndf[\\\"Name\\\"].nunique()\";\n",
       "                var nbb_cells = Jupyter.notebook.get_cells();\n",
       "                for (var i = 0; i < nbb_cells.length; ++i) {\n",
       "                    if (nbb_cells[i].input_prompt_number == nbb_cell_id) {\n",
       "                        if (nbb_cells[i].get_text() == nbb_unformatted_code) {\n",
       "                             nbb_cells[i].set_text(nbb_formatted_code);\n",
       "                        }\n",
       "                        break;\n",
       "                    }\n",
       "                }\n",
       "            }, 500);\n",
       "            "
      ],
      "text/plain": [
       "<IPython.core.display.Javascript object>"
      ]
     },
     "metadata": {},
     "output_type": "display_data"
    }
   ],
   "source": [
    "# checking number of unique values\n",
    "df[\"Name\"].nunique()"
   ]
  },
  {
   "cell_type": "markdown",
   "metadata": {},
   "source": [
    "- With 2041 unique names, car names are not going to be great predictors of the price in our current data.\n",
    "\n",
    "- But we can process this column to extract important information and see if that reduces the number of levels for this information."
   ]
  },
  {
   "cell_type": "markdown",
   "metadata": {},
   "source": [
    "#### 1. Car Brand Name"
   ]
  },
  {
   "cell_type": "code",
   "execution_count": 70,
   "metadata": {
    "scrolled": true
   },
   "outputs": [
    {
     "data": {
      "text/html": [
       "<div>\n",
       "<style scoped>\n",
       "    .dataframe tbody tr th:only-of-type {\n",
       "        vertical-align: middle;\n",
       "    }\n",
       "\n",
       "    .dataframe tbody tr th {\n",
       "        vertical-align: top;\n",
       "    }\n",
       "\n",
       "    .dataframe thead th {\n",
       "        text-align: right;\n",
       "    }\n",
       "</style>\n",
       "<table border=\"1\" class=\"dataframe\">\n",
       "  <thead>\n",
       "    <tr style=\"text-align: right;\">\n",
       "      <th></th>\n",
       "      <th>Name</th>\n",
       "      <th>Location</th>\n",
       "      <th>Year</th>\n",
       "      <th>Kilometers_Driven</th>\n",
       "      <th>Fuel_Type</th>\n",
       "      <th>Transmission</th>\n",
       "      <th>Owner_Type</th>\n",
       "      <th>Mileage</th>\n",
       "      <th>Engine</th>\n",
       "      <th>Power</th>\n",
       "      <th>Seats</th>\n",
       "      <th>New_Price</th>\n",
       "      <th>Price</th>\n",
       "      <th>mileage_num</th>\n",
       "      <th>mileage_unit</th>\n",
       "      <th>engine_num</th>\n",
       "      <th>power_num</th>\n",
       "      <th>new_price_num</th>\n",
       "      <th>Brand</th>\n",
       "    </tr>\n",
       "  </thead>\n",
       "  <tbody>\n",
       "    <tr>\n",
       "      <th>0</th>\n",
       "      <td>Maruti Wagon R LXI CNG</td>\n",
       "      <td>Mumbai</td>\n",
       "      <td>2010</td>\n",
       "      <td>72000</td>\n",
       "      <td>CNG</td>\n",
       "      <td>Manual</td>\n",
       "      <td>First</td>\n",
       "      <td>26.6 km/kg</td>\n",
       "      <td>998 CC</td>\n",
       "      <td>58.16 bhp</td>\n",
       "      <td>5.0</td>\n",
       "      <td>NaN</td>\n",
       "      <td>1.75</td>\n",
       "      <td>26.60</td>\n",
       "      <td>km/kg</td>\n",
       "      <td>998.0</td>\n",
       "      <td>58.16</td>\n",
       "      <td>NaN</td>\n",
       "      <td>maruti</td>\n",
       "    </tr>\n",
       "    <tr>\n",
       "      <th>1</th>\n",
       "      <td>Hyundai Creta 1.6 CRDi SX Option</td>\n",
       "      <td>Pune</td>\n",
       "      <td>2015</td>\n",
       "      <td>41000</td>\n",
       "      <td>Diesel</td>\n",
       "      <td>Manual</td>\n",
       "      <td>First</td>\n",
       "      <td>19.67 kmpl</td>\n",
       "      <td>1582 CC</td>\n",
       "      <td>126.2 bhp</td>\n",
       "      <td>5.0</td>\n",
       "      <td>NaN</td>\n",
       "      <td>12.50</td>\n",
       "      <td>19.67</td>\n",
       "      <td>kmpl</td>\n",
       "      <td>1582.0</td>\n",
       "      <td>126.20</td>\n",
       "      <td>NaN</td>\n",
       "      <td>hyundai</td>\n",
       "    </tr>\n",
       "    <tr>\n",
       "      <th>2</th>\n",
       "      <td>Honda Jazz V</td>\n",
       "      <td>Chennai</td>\n",
       "      <td>2011</td>\n",
       "      <td>46000</td>\n",
       "      <td>Petrol</td>\n",
       "      <td>Manual</td>\n",
       "      <td>First</td>\n",
       "      <td>18.2 kmpl</td>\n",
       "      <td>1199 CC</td>\n",
       "      <td>88.7 bhp</td>\n",
       "      <td>5.0</td>\n",
       "      <td>8.61 Lakh</td>\n",
       "      <td>4.50</td>\n",
       "      <td>18.20</td>\n",
       "      <td>kmpl</td>\n",
       "      <td>1199.0</td>\n",
       "      <td>88.70</td>\n",
       "      <td>8.61</td>\n",
       "      <td>honda</td>\n",
       "    </tr>\n",
       "    <tr>\n",
       "      <th>3</th>\n",
       "      <td>Maruti Ertiga VDI</td>\n",
       "      <td>Chennai</td>\n",
       "      <td>2012</td>\n",
       "      <td>87000</td>\n",
       "      <td>Diesel</td>\n",
       "      <td>Manual</td>\n",
       "      <td>First</td>\n",
       "      <td>20.77 kmpl</td>\n",
       "      <td>1248 CC</td>\n",
       "      <td>88.76 bhp</td>\n",
       "      <td>7.0</td>\n",
       "      <td>NaN</td>\n",
       "      <td>6.00</td>\n",
       "      <td>20.77</td>\n",
       "      <td>kmpl</td>\n",
       "      <td>1248.0</td>\n",
       "      <td>88.76</td>\n",
       "      <td>NaN</td>\n",
       "      <td>maruti</td>\n",
       "    </tr>\n",
       "    <tr>\n",
       "      <th>4</th>\n",
       "      <td>Audi A4 New 2.0 TDI Multitronic</td>\n",
       "      <td>Coimbatore</td>\n",
       "      <td>2013</td>\n",
       "      <td>40670</td>\n",
       "      <td>Diesel</td>\n",
       "      <td>Automatic</td>\n",
       "      <td>Second</td>\n",
       "      <td>15.2 kmpl</td>\n",
       "      <td>1968 CC</td>\n",
       "      <td>140.8 bhp</td>\n",
       "      <td>5.0</td>\n",
       "      <td>NaN</td>\n",
       "      <td>17.74</td>\n",
       "      <td>15.20</td>\n",
       "      <td>kmpl</td>\n",
       "      <td>1968.0</td>\n",
       "      <td>140.80</td>\n",
       "      <td>NaN</td>\n",
       "      <td>audi</td>\n",
       "    </tr>\n",
       "  </tbody>\n",
       "</table>\n",
       "</div>"
      ],
      "text/plain": [
       "                               Name    Location  Year  Kilometers_Driven  \\\n",
       "0            Maruti Wagon R LXI CNG      Mumbai  2010              72000   \n",
       "1  Hyundai Creta 1.6 CRDi SX Option        Pune  2015              41000   \n",
       "2                      Honda Jazz V     Chennai  2011              46000   \n",
       "3                 Maruti Ertiga VDI     Chennai  2012              87000   \n",
       "4   Audi A4 New 2.0 TDI Multitronic  Coimbatore  2013              40670   \n",
       "\n",
       "  Fuel_Type Transmission Owner_Type     Mileage   Engine      Power  Seats  \\\n",
       "0       CNG       Manual      First  26.6 km/kg   998 CC  58.16 bhp    5.0   \n",
       "1    Diesel       Manual      First  19.67 kmpl  1582 CC  126.2 bhp    5.0   \n",
       "2    Petrol       Manual      First   18.2 kmpl  1199 CC   88.7 bhp    5.0   \n",
       "3    Diesel       Manual      First  20.77 kmpl  1248 CC  88.76 bhp    7.0   \n",
       "4    Diesel    Automatic     Second   15.2 kmpl  1968 CC  140.8 bhp    5.0   \n",
       "\n",
       "   New_Price  Price  mileage_num mileage_unit  engine_num  power_num  \\\n",
       "0        NaN   1.75        26.60        km/kg       998.0      58.16   \n",
       "1        NaN  12.50        19.67         kmpl      1582.0     126.20   \n",
       "2  8.61 Lakh   4.50        18.20         kmpl      1199.0      88.70   \n",
       "3        NaN   6.00        20.77         kmpl      1248.0      88.76   \n",
       "4        NaN  17.74        15.20         kmpl      1968.0     140.80   \n",
       "\n",
       "   new_price_num    Brand  \n",
       "0            NaN   maruti  \n",
       "1            NaN  hyundai  \n",
       "2           8.61    honda  \n",
       "3            NaN   maruti  \n",
       "4            NaN     audi  "
      ]
     },
     "execution_count": 70,
     "metadata": {},
     "output_type": "execute_result"
    },
    {
     "data": {
      "application/javascript": [
       "\n",
       "            setTimeout(function() {\n",
       "                var nbb_cell_id = 70;\n",
       "                var nbb_unformatted_code = \"# extracting brand names\\ndf[\\\"Brand\\\"] = df[\\\"Name\\\"].apply(lambda x: x.split(\\\" \\\")[0].lower())\\ndf.head()\";\n",
       "                var nbb_formatted_code = \"# extracting brand names\\ndf[\\\"Brand\\\"] = df[\\\"Name\\\"].apply(lambda x: x.split(\\\" \\\")[0].lower())\\ndf.head()\";\n",
       "                var nbb_cells = Jupyter.notebook.get_cells();\n",
       "                for (var i = 0; i < nbb_cells.length; ++i) {\n",
       "                    if (nbb_cells[i].input_prompt_number == nbb_cell_id) {\n",
       "                        if (nbb_cells[i].get_text() == nbb_unformatted_code) {\n",
       "                             nbb_cells[i].set_text(nbb_formatted_code);\n",
       "                        }\n",
       "                        break;\n",
       "                    }\n",
       "                }\n",
       "            }, 500);\n",
       "            "
      ],
      "text/plain": [
       "<IPython.core.display.Javascript object>"
      ]
     },
     "metadata": {},
     "output_type": "display_data"
    }
   ],
   "source": [
    "# extracting brand names\n",
    "df[\"Brand\"] = df[\"Name\"].apply(lambda x: x.split(\" \")[0].lower())\n",
    "df.head()"
   ]
  },
  {
   "cell_type": "code",
   "execution_count": 71,
   "metadata": {},
   "outputs": [
    {
     "data": {
      "text/plain": [
       "maruti           1444\n",
       "hyundai          1340\n",
       "honda             742\n",
       "toyota            507\n",
       "mercedes-benz     380\n",
       "volkswagen        374\n",
       "ford              351\n",
       "mahindra          331\n",
       "bmw               312\n",
       "audi              285\n",
       "tata              228\n",
       "skoda             202\n",
       "renault           170\n",
       "chevrolet         151\n",
       "nissan            117\n",
       "land               67\n",
       "jaguar             48\n",
       "fiat               38\n",
       "mitsubishi         36\n",
       "mini               31\n",
       "volvo              28\n",
       "jeep               19\n",
       "porsche            19\n",
       "datsun             17\n",
       "isuzu               5\n",
       "force               3\n",
       "bentley             2\n",
       "lamborghini         1\n",
       "opelcorsa           1\n",
       "smart               1\n",
       "ambassador          1\n",
       "hindustan           1\n",
       "Name: Brand, dtype: int64"
      ]
     },
     "execution_count": 71,
     "metadata": {},
     "output_type": "execute_result"
    },
    {
     "data": {
      "application/javascript": [
       "\n",
       "            setTimeout(function() {\n",
       "                var nbb_cell_id = 71;\n",
       "                var nbb_unformatted_code = \"# checking the unique values and their number of occurences\\ndf[\\\"Brand\\\"].value_counts()\";\n",
       "                var nbb_formatted_code = \"# checking the unique values and their number of occurences\\ndf[\\\"Brand\\\"].value_counts()\";\n",
       "                var nbb_cells = Jupyter.notebook.get_cells();\n",
       "                for (var i = 0; i < nbb_cells.length; ++i) {\n",
       "                    if (nbb_cells[i].input_prompt_number == nbb_cell_id) {\n",
       "                        if (nbb_cells[i].get_text() == nbb_unformatted_code) {\n",
       "                             nbb_cells[i].set_text(nbb_formatted_code);\n",
       "                        }\n",
       "                        break;\n",
       "                    }\n",
       "                }\n",
       "            }, 500);\n",
       "            "
      ],
      "text/plain": [
       "<IPython.core.display.Javascript object>"
      ]
     },
     "metadata": {},
     "output_type": "display_data"
    }
   ],
   "source": [
    "# checking the unique values and their number of occurences\n",
    "df[\"Brand\"].value_counts()"
   ]
  },
  {
   "cell_type": "markdown",
   "metadata": {},
   "source": [
    "- There are 32 brands of cars in the data."
   ]
  },
  {
   "cell_type": "markdown",
   "metadata": {},
   "source": [
    "#### 2. Car Model Name"
   ]
  },
  {
   "cell_type": "code",
   "execution_count": null,
   "metadata": {
    "scrolled": true
   },
   "outputs": [],
   "source": [
    "# extracting model names\n",
    "df[\"Model\"] = df[\"Name\"].apply(lambda x: x.split(\" \")[1].lower())\n",
    "df.head()"
   ]
  },
  {
   "cell_type": "code",
   "execution_count": null,
   "metadata": {},
   "outputs": [],
   "source": [
    "# checking the unique values and their number of occurences\n",
    "df[\"Model\"].value_counts()"
   ]
  },
  {
   "cell_type": "markdown",
   "metadata": {},
   "source": [
    "- There are 218 different car models in the data."
   ]
  },
  {
   "cell_type": "markdown",
   "metadata": {},
   "source": [
    "**Before we start exploring the data further, let's quickly check the missing values in the data.**"
   ]
  },
  {
   "cell_type": "code",
   "execution_count": null,
   "metadata": {},
   "outputs": [],
   "source": [
    "df.isnull().sum()"
   ]
  },
  {
   "cell_type": "markdown",
   "metadata": {},
   "source": [
    "**Observations**\n",
    "\n",
    "* 2 cars don't have entries for Mileage.\n",
    "\n",
    "* Engine displacement information of 46 observations is missing, the maximum power of 175 entries is missing, and information about the number of seats is not available for 53 entries.\n",
    "\n",
    "* The new price is missing for 6247 cars in the dataset. We'll have to see if there is a pattern here to determine if we can impute these or if we should drop this column altogether.\n",
    "\n",
    "* Price is also missing for 1234 entries. Since price is the response variable that we want to predict, we will have to drop these rows when we actually build a model.\n",
    "    - These rows will not be able to help us in modeling or model evaluation. But while we are analyzing the distributions and doing missing value imputations, we will keep using information from these rows."
   ]
  },
  {
   "cell_type": "code",
   "execution_count": null,
   "metadata": {},
   "outputs": [],
   "source": [
    "# dropping the redundant columns.\n",
    "df.drop(columns=[\"Mileage\", \"Engine\", \"Power\", \"New_Price\"], inplace=True)"
   ]
  },
  {
   "cell_type": "markdown",
   "metadata": {},
   "source": [
    "## Exploratory Data Analysis"
   ]
  },
  {
   "cell_type": "markdown",
   "metadata": {},
   "source": [
    "**Let's check the statistical summary of the numerical variables.**"
   ]
  },
  {
   "cell_type": "code",
   "execution_count": 67,
   "metadata": {},
   "outputs": [
    {
     "data": {
      "text/html": [
       "<div>\n",
       "<style scoped>\n",
       "    .dataframe tbody tr th:only-of-type {\n",
       "        vertical-align: middle;\n",
       "    }\n",
       "\n",
       "    .dataframe tbody tr th {\n",
       "        vertical-align: top;\n",
       "    }\n",
       "\n",
       "    .dataframe thead th {\n",
       "        text-align: right;\n",
       "    }\n",
       "</style>\n",
       "<table border=\"1\" class=\"dataframe\">\n",
       "  <thead>\n",
       "    <tr style=\"text-align: right;\">\n",
       "      <th></th>\n",
       "      <th>count</th>\n",
       "      <th>mean</th>\n",
       "      <th>std</th>\n",
       "      <th>min</th>\n",
       "      <th>25%</th>\n",
       "      <th>50%</th>\n",
       "      <th>75%</th>\n",
       "      <th>max</th>\n",
       "    </tr>\n",
       "  </thead>\n",
       "  <tbody>\n",
       "    <tr>\n",
       "      <th>Year</th>\n",
       "      <td>7252.0</td>\n",
       "      <td>2013.365830</td>\n",
       "      <td>3.254405</td>\n",
       "      <td>1996.00</td>\n",
       "      <td>2011.000</td>\n",
       "      <td>2014.00</td>\n",
       "      <td>2016.0000</td>\n",
       "      <td>2019.00</td>\n",
       "    </tr>\n",
       "    <tr>\n",
       "      <th>Kilometers_Driven</th>\n",
       "      <td>7252.0</td>\n",
       "      <td>58699.986900</td>\n",
       "      <td>84433.505524</td>\n",
       "      <td>171.00</td>\n",
       "      <td>34000.000</td>\n",
       "      <td>53429.00</td>\n",
       "      <td>73000.0000</td>\n",
       "      <td>6500000.00</td>\n",
       "    </tr>\n",
       "    <tr>\n",
       "      <th>Seats</th>\n",
       "      <td>7199.0</td>\n",
       "      <td>5.279761</td>\n",
       "      <td>0.811709</td>\n",
       "      <td>0.00</td>\n",
       "      <td>5.000</td>\n",
       "      <td>5.00</td>\n",
       "      <td>5.0000</td>\n",
       "      <td>10.00</td>\n",
       "    </tr>\n",
       "    <tr>\n",
       "      <th>Price</th>\n",
       "      <td>6019.0</td>\n",
       "      <td>9.479468</td>\n",
       "      <td>11.187917</td>\n",
       "      <td>0.44</td>\n",
       "      <td>3.500</td>\n",
       "      <td>5.64</td>\n",
       "      <td>9.9500</td>\n",
       "      <td>160.00</td>\n",
       "    </tr>\n",
       "    <tr>\n",
       "      <th>mileage_num</th>\n",
       "      <td>7250.0</td>\n",
       "      <td>18.141738</td>\n",
       "      <td>4.562492</td>\n",
       "      <td>0.00</td>\n",
       "      <td>15.170</td>\n",
       "      <td>18.16</td>\n",
       "      <td>21.1000</td>\n",
       "      <td>33.54</td>\n",
       "    </tr>\n",
       "    <tr>\n",
       "      <th>engine_num</th>\n",
       "      <td>7206.0</td>\n",
       "      <td>1616.590064</td>\n",
       "      <td>595.324779</td>\n",
       "      <td>72.00</td>\n",
       "      <td>1198.000</td>\n",
       "      <td>1493.00</td>\n",
       "      <td>1968.0000</td>\n",
       "      <td>5998.00</td>\n",
       "    </tr>\n",
       "    <tr>\n",
       "      <th>power_num</th>\n",
       "      <td>7077.0</td>\n",
       "      <td>112.764474</td>\n",
       "      <td>53.497297</td>\n",
       "      <td>34.20</td>\n",
       "      <td>75.000</td>\n",
       "      <td>94.00</td>\n",
       "      <td>138.1000</td>\n",
       "      <td>616.00</td>\n",
       "    </tr>\n",
       "    <tr>\n",
       "      <th>new_price_num</th>\n",
       "      <td>1006.0</td>\n",
       "      <td>22.779692</td>\n",
       "      <td>27.759344</td>\n",
       "      <td>3.91</td>\n",
       "      <td>7.885</td>\n",
       "      <td>11.57</td>\n",
       "      <td>26.0425</td>\n",
       "      <td>375.00</td>\n",
       "    </tr>\n",
       "  </tbody>\n",
       "</table>\n",
       "</div>"
      ],
      "text/plain": [
       "                    count          mean           std      min        25%  \\\n",
       "Year               7252.0   2013.365830      3.254405  1996.00   2011.000   \n",
       "Kilometers_Driven  7252.0  58699.986900  84433.505524   171.00  34000.000   \n",
       "Seats              7199.0      5.279761      0.811709     0.00      5.000   \n",
       "Price              6019.0      9.479468     11.187917     0.44      3.500   \n",
       "mileage_num        7250.0     18.141738      4.562492     0.00     15.170   \n",
       "engine_num         7206.0   1616.590064    595.324779    72.00   1198.000   \n",
       "power_num          7077.0    112.764474     53.497297    34.20     75.000   \n",
       "new_price_num      1006.0     22.779692     27.759344     3.91      7.885   \n",
       "\n",
       "                        50%         75%         max  \n",
       "Year                2014.00   2016.0000     2019.00  \n",
       "Kilometers_Driven  53429.00  73000.0000  6500000.00  \n",
       "Seats                  5.00      5.0000       10.00  \n",
       "Price                  5.64      9.9500      160.00  \n",
       "mileage_num           18.16     21.1000       33.54  \n",
       "engine_num          1493.00   1968.0000     5998.00  \n",
       "power_num             94.00    138.1000      616.00  \n",
       "new_price_num         11.57     26.0425      375.00  "
      ]
     },
     "execution_count": 67,
     "metadata": {},
     "output_type": "execute_result"
    },
    {
     "data": {
      "application/javascript": [
       "\n",
       "            setTimeout(function() {\n",
       "                var nbb_cell_id = 67;\n",
       "                var nbb_unformatted_code = \"df.describe().T\";\n",
       "                var nbb_formatted_code = \"df.describe().T\";\n",
       "                var nbb_cells = Jupyter.notebook.get_cells();\n",
       "                for (var i = 0; i < nbb_cells.length; ++i) {\n",
       "                    if (nbb_cells[i].input_prompt_number == nbb_cell_id) {\n",
       "                        if (nbb_cells[i].get_text() == nbb_unformatted_code) {\n",
       "                             nbb_cells[i].set_text(nbb_formatted_code);\n",
       "                        }\n",
       "                        break;\n",
       "                    }\n",
       "                }\n",
       "            }, 500);\n",
       "            "
      ],
      "text/plain": [
       "<IPython.core.display.Javascript object>"
      ]
     },
     "metadata": {},
     "output_type": "display_data"
    }
   ],
   "source": [
    "df.describe().T"
   ]
  },
  {
   "cell_type": "markdown",
   "metadata": {},
   "source": [
    "**Observations**\n",
    "\n",
    "1. `Kilometers_Driven` values have an incredibly high range. We should check a few of the extreme values to get a sense of the data.\n",
    "\n",
    "2. The minimum and the maximum number of seats in the car also warrant a quick check. On average, a car seems to have 5 seats, which is about right.\n",
    "\n",
    "3. We have used cars being sold at less than a lakh INR and as high as 160 lakh INR, as we saw for the Lamborghini earlier. We might have to check for outliers to build a robust model.\n",
    "\n",
    "4. The minimum mileage being 0 is also concerning. We'll have to check what is going on.\n",
    "\n",
    "5. Engine and Power mean and median values are not very different. Only someone with more domain knowledge would be able to comment further on these attributes.\n",
    "\n",
    "6. The new price range seems right. We have both budget-friendly Maruti cars and Lamborghinis in our stock. Mean being twice that of the median suggests that there are only a few very high range brands, which again makes sense."
   ]
  },
  {
   "cell_type": "code",
   "execution_count": 68,
   "metadata": {},
   "outputs": [
    {
     "data": {
      "text/html": [
       "<div>\n",
       "<style scoped>\n",
       "    .dataframe tbody tr th:only-of-type {\n",
       "        vertical-align: middle;\n",
       "    }\n",
       "\n",
       "    .dataframe tbody tr th {\n",
       "        vertical-align: top;\n",
       "    }\n",
       "\n",
       "    .dataframe thead th {\n",
       "        text-align: right;\n",
       "    }\n",
       "</style>\n",
       "<table border=\"1\" class=\"dataframe\">\n",
       "  <thead>\n",
       "    <tr style=\"text-align: right;\">\n",
       "      <th></th>\n",
       "      <th>Name</th>\n",
       "      <th>Location</th>\n",
       "      <th>Year</th>\n",
       "      <th>Kilometers_Driven</th>\n",
       "      <th>Fuel_Type</th>\n",
       "      <th>Transmission</th>\n",
       "      <th>Owner_Type</th>\n",
       "      <th>Mileage</th>\n",
       "      <th>Engine</th>\n",
       "      <th>Power</th>\n",
       "      <th>Seats</th>\n",
       "      <th>New_Price</th>\n",
       "      <th>Price</th>\n",
       "      <th>mileage_num</th>\n",
       "      <th>mileage_unit</th>\n",
       "      <th>engine_num</th>\n",
       "      <th>power_num</th>\n",
       "      <th>new_price_num</th>\n",
       "    </tr>\n",
       "  </thead>\n",
       "  <tbody>\n",
       "    <tr>\n",
       "      <th>2328</th>\n",
       "      <td>BMW X5 xDrive 30d M Sport</td>\n",
       "      <td>Chennai</td>\n",
       "      <td>2017</td>\n",
       "      <td>6500000</td>\n",
       "      <td>Diesel</td>\n",
       "      <td>Automatic</td>\n",
       "      <td>First</td>\n",
       "      <td>15.97 kmpl</td>\n",
       "      <td>2993 CC</td>\n",
       "      <td>258 bhp</td>\n",
       "      <td>5.0</td>\n",
       "      <td>NaN</td>\n",
       "      <td>65.00</td>\n",
       "      <td>15.97</td>\n",
       "      <td>kmpl</td>\n",
       "      <td>2993.0</td>\n",
       "      <td>258.00</td>\n",
       "      <td>NaN</td>\n",
       "    </tr>\n",
       "    <tr>\n",
       "      <th>340</th>\n",
       "      <td>Skoda Octavia Ambition Plus 2.0 TDI AT</td>\n",
       "      <td>Kolkata</td>\n",
       "      <td>2013</td>\n",
       "      <td>775000</td>\n",
       "      <td>Diesel</td>\n",
       "      <td>Automatic</td>\n",
       "      <td>First</td>\n",
       "      <td>19.3 kmpl</td>\n",
       "      <td>1968 CC</td>\n",
       "      <td>141 bhp</td>\n",
       "      <td>5.0</td>\n",
       "      <td>NaN</td>\n",
       "      <td>7.50</td>\n",
       "      <td>19.30</td>\n",
       "      <td>kmpl</td>\n",
       "      <td>1968.0</td>\n",
       "      <td>141.00</td>\n",
       "      <td>NaN</td>\n",
       "    </tr>\n",
       "    <tr>\n",
       "      <th>1860</th>\n",
       "      <td>Volkswagen Vento Diesel Highline</td>\n",
       "      <td>Chennai</td>\n",
       "      <td>2013</td>\n",
       "      <td>720000</td>\n",
       "      <td>Diesel</td>\n",
       "      <td>Manual</td>\n",
       "      <td>First</td>\n",
       "      <td>20.54 kmpl</td>\n",
       "      <td>1598 CC</td>\n",
       "      <td>103.6 bhp</td>\n",
       "      <td>5.0</td>\n",
       "      <td>NaN</td>\n",
       "      <td>5.90</td>\n",
       "      <td>20.54</td>\n",
       "      <td>kmpl</td>\n",
       "      <td>1598.0</td>\n",
       "      <td>103.60</td>\n",
       "      <td>NaN</td>\n",
       "    </tr>\n",
       "    <tr>\n",
       "      <th>358</th>\n",
       "      <td>Hyundai i10 Magna 1.2</td>\n",
       "      <td>Chennai</td>\n",
       "      <td>2009</td>\n",
       "      <td>620000</td>\n",
       "      <td>Petrol</td>\n",
       "      <td>Manual</td>\n",
       "      <td>First</td>\n",
       "      <td>20.36 kmpl</td>\n",
       "      <td>1197 CC</td>\n",
       "      <td>78.9 bhp</td>\n",
       "      <td>5.0</td>\n",
       "      <td>NaN</td>\n",
       "      <td>2.70</td>\n",
       "      <td>20.36</td>\n",
       "      <td>kmpl</td>\n",
       "      <td>1197.0</td>\n",
       "      <td>78.90</td>\n",
       "      <td>NaN</td>\n",
       "    </tr>\n",
       "    <tr>\n",
       "      <th>2823</th>\n",
       "      <td>Volkswagen Jetta 2013-2015 2.0L TDI Highline AT</td>\n",
       "      <td>Chennai</td>\n",
       "      <td>2015</td>\n",
       "      <td>480000</td>\n",
       "      <td>Diesel</td>\n",
       "      <td>Automatic</td>\n",
       "      <td>First</td>\n",
       "      <td>16.96 kmpl</td>\n",
       "      <td>1968 CC</td>\n",
       "      <td>138.03 bhp</td>\n",
       "      <td>5.0</td>\n",
       "      <td>NaN</td>\n",
       "      <td>13.00</td>\n",
       "      <td>16.96</td>\n",
       "      <td>kmpl</td>\n",
       "      <td>1968.0</td>\n",
       "      <td>138.03</td>\n",
       "      <td>NaN</td>\n",
       "    </tr>\n",
       "    <tr>\n",
       "      <th>3092</th>\n",
       "      <td>Honda City i VTEC SV</td>\n",
       "      <td>Kolkata</td>\n",
       "      <td>2015</td>\n",
       "      <td>480000</td>\n",
       "      <td>Petrol</td>\n",
       "      <td>Manual</td>\n",
       "      <td>First</td>\n",
       "      <td>17.4 kmpl</td>\n",
       "      <td>1497 CC</td>\n",
       "      <td>117.3 bhp</td>\n",
       "      <td>5.0</td>\n",
       "      <td>NaN</td>\n",
       "      <td>5.00</td>\n",
       "      <td>17.40</td>\n",
       "      <td>kmpl</td>\n",
       "      <td>1497.0</td>\n",
       "      <td>117.30</td>\n",
       "      <td>NaN</td>\n",
       "    </tr>\n",
       "    <tr>\n",
       "      <th>4491</th>\n",
       "      <td>Hyundai i20 Magna Optional 1.2</td>\n",
       "      <td>Bangalore</td>\n",
       "      <td>2013</td>\n",
       "      <td>445000</td>\n",
       "      <td>Petrol</td>\n",
       "      <td>Manual</td>\n",
       "      <td>First</td>\n",
       "      <td>18.5 kmpl</td>\n",
       "      <td>1197 CC</td>\n",
       "      <td>82.9 bhp</td>\n",
       "      <td>5.0</td>\n",
       "      <td>NaN</td>\n",
       "      <td>4.45</td>\n",
       "      <td>18.50</td>\n",
       "      <td>kmpl</td>\n",
       "      <td>1197.0</td>\n",
       "      <td>82.90</td>\n",
       "      <td>NaN</td>\n",
       "    </tr>\n",
       "    <tr>\n",
       "      <th>6921</th>\n",
       "      <td>Maruti Swift Dzire Tour LDI</td>\n",
       "      <td>Jaipur</td>\n",
       "      <td>2012</td>\n",
       "      <td>350000</td>\n",
       "      <td>Diesel</td>\n",
       "      <td>Manual</td>\n",
       "      <td>First</td>\n",
       "      <td>23.4 kmpl</td>\n",
       "      <td>1248 CC</td>\n",
       "      <td>74 bhp</td>\n",
       "      <td>5.0</td>\n",
       "      <td>NaN</td>\n",
       "      <td>NaN</td>\n",
       "      <td>23.40</td>\n",
       "      <td>kmpl</td>\n",
       "      <td>1248.0</td>\n",
       "      <td>74.00</td>\n",
       "      <td>NaN</td>\n",
       "    </tr>\n",
       "    <tr>\n",
       "      <th>3649</th>\n",
       "      <td>Tata Indigo LS</td>\n",
       "      <td>Jaipur</td>\n",
       "      <td>2008</td>\n",
       "      <td>300000</td>\n",
       "      <td>Diesel</td>\n",
       "      <td>Manual</td>\n",
       "      <td>First</td>\n",
       "      <td>17.0 kmpl</td>\n",
       "      <td>1405 CC</td>\n",
       "      <td>70 bhp</td>\n",
       "      <td>5.0</td>\n",
       "      <td>NaN</td>\n",
       "      <td>1.00</td>\n",
       "      <td>17.00</td>\n",
       "      <td>kmpl</td>\n",
       "      <td>1405.0</td>\n",
       "      <td>70.00</td>\n",
       "      <td>NaN</td>\n",
       "    </tr>\n",
       "    <tr>\n",
       "      <th>1528</th>\n",
       "      <td>Toyota Innova 2.5 G (Diesel) 8 Seater BS IV</td>\n",
       "      <td>Hyderabad</td>\n",
       "      <td>2005</td>\n",
       "      <td>299322</td>\n",
       "      <td>Diesel</td>\n",
       "      <td>Manual</td>\n",
       "      <td>First</td>\n",
       "      <td>12.8 kmpl</td>\n",
       "      <td>2494 CC</td>\n",
       "      <td>102 bhp</td>\n",
       "      <td>8.0</td>\n",
       "      <td>NaN</td>\n",
       "      <td>4.00</td>\n",
       "      <td>12.80</td>\n",
       "      <td>kmpl</td>\n",
       "      <td>2494.0</td>\n",
       "      <td>102.00</td>\n",
       "      <td>NaN</td>\n",
       "    </tr>\n",
       "  </tbody>\n",
       "</table>\n",
       "</div>"
      ],
      "text/plain": [
       "                                                 Name   Location  Year  \\\n",
       "2328                        BMW X5 xDrive 30d M Sport    Chennai  2017   \n",
       "340            Skoda Octavia Ambition Plus 2.0 TDI AT    Kolkata  2013   \n",
       "1860                 Volkswagen Vento Diesel Highline    Chennai  2013   \n",
       "358                             Hyundai i10 Magna 1.2    Chennai  2009   \n",
       "2823  Volkswagen Jetta 2013-2015 2.0L TDI Highline AT    Chennai  2015   \n",
       "3092                             Honda City i VTEC SV    Kolkata  2015   \n",
       "4491                   Hyundai i20 Magna Optional 1.2  Bangalore  2013   \n",
       "6921                      Maruti Swift Dzire Tour LDI     Jaipur  2012   \n",
       "3649                                   Tata Indigo LS     Jaipur  2008   \n",
       "1528      Toyota Innova 2.5 G (Diesel) 8 Seater BS IV  Hyderabad  2005   \n",
       "\n",
       "      Kilometers_Driven Fuel_Type Transmission Owner_Type     Mileage  \\\n",
       "2328            6500000    Diesel    Automatic      First  15.97 kmpl   \n",
       "340              775000    Diesel    Automatic      First   19.3 kmpl   \n",
       "1860             720000    Diesel       Manual      First  20.54 kmpl   \n",
       "358              620000    Petrol       Manual      First  20.36 kmpl   \n",
       "2823             480000    Diesel    Automatic      First  16.96 kmpl   \n",
       "3092             480000    Petrol       Manual      First   17.4 kmpl   \n",
       "4491             445000    Petrol       Manual      First   18.5 kmpl   \n",
       "6921             350000    Diesel       Manual      First   23.4 kmpl   \n",
       "3649             300000    Diesel       Manual      First   17.0 kmpl   \n",
       "1528             299322    Diesel       Manual      First   12.8 kmpl   \n",
       "\n",
       "       Engine       Power  Seats New_Price  Price  mileage_num mileage_unit  \\\n",
       "2328  2993 CC     258 bhp    5.0       NaN  65.00        15.97         kmpl   \n",
       "340   1968 CC     141 bhp    5.0       NaN   7.50        19.30         kmpl   \n",
       "1860  1598 CC   103.6 bhp    5.0       NaN   5.90        20.54         kmpl   \n",
       "358   1197 CC    78.9 bhp    5.0       NaN   2.70        20.36         kmpl   \n",
       "2823  1968 CC  138.03 bhp    5.0       NaN  13.00        16.96         kmpl   \n",
       "3092  1497 CC   117.3 bhp    5.0       NaN   5.00        17.40         kmpl   \n",
       "4491  1197 CC    82.9 bhp    5.0       NaN   4.45        18.50         kmpl   \n",
       "6921  1248 CC      74 bhp    5.0       NaN    NaN        23.40         kmpl   \n",
       "3649  1405 CC      70 bhp    5.0       NaN   1.00        17.00         kmpl   \n",
       "1528  2494 CC     102 bhp    8.0       NaN   4.00        12.80         kmpl   \n",
       "\n",
       "      engine_num  power_num  new_price_num  \n",
       "2328      2993.0     258.00            NaN  \n",
       "340       1968.0     141.00            NaN  \n",
       "1860      1598.0     103.60            NaN  \n",
       "358       1197.0      78.90            NaN  \n",
       "2823      1968.0     138.03            NaN  \n",
       "3092      1497.0     117.30            NaN  \n",
       "4491      1197.0      82.90            NaN  \n",
       "6921      1248.0      74.00            NaN  \n",
       "3649      1405.0      70.00            NaN  \n",
       "1528      2494.0     102.00            NaN  "
      ]
     },
     "execution_count": 68,
     "metadata": {},
     "output_type": "execute_result"
    },
    {
     "data": {
      "application/javascript": [
       "\n",
       "            setTimeout(function() {\n",
       "                var nbb_cell_id = 68;\n",
       "                var nbb_unformatted_code = \"# checking extreme values in Kilometers_Driven\\ndf.sort_values(by=[\\\"Kilometers_Driven\\\"], ascending=False).head(10)\";\n",
       "                var nbb_formatted_code = \"# checking extreme values in Kilometers_Driven\\ndf.sort_values(by=[\\\"Kilometers_Driven\\\"], ascending=False).head(10)\";\n",
       "                var nbb_cells = Jupyter.notebook.get_cells();\n",
       "                for (var i = 0; i < nbb_cells.length; ++i) {\n",
       "                    if (nbb_cells[i].input_prompt_number == nbb_cell_id) {\n",
       "                        if (nbb_cells[i].get_text() == nbb_unformatted_code) {\n",
       "                             nbb_cells[i].set_text(nbb_formatted_code);\n",
       "                        }\n",
       "                        break;\n",
       "                    }\n",
       "                }\n",
       "            }, 500);\n",
       "            "
      ],
      "text/plain": [
       "<IPython.core.display.Javascript object>"
      ]
     },
     "metadata": {},
     "output_type": "display_data"
    }
   ],
   "source": [
    "# checking extreme values in Kilometers_Driven\n",
    "df.sort_values(by=[\"Kilometers_Driven\"], ascending=False).head(10)"
   ]
  },
  {
   "cell_type": "markdown",
   "metadata": {},
   "source": [
    "**Observations**\n",
    "\n",
    "* It looks like the first row here is a data entry error. A car manufactured as recently as 2017 having been driven 65,00,000 km is almost impossible.\n",
    "\n",
    "* The other observations that follow are also on a higher end. There is a good chance that these are outliers. We'll look at this further while doing the univariate analysis."
   ]
  },
  {
   "cell_type": "code",
   "execution_count": 69,
   "metadata": {},
   "outputs": [
    {
     "data": {
      "text/html": [
       "<div>\n",
       "<style scoped>\n",
       "    .dataframe tbody tr th:only-of-type {\n",
       "        vertical-align: middle;\n",
       "    }\n",
       "\n",
       "    .dataframe tbody tr th {\n",
       "        vertical-align: top;\n",
       "    }\n",
       "\n",
       "    .dataframe thead th {\n",
       "        text-align: right;\n",
       "    }\n",
       "</style>\n",
       "<table border=\"1\" class=\"dataframe\">\n",
       "  <thead>\n",
       "    <tr style=\"text-align: right;\">\n",
       "      <th></th>\n",
       "      <th>Name</th>\n",
       "      <th>Location</th>\n",
       "      <th>Year</th>\n",
       "      <th>Kilometers_Driven</th>\n",
       "      <th>Fuel_Type</th>\n",
       "      <th>Transmission</th>\n",
       "      <th>Owner_Type</th>\n",
       "      <th>Mileage</th>\n",
       "      <th>Engine</th>\n",
       "      <th>Power</th>\n",
       "      <th>Seats</th>\n",
       "      <th>New_Price</th>\n",
       "      <th>Price</th>\n",
       "      <th>mileage_num</th>\n",
       "      <th>mileage_unit</th>\n",
       "      <th>engine_num</th>\n",
       "      <th>power_num</th>\n",
       "      <th>new_price_num</th>\n",
       "    </tr>\n",
       "  </thead>\n",
       "  <tbody>\n",
       "    <tr>\n",
       "      <th>1361</th>\n",
       "      <td>Maruti Alto 800 2016-2019 VXI</td>\n",
       "      <td>Mumbai</td>\n",
       "      <td>2019</td>\n",
       "      <td>171</td>\n",
       "      <td>Petrol</td>\n",
       "      <td>Manual</td>\n",
       "      <td>First</td>\n",
       "      <td>24.7 kmpl</td>\n",
       "      <td>796 CC</td>\n",
       "      <td>47.3 bhp</td>\n",
       "      <td>5.0</td>\n",
       "      <td>NaN</td>\n",
       "      <td>3.60</td>\n",
       "      <td>24.70</td>\n",
       "      <td>kmpl</td>\n",
       "      <td>796.0</td>\n",
       "      <td>47.30</td>\n",
       "      <td>NaN</td>\n",
       "    </tr>\n",
       "    <tr>\n",
       "      <th>5606</th>\n",
       "      <td>Maruti Wagon R ZXI AMT 1.2</td>\n",
       "      <td>Mumbai</td>\n",
       "      <td>2019</td>\n",
       "      <td>600</td>\n",
       "      <td>Petrol</td>\n",
       "      <td>Automatic</td>\n",
       "      <td>First</td>\n",
       "      <td>21.5 kmpl</td>\n",
       "      <td>1197 CC</td>\n",
       "      <td>81.80 bhp</td>\n",
       "      <td>5.0</td>\n",
       "      <td>6.8 Lakh</td>\n",
       "      <td>6.25</td>\n",
       "      <td>21.50</td>\n",
       "      <td>kmpl</td>\n",
       "      <td>1197.0</td>\n",
       "      <td>81.80</td>\n",
       "      <td>6.80</td>\n",
       "    </tr>\n",
       "    <tr>\n",
       "      <th>2054</th>\n",
       "      <td>Maruti Ignis 1.2 Alpha</td>\n",
       "      <td>Mumbai</td>\n",
       "      <td>2017</td>\n",
       "      <td>1000</td>\n",
       "      <td>Petrol</td>\n",
       "      <td>Manual</td>\n",
       "      <td>First</td>\n",
       "      <td>20.89 kmpl</td>\n",
       "      <td>1197 CC</td>\n",
       "      <td>81.80 bhp</td>\n",
       "      <td>5.0</td>\n",
       "      <td>7.87 Lakh</td>\n",
       "      <td>6.36</td>\n",
       "      <td>20.89</td>\n",
       "      <td>kmpl</td>\n",
       "      <td>1197.0</td>\n",
       "      <td>81.80</td>\n",
       "      <td>7.87</td>\n",
       "    </tr>\n",
       "    <tr>\n",
       "      <th>6201</th>\n",
       "      <td>Maruti Alto LXI</td>\n",
       "      <td>Kolkata</td>\n",
       "      <td>2019</td>\n",
       "      <td>1000</td>\n",
       "      <td>Petrol</td>\n",
       "      <td>Manual</td>\n",
       "      <td>First</td>\n",
       "      <td>24.7 kmpl</td>\n",
       "      <td>796 CC</td>\n",
       "      <td>47.3 bhp</td>\n",
       "      <td>5.0</td>\n",
       "      <td>3.99 Lakh</td>\n",
       "      <td>NaN</td>\n",
       "      <td>24.70</td>\n",
       "      <td>kmpl</td>\n",
       "      <td>796.0</td>\n",
       "      <td>47.30</td>\n",
       "      <td>3.99</td>\n",
       "    </tr>\n",
       "    <tr>\n",
       "      <th>1598</th>\n",
       "      <td>Tata Xenon XT EX 4X2</td>\n",
       "      <td>Jaipur</td>\n",
       "      <td>2017</td>\n",
       "      <td>1000</td>\n",
       "      <td>Diesel</td>\n",
       "      <td>Manual</td>\n",
       "      <td>First</td>\n",
       "      <td>13.49 kmpl</td>\n",
       "      <td>2179 CC</td>\n",
       "      <td>138.03 bhp</td>\n",
       "      <td>5.0</td>\n",
       "      <td>NaN</td>\n",
       "      <td>7.50</td>\n",
       "      <td>13.49</td>\n",
       "      <td>kmpl</td>\n",
       "      <td>2179.0</td>\n",
       "      <td>138.03</td>\n",
       "      <td>NaN</td>\n",
       "    </tr>\n",
       "    <tr>\n",
       "      <th>173</th>\n",
       "      <td>Hyundai Grand i10 1.2 Kappa Asta</td>\n",
       "      <td>Kolkata</td>\n",
       "      <td>2019</td>\n",
       "      <td>1000</td>\n",
       "      <td>Petrol</td>\n",
       "      <td>Manual</td>\n",
       "      <td>First</td>\n",
       "      <td>18.9 kmpl</td>\n",
       "      <td>1197 CC</td>\n",
       "      <td>81.86 bhp</td>\n",
       "      <td>5.0</td>\n",
       "      <td>7.39 Lakh</td>\n",
       "      <td>6.50</td>\n",
       "      <td>18.90</td>\n",
       "      <td>kmpl</td>\n",
       "      <td>1197.0</td>\n",
       "      <td>81.86</td>\n",
       "      <td>7.39</td>\n",
       "    </tr>\n",
       "    <tr>\n",
       "      <th>1198</th>\n",
       "      <td>Volkswagen Polo 1.0 MPI Trendline</td>\n",
       "      <td>Hyderabad</td>\n",
       "      <td>2019</td>\n",
       "      <td>1000</td>\n",
       "      <td>Petrol</td>\n",
       "      <td>Manual</td>\n",
       "      <td>First</td>\n",
       "      <td>18.78 kmpl</td>\n",
       "      <td>999 CC</td>\n",
       "      <td>75 bhp</td>\n",
       "      <td>5.0</td>\n",
       "      <td>6.74 Lakh</td>\n",
       "      <td>5.68</td>\n",
       "      <td>18.78</td>\n",
       "      <td>kmpl</td>\n",
       "      <td>999.0</td>\n",
       "      <td>75.00</td>\n",
       "      <td>6.74</td>\n",
       "    </tr>\n",
       "    <tr>\n",
       "      <th>5941</th>\n",
       "      <td>Renault KWID RXL</td>\n",
       "      <td>Pune</td>\n",
       "      <td>2018</td>\n",
       "      <td>1000</td>\n",
       "      <td>Petrol</td>\n",
       "      <td>Manual</td>\n",
       "      <td>First</td>\n",
       "      <td>25.17 kmpl</td>\n",
       "      <td>799 CC</td>\n",
       "      <td>53.3 bhp</td>\n",
       "      <td>5.0</td>\n",
       "      <td>4.45 Lakh</td>\n",
       "      <td>3.40</td>\n",
       "      <td>25.17</td>\n",
       "      <td>kmpl</td>\n",
       "      <td>799.0</td>\n",
       "      <td>53.30</td>\n",
       "      <td>4.45</td>\n",
       "    </tr>\n",
       "    <tr>\n",
       "      <th>1242</th>\n",
       "      <td>Jaguar XE 2.0L Diesel Prestige</td>\n",
       "      <td>Delhi</td>\n",
       "      <td>2018</td>\n",
       "      <td>1000</td>\n",
       "      <td>Diesel</td>\n",
       "      <td>Automatic</td>\n",
       "      <td>First</td>\n",
       "      <td>13.6 kmpl</td>\n",
       "      <td>1999 CC</td>\n",
       "      <td>177 bhp</td>\n",
       "      <td>5.0</td>\n",
       "      <td>52.77 Lakh</td>\n",
       "      <td>40.00</td>\n",
       "      <td>13.60</td>\n",
       "      <td>kmpl</td>\n",
       "      <td>1999.0</td>\n",
       "      <td>177.00</td>\n",
       "      <td>52.77</td>\n",
       "    </tr>\n",
       "    <tr>\n",
       "      <th>2646</th>\n",
       "      <td>Ford Figo 2015-2019 1.2P Sports Edition MT</td>\n",
       "      <td>Mumbai</td>\n",
       "      <td>2019</td>\n",
       "      <td>1000</td>\n",
       "      <td>Petrol</td>\n",
       "      <td>Manual</td>\n",
       "      <td>First</td>\n",
       "      <td>18.12 kmpl</td>\n",
       "      <td>1196 CC</td>\n",
       "      <td>86.8 bhp</td>\n",
       "      <td>5.0</td>\n",
       "      <td>NaN</td>\n",
       "      <td>6.80</td>\n",
       "      <td>18.12</td>\n",
       "      <td>kmpl</td>\n",
       "      <td>1196.0</td>\n",
       "      <td>86.80</td>\n",
       "      <td>NaN</td>\n",
       "    </tr>\n",
       "  </tbody>\n",
       "</table>\n",
       "</div>"
      ],
      "text/plain": [
       "                                            Name   Location  Year  \\\n",
       "1361               Maruti Alto 800 2016-2019 VXI     Mumbai  2019   \n",
       "5606                  Maruti Wagon R ZXI AMT 1.2     Mumbai  2019   \n",
       "2054                      Maruti Ignis 1.2 Alpha     Mumbai  2017   \n",
       "6201                             Maruti Alto LXI    Kolkata  2019   \n",
       "1598                        Tata Xenon XT EX 4X2     Jaipur  2017   \n",
       "173             Hyundai Grand i10 1.2 Kappa Asta    Kolkata  2019   \n",
       "1198           Volkswagen Polo 1.0 MPI Trendline  Hyderabad  2019   \n",
       "5941                            Renault KWID RXL       Pune  2018   \n",
       "1242              Jaguar XE 2.0L Diesel Prestige      Delhi  2018   \n",
       "2646  Ford Figo 2015-2019 1.2P Sports Edition MT     Mumbai  2019   \n",
       "\n",
       "      Kilometers_Driven Fuel_Type Transmission Owner_Type     Mileage  \\\n",
       "1361                171    Petrol       Manual      First   24.7 kmpl   \n",
       "5606                600    Petrol    Automatic      First   21.5 kmpl   \n",
       "2054               1000    Petrol       Manual      First  20.89 kmpl   \n",
       "6201               1000    Petrol       Manual      First   24.7 kmpl   \n",
       "1598               1000    Diesel       Manual      First  13.49 kmpl   \n",
       "173                1000    Petrol       Manual      First   18.9 kmpl   \n",
       "1198               1000    Petrol       Manual      First  18.78 kmpl   \n",
       "5941               1000    Petrol       Manual      First  25.17 kmpl   \n",
       "1242               1000    Diesel    Automatic      First   13.6 kmpl   \n",
       "2646               1000    Petrol       Manual      First  18.12 kmpl   \n",
       "\n",
       "       Engine       Power  Seats   New_Price  Price  mileage_num mileage_unit  \\\n",
       "1361   796 CC    47.3 bhp    5.0         NaN   3.60        24.70         kmpl   \n",
       "5606  1197 CC   81.80 bhp    5.0    6.8 Lakh   6.25        21.50         kmpl   \n",
       "2054  1197 CC   81.80 bhp    5.0   7.87 Lakh   6.36        20.89         kmpl   \n",
       "6201   796 CC    47.3 bhp    5.0   3.99 Lakh    NaN        24.70         kmpl   \n",
       "1598  2179 CC  138.03 bhp    5.0         NaN   7.50        13.49         kmpl   \n",
       "173   1197 CC   81.86 bhp    5.0   7.39 Lakh   6.50        18.90         kmpl   \n",
       "1198   999 CC      75 bhp    5.0   6.74 Lakh   5.68        18.78         kmpl   \n",
       "5941   799 CC    53.3 bhp    5.0   4.45 Lakh   3.40        25.17         kmpl   \n",
       "1242  1999 CC     177 bhp    5.0  52.77 Lakh  40.00        13.60         kmpl   \n",
       "2646  1196 CC    86.8 bhp    5.0         NaN   6.80        18.12         kmpl   \n",
       "\n",
       "      engine_num  power_num  new_price_num  \n",
       "1361       796.0      47.30            NaN  \n",
       "5606      1197.0      81.80           6.80  \n",
       "2054      1197.0      81.80           7.87  \n",
       "6201       796.0      47.30           3.99  \n",
       "1598      2179.0     138.03            NaN  \n",
       "173       1197.0      81.86           7.39  \n",
       "1198       999.0      75.00           6.74  \n",
       "5941       799.0      53.30           4.45  \n",
       "1242      1999.0     177.00          52.77  \n",
       "2646      1196.0      86.80            NaN  "
      ]
     },
     "execution_count": 69,
     "metadata": {},
     "output_type": "execute_result"
    },
    {
     "data": {
      "application/javascript": [
       "\n",
       "            setTimeout(function() {\n",
       "                var nbb_cell_id = 69;\n",
       "                var nbb_unformatted_code = \"# checking extreme values in Kilometers_Driven\\ndf.sort_values(by=[\\\"Kilometers_Driven\\\"], ascending=True).head(10)\";\n",
       "                var nbb_formatted_code = \"# checking extreme values in Kilometers_Driven\\ndf.sort_values(by=[\\\"Kilometers_Driven\\\"], ascending=True).head(10)\";\n",
       "                var nbb_cells = Jupyter.notebook.get_cells();\n",
       "                for (var i = 0; i < nbb_cells.length; ++i) {\n",
       "                    if (nbb_cells[i].input_prompt_number == nbb_cell_id) {\n",
       "                        if (nbb_cells[i].get_text() == nbb_unformatted_code) {\n",
       "                             nbb_cells[i].set_text(nbb_formatted_code);\n",
       "                        }\n",
       "                        break;\n",
       "                    }\n",
       "                }\n",
       "            }, 500);\n",
       "            "
      ],
      "text/plain": [
       "<IPython.core.display.Javascript object>"
      ]
     },
     "metadata": {},
     "output_type": "display_data"
    }
   ],
   "source": [
    "# checking extreme values in Kilometers_Driven\n",
    "df.sort_values(by=[\"Kilometers_Driven\"], ascending=True).head(10)"
   ]
  },
  {
   "cell_type": "markdown",
   "metadata": {},
   "source": [
    "**Observations**\n",
    "\n",
    "* After looking at the columns `Year`, `New_Price`, and `Price`, these entries seem feasible.\n",
    "\n",
    "* 1000 might be the default value in this case. Quite a few cars having driven exactly 1000 km is suspicious."
   ]
  },
  {
   "cell_type": "code",
   "execution_count": null,
   "metadata": {},
   "outputs": [],
   "source": [
    "# checking extreme values in Seats\n",
    "df.sort_values(by=[\"Seats\"], ascending=True).head(5)"
   ]
  },
  {
   "cell_type": "markdown",
   "metadata": {},
   "source": [
    "**Observations**\n",
    "\n",
    "* Audi A4 having 0 seats is clearly a data entry error.\n",
    "* This column warrants some outlier treatment, or we can treat Seats = 0 as a missing value.\n",
    "* Overall, there doesn't seem not much to be concerned about here.\n",
    "* Let's check if we have a similar car in our dataset."
   ]
  },
  {
   "cell_type": "code",
   "execution_count": null,
   "metadata": {},
   "outputs": [],
   "source": [
    "df[df[\"Name\"].str.startswith(\"Audi A4 3.2\")]"
   ]
  },
  {
   "cell_type": "markdown",
   "metadata": {},
   "source": [
    "* Looks like an Audi A4 typically has 5 seats."
   ]
  },
  {
   "cell_type": "code",
   "execution_count": null,
   "metadata": {},
   "outputs": [],
   "source": [
    "# Let us replace #seats in row index 3999 form 0 to 5\n",
    "df.loc[3999, \"Seats\"] = 5.0"
   ]
  },
  {
   "cell_type": "code",
   "execution_count": null,
   "metadata": {
    "scrolled": true
   },
   "outputs": [],
   "source": [
    "# checking extreme values in Seats\n",
    "df.sort_values(by=[\"Seats\"], ascending=False).head(5)"
   ]
  },
  {
   "cell_type": "markdown",
   "metadata": {},
   "source": [
    "* A Toyota Qualis does have 10 seats and so does a Tata Sumo. We don't see any data entry error here."
   ]
  },
  {
   "cell_type": "code",
   "execution_count": null,
   "metadata": {},
   "outputs": [],
   "source": [
    "# checking extreme values in Mileage\n",
    "df.sort_values(by=[\"mileage_num\"], ascending=True).head(10)"
   ]
  },
  {
   "cell_type": "markdown",
   "metadata": {},
   "source": [
    "* We will have to treat Mileage = 0 as missing values"
   ]
  },
  {
   "cell_type": "code",
   "execution_count": null,
   "metadata": {},
   "outputs": [],
   "source": [
    "# checking extreme values in Mileage\n",
    "df.sort_values(by=[\"mileage_num\"], ascending=False).head(10)"
   ]
  },
  {
   "cell_type": "markdown",
   "metadata": {},
   "source": [
    "* Maruti Wagon R and Maruti Alto CNG versions are budget-friendly cars with high mileage, so these data points are fine."
   ]
  },
  {
   "cell_type": "code",
   "execution_count": null,
   "metadata": {},
   "outputs": [],
   "source": [
    "df.dtypes[df.dtypes == \"object\"].index"
   ]
  },
  {
   "cell_type": "code",
   "execution_count": null,
   "metadata": {},
   "outputs": [],
   "source": [
    "# looking at value counts for non-numeric features\n",
    "\n",
    "num_to_display = 10  # defining this up here so it's easy to change later\n",
    "\n",
    "for colname in df.dtypes[df.dtypes == \"object\"].index:\n",
    "    val_counts = df[colname].value_counts(dropna=False)  # will also show the NA counts\n",
    "    print(val_counts[:num_to_display])\n",
    "\n",
    "    if len(val_counts) > num_to_display:\n",
    "        print(f\"Only displaying first {num_to_display} of {len(val_counts)} values.\")\n",
    "    print(\"-\" * 50, \"\\n\")  # just for more space in between"
   ]
  },
  {
   "cell_type": "markdown",
   "metadata": {},
   "source": [
    "- We had checked cars of different `Fuel_Type` earlier, but we did not encounter the 2 electric cars. Let us check why."
   ]
  },
  {
   "cell_type": "code",
   "execution_count": null,
   "metadata": {},
   "outputs": [],
   "source": [
    "df.loc[df[\"Fuel_Type\"] == \"Electric\"]"
   ]
  },
  {
   "cell_type": "markdown",
   "metadata": {},
   "source": [
    "**Observations**\n",
    "\n",
    "* Mileage values for these cars are NaN, that's why we did not encounter these earlier with *groupby()*.\n",
    "\n",
    "* Electric cars are very new in the market and very rare in our dataset. We can consider dropping these two observations if they turn out to be outliers later.\n",
    "\n",
    "* There is a good chance that we will not be able to create a good price prediction model for electric cars with the currently available data."
   ]
  },
  {
   "cell_type": "code",
   "execution_count": null,
   "metadata": {
    "scrolled": true
   },
   "outputs": [],
   "source": [
    "# checking used ar prices grouped by brand\n",
    "df.groupby([\"Brand\"])[\"Price\"].mean().sort_values(ascending=False)"
   ]
  },
  {
   "cell_type": "markdown",
   "metadata": {},
   "source": [
    "**Observations**\n",
    "\n",
    "* The output is very close to our expectation (domain knowledge) in terms of brand order.\n",
    "* The mean price of a used Lamborghini is 120 Lakhs and that of cars from other luxury brands follow in descending order.\n",
    "* Towards the bottom end, we have the more budget-friendly brands."
   ]
  },
  {
   "cell_type": "markdown",
   "metadata": {},
   "source": [
    "### Univariate Analysis"
   ]
  },
  {
   "cell_type": "markdown",
   "metadata": {},
   "source": [
    "***Price***"
   ]
  },
  {
   "cell_type": "code",
   "execution_count": null,
   "metadata": {},
   "outputs": [],
   "source": [
    "# function to plot a boxplot and a histogram along the same scale.\n",
    "\n",
    "\n",
    "def histogram_boxplot(data, feature, figsize=(12, 7), kde=False, bins=None):\n",
    "    \"\"\"\n",
    "    Boxplot and histogram combined\n",
    "\n",
    "    data: dataframe\n",
    "    feature: dataframe column\n",
    "    figsize: size of figure (default (12,7))\n",
    "    kde: whether to the show density curve (default False)\n",
    "    bins: number of bins for histogram (default None)\n",
    "    \"\"\"\n",
    "    f2, (ax_box2, ax_hist2) = plt.subplots(\n",
    "        nrows=2,  # Number of rows of the subplot grid= 2\n",
    "        sharex=True,  # x-axis will be shared among all subplots\n",
    "        gridspec_kw={\"height_ratios\": (0.25, 0.75)},\n",
    "        figsize=figsize,\n",
    "    )  # creating the 2 subplots\n",
    "    sns.boxplot(\n",
    "        data=data, x=feature, ax=ax_box2, showmeans=True, color=\"violet\"\n",
    "    )  # boxplot will be created and a star will indicate the mean value of the column\n",
    "    sns.histplot(\n",
    "        data=data, x=feature, kde=kde, ax=ax_hist2, bins=bins, palette=\"winter\"\n",
    "    ) if bins else sns.histplot(\n",
    "        data=data, x=feature, kde=kde, ax=ax_hist2\n",
    "    )  # For histogram\n",
    "    ax_hist2.axvline(\n",
    "        data[feature].mean(), color=\"green\", linestyle=\"--\"\n",
    "    )  # Add mean to the histogram\n",
    "    ax_hist2.axvline(\n",
    "        data[feature].median(), color=\"black\", linestyle=\"-\"\n",
    "    )  # Add median to the histogram"
   ]
  },
  {
   "cell_type": "code",
   "execution_count": null,
   "metadata": {},
   "outputs": [],
   "source": [
    "histogram_boxplot(df, \"Price\", kde=True)"
   ]
  },
  {
   "cell_type": "markdown",
   "metadata": {},
   "source": [
    "**Observations**\n",
    "\n",
    "* This is a highly skewed distribution.\n",
    "* Let us use log transformation on this column to see if that helps normalize the distribution."
   ]
  },
  {
   "cell_type": "code",
   "execution_count": null,
   "metadata": {},
   "outputs": [],
   "source": [
    "# Creating a new column with the transformed variable\n",
    "df[\"price_log\"] = np.log(df[\"Price\"])"
   ]
  },
  {
   "cell_type": "code",
   "execution_count": null,
   "metadata": {},
   "outputs": [],
   "source": [
    "histogram_boxplot(df, \"price_log\", kde=True)"
   ]
  },
  {
   "cell_type": "markdown",
   "metadata": {},
   "source": [
    "* Using the log transformation has definitely helped in reducing the skew."
   ]
  },
  {
   "cell_type": "markdown",
   "metadata": {},
   "source": [
    "### *Kilometers_Driven*"
   ]
  },
  {
   "cell_type": "code",
   "execution_count": null,
   "metadata": {},
   "outputs": [],
   "source": [
    "histogram_boxplot(df, \"Kilometers_Driven\", bins=100, kde=True)"
   ]
  },
  {
   "cell_type": "markdown",
   "metadata": {},
   "source": [
    "**Observations**\n",
    "\n",
    "* This is another highly skewed distribution.\n",
    "* Let us use log transformation on this column too."
   ]
  },
  {
   "cell_type": "code",
   "execution_count": null,
   "metadata": {},
   "outputs": [],
   "source": [
    "df[\"kilometers_driven_log\"] = np.log(df[\"Kilometers_Driven\"])"
   ]
  },
  {
   "cell_type": "code",
   "execution_count": null,
   "metadata": {},
   "outputs": [],
   "source": [
    "histogram_boxplot(df, \"kilometers_driven_log\", bins=100, kde=True)"
   ]
  },
  {
   "cell_type": "markdown",
   "metadata": {},
   "source": [
    "* Transformation has reduced the extreme skewness."
   ]
  },
  {
   "cell_type": "code",
   "execution_count": null,
   "metadata": {},
   "outputs": [],
   "source": [
    "# function to create labeled barplots\n",
    "\n",
    "\n",
    "def labeled_barplot(data, feature, perc=False, n=None):\n",
    "    \"\"\"\n",
    "    Barplot with percentage at the top\n",
    "\n",
    "    data: dataframe\n",
    "    feature: dataframe column\n",
    "    perc: whether to display percentages instead of count (default is False)\n",
    "    n: displays the top n category levels (default is None, i.e., display all levels)\n",
    "    \"\"\"\n",
    "\n",
    "    total = len(data[feature])  # length of the column\n",
    "    count = data[feature].nunique()\n",
    "    if n is None:\n",
    "        plt.figure(figsize=(count + 1, 5))\n",
    "    else:\n",
    "        plt.figure(figsize=(n + 1, 5))\n",
    "\n",
    "    plt.xticks(rotation=90, fontsize=15)\n",
    "    ax = sns.countplot(\n",
    "        data=data,\n",
    "        x=feature,\n",
    "        palette=\"Paired\",\n",
    "        order=data[feature].value_counts().index[:n].sort_values(),\n",
    "    )\n",
    "\n",
    "    for p in ax.patches:\n",
    "        if perc == True:\n",
    "            label = \"{:.1f}%\".format(\n",
    "                100 * p.get_height() / total\n",
    "            )  # percentage of each class of the category\n",
    "        else:\n",
    "            label = p.get_height()  # count of each level of the category\n",
    "\n",
    "        x = p.get_x() + p.get_width() / 2  # width of the plot\n",
    "        y = p.get_height()  # height of the plot\n",
    "\n",
    "        ax.annotate(\n",
    "            label,\n",
    "            (x, y),\n",
    "            ha=\"center\",\n",
    "            va=\"center\",\n",
    "            size=12,\n",
    "            xytext=(0, 5),\n",
    "            textcoords=\"offset points\",\n",
    "        )  # annotate the percentage\n",
    "\n",
    "    plt.show()  # show the plot"
   ]
  },
  {
   "cell_type": "code",
   "execution_count": null,
   "metadata": {},
   "outputs": [],
   "source": [
    "labeled_barplot(df, \"Brand\", perc=True, n=10)"
   ]
  },
  {
   "cell_type": "markdown",
   "metadata": {},
   "source": [
    "* Most of the cars in the data belong to Maruti or Hyundai."
   ]
  },
  {
   "cell_type": "code",
   "execution_count": null,
   "metadata": {},
   "outputs": [],
   "source": [
    "labeled_barplot(df, \"Model\", perc=True, n=10)"
   ]
  },
  {
   "cell_type": "markdown",
   "metadata": {},
   "source": [
    "**Observations**\n",
    "\n",
    "* Maruti Swift is the most common car up for resale.\n",
    "\n",
    "* It is clear from the above charts that our dataset contains used cars from luxury as well as budget-friendly brands.\n",
    "\n",
    "* We can create a new variable using this information. We can consider binning all our cars into the following 3 categories later:\n",
    "\n",
    "    1. Budget-Friendly\n",
    "    2. Mid Range\n",
    "    3. Luxury Cars"
   ]
  },
  {
   "cell_type": "code",
   "execution_count": null,
   "metadata": {},
   "outputs": [],
   "source": [
    "# dropping the redundant columns\n",
    "df.drop(columns=[\"Kilometers_Driven\", \"Name\", \"mileage_unit\"], inplace=True)"
   ]
  },
  {
   "cell_type": "markdown",
   "metadata": {},
   "source": [
    "### Bivariate Distributions"
   ]
  },
  {
   "cell_type": "markdown",
   "metadata": {},
   "source": [
    "**Let's check the correlation between numerical variables.**"
   ]
  },
  {
   "cell_type": "code",
   "execution_count": null,
   "metadata": {},
   "outputs": [],
   "source": [
    "plt.figure(figsize=(15, 7))\n",
    "sns.heatmap(df.corr(), annot=True, vmin=-1, vmax=1, fmt=\".2f\", cmap=\"Spectral\")\n",
    "plt.show()"
   ]
  },
  {
   "cell_type": "markdown",
   "metadata": {},
   "source": [
    "**Observations**\n",
    "\n",
    "* *Power* and *Engine* are important predictors of price, but they are also highly correlated to each other.\n",
    "* We will have to work on imputing the missing values in *New_Price* because this is a very important feature in predicting the used car price accurately."
   ]
  },
  {
   "cell_type": "code",
   "execution_count": null,
   "metadata": {},
   "outputs": [],
   "source": [
    "sns.pairplot(data=df, hue=\"Fuel_Type\")\n",
    "plt.show()"
   ]
  },
  {
   "cell_type": "markdown",
   "metadata": {},
   "source": [
    "**Observations**\n",
    "\n",
    "Zooming into these plots gives us a lot of information.\n",
    "\n",
    "* Contrary to intuition, *Kilometers_Driven* does not seem to have a relationship with the price.\n",
    "* *Price* has a positive relationship with *Year*, i.e., the newer the car, the higher the price.\n",
    "    - The temporal element of variation is captured in the year column.\n",
    "\n",
    "\n",
    "* *S.No.* does not capture any information that we were hoping for.\n",
    "* 2 seater cars are all luxury variants. Cars with 8-10 seats are exclusively mid to high range.\n",
    "* Mileage does not seem to show much relationship with the price of used cars.\n",
    "* Engine displacement and power of the car have a positive relationship with the price.\n",
    "* *New_Price* and used car price are also positively correlated, which is expected.\n",
    "* *Kilometers_Driven* has a peculiar relationship with the *Year* variable. Generally, the newer the car lesser the distance it has traveled, but this is not always true.\n",
    "* CNG cars are conspicuous outliers when it comes to *Mileage*. The mileage of these cars is very high.\n",
    "* The mileage and power of newer cars are increasing owing to advancements in technology.\n",
    "* Mileage has a negative correlation with engine displacement and power. More powerful the engine, the more fuel it consumes in general."
   ]
  },
  {
   "cell_type": "markdown",
   "metadata": {},
   "source": [
    "**Let's check the variation in Price with some of the other variables.**"
   ]
  },
  {
   "cell_type": "markdown",
   "metadata": {},
   "source": [
    "***Price* vs *Location***"
   ]
  },
  {
   "cell_type": "code",
   "execution_count": null,
   "metadata": {},
   "outputs": [],
   "source": [
    "plt.figure(figsize=(12, 6))\n",
    "sns.boxplot(x=\"Location\", y=\"Price\", data=df)\n",
    "plt.show()"
   ]
  },
  {
   "cell_type": "markdown",
   "metadata": {},
   "source": [
    "* The price of used cars has a large IQR in Coimbatore and Bangalore."
   ]
  },
  {
   "cell_type": "markdown",
   "metadata": {},
   "source": [
    "***Price* vs *Transmission***"
   ]
  },
  {
   "cell_type": "code",
   "execution_count": null,
   "metadata": {},
   "outputs": [],
   "source": [
    "plt.figure(figsize=(12, 6))\n",
    "sns.boxplot(x=\"Transmission\", y=\"Price\", data=df)\n",
    "plt.show()"
   ]
  },
  {
   "cell_type": "markdown",
   "metadata": {},
   "source": [
    "* The price is higher for used cars with automatic transmission."
   ]
  },
  {
   "cell_type": "markdown",
   "metadata": {},
   "source": [
    "***Price* vs *Year***"
   ]
  },
  {
   "cell_type": "code",
   "execution_count": null,
   "metadata": {},
   "outputs": [],
   "source": [
    "plt.figure(figsize=(18, 6))\n",
    "sns.boxplot(x=\"Year\", y=\"Price\", data=df)\n",
    "plt.show()"
   ]
  },
  {
   "cell_type": "markdown",
   "metadata": {},
   "source": [
    "* The price of used cars has increased over the years."
   ]
  },
  {
   "cell_type": "markdown",
   "metadata": {},
   "source": [
    "## Data Preprocessing (contd.)"
   ]
  },
  {
   "cell_type": "markdown",
   "metadata": {},
   "source": [
    "### Missing Value Treatment"
   ]
  },
  {
   "cell_type": "code",
   "execution_count": 72,
   "metadata": {
    "scrolled": true
   },
   "outputs": [
    {
     "data": {
      "text/plain": [
       "Name                    0\n",
       "Location                0\n",
       "Year                    0\n",
       "Kilometers_Driven       0\n",
       "Fuel_Type               0\n",
       "Transmission            0\n",
       "Owner_Type              0\n",
       "Mileage                 2\n",
       "Engine                 46\n",
       "Power                 175\n",
       "Seats                  53\n",
       "New_Price            6246\n",
       "Price                1233\n",
       "mileage_num             2\n",
       "mileage_unit            2\n",
       "engine_num             46\n",
       "power_num             175\n",
       "new_price_num        6246\n",
       "Brand                   0\n",
       "dtype: int64"
      ]
     },
     "execution_count": 72,
     "metadata": {},
     "output_type": "execute_result"
    },
    {
     "data": {
      "application/javascript": [
       "\n",
       "            setTimeout(function() {\n",
       "                var nbb_cell_id = 72;\n",
       "                var nbb_unformatted_code = \"# let's check again for missing values\\ndf.isnull().sum()\";\n",
       "                var nbb_formatted_code = \"# let's check again for missing values\\ndf.isnull().sum()\";\n",
       "                var nbb_cells = Jupyter.notebook.get_cells();\n",
       "                for (var i = 0; i < nbb_cells.length; ++i) {\n",
       "                    if (nbb_cells[i].input_prompt_number == nbb_cell_id) {\n",
       "                        if (nbb_cells[i].get_text() == nbb_unformatted_code) {\n",
       "                             nbb_cells[i].set_text(nbb_formatted_code);\n",
       "                        }\n",
       "                        break;\n",
       "                    }\n",
       "                }\n",
       "            }, 500);\n",
       "            "
      ],
      "text/plain": [
       "<IPython.core.display.Javascript object>"
      ]
     },
     "metadata": {},
     "output_type": "display_data"
    }
   ],
   "source": [
    "# let's check again for missing values\n",
    "df.isnull().sum()"
   ]
  },
  {
   "cell_type": "markdown",
   "metadata": {},
   "source": [
    "**Let's look at a few rows where number of seats is missing.**"
   ]
  },
  {
   "cell_type": "code",
   "execution_count": null,
   "metadata": {
    "scrolled": true
   },
   "outputs": [],
   "source": [
    "df[df[\"Seats\"].isnull()]"
   ]
  },
  {
   "cell_type": "markdown",
   "metadata": {},
   "source": [
    "**We'll impute these missing values one-by-one by taking the median number of seats for the particular car using the Brand and Model name.**"
   ]
  },
  {
   "cell_type": "code",
   "execution_count": null,
   "metadata": {},
   "outputs": [],
   "source": [
    "df.groupby([\"Brand\", \"Model\"], as_index=False)[\"Seats\"].median()"
   ]
  },
  {
   "cell_type": "code",
   "execution_count": null,
   "metadata": {},
   "outputs": [],
   "source": [
    "# imputing missing values in Seats\n",
    "df[\"Seats\"] = df.groupby([\"Brand\", \"Model\"])[\"Seats\"].transform(\n",
    "    lambda x: x.fillna(x.median())\n",
    ")"
   ]
  },
  {
   "cell_type": "code",
   "execution_count": null,
   "metadata": {},
   "outputs": [],
   "source": [
    "# Checking missing values in Seats\n",
    "df[df[\"Seats\"].isnull()]"
   ]
  },
  {
   "cell_type": "markdown",
   "metadata": {},
   "source": [
    "* Maruti Estilo can accommodate 5 people."
   ]
  },
  {
   "cell_type": "code",
   "execution_count": null,
   "metadata": {},
   "outputs": [],
   "source": [
    "df[\"Seats\"] = df[\"Seats\"].fillna(5.0)"
   ]
  },
  {
   "cell_type": "markdown",
   "metadata": {},
   "source": [
    "**We will use a similar method to fill missing values for the `Mileage`, `engine_num`, `power_num`, and `new_price_num` columns.**"
   ]
  },
  {
   "cell_type": "code",
   "execution_count": null,
   "metadata": {},
   "outputs": [],
   "source": [
    "cols_list = [\"mileage_num\", \"engine_num\", \"power_num\", \"new_price_num\"]\n",
    "\n",
    "for col in cols_list:\n",
    "    df[col] = df.groupby([\"Brand\", \"Model\"])[col].transform(\n",
    "        lambda x: x.fillna(x.median())\n",
    "    )\n",
    "\n",
    "df.isnull().sum()"
   ]
  },
  {
   "cell_type": "markdown",
   "metadata": {},
   "source": [
    "* There are still some missing values in *Mileage*, *power_num*, and *new_price_num*.\n",
    "* There are a few car brands and models in our dataset that do not contain the new price information at all.\n",
    "* We'll impute these missing values one-by-one by taking the median number of seats for the particular car using the Brand name."
   ]
  },
  {
   "cell_type": "code",
   "execution_count": null,
   "metadata": {},
   "outputs": [],
   "source": [
    "cols_list = [\"mileage_num\", \"power_num\", \"new_price_num\"]\n",
    "\n",
    "for col in cols_list:\n",
    "    df[col] = df.groupby([\"Brand\"])[col].transform(lambda x: x.fillna(x.median()))\n",
    "\n",
    "df.isnull().sum()"
   ]
  },
  {
   "cell_type": "markdown",
   "metadata": {},
   "source": [
    "* There are still some missing values in *power_num* and *new_price_num*.\n",
    "* We'll impute these missing values using the median of the data."
   ]
  },
  {
   "cell_type": "code",
   "execution_count": null,
   "metadata": {},
   "outputs": [],
   "source": [
    "cols_list = [\"power_num\", \"new_price_num\"]\n",
    "\n",
    "for col in cols_list:\n",
    "    df[col] = df[col].fillna(df[col].median())\n",
    "\n",
    "df.isnull().sum()"
   ]
  },
  {
   "cell_type": "markdown",
   "metadata": {},
   "source": [
    "- Missing values in all columns except *Price* and *price_log* are imputed.\n",
    "- We will drop the rows where *Price* is missing."
   ]
  },
  {
   "cell_type": "code",
   "execution_count": null,
   "metadata": {},
   "outputs": [],
   "source": [
    "df = df[df[\"Price\"].notna()]"
   ]
  },
  {
   "cell_type": "markdown",
   "metadata": {},
   "source": [
    "## Linear Model Building\n",
    "\n",
    "1. We want to predict the used car price, so we will use the normalized version *price_log* for modeling.\n",
    "\n",
    "2. Before we proceed to build a model, we'll have to encode categorical features.\n",
    "\n",
    "3. We'll split the data into train and test to be able to evaluate the model that we build on the train data.\n",
    "\n",
    "4. We will build a Linear Regression model using the train data and then check it's performance."
   ]
  },
  {
   "cell_type": "code",
   "execution_count": null,
   "metadata": {},
   "outputs": [],
   "source": [
    "# defining the dependent and independent variables\n",
    "X = df.drop([\"Price\", \"price_log\"], axis=1)\n",
    "y = df[\"price_log\"]"
   ]
  },
  {
   "cell_type": "code",
   "execution_count": null,
   "metadata": {},
   "outputs": [],
   "source": [
    "# creating dummy variables\n",
    "X = pd.get_dummies(\n",
    "    X,\n",
    "    columns=X.select_dtypes(include=[\"object\", \"category\"]).columns.tolist(),\n",
    "    drop_first=True,\n",
    ")\n",
    "\n",
    "X.head()"
   ]
  },
  {
   "cell_type": "code",
   "execution_count": null,
   "metadata": {},
   "outputs": [],
   "source": [
    "# splitting the data in 70:30 ratio for train to test data\n",
    "\n",
    "x_train, x_test, y_train, y_test = train_test_split(X, y, test_size=0.3, random_state=1)"
   ]
  },
  {
   "cell_type": "code",
   "execution_count": null,
   "metadata": {},
   "outputs": [],
   "source": [
    "print(\"Number of rows in train data =\", x_train.shape[0])\n",
    "print(\"Number of rows in test data =\", x_test.shape[0])"
   ]
  },
  {
   "cell_type": "code",
   "execution_count": null,
   "metadata": {},
   "outputs": [],
   "source": [
    "# fitting a linear model\n",
    "lin_reg_model = LinearRegression()\n",
    "lin_reg_model.fit(x_train, y_train)"
   ]
  },
  {
   "cell_type": "code",
   "execution_count": null,
   "metadata": {},
   "outputs": [],
   "source": [
    "# let us check the coefficients and intercept of the model\n",
    "\n",
    "coef_df = pd.DataFrame(\n",
    "    np.append(lin_reg_model.coef_, lin_reg_model.intercept_),\n",
    "    index=x_train.columns.tolist() + [\"Intercept\"],\n",
    "    columns=[\"Coefficients\"],\n",
    ")\n",
    "coef_df"
   ]
  },
  {
   "cell_type": "markdown",
   "metadata": {},
   "source": [
    "### Model Performance Check\n",
    "\n",
    "* We will check the model performance on the actual prices and not the log values.\n",
    "* We will create a function that will convert the log prices to actual prices and then check the performance.\n",
    "* We will be using metric functions defined in sklearn for RMSE, MAE, and $R^2$.\n",
    "* We will define a function to calculate MAPE and adjusted $R^2$.\n",
    "    - The mean absolute percentage error (MAPE) measures the accuracy of predictions as a percentage, and can be calculated as the average absolute percent error for each predicted value minus actual values divided by actual values. It works best if there are no extreme values in the data and none of the actual values are 0."
   ]
  },
  {
   "cell_type": "code",
   "execution_count": null,
   "metadata": {},
   "outputs": [],
   "source": [
    "# function to compute adjusted R-squared\n",
    "def adj_r2_score(predictors, targets, predictions):\n",
    "    r2 = r2_score(targets, predictions)\n",
    "    n = predictors.shape[0]\n",
    "    k = predictors.shape[1]\n",
    "    return 1 - ((1 - r2) * (n - 1) / (n - k - 1))\n",
    "\n",
    "\n",
    "# function to compute MAPE\n",
    "def mape_score(targets, predictions):\n",
    "    return np.mean(np.abs(targets - predictions) / targets) * 100\n",
    "\n",
    "\n",
    "# function to compute different metrics to check performance of a regression model\n",
    "def model_performance_regression(model, predictors, target):\n",
    "    \"\"\"\n",
    "    Function to compute different metrics to check regression model performance\n",
    "\n",
    "    model: regressor\n",
    "    predictors: independent variables\n",
    "    target: dependent variable\n",
    "    \"\"\"\n",
    "\n",
    "    # predicting using the independent variables\n",
    "    pred = model.predict(predictors)\n",
    "\n",
    "    # computing the actual prices by using the exponential function\n",
    "    target = np.exp(target)\n",
    "    pred = np.exp(pred)\n",
    "\n",
    "    r2 = r2_score(target, pred)  # to compute R-squared\n",
    "    adjr2 = adj_r2_score(predictors, target, pred)  # to compute adjusted R-squared\n",
    "    rmse = np.sqrt(mean_squared_error(target, pred))  # to compute RMSE\n",
    "    mae = mean_absolute_error(target, pred)  # to compute MAE\n",
    "    mape = mape_score(target, pred)  # to compute MAPE\n",
    "\n",
    "    # creating a dataframe of metrics\n",
    "    df_perf = pd.DataFrame(\n",
    "        {\n",
    "            \"RMSE\": rmse,\n",
    "            \"MAE\": mae,\n",
    "            \"R-squared\": r2,\n",
    "            \"Adj. R-squared\": adjr2,\n",
    "            \"MAPE\": mape,\n",
    "        },\n",
    "        index=[0],\n",
    "    )\n",
    "\n",
    "    return df_perf"
   ]
  },
  {
   "cell_type": "code",
   "execution_count": null,
   "metadata": {},
   "outputs": [],
   "source": [
    "# Checking model performance on train set\n",
    "print(\"Training Performance:\")\n",
    "lin_reg_model_perf_train = model_performance_regression(lin_reg_model, x_train, y_train)\n",
    "lin_reg_model_perf_train"
   ]
  },
  {
   "cell_type": "markdown",
   "metadata": {},
   "source": [
    "* Both the R-squared and Adjusted R squared of our model are very high. This is a clear indication that we have been able to create a very good model that is able to explain variance in the price of used cars up to 94%.\n",
    "\n",
    "* The model is not an underfitting model.\n",
    "\n",
    "* Let's do a quick performance check on the test data."
   ]
  },
  {
   "cell_type": "code",
   "execution_count": null,
   "metadata": {},
   "outputs": [],
   "source": [
    "# Checking model performance on test set\n",
    "print(\"Test Performance:\")\n",
    "lin_reg_model_perf_test = model_performance_regression(lin_reg_model, x_test, y_test)\n",
    "lin_reg_model_perf_test"
   ]
  },
  {
   "cell_type": "markdown",
   "metadata": {},
   "source": [
    "* Root Mean Squared Error (RMSE) and Mean Absolute Error (MAE) of train and test data are close, which indicates that our model is not overfitting the train data.\n",
    "\n",
    "* MAE indicates that our current model is able to predict used car prices within a mean error of 1.3 lakhs on test data.\n",
    "\n",
    "* The units of both RMSE and MAE are the same, Lakhs in this case. But RMSE is greater than MAE because it penalizes the outliers more.\n",
    "\n",
    "* MAPE of 12.98 on the test data indicates that the model can predict within ~13% of the used car price."
   ]
  },
  {
   "cell_type": "markdown",
   "metadata": {},
   "source": [
    "**Our current model is extremely complex. Let us bin the Brand and Model columns to make the dataset more manageable.**"
   ]
  },
  {
   "cell_type": "code",
   "execution_count": null,
   "metadata": {},
   "outputs": [],
   "source": [
    "df.groupby([\"Brand\", \"Model\"])[\"new_price_num\"].mean().sort_values(ascending=False)"
   ]
  },
  {
   "cell_type": "markdown",
   "metadata": {},
   "source": [
    "**We will create a new variable `car_category` by binning the `new_price_num` column.**"
   ]
  },
  {
   "cell_type": "code",
   "execution_count": null,
   "metadata": {},
   "outputs": [],
   "source": [
    "# creating a copy of the dataframe\n",
    "df1 = df.copy()\n",
    "\n",
    "# creating a new variable car_category\n",
    "df1[\"car_category\"] = pd.cut(\n",
    "    x=df[\"new_price_num\"],\n",
    "    bins=[0, 15, 30, 50, 200],\n",
    "    labels=[\"Budget_Friendly\", \"Mid-Range\", \"Luxury_Cars\", \"Ultra_luxury\"],\n",
    ")\n",
    "\n",
    "df1.car_category.value_counts()"
   ]
  },
  {
   "cell_type": "code",
   "execution_count": null,
   "metadata": {},
   "outputs": [],
   "source": [
    "# dropping the Brand and Model columns\n",
    "df1.drop(columns=[\"Brand\", \"Model\"], axis=1, inplace=True)"
   ]
  },
  {
   "cell_type": "code",
   "execution_count": null,
   "metadata": {
    "scrolled": true
   },
   "outputs": [],
   "source": [
    "# defining the dependent and independent variables\n",
    "X = df1.drop([\"Price\", \"price_log\"], axis=1)\n",
    "y = df1[\"price_log\"]\n",
    "\n",
    "# creating dummy variables\n",
    "X = pd.get_dummies(\n",
    "    X,\n",
    "    columns=X.select_dtypes(include=[\"object\", \"category\"]).columns.tolist(),\n",
    "    drop_first=True,\n",
    ")\n",
    "\n",
    "# split the data into train and test\n",
    "from sklearn.model_selection import train_test_split\n",
    "\n",
    "x_train2, x_test2, y_train, y_test = train_test_split(\n",
    "    X, y, test_size=0.3, random_state=1\n",
    ")\n",
    "\n",
    "print(\"Number of rows in train data =\", x_train2.shape[0])\n",
    "print(\"Number of rows in test data =\", x_test2.shape[0])"
   ]
  },
  {
   "cell_type": "code",
   "execution_count": null,
   "metadata": {},
   "outputs": [],
   "source": [
    "lin_reg_model2 = LinearRegression()\n",
    "lin_reg_model2.fit(x_train2, y_train)"
   ]
  },
  {
   "cell_type": "code",
   "execution_count": null,
   "metadata": {},
   "outputs": [],
   "source": [
    "# Checking model performance on train set\n",
    "print(\"Training Performance:\")\n",
    "lin_reg_model2_perf_train = model_performance_regression(\n",
    "    lin_reg_model2, x_train2, y_train\n",
    ")\n",
    "lin_reg_model2_perf_train"
   ]
  },
  {
   "cell_type": "code",
   "execution_count": null,
   "metadata": {},
   "outputs": [],
   "source": [
    "# Checking model performance on test set\n",
    "print(\"Test Performance:\")\n",
    "lin_reg_model2_perf_test = model_performance_regression(lin_reg_model2, x_test2, y_test)\n",
    "lin_reg_model2_perf_test"
   ]
  },
  {
   "cell_type": "markdown",
   "metadata": {},
   "source": [
    "**Observations**\n",
    "\n",
    "- The training performance has dropped drastically after binning the columns together.\n",
    "- The test performance, however, remains close to the previous one."
   ]
  },
  {
   "cell_type": "markdown",
   "metadata": {
    "id": "nrEXEiJEqH-0"
   },
   "source": [
    "### Forward Feature Selection\n",
    "\n",
    "- Let us try using forward feature selection on the data before binning columns to check if we can get a good model performance using a lesser number of features."
   ]
  },
  {
   "cell_type": "markdown",
   "metadata": {},
   "source": [
    "**Note: Kindly do not run the code cells containing the Sequential Feature Selector implementation during the session, since that algorithm takes considerable time to run.**"
   ]
  },
  {
   "cell_type": "code",
   "execution_count": null,
   "metadata": {
    "id": "4lAz8-EMqH_E",
    "outputId": "01e5c5aa-6ae0-4a01-bbf0-6ed48d8f919f",
    "scrolled": true
   },
   "outputs": [],
   "source": [
    "from mlxtend.feature_selection import SequentialFeatureSelector as SFS\n",
    "\n",
    "reg = LinearRegression()\n",
    "\n",
    "# Build step forward feature selection\n",
    "sfs = SFS(\n",
    "    reg,\n",
    "    k_features=x_train.shape[1],\n",
    "    forward=True,  # k_features denotes \"Number of features to select\"\n",
    "    floating=False,\n",
    "    scoring=\"r2\",\n",
    "    verbose=2,\n",
    "    n_jobs=-1,  # this will ensure all CPU cores are being used for computation\n",
    "    cv=5,\n",
    ")\n",
    "\n",
    "# Perform SFFS\n",
    "sfs = sfs.fit(x_train, y_train)"
   ]
  },
  {
   "cell_type": "code",
   "execution_count": null,
   "metadata": {},
   "outputs": [],
   "source": [
    "# to plot the performance with addition of each feature\n",
    "from mlxtend.plotting import plot_sequential_feature_selection as plot_sfs\n",
    "\n",
    "fig1 = plot_sfs(sfs.get_metric_dict(), kind=\"std_err\", figsize=(15, 5))\n",
    "plt.title(\"Sequential Forward Selection (w. StdErr)\")\n",
    "plt.xticks(\n",
    "    np.arange(0, 264, 10), np.arange(0, 264, 10), rotation=90\n",
    ")  # to make the tick marks readable\n",
    "plt.show()"
   ]
  },
  {
   "cell_type": "markdown",
   "metadata": {},
   "source": [
    "* The model performance appears to have become constant somewhere around 118 features and then starts falling around 239 features.\n",
    "* The improvement in performance from 85 to 118 features is not that high either.\n",
    "* We will take 85 as the number of features to consider."
   ]
  },
  {
   "cell_type": "code",
   "execution_count": null,
   "metadata": {
    "id": "ysSkaRN9qH_M",
    "outputId": "44accd16-22a9-414b-c612-8d3665759225"
   },
   "outputs": [],
   "source": [
    "reg = LinearRegression()\n",
    "\n",
    "# # Build step forward feature selection\n",
    "sfs = SFS(\n",
    "    reg,\n",
    "    k_features=85,\n",
    "    forward=True,\n",
    "    floating=False,\n",
    "    scoring=\"r2\",\n",
    "    verbose=2,\n",
    "    cv=5,\n",
    "    n_jobs=-1,\n",
    ")\n",
    "\n",
    "# Perform SFFS\n",
    "sfs = sfs.fit(x_train, y_train)"
   ]
  },
  {
   "cell_type": "code",
   "execution_count": null,
   "metadata": {
    "id": "RRthzjjOqH_O",
    "outputId": "c240b1eb-b66d-4fcc-bc95-f6eef482cec0",
    "scrolled": true
   },
   "outputs": [],
   "source": [
    "# important features\n",
    "feat_cols = list(sfs.k_feature_idx_)\n",
    "print(feat_cols)"
   ]
  },
  {
   "cell_type": "code",
   "execution_count": null,
   "metadata": {
    "id": "z7U3DS_2qH_Q",
    "outputId": "71f329fb-e87a-4f09-c4a8-1065b096bebe",
    "scrolled": true
   },
   "outputs": [],
   "source": [
    "x_train.columns[feat_cols]"
   ]
  },
  {
   "cell_type": "markdown",
   "metadata": {
    "id": "KpUjOgOSqH_U"
   },
   "source": [
    "**Now we will fit a sklearn model using these features only.**"
   ]
  },
  {
   "cell_type": "code",
   "execution_count": null,
   "metadata": {
    "id": "dQTigbMLqH_U"
   },
   "outputs": [],
   "source": [
    "x_train3 = x_train[x_train.columns[feat_cols]]"
   ]
  },
  {
   "cell_type": "code",
   "execution_count": null,
   "metadata": {
    "id": "RzRo4ycBqH_Y"
   },
   "outputs": [],
   "source": [
    "# Creating new x_test with the same 20 variables that we selected for x_train\n",
    "x_test3 = x_test[x_train3.columns]"
   ]
  },
  {
   "cell_type": "code",
   "execution_count": null,
   "metadata": {
    "id": "JsGeSdCYqH_b",
    "outputId": "0a88d676-f7d3-48be-ebb3-13fc7af2d13e"
   },
   "outputs": [],
   "source": [
    "# Fitting linear model\n",
    "lin_reg_model3 = LinearRegression()\n",
    "lin_reg_model3.fit(x_train3, y_train)\n",
    "\n",
    "# let us check the coefficients and intercept of the model\n",
    "\n",
    "coef_df = pd.DataFrame(\n",
    "    np.append(lin_reg_model3.coef_, lin_reg_model3.intercept_.flatten()),\n",
    "    index=x_train3.columns.tolist() + [\"Intercept\"],\n",
    "    columns=[\"Coefficients\"],\n",
    ")\n",
    "coef_df"
   ]
  },
  {
   "cell_type": "code",
   "execution_count": null,
   "metadata": {},
   "outputs": [],
   "source": [
    "# model performance on train set\n",
    "print(\"Training Performance:\")\n",
    "lin_reg_model3_perf_train = model_performance_regression(\n",
    "    lin_reg_model3, x_train3, y_train\n",
    ")\n",
    "lin_reg_model3_perf_train"
   ]
  },
  {
   "cell_type": "code",
   "execution_count": null,
   "metadata": {},
   "outputs": [],
   "source": [
    "# model performance on test set\n",
    "print(\"Test Performance:\")\n",
    "lin_reg_model3_perf_test = model_performance_regression(lin_reg_model3, x_test3, y_test)\n",
    "lin_reg_model3_perf_test"
   ]
  },
  {
   "cell_type": "markdown",
   "metadata": {},
   "source": [
    "* We have been able to explain ~90% of the variation in the data using less than one-third of the number of features used in the previous model.\n",
    "* Let's compare the two models we built."
   ]
  },
  {
   "cell_type": "code",
   "execution_count": null,
   "metadata": {},
   "outputs": [],
   "source": [
    "# training performance comparison\n",
    "\n",
    "models_train_comp_df = pd.concat(\n",
    "    [\n",
    "        lin_reg_model_perf_train.T,\n",
    "        lin_reg_model2_perf_train.T,\n",
    "        lin_reg_model3_perf_train.T,\n",
    "    ],\n",
    "    axis=1,\n",
    ")\n",
    "\n",
    "models_train_comp_df.columns = [\n",
    "    \"Linear Regression sklearn\",\n",
    "    \"Linear Regression sklearn (binned columns)\",\n",
    "    \"Linear Regression sklearn (SFS features)\",\n",
    "]\n",
    "\n",
    "print(\"Training performance comparison:\")\n",
    "models_train_comp_df"
   ]
  },
  {
   "cell_type": "code",
   "execution_count": null,
   "metadata": {},
   "outputs": [],
   "source": [
    "# test performance comparison\n",
    "\n",
    "models_test_comp_df = pd.concat(\n",
    "    [lin_reg_model_perf_test.T, lin_reg_model2_perf_test.T, lin_reg_model3_perf_test.T],\n",
    "    axis=1,\n",
    ")\n",
    "\n",
    "models_test_comp_df.columns = [\n",
    "    \"Linear Regression sklearn\",\n",
    "    \"Linear Regression sklearn (binned columns)\",\n",
    "    \"Linear Regression sklearn (SFS features)\",\n",
    "]\n",
    "\n",
    "print(\"Test performance comparison:\")\n",
    "models_test_comp_df"
   ]
  },
  {
   "cell_type": "markdown",
   "metadata": {},
   "source": [
    "**We will consider the model with SFS features (*lin_reg_model3*) as our final model.**"
   ]
  },
  {
   "cell_type": "markdown",
   "metadata": {},
   "source": [
    "## Observations\n",
    "\n",
    "1. With our linear regression model *lin_reg_model3*, we have been able to capture ~90% of the variation in the data.\n",
    "\n",
    "\n",
    "2. MAE indicates that our current model is able to predict used car prices within a mean error of approx. 1.4 lakhs on the test data, and the MAPE indicates that the model can predict within ~14% of the used car price.\n",
    "\n",
    "\n",
    "3. Factors like the year of manufacture, numbers of seats, maximum power of the engine, few locations, few brands, etc. tend to increase the price of the used car.\n",
    "\n",
    "\n",
    "4. Factors like distance covered in unit fuel, log of the number of kilometers drive, few locations, few brands, etc. tend to decrease the price of the used car."
   ]
  },
  {
   "cell_type": "markdown",
   "metadata": {},
   "source": [
    "## Business Insights and Recommendations\n",
    "\n",
    "* Cars with a lesser number of kilometers driven should be preferred. \n",
    "\n",
    "\n",
    "* Some markets tend to have higher prices. Cars4U should focus more on these markets, and set up offices in these areas if needed.\n",
    "\n",
    "\n",
    "* We will have to analyze the cost side of things before we can talk about profitability in the business. We should gather data regarding that.\n",
    "\n",
    "\n",
    "* The next step post that would be to cluster different sets of data and see if we should make multiple models for different locations/car types."
   ]
  },
  {
   "cell_type": "markdown",
   "metadata": {},
   "source": [
    "## Add-on: Analysing predictions where we were way off the mark"
   ]
  },
  {
   "cell_type": "code",
   "execution_count": null,
   "metadata": {},
   "outputs": [],
   "source": [
    "# Extracting the rows from original data frame df where indexes are same as the training data\n",
    "original_df = df[df.index.isin(x_train2.index.values)].copy()\n",
    "\n",
    "# Extracting predicted values and residuals from the final model\n",
    "fitted_values = lin_reg_model2.predict(x_train2)\n",
    "residuals = fitted_values - y_train\n",
    "\n",
    "# Add new columns for predicted values\n",
    "original_df[\"Predicted price_log \"] = fitted_values\n",
    "original_df[\"Predicted Price\"] = np.exp(fitted_values)\n",
    "original_df[\"residuals\"] = residuals\n",
    "original_df[\"Abs_residuals\"] = np.exp(residuals)\n",
    "original_df[\"Difference in Lakhs\"] = np.abs(\n",
    "    original_df[\"Price\"] - original_df[\"Predicted Price\"]\n",
    ")\n",
    "\n",
    "# Let us look at the top 20 predictions where our model made highest extimation errors (on train data)\n",
    "original_df.sort_values(by=[\"Difference in Lakhs\"], ascending=False).head(20)"
   ]
  },
  {
   "cell_type": "markdown",
   "metadata": {},
   "source": [
    "**Observations**\n",
    "\n",
    "* A 2017 Land Rover, whose new model sells at 230 Lakhs and the used version sold at 160 Lakhs was predicted to be sold at < 3 Lakhs. It is not apparent after looking at numerical predictors, why our model predicted such low value here. This could be because many other land rovers in our data seem to have sold at lower prices.\n",
    "\n",
    "* Another entry in the list here is a Lamborghini Gallardo that was sold at 120 Lakhs but our model predicted the price around 3 lakhs. This is a huge error by the model. However, there might be a data entry error here as the price of a new Gallardo is set at around 11 Lakhs, which is less than the selling price of a used Gallardo.\n",
    "\n",
    "* There are a few instances where the model predicts lesser than the actual selling price. These could be a cause for concern. The model predicting lesser than potential selling price is not good for business.\n",
    "\n",
    "\n",
    "Let us quickly visualize some of these observations. "
   ]
  },
  {
   "cell_type": "code",
   "execution_count": null,
   "metadata": {},
   "outputs": [],
   "source": [
    "sns.scatterplot(\n",
    "    data=original_df,\n",
    "    x=\"Difference in Lakhs\",\n",
    "    y=\"Predicted Price\",\n",
    "    hue=original_df[\"Fuel_Type\"],\n",
    ")\n",
    "plt.show()"
   ]
  },
  {
   "cell_type": "markdown",
   "metadata": {},
   "source": [
    "- Our model predicts that the resale value of diesel cars is higher compared to petrol cars."
   ]
  },
  {
   "cell_type": "markdown",
   "metadata": {},
   "source": [
    "## Add-on: Advanced Data Preprocessing"
   ]
  },
  {
   "cell_type": "code",
   "execution_count": null,
   "metadata": {},
   "outputs": [],
   "source": [
    "df = data.copy()"
   ]
  },
  {
   "cell_type": "markdown",
   "metadata": {},
   "source": [
    "**1. `Mileage`**\n",
    "\n",
    "* We have car mileage in two units as per the data dictionary - kmpl and km/kg.\n",
    "\n",
    "* After quick research on the internet, it is clear that these 2 units are used for cars of 2 different fuel types.\n",
    "\n",
    "    * kmpl (kilometers per litre) is used for petrol and diesel cars.\n",
    "    * km/kg (kilometers per kg) is used for CNG and LPG-based engines.\n",
    "\n",
    "* We have the variable `Fuel_type` in our data. Let us check if these observations hold true in our data also."
   ]
  },
  {
   "cell_type": "code",
   "execution_count": null,
   "metadata": {},
   "outputs": [],
   "source": [
    "# Create 2 new columns after splitting the mileage values.\n",
    "mileage_num = []\n",
    "mileage_unit = []\n",
    "\n",
    "for observation in df[\"Mileage\"]:\n",
    "    if isinstance(observation, str):\n",
    "        if (\n",
    "            observation.split(\" \")[0]\n",
    "            .replace(\".\", \"\", 1)\n",
    "            .isdigit()  # first element should be numeric\n",
    "            and \" \" in observation  # space between numeric and unit\n",
    "            and (\n",
    "                observation.split(\" \")[1]\n",
    "                == \"kmpl\"  # units are limited to \"kmpl\" and \"km/kg\"\n",
    "                or observation.split(\" \")[1] == \"km/kg\"\n",
    "            )\n",
    "        ):\n",
    "            mileage_num.append(float(observation.split(\" \")[0]))\n",
    "            mileage_unit.append(observation.split(\" \")[1])\n",
    "        else:\n",
    "            # To detect if there are any observations in the column that do not follow\n",
    "            # the expected format [number + ' ' + 'kmpl' or 'km/kg']\n",
    "            print(\n",
    "                \"The data needs further processing. All values are not similar \",\n",
    "                observation,\n",
    "            )\n",
    "    else:\n",
    "        # If there are any missing values in the mileage column,\n",
    "        # we add corresponding missing values to the 2 new columns\n",
    "        mileage_num.append(np.nan)\n",
    "        mileage_unit.append(np.nan)"
   ]
  },
  {
   "cell_type": "markdown",
   "metadata": {},
   "source": [
    "* No print output from the function above. The values are all in the expected format or NaNs."
   ]
  },
  {
   "cell_type": "code",
   "execution_count": null,
   "metadata": {},
   "outputs": [],
   "source": [
    "# Add the new columns to the data\n",
    "\n",
    "df[\"mileage_num\"] = mileage_num\n",
    "df[\"mileage_unit\"] = mileage_unit\n",
    "\n",
    "# Checking the new dataframe\n",
    "df.head(5)"
   ]
  },
  {
   "cell_type": "code",
   "execution_count": null,
   "metadata": {},
   "outputs": [],
   "source": [
    "# Let us check if the units correspond to the fuel types\n",
    "df.groupby(by=[\"Fuel_Type\", \"mileage_unit\"]).size()"
   ]
  },
  {
   "cell_type": "markdown",
   "metadata": {},
   "source": [
    "* As expected, km/kg is for CNG/LPG cars and kmpl is for Petrol and Diesel cars."
   ]
  },
  {
   "cell_type": "markdown",
   "metadata": {},
   "source": [
    "**2. `Engine`**\n",
    "\n",
    "* As per the data dictionary, the `Engine` column indicates the displacement volume of the engine in CC.\n",
    "\n",
    "* We will make sure that all the observations follow the same format - [numeric + \" \" + \"CC\"] and create a new numeric column from this column.\n",
    "\n",
    "* This time, let's use a regex to make all the necessary checks."
   ]
  },
  {
   "cell_type": "code",
   "execution_count": null,
   "metadata": {},
   "outputs": [],
   "source": [
    "# re module provides support for regular expressions\n",
    "import re\n",
    "\n",
    "# Create a new column after splitting the engine values.\n",
    "engine_num = []\n",
    "\n",
    "# Regex for numeric + \" \" + \"CC\"  format\n",
    "regex_engine = \"^\\d+(\\.\\d+)? CC$\"\n",
    "\n",
    "for observation in df[\"Engine\"]:\n",
    "    if isinstance(observation, str):\n",
    "        if re.match(regex_engine, observation):\n",
    "            engine_num.append(float(observation.split(\" \")[0]))\n",
    "        else:\n",
    "            # To detect if there are any observations in the column that do not follow [numeric + \" \" + \"CC\"]  format\n",
    "            print(\n",
    "                \"The data needs furthur processing. All values are not similar \",\n",
    "                observation,\n",
    "            )\n",
    "    else:\n",
    "        # If there are any missing values in the engine column, we add missing values to the new column\n",
    "        engine_num.append(np.nan)"
   ]
  },
  {
   "cell_type": "markdown",
   "metadata": {},
   "source": [
    "* No print output from the function above. The values are all in the same format - [numeric + \" \" + \"CC\"] or NaNs."
   ]
  },
  {
   "cell_type": "code",
   "execution_count": null,
   "metadata": {
    "scrolled": true
   },
   "outputs": [],
   "source": [
    "# Add the new column to the data\n",
    "df[\"engine_num\"] = engine_num\n",
    "\n",
    "# Checking the new dataframe\n",
    "df.head()"
   ]
  },
  {
   "cell_type": "markdown",
   "metadata": {},
   "source": [
    "**3. `Power`**\n",
    "\n",
    "* As per the data dictionary, the `Power` column indicates the maximum power of the engine in bhp.\n",
    "\n",
    "* We will make sure that all the observations follow the same format - [numeric + \" \" + \"bhp\"] and create a new numeric column from this column like we did for the `Engine` column."
   ]
  },
  {
   "cell_type": "code",
   "execution_count": null,
   "metadata": {},
   "outputs": [],
   "source": [
    "# Create a new column after splitting the power values.\n",
    "power_num = []\n",
    "\n",
    "# Regex for numeric + \" \" + \"bhp\"  format\n",
    "regex_power = \"^\\d+(\\.\\d+)? bhp$\"\n",
    "\n",
    "for observation in df[\"Power\"]:\n",
    "    if isinstance(observation, str):\n",
    "        if re.match(regex_power, observation):\n",
    "            power_num.append(float(observation.split(\" \")[0]))\n",
    "        else:\n",
    "            # To detect if there are any observations in the column that do not follow [numeric + \" \" + \"bhp\"]  format\n",
    "            # that we see in the sample output\n",
    "            print(\n",
    "                \"The data needs furthur processing. All values are not similar \",\n",
    "                observation,\n",
    "            )\n",
    "    else:\n",
    "        # If there are any missing values in the power column, we add missing values to the new column\n",
    "        power_num.append(np.nan)"
   ]
  },
  {
   "cell_type": "markdown",
   "metadata": {},
   "source": [
    "* No print output from the function above. The values are all in the same format - [numeric + \" \" + \"bhp\"] or NaNs."
   ]
  },
  {
   "cell_type": "code",
   "execution_count": null,
   "metadata": {},
   "outputs": [],
   "source": [
    "# Add the new column to the data\n",
    "df[\"power_num\"] = power_num\n",
    "\n",
    "# Checking the new dataframe\n",
    "df.head()"
   ]
  },
  {
   "cell_type": "markdown",
   "metadata": {},
   "source": [
    "**4. `New_Price`**\n",
    "\n",
    "* We know that `New_Price` is the price of a new car of the same model in INR Lakhs.(1 Lakh INR = 100,000 INR)\n",
    "\n",
    "* This column clearly has a lot of missing values. We will impute the missing values later. For now we will only extract the numeric values from this column."
   ]
  },
  {
   "cell_type": "code",
   "execution_count": null,
   "metadata": {},
   "outputs": [],
   "source": [
    "# Create a new column after splitting the New_Price values.\n",
    "new_price_num = []\n",
    "\n",
    "# Regex for numeric + \" \" + \"Lakh\"  format\n",
    "regex_power = \"^\\d+(\\.\\d+)? Lakh$\"\n",
    "\n",
    "for observation in df[\"New_Price\"]:\n",
    "    if isinstance(observation, str):\n",
    "        if re.match(regex_power, observation):\n",
    "            new_price_num.append(float(observation.split(\" \")[0]))\n",
    "        else:\n",
    "            # To detect if there are any observations in the column that do not follow [numeric + \" \" + \"Lakh\"]  format\n",
    "            # that we see in the sample output\n",
    "            print(\n",
    "                \"The data needs furthur processing. All values are not similar \",\n",
    "                observation,\n",
    "            )\n",
    "    else:\n",
    "        # If there are any missing values in the New_Price column, we add missing values to the new column\n",
    "        new_price_num.append(np.nan)"
   ]
  },
  {
   "cell_type": "markdown",
   "metadata": {},
   "source": [
    "* Not all values are in Lakhs.\n",
    "\n",
    "* There are a few observations that are in Crores as well\n",
    "\n",
    "* Let us convert these to lakhs using the conversion rate 1 Cr = 100 Lakhs."
   ]
  },
  {
   "cell_type": "code",
   "execution_count": null,
   "metadata": {
    "scrolled": true
   },
   "outputs": [],
   "source": [
    "new_price_num = []\n",
    "\n",
    "for observation in df[\"New_Price\"]:\n",
    "    if isinstance(observation, str):\n",
    "        if re.match(regex_power, observation):\n",
    "            new_price_num.append(float(observation.split(\" \")[0]))\n",
    "        else:\n",
    "            # Converting values in Crore to lakhs\n",
    "            new_price_num.append(float(observation.split(\" \")[0]) * 100)\n",
    "    else:\n",
    "        # If there are any missing values in the New_Price column, we add missing values to the new column\n",
    "        new_price_num.append(np.nan)\n",
    "\n",
    "# Add the new column to the data\n",
    "df[\"new_price_num\"] = new_price_num\n",
    "\n",
    "# Checking the new dataframe\n",
    "df.head(5)"
   ]
  },
  {
   "cell_type": "markdown",
   "metadata": {
    "toc": true
   },
   "source": [
    "<h1>Table of Contents<span class=\"tocSkip\"></span></h1>\n",
    "<div class=\"toc\"><ul class=\"toc-item\"><li><span><a href=\"#Note:-This-is-a-sample-solution-for-the-project.-Projects-will-NOT-be-graded-on-the-basis-of-how-well-the-submission-matches-this-sample-solution.-Projects-will-be-graded-on-the-basis-of-the-rubric-only.\" data-toc-modified-id=\"Note:-This-is-a-sample-solution-for-the-project.-Projects-will-NOT-be-graded-on-the-basis-of-how-well-the-submission-matches-this-sample-solution.-Projects-will-be-graded-on-the-basis-of-the-rubric-only.-1\">Note: This is a sample solution for the project. Projects will NOT be graded on the basis of how well the submission matches this sample solution. Projects will be graded on the basis of the rubric only.</a></span></li><li><span><a href=\"#Context\" data-toc-modified-id=\"Context-2\">Context</a></span></li><li><span><a href=\"#Objective\" data-toc-modified-id=\"Objective-3\">Objective</a></span></li><li><span><a href=\"#Data-Description\" data-toc-modified-id=\"Data-Description-4\">Data Description</a></span></li><li><span><a href=\"#Let's-start-coding!\" data-toc-modified-id=\"Let's-start-coding!-5\">Let's start coding!</a></span><ul class=\"toc-item\"><li><span><a href=\"#Importing-necessary-libraries\" data-toc-modified-id=\"Importing-necessary-libraries-5.1\">Importing necessary libraries</a></span></li></ul></li><li><span><a href=\"#Data-Preprocessing\" data-toc-modified-id=\"Data-Preprocessing-6\">Data Preprocessing</a></span><ul class=\"toc-item\"><li><span><a href=\"#Processing-columns\" data-toc-modified-id=\"Processing-columns-6.1\">Processing columns</a></span></li><li><span><a href=\"#Feature-Engineering\" data-toc-modified-id=\"Feature-Engineering-6.2\">Feature Engineering</a></span><ul class=\"toc-item\"><li><span><a href=\"#1.-Car-Brand-Name\" data-toc-modified-id=\"1.-Car-Brand-Name-6.2.1\">1. Car Brand Name</a></span></li><li><span><a href=\"#2.-Car-Model-Name\" data-toc-modified-id=\"2.-Car-Model-Name-6.2.2\">2. Car Model Name</a></span></li></ul></li></ul></li><li><span><a href=\"#Exploratory-Data-Analysis\" data-toc-modified-id=\"Exploratory-Data-Analysis-7\">Exploratory Data Analysis</a></span><ul class=\"toc-item\"><li><span><a href=\"#Univariate-Analysis\" data-toc-modified-id=\"Univariate-Analysis-7.1\">Univariate Analysis</a></span></li><li><span><a href=\"#Kilometers_Driven\" data-toc-modified-id=\"Kilometers_Driven-7.2\"><em>Kilometers_Driven</em></a></span></li><li><span><a href=\"#Bivariate-Distributions\" data-toc-modified-id=\"Bivariate-Distributions-7.3\">Bivariate Distributions</a></span></li></ul></li><li><span><a href=\"#Data-Preprocessing-(contd.)\" data-toc-modified-id=\"Data-Preprocessing-(contd.)-8\">Data Preprocessing (contd.)</a></span><ul class=\"toc-item\"><li><span><a href=\"#Missing-Value-Treatment\" data-toc-modified-id=\"Missing-Value-Treatment-8.1\">Missing Value Treatment</a></span></li></ul></li><li><span><a href=\"#Linear-Model-Building\" data-toc-modified-id=\"Linear-Model-Building-9\">Linear Model Building</a></span><ul class=\"toc-item\"><li><span><a href=\"#Model-Performance-Check\" data-toc-modified-id=\"Model-Performance-Check-9.1\">Model Performance Check</a></span></li><li><span><a href=\"#Forward-Feature-Selection\" data-toc-modified-id=\"Forward-Feature-Selection-9.2\">Forward Feature Selection</a></span></li></ul></li><li><span><a href=\"#Observations\" data-toc-modified-id=\"Observations-10\">Observations</a></span></li><li><span><a href=\"#Business-Insights-and-Recommendations\" data-toc-modified-id=\"Business-Insights-and-Recommendations-11\">Business Insights and Recommendations</a></span></li><li><span><a href=\"#Add-on:-Analysing-predictions-where-we-were-way-off-the-mark\" data-toc-modified-id=\"Add-on:-Analysing-predictions-where-we-were-way-off-the-mark-12\">Add-on: Analysing predictions where we were way off the mark</a></span></li><li><span><a href=\"#Add-on:-Advanced-Data-Preprocessing\" data-toc-modified-id=\"Add-on:-Advanced-Data-Preprocessing-13\">Add-on: Advanced Data Preprocessing</a></span></li></ul></div>"
   ]
  }
 ],
 "metadata": {
  "kernelspec": {
   "display_name": "Python 3",
   "language": "python",
   "name": "python3"
  },
  "language_info": {
   "codemirror_mode": {
    "name": "ipython",
    "version": 3
   },
   "file_extension": ".py",
   "mimetype": "text/x-python",
   "name": "python",
   "nbconvert_exporter": "python",
   "pygments_lexer": "ipython3",
   "version": "3.8.8"
  },
  "toc": {
   "base_numbering": 1,
   "nav_menu": {},
   "number_sections": false,
   "sideBar": true,
   "skip_h1_title": false,
   "title_cell": "Table of Contents",
   "title_sidebar": "Contents",
   "toc_cell": true,
   "toc_position": {
    "height": "867px",
    "left": "10px",
    "top": "150px",
    "width": "310.188px"
   },
   "toc_section_display": true,
   "toc_window_display": true
  }
 },
 "nbformat": 4,
 "nbformat_minor": 4
}
