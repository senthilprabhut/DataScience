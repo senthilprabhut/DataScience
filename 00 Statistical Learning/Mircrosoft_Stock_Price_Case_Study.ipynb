{
 "cells": [
  {
   "cell_type": "markdown",
   "metadata": {
    "id": "87nYJb8PunPT"
   },
   "source": [
    "# <a name='link3'>**Normal Distribution**</a>"
   ]
  },
  {
   "cell_type": "markdown",
   "metadata": {
    "id": "XNsQZ1xNusNI"
   },
   "source": [
    "\n",
    "\n",
    "\n",
    "\n",
    "### Context\n",
    "\n",
    "Companies worth or its total market value is called market capitalization or market cap. It can be obtained by mutliplying stock price and shares outstanding. Stock price is a proportional and relative  value of companies growth. Here, analysing the stock price data will help us to understand the companies growth. Increase in stock price increases the companies market value"
   ]
  },
  {
   "cell_type": "markdown",
   "metadata": {
    "id": "1b4Wmz2fuvSW"
   },
   "source": [
    " \n",
    "\n",
    "\n",
    "### Problem statement:\n",
    "\n",
    " We have Collected the latest data of Microsoft Stock price and calculated daily log return and it   is approximately  normally distributed. Let us try to answer some of the question which will help us to decide roughly whether to invest in the Microsoft shares or not ?\n",
    "\n",
    "a) What is the probability that the stock price will drop over 5% in a day? \n",
    "\n",
    "b) What is the probability that the stock price will drop over 10% in a day?\n",
    " \n",
    "c) What is the probability that the stock price will drop over 50% in a year? \n",
    "\n",
    "d) What is the probability that the stock price will drop over 25% in a year?\n",
    "\n",
    "e) What is the 50th percentile  of the stock price?\n"
   ]
  },
  {
   "cell_type": "markdown",
   "metadata": {
    "id": "qRvk2yIeuzhl"
   },
   "source": [
    "### Data Description:\n",
    "\n",
    "Stock price data of Microsoft  is collected from [Yahoo finance](https://finance.yahoo.com/quote/MSFT/history/?guccounter=1&guce_referrer=aHR0cHM6Ly93d3cuZ29vZ2xlLmNvbS8&guce_referrer_sig=AQAAACSI6SR_7Lby3ssAYvSwbF4Vrasme85BzSE1On02J71Ft-9OAY7hldPaYfYfqY4cCXkAj2PzEpzcLOBo3Usc4RC37eM4jZI5bqXmsXoAdEWXXDKLtJpZI4GK2EAXM8HRWFhkkkUckOoyxvcw66UVWlAnUMRswLPnIPNivRXivisH). It has four main attributes, as follows:\n",
    "\n",
    "1. **Date:** Date of the stock price \n",
    "\n",
    "2. **Open:** The average value of opened price on the particular day \n",
    "\n",
    "3. **Close:**  The average value of closed  price on the particular day  \n",
    "\n",
    "4. **Low:** The lowest price that was reached, that particular day\n",
    "\n",
    "5. **High:**The highest price that was reached, that particular day"
   ]
  },
  {
   "cell_type": "markdown",
   "metadata": {
    "id": "74H1TQUju5Cx"
   },
   "source": [
    "### Importing libraries "
   ]
  },
  {
   "cell_type": "code",
   "execution_count": 2,
   "metadata": {
    "id": "PZCzw9HGupYm"
   },
   "outputs": [],
   "source": [
    "import pandas as pd\n",
    "import numpy as np\n",
    "import matplotlib.pyplot as plt\n",
    "import seaborn as sns\n",
    "%matplotlib inline"
   ]
  },
  {
   "cell_type": "markdown",
   "metadata": {
    "id": "rx8Lxdtwu_6N"
   },
   "source": [
    "\n",
    "### Reading the Data into the Dataframe"
   ]
  },
  {
   "cell_type": "code",
   "execution_count": 3,
   "metadata": {
    "colab": {
     "base_uri": "https://localhost:8080/",
     "height": 195
    },
    "id": "o2uGcZEuvIB_",
    "outputId": "86f2d5d4-d2f5-4719-e17c-3fcaddc0c14e"
   },
   "outputs": [
    {
     "data": {
      "text/html": [
       "<div>\n",
       "<style scoped>\n",
       "    .dataframe tbody tr th:only-of-type {\n",
       "        vertical-align: middle;\n",
       "    }\n",
       "\n",
       "    .dataframe tbody tr th {\n",
       "        vertical-align: top;\n",
       "    }\n",
       "\n",
       "    .dataframe thead th {\n",
       "        text-align: right;\n",
       "    }\n",
       "</style>\n",
       "<table border=\"1\" class=\"dataframe\">\n",
       "  <thead>\n",
       "    <tr style=\"text-align: right;\">\n",
       "      <th></th>\n",
       "      <th>Date</th>\n",
       "      <th>Open</th>\n",
       "      <th>High</th>\n",
       "      <th>Low</th>\n",
       "      <th>Close</th>\n",
       "      <th>Adj Close</th>\n",
       "      <th>Volume</th>\n",
       "    </tr>\n",
       "  </thead>\n",
       "  <tbody>\n",
       "    <tr>\n",
       "      <th>0</th>\n",
       "      <td>2020-01-10</td>\n",
       "      <td>162.820007</td>\n",
       "      <td>163.220001</td>\n",
       "      <td>161.179993</td>\n",
       "      <td>161.339996</td>\n",
       "      <td>159.648727</td>\n",
       "      <td>20725900</td>\n",
       "    </tr>\n",
       "    <tr>\n",
       "      <th>1</th>\n",
       "      <td>2020-01-13</td>\n",
       "      <td>161.759995</td>\n",
       "      <td>163.309998</td>\n",
       "      <td>161.259995</td>\n",
       "      <td>163.279999</td>\n",
       "      <td>161.568405</td>\n",
       "      <td>21626500</td>\n",
       "    </tr>\n",
       "    <tr>\n",
       "      <th>2</th>\n",
       "      <td>2020-01-14</td>\n",
       "      <td>163.389999</td>\n",
       "      <td>163.600006</td>\n",
       "      <td>161.720001</td>\n",
       "      <td>162.130005</td>\n",
       "      <td>160.430450</td>\n",
       "      <td>23477400</td>\n",
       "    </tr>\n",
       "    <tr>\n",
       "      <th>3</th>\n",
       "      <td>2020-01-15</td>\n",
       "      <td>162.619995</td>\n",
       "      <td>163.940002</td>\n",
       "      <td>162.570007</td>\n",
       "      <td>163.179993</td>\n",
       "      <td>161.469452</td>\n",
       "      <td>21417900</td>\n",
       "    </tr>\n",
       "    <tr>\n",
       "      <th>4</th>\n",
       "      <td>2020-01-16</td>\n",
       "      <td>164.350006</td>\n",
       "      <td>166.240005</td>\n",
       "      <td>164.029999</td>\n",
       "      <td>166.169998</td>\n",
       "      <td>164.428116</td>\n",
       "      <td>23865400</td>\n",
       "    </tr>\n",
       "  </tbody>\n",
       "</table>\n",
       "</div>"
      ],
      "text/plain": [
       "         Date        Open        High         Low       Close   Adj Close  \\\n",
       "0  2020-01-10  162.820007  163.220001  161.179993  161.339996  159.648727   \n",
       "1  2020-01-13  161.759995  163.309998  161.259995  163.279999  161.568405   \n",
       "2  2020-01-14  163.389999  163.600006  161.720001  162.130005  160.430450   \n",
       "3  2020-01-15  162.619995  163.940002  162.570007  163.179993  161.469452   \n",
       "4  2020-01-16  164.350006  166.240005  164.029999  166.169998  164.428116   \n",
       "\n",
       "     Volume  \n",
       "0  20725900  \n",
       "1  21626500  \n",
       "2  23477400  \n",
       "3  21417900  \n",
       "4  23865400  "
      ]
     },
     "execution_count": 3,
     "metadata": {},
     "output_type": "execute_result"
    }
   ],
   "source": [
    "ms = pd.read_csv('MSFT.csv')\n",
    "ms.head()"
   ]
  },
  {
   "cell_type": "markdown",
   "metadata": {
    "id": "YMBPTY9yvKpL"
   },
   "source": [
    "### Log Daily return :\n",
    "\n",
    "\n",
    "Log returns are defined as the calculation of return on investment using logarithm. It  gives a clearer picture about the overall returns  better than the arithmetic formula  that we use for returns in everyday life.\n",
    "\n",
    "Day 1: Rs 100\n",
    "\n",
    "Day 2: Rs 150\n",
    "\n",
    "Day 3: Rs 75\n",
    "\n",
    "Calculation of returns using arithmetic return calculation:\n",
    "\n",
    "Return= (Final Value - Initial value)/Initial Value\n",
    "\n",
    "Return on Day 2: (150-100)/100 =0.50 that is 50%\n",
    "\n",
    "Return on Day 3: (75-150)/150= -0.50 that is -50%\n",
    "\n",
    "Overall return: (75-100)/100= -0.25 that is -25%\n",
    "\n",
    "Here it shows  you gained 50% on day 2 and had a loss of 50% on day 3. It looks like you are at neither loss, nor gain point. But actually you are at a loss of 25% on Day 3 compared to Day 1. Arithmetic returns fails here.\n",
    "\n",
    "Let us calculate the returns using Log Returns Formula\n",
    "\n",
    "Log Return= ln(Final Value) – ln(Initial value)\n",
    "\n",
    "Return on Day 2: ln 150- ln 100= 5.01 – 4.60= 0.41\n",
    "\n",
    "Return on Day 3: ln 75- ln 150= 4.32- 5.01= -0.69\n",
    "\n",
    "Overall return: ln 75- ln 100 = 4.32- 4.60= -0.28\n",
    "\n",
    "In term of log returns your return for day 2 is 0.41 and for Day 3 is -0.69. So it is clearly visible that your loss on Day 3 is more than the gain on Day 2. You should get overall return as -0.28 on Day 3 however you calculate - either by adding the daily returns or by using the formula (ln75- ln100).\n",
    "\n",
    "This is not true in case of arithmetic returns where you get “0” by adding daily returns but actually -25% in the above example. A log daily return gives clearer picture of returns of an investment."
   ]
  },
  {
   "cell_type": "code",
   "execution_count": 4,
   "metadata": {
    "id": "ZGQ2T0cRvL22"
   },
   "outputs": [],
   "source": [
    "# let's calculate log daily return for Microsoft data\n",
    "ms['LogReturn'] = np.log(ms['Close']).shift(-1) - np.log(ms['Close'])"
   ]
  },
  {
   "cell_type": "code",
   "execution_count": 5,
   "metadata": {
    "colab": {
     "base_uri": "https://localhost:8080/"
    },
    "id": "1jhpvYidvOux",
    "outputId": "67f0102a-24cf-47d3-e31b-294b362c4df8"
   },
   "outputs": [
    {
     "data": {
      "text/plain": [
       "0      0.011953\n",
       "1     -0.007068\n",
       "2      0.006455\n",
       "3      0.018158\n",
       "4      0.005581\n",
       "         ...   \n",
       "247    0.000964\n",
       "248   -0.026271\n",
       "249    0.028060\n",
       "250    0.006074\n",
       "251         NaN\n",
       "Name: LogReturn, Length: 252, dtype: float64"
      ]
     },
     "execution_count": 5,
     "metadata": {},
     "output_type": "execute_result"
    }
   ],
   "source": [
    "ms['LogReturn']"
   ]
  },
  {
   "cell_type": "markdown",
   "metadata": {
    "id": "eLLivqwrvUru"
   },
   "source": [
    "### *Calculating* the mean and standard deviation (Parameters) of the data "
   ]
  },
  {
   "cell_type": "code",
   "execution_count": 6,
   "metadata": {
    "id": "Fd3fcJ2tvVHf"
   },
   "outputs": [],
   "source": [
    "from scipy.stats import norm\n",
    "mu = ms['LogReturn'].mean()\n",
    "sigma = ms['LogReturn'].std(ddof=1)"
   ]
  },
  {
   "cell_type": "markdown",
   "metadata": {
    "id": "JvFccvmivaqD"
   },
   "source": [
    "### Plotting the Distribution \n",
    "\n",
    "It  will help us analyse the shape of data distribution and PDF of normal distribution using the calculated parameters ( mu and sigma ) from data"
   ]
  },
  {
   "cell_type": "code",
   "execution_count": 24,
   "metadata": {
    "colab": {
     "base_uri": "https://localhost:8080/",
     "height": 333
    },
    "id": "imDlwanmvX8T",
    "outputId": "179113d4-b87a-491f-eaf1-e8c6c2588be6"
   },
   "outputs": [
    {
     "data": {
      "image/png": "[encoded data removed]",
      "text/plain": [
       "<Figure size 432x288 with 1 Axes>"
      ]
     },
     "metadata": {
      "needs_background": "light"
     },
     "output_type": "display_data"
    }
   ],
   "source": [
    "# Plot a histogram to show the distribution of log return of Microsoft's stock. \n",
    "\n",
    "density = pd.DataFrame()\n",
    "density['x'] = np.arange(ms['LogReturn'].min()-0.01, ms['LogReturn'].max()+0.01, 0.001)\n",
    "density['pdf'] = norm.pdf(density['x'], mu, sigma)\n",
    "\n",
    "sns.histplot(ms['LogReturn'], kde = True, stat = 'density')\n",
    "plt.plot(density['x'], density['pdf'], color='red')\n",
    "plt.show()"
   ]
  },
  {
   "cell_type": "markdown",
   "metadata": {
    "id": "ujriM3cVvf2M"
   },
   "source": [
    "**Insight:**  As you  can see in the above plot, there are two curves red and blue. Blue curve represents the shape of data distribution and red curve represnts the PDF ( Probability density function ). This data is approximately normal. Thus, We can assume this data distribution as normal and apply other calculation of PDF and CDF based on normality assumption"
   ]
  },
  {
   "cell_type": "markdown",
   "metadata": {
    "id": "GP40qyu5vjGk"
   },
   "source": [
    "As we already discussed that stock price represents the growth of the company and increasing or decreasing of stock price will effect the market value of the company. If anyone  would like  to buy the shares of the company then he  will  be interested in knowing the probability of increment or decrement of stock price. This probability can be calculated using CDF. Lets understand CDF.\n",
    "\n",
    "\n",
    "**CDF:** of a Random variable ( X ) is the probability that X  will take the value less than or equal to x. It can be represented mathematically as -\n",
    "\n",
    "![image.png](data:image/png;base64,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)\n",
    "\n",
    "In our case, Random Variable ( X ) is log daily return and suppose, we are interested in calculating the probability of 5% decrement (-5% increment)  in stock price. Mathematically, It can be represented as \n",
    "\n",
    "### P(X<=-0.05 )\n",
    "\n",
    "As discussed, The above probability can be calculated using CDF. scipy.stats provides a function called cdf() to calculate the CDF of any distribution. Here, we assumed our data to be normal distribution so we can use norm.cdf()\n",
    "\n",
    "\n",
    "\n"
   ]
  },
  {
   "cell_type": "markdown",
   "metadata": {
    "id": "tRz6vjDrvsGs"
   },
   "source": [
    "\n",
    "Calculate the probability that the stock price will drop by a certain percentage in a day\n",
    "\n",
    "\n"
   ]
  },
  {
   "cell_type": "code",
   "execution_count": null,
   "metadata": {
    "colab": {
     "base_uri": "https://localhost:8080/"
    },
    "id": "sLXPadUSvgNE",
    "outputId": "a1736acf-a316-49af-e603-57b64ffa1e85"
   },
   "outputs": [
    {
     "name": "stdout",
     "output_type": "stream",
     "text": [
      "The Probability is  0.00014286950002576163\n"
     ]
    }
   ],
   "source": [
    "# probability that the stock price of microsoft will drop over 10% in a day\n",
    "p_return2 = norm.cdf(-0.10, mu, sigma)\n",
    "print('The Probability is ', p_return2)"
   ]
  },
  {
   "cell_type": "markdown",
   "metadata": {
    "id": "9vHXiYsev1hG"
   },
   "source": [
    "Calculate the probability of the stock price will drop over a certain percentage in a year"
   ]
  },
  {
   "cell_type": "code",
   "execution_count": null,
   "metadata": {
    "colab": {
     "base_uri": "https://localhost:8080/"
    },
    "id": "0gqSRlidv19t",
    "outputId": "6e5aa00a-3f72-4fe3-cb37-7505e317ec7a"
   },
   "outputs": [
    {
     "name": "stdout",
     "output_type": "stream",
     "text": [
      "The probability of dropping over 40% in 220 days is  0.031356238615463994\n"
     ]
    }
   ],
   "source": [
    "# drop over 50% in 220 days\n",
    "mu220 = 220*mu\n",
    "sigma220 = (220**0.5) * sigma\n",
    "print('The probability of dropping over 40% in 220 days is ', norm.cdf(-0.5, mu220, sigma220))"
   ]
  },
  {
   "cell_type": "markdown",
   "metadata": {
    "id": "fvnEkJLbv-Up"
   },
   "source": [
    "What is the 50th percentile of the stock price?"
   ]
  },
  {
   "cell_type": "code",
   "execution_count": null,
   "metadata": {
    "colab": {
     "base_uri": "https://localhost:8080/"
    },
    "id": "wKqk2Z58wj2V",
    "outputId": "b09c331b-ac8b-4ef8-aed3-eba5cc66caeb"
   },
   "outputs": [
    {
     "data": {
      "text/plain": [
       "0.2702974716774153"
      ]
     },
     "execution_count": 13,
     "metadata": {
      "tags": []
     },
     "output_type": "execute_result"
    }
   ],
   "source": [
    "norm.ppf(0.50, loc=mu220, scale=sigma220)"
   ]
  },
  {
   "cell_type": "markdown",
   "metadata": {
    "id": "VH4FbhyIwogc"
   },
   "source": [
    "### Conclusion: \n",
    "\n",
    " From the above calculation, It is clear that the probability of decrement in stock price of Microsoft is very less. Therefore, It is safe to invest in buying the shares of Microsoft"
   ]
  }
 ],
 "metadata": {
  "colab": {
   "name": "Additional_case_study_Stock_price.ipynbA",
   "provenance": []
  },
  "kernelspec": {
   "display_name": "Python 3",
   "language": "python",
   "name": "python3"
  },
  "language_info": {
   "codemirror_mode": {
    "name": "ipython",
    "version": 3
   },
   "file_extension": ".py",
   "mimetype": "text/x-python",
   "name": "python",
   "nbconvert_exporter": "python",
   "pygments_lexer": "ipython3",
   "version": "3.8.5"
  }
 },
 "nbformat": 4,
 "nbformat_minor": 1
}
