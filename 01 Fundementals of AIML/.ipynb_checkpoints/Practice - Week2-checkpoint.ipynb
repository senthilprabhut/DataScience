{
 "cells": [
  {
   "cell_type": "code",
   "execution_count": 2,
   "id": "9327970a",
   "metadata": {},
   "outputs": [],
   "source": [
    "import numpy as np\n",
    "import pandas as pd"
   ]
  },
  {
   "cell_type": "code",
   "execution_count": 10,
   "id": "bf08894e",
   "metadata": {},
   "outputs": [
    {
     "data": {
      "text/html": [
       "<div>\n",
       "<style scoped>\n",
       "    .dataframe tbody tr th:only-of-type {\n",
       "        vertical-align: middle;\n",
       "    }\n",
       "\n",
       "    .dataframe tbody tr th {\n",
       "        vertical-align: top;\n",
       "    }\n",
       "\n",
       "    .dataframe thead th {\n",
       "        text-align: right;\n",
       "    }\n",
       "</style>\n",
       "<table border=\"1\" class=\"dataframe\">\n",
       "  <thead>\n",
       "    <tr style=\"text-align: right;\">\n",
       "      <th></th>\n",
       "      <th>0</th>\n",
       "      <th>1</th>\n",
       "      <th>2</th>\n",
       "      <th>3</th>\n",
       "      <th>4</th>\n",
       "    </tr>\n",
       "  </thead>\n",
       "  <tbody>\n",
       "    <tr>\n",
       "      <th>c1</th>\n",
       "      <td>-0.315877</td>\n",
       "      <td>0.757592</td>\n",
       "      <td>1.626257</td>\n",
       "      <td>-0.466996</td>\n",
       "      <td>0.435813</td>\n",
       "    </tr>\n",
       "    <tr>\n",
       "      <th>c2</th>\n",
       "      <td>1.945087</td>\n",
       "      <td>0.075842</td>\n",
       "      <td>-0.567899</td>\n",
       "      <td>0.879793</td>\n",
       "      <td>-2.811271</td>\n",
       "    </tr>\n",
       "    <tr>\n",
       "      <th>c3</th>\n",
       "      <td>2.060938</td>\n",
       "      <td>-1.175029</td>\n",
       "      <td>0.165261</td>\n",
       "      <td>0.969912</td>\n",
       "      <td>0.210103</td>\n",
       "    </tr>\n",
       "    <tr>\n",
       "      <th>c4</th>\n",
       "      <td>-1.327823</td>\n",
       "      <td>0.059258</td>\n",
       "      <td>-1.328623</td>\n",
       "      <td>1.552208</td>\n",
       "      <td>0.438567</td>\n",
       "    </tr>\n",
       "    <tr>\n",
       "      <th>c5</th>\n",
       "      <td>0.073607</td>\n",
       "      <td>-1.014340</td>\n",
       "      <td>-1.325728</td>\n",
       "      <td>1.026450</td>\n",
       "      <td>0.286935</td>\n",
       "    </tr>\n",
       "  </tbody>\n",
       "</table>\n",
       "</div>"
      ],
      "text/plain": [
       "           0         1         2         3         4\n",
       "c1 -0.315877  0.757592  1.626257 -0.466996  0.435813\n",
       "c2  1.945087  0.075842 -0.567899  0.879793 -2.811271\n",
       "c3  2.060938 -1.175029  0.165261  0.969912  0.210103\n",
       "c4 -1.327823  0.059258 -1.328623  1.552208  0.438567\n",
       "c5  0.073607 -1.014340 -1.325728  1.026450  0.286935"
      ]
     },
     "execution_count": 10,
     "metadata": {},
     "output_type": "execute_result"
    }
   ],
   "source": [
    "df1 = pd.DataFrame(np.random.randn(5,5),['r1', 'r2', 'r3', 'r4', 'r5'],['c1', 'c2', 'c3', 'c4', 'c5'])\n",
    "df1"
   ]
  },
  {
   "cell_type": "code",
   "execution_count": 9,
   "id": "7278d0c9",
   "metadata": {},
   "outputs": [
    {
     "data": {
      "text/plain": [
       "0   -0.467523\n",
       "1    0.796108\n",
       "2   -0.904706\n",
       "3    0.370471\n",
       "4   -0.020962\n",
       "dtype: float64"
      ]
     },
     "execution_count": 9,
     "metadata": {},
     "output_type": "execute_result"
    }
   ],
   "source": [
    "df1.mean()"
   ]
  }
 ],
 "metadata": {
  "kernelspec": {
   "display_name": "Python 3",
   "language": "python",
   "name": "python3"
  },
  "language_info": {
   "codemirror_mode": {
    "name": "ipython",
    "version": 3
   },
   "file_extension": ".py",
   "mimetype": "text/x-python",
   "name": "python",
   "nbconvert_exporter": "python",
   "pygments_lexer": "ipython3",
   "version": "3.8.8"
  }
 },
 "nbformat": 4,
 "nbformat_minor": 5
}
