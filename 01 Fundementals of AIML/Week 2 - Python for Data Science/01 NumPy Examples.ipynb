{
 "cells": [
  {
   "cell_type": "markdown",
   "metadata": {},
   "source": [
    "# NumPy\n",
    "\n",
    "numpy is python's package for doing math that is more advanced than +-*/\n",
    "\n",
    "This includes special functions like cosine, exponential, sqrt, ...\n",
    "\n",
    "On top of this we can use numpy to generate samples from many types of random variables\n",
    "\n",
    "numpy also has a powerful data type to define vectors, matrices, and tensors\n",
    "\n",
    "With these data types numpy also allows us to do linear algebra - matrix multiplication and matrix-vector solutions"
   ]
  },
  {
   "cell_type": "code",
   "execution_count": 4,
   "metadata": {},
   "outputs": [],
   "source": [
    "# the first step of using numpy is to tell python to use it\n",
    "import numpy as np"
   ]
  },
  {
   "cell_type": "code",
   "execution_count": 3,
   "metadata": {},
   "outputs": [
    {
     "name": "stdout",
     "output_type": "stream",
     "text": [
      "-1.0\n",
      "1.1\n",
      "5.2\n"
     ]
    }
   ],
   "source": [
    "print(np.cos(np.pi))\n",
    "print(np.sqrt(1.21))\n",
    "print(np.log(np.exp(5.2)))"
   ]
  },
  {
   "cell_type": "code",
   "execution_count": 5,
   "metadata": {},
   "outputs": [
    {
     "name": "stdout",
     "output_type": "stream",
     "text": [
      "[1 2 3]\n",
      "\n",
      "[[1 2 1]\n",
      " [4 5 9]\n",
      " [1 8 9]]\n",
      "\n",
      "[[1 4 1]\n",
      " [2 5 8]\n",
      " [1 9 9]]\n"
     ]
    }
   ],
   "source": [
    "# we can create numpy arrays by converting lists\n",
    "# this is a vector\n",
    "vec = np.array([1,2,3])\n",
    "print(vec)\n",
    "# we can create matrices by converting lists of lists\n",
    "mat = np.array([[1,2,1],[4,5,9],[1,8,9]])\n",
    "print('')\n",
    "print(mat)\n",
    "print('')\n",
    "print(mat.T)"
   ]
  },
  {
   "cell_type": "code",
   "execution_count": 4,
   "metadata": {},
   "outputs": [
    {
     "name": "stdout",
     "output_type": "stream",
     "text": [
      "[ 0  1  2  3  4  5  6  7  8  9 10 11 12 13 14]\n",
      "\n",
      "[ 3  9 15]\n"
     ]
    }
   ],
   "source": [
    "# there are lots of other ways to create numpy arrays\n",
    "vec2 = np.arange(0,15)\n",
    "print(vec2)\n",
    "print('')\n",
    "vec3 = np.arange(3,21,6)\n",
    "print(vec3)\n"
   ]
  },
  {
   "cell_type": "code",
   "execution_count": 10,
   "metadata": {},
   "outputs": [
    {
     "name": "stdout",
     "output_type": "stream",
     "text": [
      "[0.  0.3 0.6 0.9 1.2 1.5 1.8 2.1 2.4 2.7]\n",
      "\n",
      "[[0.  0.3]\n",
      " [0.6 0.9]\n",
      " [1.2 1.5]\n",
      " [1.8 2.1]\n",
      " [2.4 2.7]]\n",
      "[[0.  0.3]\n",
      " [0.6 0.9]\n",
      " [1.2 1.5]\n",
      " [1.8 2.1]\n",
      " [2.4 2.7]]\n",
      "[0.  0.3 0.6 0.9 1.2 1.5 1.8 2.1 2.4 2.7]\n"
     ]
    }
   ],
   "source": [
    "\n",
    "vec4 = np.linspace(0,2.7,10)\n",
    "print(vec4)\n",
    "print('')\n",
    "print(vec4.reshape(5,2))\n",
    "vec4_reshaped = vec4.reshape(5,2)\n",
    "print(vec4_reshaped)\n",
    "print(vec4)"
   ]
  },
  {
   "cell_type": "code",
   "execution_count": 6,
   "metadata": {},
   "outputs": [
    {
     "name": "stdout",
     "output_type": "stream",
     "text": [
      "[[0. 0. 0.]\n",
      " [0. 0. 0.]\n",
      " [0. 0. 0.]\n",
      " [0. 0. 0.]\n",
      " [0. 0. 0.]]\n",
      "\n",
      "[[1. 1. 1. 1. 1.]\n",
      " [1. 1. 1. 1. 1.]\n",
      " [1. 1. 1. 1. 1.]]\n",
      "\n",
      "[[1. 0. 0. 0. 0.]\n",
      " [0. 1. 0. 0. 0.]\n",
      " [0. 0. 1. 0. 0.]\n",
      " [0. 0. 0. 1. 0.]\n",
      " [0. 0. 0. 0. 1.]]\n",
      "\n",
      "[[1. 0. 0.]\n",
      " [0. 1. 0.]\n",
      " [0. 0. 1.]]\n"
     ]
    }
   ],
   "source": [
    "mat2 = np.zeros([5,3])\n",
    "print(mat2)\n",
    "mat3 = np.ones([3,5])\n",
    "print('')\n",
    "print(mat3)\n",
    "mat4 = np.eye(5)\n",
    "print('')\n",
    "print(mat4)\n",
    "mat5 = np.identity(3)\n",
    "print('')\n",
    "print(mat5)"
   ]
  },
  {
   "cell_type": "code",
   "execution_count": 7,
   "metadata": {},
   "outputs": [
    {
     "name": "stdout",
     "output_type": "stream",
     "text": [
      "[1 2 3 4 5]\n",
      "[3 4 5 6 7]\n",
      "[ 4  6  8 10 12]\n",
      "[ 3  8 15 24 35]\n",
      "[1.         0.5        0.33333333 0.25       0.2       ]\n",
      "[1.73205081 2.         2.23606798 2.44948974 2.64575131]\n"
     ]
    }
   ],
   "source": [
    "# we can +-*/ arrays together if they're the right size\n",
    "vec5 = np.arange(1,6)\n",
    "vec6 = np.arange(3,8)\n",
    "print(vec5)\n",
    "print(vec6)\n",
    "print(vec5+vec6)\n",
    "print(vec5*vec6)\n",
    "print(1/vec5)\n",
    "print(np.sqrt(vec6))"
   ]
  },
  {
   "cell_type": "code",
   "execution_count": 6,
   "metadata": {},
   "outputs": [
    {
     "name": "stdout",
     "output_type": "stream",
     "text": [
      "[[1 2 1]\n",
      " [4 5 9]\n",
      " [1 8 9]]\n",
      "\n",
      "[1 2 3]\n",
      "\n",
      "[ 8 41 44]\n"
     ]
    },
    {
     "data": {
      "text/plain": [
       "array([ 8, 41, 44])"
      ]
     },
     "execution_count": 6,
     "metadata": {},
     "output_type": "execute_result"
    }
   ],
   "source": [
    "# we can do matrix multiplication\n",
    "print(mat)\n",
    "print('')\n",
    "print(vec)\n",
    "print()\n",
    "product = np.matmul(mat,vec)\n",
    "print(product)\n",
    "np.dot(mat,vec)"
   ]
  },
  {
   "cell_type": "code",
   "execution_count": null,
   "metadata": {},
   "outputs": [],
   "source": [
    "print(np.linalg.solve(mat,product))\n",
    "print('')\n",
    "print(np.linalg.inv(mat))"
   ]
  },
  {
   "cell_type": "code",
   "execution_count": null,
   "metadata": {},
   "outputs": [],
   "source": [
    "# we can find the unique values in an array\n",
    "vec7 = np.array(['blue','red','orange','purple','purple','orange','Red',6])\n",
    "print(vec7)\n",
    "print(np.unique(vec7))"
   ]
  },
  {
   "cell_type": "code",
   "execution_count": 8,
   "metadata": {},
   "outputs": [
    {
     "name": "stdout",
     "output_type": "stream",
     "text": [
      "[[0.17449841 0.20866617 0.47016372 0.9472717  0.81695037]\n",
      " [0.98943198 0.52235164 0.22737395 0.27775865 0.97776174]\n",
      " [0.1603372  0.23909095 0.81640724 0.98258811 0.52183336]\n",
      " [0.13129602 0.0741105  0.82022194 0.93947194 0.2203356 ]\n",
      " [0.0589452  0.21529044 0.73621013 0.2119624  0.04762744]]\n",
      "\n",
      "[[-1.08453715 -0.23512509  1.48496276  0.53862614 -1.82701497]\n",
      " [ 0.82647659 -0.97907354  1.33245302  0.67190827 -1.10497461]\n",
      " [ 0.08958679  0.08220298  0.74512525 -1.73781883 -0.56065551]\n",
      " [-0.22467716 -0.53036236  0.63314407  1.10149381  1.32469272]\n",
      " [ 0.23162549  0.71864273 -0.8249232   0.59165303  0.42193159]\n",
      " [ 0.53730824  0.36132004  1.19003476 -0.32839276 -0.75379862]\n",
      " [ 1.72381764  0.4874957   0.42547566  3.30444083  0.69487719]\n",
      " [-0.4317742   1.18259271  0.89150322 -2.02210961  0.62887256]\n",
      " [ 0.04082363 -0.40781267 -0.95143917  0.43819548  1.10442394]\n",
      " [-0.31919178 -0.16113854 -0.45503565 -0.97671179 -0.53875049]]\n"
     ]
    }
   ],
   "source": [
    "# we can also use numpy to generate samples of a random variable\n",
    "rand_mat = np.random.rand(5,5) # uniform random variable\n",
    "print(rand_mat)\n",
    "rand_mat2 = np.random.randn(10,5) # standard normal random variable\n",
    "print('')\n",
    "print(rand_mat2)"
   ]
  },
  {
   "cell_type": "code",
   "execution_count": null,
   "metadata": {},
   "outputs": [],
   "source": [
    "# we can also use numpy for statistical tools on arrays\n",
    "print(np.mean(rand_mat))\n",
    "print(np.std(rand_mat2))"
   ]
  },
  {
   "cell_type": "code",
   "execution_count": null,
   "metadata": {},
   "outputs": [],
   "source": [
    "print(np.min(rand_mat))\n",
    "print(np.max(rand_mat2))"
   ]
  },
  {
   "cell_type": "code",
   "execution_count": null,
   "metadata": {},
   "outputs": [],
   "source": [
    "# break here for next video!"
   ]
  },
  {
   "cell_type": "code",
   "execution_count": 12,
   "metadata": {},
   "outputs": [
    {
     "name": "stdout",
     "output_type": "stream",
     "text": [
      "[-2.307993    0.53260463  1.34933654  0.55069813 -0.87660197  0.01962415\n",
      "  0.86441679 -0.52831756 -0.30783829 -0.07950709 -0.87325283  1.13709424\n",
      "  0.46566504 -0.41857198  1.95456521 -1.69737856  0.5736775  -0.11827205\n",
      " -1.42247371]\n",
      "0.8644167876674735\n"
     ]
    }
   ],
   "source": [
    "# how do we access entries in a numpy vector\n",
    "rand_vec = np.random.randn(19)\n",
    "print(rand_vec)\n",
    "print(rand_vec[6])"
   ]
  },
  {
   "cell_type": "code",
   "execution_count": null,
   "metadata": {},
   "outputs": [],
   "source": [
    "# we can access multiple entries at once using :\n",
    "print(rand_vec[4:9])"
   ]
  },
  {
   "cell_type": "code",
   "execution_count": null,
   "metadata": {},
   "outputs": [],
   "source": [
    "# we can also access multiple non-consecutive entries using np.arange\n",
    "print(np.arange(0,15,3))\n",
    "print(rand_vec[np.arange(0,15,3)])"
   ]
  },
  {
   "cell_type": "code",
   "execution_count": 9,
   "metadata": {},
   "outputs": [
    {
     "name": "stdout",
     "output_type": "stream",
     "text": [
      "[[0.17449841 0.20866617 0.47016372 0.9472717  0.81695037]\n",
      " [0.98943198 0.52235164 0.22737395 0.27775865 0.97776174]\n",
      " [0.1603372  0.23909095 0.81640724 0.98258811 0.52183336]\n",
      " [0.13129602 0.0741105  0.82022194 0.93947194 0.2203356 ]\n",
      " [0.0589452  0.21529044 0.73621013 0.2119624  0.04762744]]\n",
      "0.22737395227467394\n",
      "0.22737395227467394\n"
     ]
    }
   ],
   "source": [
    "# what about matrices\n",
    "print(rand_mat)\n",
    "print(rand_mat[1][2])\n",
    "print(rand_mat[1,2])\n"
   ]
  },
  {
   "cell_type": "code",
   "execution_count": 10,
   "metadata": {},
   "outputs": [
    {
     "name": "stdout",
     "output_type": "stream",
     "text": [
      "[[0.20866617 0.47016372]\n",
      " [0.52235164 0.22737395]]\n"
     ]
    }
   ],
   "source": [
    "print(rand_mat[0:2,1:3])"
   ]
  },
  {
   "cell_type": "code",
   "execution_count": 13,
   "metadata": {},
   "outputs": [
    {
     "name": "stdout",
     "output_type": "stream",
     "text": [
      "[-2.307993    0.53260463  1.34933654  0.55069813 -0.87660197  0.01962415\n",
      "  0.86441679 -0.52831756 -0.30783829 -0.07950709 -0.87325283  1.13709424\n",
      "  0.46566504 -0.41857198  1.95456521 -1.69737856  0.5736775  -0.11827205\n",
      " -1.42247371]\n",
      "\n",
      "[-2.307993    0.53260463  1.34933654  4.          4.          0.01962415\n",
      "  0.86441679 -0.52831756 -0.30783829 -0.07950709 -0.87325283  1.13709424\n",
      "  0.46566504 -0.41857198  1.95456521 -1.69737856  0.5736775  -0.11827205\n",
      " -1.42247371]\n",
      "\n",
      "[-2.307993    0.53260463  1.34933654  1.          2.          0.01962415\n",
      "  0.86441679 -0.52831756 -0.30783829 -0.07950709 -0.87325283  1.13709424\n",
      "  0.46566504 -0.41857198  1.95456521 -1.69737856  0.5736775  -0.11827205\n",
      " -1.42247371]\n"
     ]
    }
   ],
   "source": [
    "# let's change some values in an array!\n",
    "print(rand_vec)\n",
    "rand_vec[3:5] = 4\n",
    "print('')\n",
    "print(rand_vec)\n",
    "rand_vec[3:5] = [1,2]\n",
    "print('')\n",
    "print(rand_vec)"
   ]
  },
  {
   "cell_type": "code",
   "execution_count": 14,
   "metadata": {},
   "outputs": [
    {
     "name": "stdout",
     "output_type": "stream",
     "text": [
      "[[0.17449841 0.20866617 0.47016372 0.9472717  0.81695037]\n",
      " [0.98943198 0.52235164 0.22737395 0.27775865 0.97776174]\n",
      " [0.1603372  0.23909095 0.81640724 0.98258811 0.52183336]\n",
      " [0.13129602 0.0741105  0.82022194 0.93947194 0.2203356 ]\n",
      " [0.0589452  0.21529044 0.73621013 0.2119624  0.04762744]]\n",
      "\n",
      "[[0.17449841 0.20866617 0.47016372 0.9472717  0.81695037]\n",
      " [0.98943198 0.52235164 0.22737395 0.         0.        ]\n",
      " [0.1603372  0.23909095 0.81640724 0.         0.        ]\n",
      " [0.13129602 0.0741105  0.82022194 0.93947194 0.2203356 ]\n",
      " [0.0589452  0.21529044 0.73621013 0.2119624  0.04762744]]\n"
     ]
    }
   ],
   "source": [
    "print(rand_mat)\n",
    "rand_mat[1:3,3:5] = 0\n",
    "print('')\n",
    "print(rand_mat)"
   ]
  },
  {
   "cell_type": "code",
   "execution_count": 15,
   "metadata": {},
   "outputs": [
    {
     "name": "stdout",
     "output_type": "stream",
     "text": [
      "[[0.17449841 0.20866617 0.47016372]\n",
      " [0.98943198 0.52235164 0.22737395]]\n",
      "[[3. 3. 3.]\n",
      " [3. 3. 3.]]\n"
     ]
    }
   ],
   "source": [
    "sub_mat = rand_mat[0:2,0:3]\n",
    "print(sub_mat)\n",
    "sub_mat[:] = 3\n",
    "print(sub_mat)\n"
   ]
  },
  {
   "cell_type": "code",
   "execution_count": 16,
   "metadata": {},
   "outputs": [
    {
     "name": "stdout",
     "output_type": "stream",
     "text": [
      "[[3.         3.         3.         0.9472717  0.81695037]\n",
      " [3.         3.         3.         0.         0.        ]\n",
      " [0.1603372  0.23909095 0.81640724 0.         0.        ]\n",
      " [0.13129602 0.0741105  0.82022194 0.93947194 0.2203356 ]\n",
      " [0.0589452  0.21529044 0.73621013 0.2119624  0.04762744]]\n"
     ]
    }
   ],
   "source": [
    "print(rand_mat)"
   ]
  },
  {
   "cell_type": "code",
   "execution_count": 17,
   "metadata": {},
   "outputs": [
    {
     "name": "stdout",
     "output_type": "stream",
     "text": [
      "[[99. 99. 99.]\n",
      " [99. 99. 99.]]\n",
      "[[3.         3.         3.         0.9472717  0.81695037]\n",
      " [3.         3.         3.         0.         0.        ]\n",
      " [0.1603372  0.23909095 0.81640724 0.         0.        ]\n",
      " [0.13129602 0.0741105  0.82022194 0.93947194 0.2203356 ]\n",
      " [0.0589452  0.21529044 0.73621013 0.2119624  0.04762744]]\n"
     ]
    }
   ],
   "source": [
    "sub_mat2 = rand_mat[0:2,0:3].copy()\n",
    "sub_mat2[:] = 99\n",
    "print(sub_mat2)\n",
    "print(rand_mat)\n"
   ]
  },
  {
   "cell_type": "code",
   "execution_count": null,
   "metadata": {},
   "outputs": [],
   "source": [
    "# break here for next video"
   ]
  },
  {
   "cell_type": "code",
   "execution_count": 18,
   "metadata": {},
   "outputs": [
    {
     "name": "stdout",
     "output_type": "stream",
     "text": [
      "[-2.4205353  -1.7397436   0.10071986 -0.68438158 -0.66991341 -0.16525283\n",
      " -1.41946252 -0.52520038 -0.03513198 -0.12557472 -1.06620544 -0.98071567\n",
      "  0.71401428  0.83761188 -1.14851397]\n",
      "[False False  True False False False False False False False False False\n",
      "  True  True False]\n",
      "[0.10071986 0.71401428 0.83761188]\n"
     ]
    }
   ],
   "source": [
    "# we can also access entries with logicals\n",
    "rand_vec = np.random.randn(15)\n",
    "\n",
    "print(rand_vec)\n",
    "print(rand_vec>0)\n",
    "print(rand_vec[rand_vec>0])"
   ]
  },
  {
   "cell_type": "code",
   "execution_count": 19,
   "metadata": {},
   "outputs": [
    {
     "name": "stdout",
     "output_type": "stream",
     "text": [
      "[[-1.08453715 -0.23512509  1.48496276  0.53862614 -1.82701497]\n",
      " [ 0.82647659 -0.97907354  1.33245302  0.67190827 -1.10497461]\n",
      " [ 0.08958679  0.08220298  0.74512525 -1.73781883 -0.56065551]\n",
      " [-0.22467716 -0.53036236  0.63314407  1.10149381  1.32469272]\n",
      " [ 0.23162549  0.71864273 -0.8249232   0.59165303  0.42193159]\n",
      " [ 0.53730824  0.36132004  1.19003476 -0.32839276 -0.75379862]\n",
      " [ 1.72381764  0.4874957   0.42547566  3.30444083  0.69487719]\n",
      " [-0.4317742   1.18259271  0.89150322 -2.02210961  0.62887256]\n",
      " [ 0.04082363 -0.40781267 -0.95143917  0.43819548  1.10442394]\n",
      " [-0.31919178 -0.16113854 -0.45503565 -0.97671179 -0.53875049]]\n",
      "[1.48496276 0.53862614 0.82647659 1.33245302 0.67190827 0.08958679\n",
      " 0.08220298 0.74512525 0.63314407 1.10149381 1.32469272 0.23162549\n",
      " 0.71864273 0.59165303 0.42193159 0.53730824 0.36132004 1.19003476\n",
      " 1.72381764 0.4874957  0.42547566 3.30444083 0.69487719 1.18259271\n",
      " 0.89150322 0.62887256 0.04082363 0.43819548 1.10442394]\n"
     ]
    }
   ],
   "source": [
    "print(rand_mat2)\n",
    "print(rand_mat2[rand_mat2>0])"
   ]
  },
  {
   "cell_type": "code",
   "execution_count": null,
   "metadata": {},
   "outputs": [],
   "source": [
    "\n",
    "print(rand_vec)\n",
    "print('')\n",
    "rand_vec[rand_vec>0.5] = -5\n",
    "print(rand_vec)"
   ]
  },
  {
   "cell_type": "code",
   "execution_count": 20,
   "metadata": {},
   "outputs": [],
   "source": [
    "# let's save some arrays on the disk for use later!\n",
    "np.save('saved_file_name',rand_mat2)\n"
   ]
  },
  {
   "cell_type": "code",
   "execution_count": 21,
   "metadata": {},
   "outputs": [],
   "source": [
    "np.savez('zipped_file_name',rand_mat=rand_mat,rand_mat2=rand_mat2)"
   ]
  },
  {
   "cell_type": "code",
   "execution_count": 22,
   "metadata": {},
   "outputs": [
    {
     "name": "stdout",
     "output_type": "stream",
     "text": [
      "[[-1.08453715 -0.23512509  1.48496276  0.53862614 -1.82701497]\n",
      " [ 0.82647659 -0.97907354  1.33245302  0.67190827 -1.10497461]\n",
      " [ 0.08958679  0.08220298  0.74512525 -1.73781883 -0.56065551]\n",
      " [-0.22467716 -0.53036236  0.63314407  1.10149381  1.32469272]\n",
      " [ 0.23162549  0.71864273 -0.8249232   0.59165303  0.42193159]\n",
      " [ 0.53730824  0.36132004  1.19003476 -0.32839276 -0.75379862]\n",
      " [ 1.72381764  0.4874957   0.42547566  3.30444083  0.69487719]\n",
      " [-0.4317742   1.18259271  0.89150322 -2.02210961  0.62887256]\n",
      " [ 0.04082363 -0.40781267 -0.95143917  0.43819548  1.10442394]\n",
      " [-0.31919178 -0.16113854 -0.45503565 -0.97671179 -0.53875049]]\n",
      "\n",
      "<numpy.lib.npyio.NpzFile object at 0x7fee980961c0>\n"
     ]
    }
   ],
   "source": [
    "# now let's load it\n",
    "loaded_vec = np.load('saved_file_name.npy')\n",
    "loaded_zip = np.load('zipped_file_name.npz')\n",
    "\n",
    "print(loaded_vec)\n",
    "print('')\n",
    "print(loaded_zip)"
   ]
  },
  {
   "cell_type": "code",
   "execution_count": 23,
   "metadata": {},
   "outputs": [
    {
     "name": "stdout",
     "output_type": "stream",
     "text": [
      "[[3.         3.         3.         0.9472717  0.81695037]\n",
      " [3.         3.         3.         0.         0.        ]\n",
      " [0.1603372  0.23909095 0.81640724 0.         0.        ]\n",
      " [0.13129602 0.0741105  0.82022194 0.93947194 0.2203356 ]\n",
      " [0.0589452  0.21529044 0.73621013 0.2119624  0.04762744]]\n",
      "\n",
      "[[-1.08453715 -0.23512509  1.48496276  0.53862614 -1.82701497]\n",
      " [ 0.82647659 -0.97907354  1.33245302  0.67190827 -1.10497461]\n",
      " [ 0.08958679  0.08220298  0.74512525 -1.73781883 -0.56065551]\n",
      " [-0.22467716 -0.53036236  0.63314407  1.10149381  1.32469272]\n",
      " [ 0.23162549  0.71864273 -0.8249232   0.59165303  0.42193159]\n",
      " [ 0.53730824  0.36132004  1.19003476 -0.32839276 -0.75379862]\n",
      " [ 1.72381764  0.4874957   0.42547566  3.30444083  0.69487719]\n",
      " [-0.4317742   1.18259271  0.89150322 -2.02210961  0.62887256]\n",
      " [ 0.04082363 -0.40781267 -0.95143917  0.43819548  1.10442394]\n",
      " [-0.31919178 -0.16113854 -0.45503565 -0.97671179 -0.53875049]]\n",
      "[[3.         3.         3.         0.9472717  0.81695037]\n",
      " [3.         3.         3.         0.         0.        ]\n",
      " [0.1603372  0.23909095 0.81640724 0.         0.        ]\n",
      " [0.13129602 0.0741105  0.82022194 0.93947194 0.2203356 ]\n",
      " [0.0589452  0.21529044 0.73621013 0.2119624  0.04762744]]\n"
     ]
    }
   ],
   "source": [
    "print(loaded_zip['rand_mat'])\n",
    "print('')\n",
    "print(loaded_zip['rand_mat2'])\n",
    "\n",
    "new_array  = loaded_zip['rand_mat']\n",
    "print(new_array)"
   ]
  },
  {
   "cell_type": "code",
   "execution_count": null,
   "metadata": {},
   "outputs": [],
   "source": [
    "# we can also save/load as text files...but only single variables\n",
    "np.savetxt('text_file_name.txt',rand_mat,delimiter=',')\n",
    "rand_mat_txt = np.loadtxt('text_file_name.txt',delimiter=',')\n",
    "print(rand_mat)\n",
    "print('')\n",
    "print(rand_mat_txt)"
   ]
  },
  {
   "cell_type": "code",
   "execution_count": null,
   "metadata": {},
   "outputs": [],
   "source": []
  }
 ],
 "metadata": {
  "kernelspec": {
   "display_name": "Python 3",
   "language": "python",
   "name": "python3"
  },
  "language_info": {
   "codemirror_mode": {
    "name": "ipython",
    "version": 3
   },
   "file_extension": ".py",
   "mimetype": "text/x-python",
   "name": "python",
   "nbconvert_exporter": "python",
   "pygments_lexer": "ipython3",
   "version": "3.8.8"
  }
 },
 "nbformat": 4,
 "nbformat_minor": 2
}
