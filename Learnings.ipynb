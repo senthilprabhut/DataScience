{
 "cells": [
  {
   "cell_type": "markdown",
   "id": "efb91a21",
   "metadata": {},
   "source": [
    "# 1. Loading libraries"
   ]
  },
  {
   "cell_type": "code",
   "execution_count": 1,
   "id": "ba69638c",
   "metadata": {},
   "outputs": [
    {
     "data": {
      "text/plain": "<IPython.core.display.Javascript object>",
      "application/javascript": "\n            setTimeout(function() {\n                var nbb_cell_id = 1;\n                var nbb_unformatted_code = \"# this will help in making the Python code more structured automatically (good coding practice)\\n%load_ext nb_black\\n\\n# Libraries to help with reading and manipulating data\\nimport numpy as np\\nimport pandas as pd\\n\\n# Libraries to help with data visualization\\nimport matplotlib.pyplot as plt\\nimport seaborn as sns\\n\\n%matplotlib inline\\nsns.set(color_codes=True)\\n\\nimport warnings\\nwarnings.filterwarnings(\\\"ignore\\\")\\n\\n# Removes the limit from the number of displayed columns and rows.\\n# This is so I can see the entire dataframe when I print it\\npd.set_option(\\\"display.max_columns\\\", None)\\npd.set_option(\\\"display.max_rows\\\", 200)\";\n                var nbb_formatted_code = \"# this will help in making the Python code more structured automatically (good coding practice)\\n%load_ext nb_black\\n\\n# Libraries to help with reading and manipulating data\\nimport numpy as np\\nimport pandas as pd\\n\\n# Libraries to help with data visualization\\nimport matplotlib.pyplot as plt\\nimport seaborn as sns\\n\\n%matplotlib inline\\nsns.set(color_codes=True)\\n\\nimport warnings\\n\\nwarnings.filterwarnings(\\\"ignore\\\")\\n\\n# Removes the limit from the number of displayed columns and rows.\\n# This is so I can see the entire dataframe when I print it\\npd.set_option(\\\"display.max_columns\\\", None)\\npd.set_option(\\\"display.max_rows\\\", 200)\";\n                var nbb_cells = Jupyter.notebook.get_cells();\n                for (var i = 0; i < nbb_cells.length; ++i) {\n                    if (nbb_cells[i].input_prompt_number == nbb_cell_id) {\n                        if (nbb_cells[i].get_text() == nbb_unformatted_code) {\n                             nbb_cells[i].set_text(nbb_formatted_code);\n                        }\n                        break;\n                    }\n                }\n            }, 500);\n            "
     },
     "metadata": {},
     "output_type": "display_data"
    }
   ],
   "source": [
    "# this will help in making the Python code more structured automatically (good coding practice)\n",
    "%load_ext nb_black\n",
    "\n",
    "# Libraries to help with reading and manipulating data\n",
    "import numpy as np\n",
    "import pandas as pd\n",
    "\n",
    "# Libraries to help with data visualization\n",
    "import matplotlib.pyplot as plt\n",
    "import seaborn as sns\n",
    "\n",
    "%matplotlib inline\n",
    "sns.set(color_codes=True)\n",
    "\n",
    "import warnings\n",
    "warnings.filterwarnings(\"ignore\")\n",
    "\n",
    "# Removes the limit from the number of displayed columns and rows.\n",
    "# This is so I can see the entire dataframe when I print it\n",
    "pd.set_option(\"display.max_columns\", None)\n",
    "pd.set_option(\"display.max_rows\", 200)"
   ]
  },
  {
   "cell_type": "code",
   "execution_count": 2,
   "id": "a2054995",
   "metadata": {},
   "outputs": [
    {
     "data": {
      "text/plain": "<IPython.core.display.Javascript object>",
      "application/javascript": "\n            setTimeout(function() {\n                var nbb_cell_id = 2;\n                var nbb_unformatted_code = \"# from sklearn.linear_model import LinearRegression # to build linear regression_model\\n# from sklearn.model_selection import train_test_split # Sklearn package's randomized data splitting function\\n# from sklearn.metrics import mean_squared_error, r2_score, mean_absolute_error   # to check model performance\";\n                var nbb_formatted_code = \"# from sklearn.linear_model import LinearRegression # to build linear regression_model\\n# from sklearn.model_selection import train_test_split # Sklearn package's randomized data splitting function\\n# from sklearn.metrics import mean_squared_error, r2_score, mean_absolute_error   # to check model performance\";\n                var nbb_cells = Jupyter.notebook.get_cells();\n                for (var i = 0; i < nbb_cells.length; ++i) {\n                    if (nbb_cells[i].input_prompt_number == nbb_cell_id) {\n                        if (nbb_cells[i].get_text() == nbb_unformatted_code) {\n                             nbb_cells[i].set_text(nbb_formatted_code);\n                        }\n                        break;\n                    }\n                }\n            }, 500);\n            "
     },
     "metadata": {},
     "output_type": "display_data"
    }
   ],
   "source": [
    "# from sklearn.linear_model import LinearRegression # to build linear regression_model\n",
    "# from sklearn.model_selection import train_test_split # Sklearn package's randomized data splitting function\n",
    "# from sklearn.metrics import mean_squared_error, r2_score, mean_absolute_error   # to check model performance"
   ]
  },
  {
   "cell_type": "markdown",
   "id": "bf30c432",
   "metadata": {},
   "source": [
    "# 2. Loading and exploring the data"
   ]
  },
  {
   "cell_type": "code",
   "execution_count": 3,
   "id": "06e348b5",
   "metadata": {},
   "outputs": [
    {
     "name": "stdout",
     "output_type": "stream",
     "text": [
      "There are 18207 rows and 88 columns\n"
     ]
    },
    {
     "data": {
      "text/plain": "(18207, 88)"
     },
     "execution_count": 3,
     "metadata": {},
     "output_type": "execute_result"
    },
    {
     "data": {
      "text/plain": "<IPython.core.display.Javascript object>",
      "application/javascript": "\n            setTimeout(function() {\n                var nbb_cell_id = 3;\n                var nbb_unformatted_code = \"# index_col: Column(s) to use as the row labels of the ``DataFrame``,\\n# either given as string name or column index.\\ndf = pd.read_csv(\\\"FIFA2019.csv\\\", index_col=0)\\n\\nprint(f\\\"There are {df.shape[0]} rows and {df.shape[1]} columns\\\")\\ndf.shape\";\n                var nbb_formatted_code = \"# index_col: Column(s) to use as the row labels of the ``DataFrame``,\\n# either given as string name or column index.\\ndf = pd.read_csv(\\\"FIFA2019.csv\\\", index_col=0)\\n\\nprint(f\\\"There are {df.shape[0]} rows and {df.shape[1]} columns\\\")\\ndf.shape\";\n                var nbb_cells = Jupyter.notebook.get_cells();\n                for (var i = 0; i < nbb_cells.length; ++i) {\n                    if (nbb_cells[i].input_prompt_number == nbb_cell_id) {\n                        if (nbb_cells[i].get_text() == nbb_unformatted_code) {\n                             nbb_cells[i].set_text(nbb_formatted_code);\n                        }\n                        break;\n                    }\n                }\n            }, 500);\n            "
     },
     "metadata": {},
     "output_type": "display_data"
    }
   ],
   "source": [
    "# index_col: Column(s) to use as the row labels of the ``DataFrame``,\n",
    "# either given as string name or column index.\n",
    "df = pd.read_csv(\"FIFA2019.csv\", index_col=0)\n",
    "\n",
    "print(f\"There are {df.shape[0]} rows and {df.shape[1]} columns\")\n",
    "df.shape"
   ]
  },
  {
   "cell_type": "code",
   "execution_count": 4,
   "id": "6ac13040",
   "metadata": {},
   "outputs": [
    {
     "data": {
      "text/plain": "           ID           Name  Age  \\\n14078  237359     L. Jonsson   25   \n13801  226264     F. Ahumada   22   \n7339   114356      M. Wölfli   35   \n5170   240243  Matheus Cunha   19   \n7231   215192        G. Díaz   30   \n2232   204367    B. van Leer   26   \n16179  242124       Y. Maeda   33   \n7868   244274      A. Šemper   20   \n14466  236471       M. Kaasa   20   \n7402   203461     H. Kryeziu   25   \n\n                                                Photo  Nationality  \\\n14078  https://cdn.sofifa.org/players/4/19/237359.png       Sweden   \n13801  https://cdn.sofifa.org/players/4/19/226264.png        Chile   \n7339   https://cdn.sofifa.org/players/4/19/114356.png  Switzerland   \n5170   https://cdn.sofifa.org/players/4/19/240243.png       Brazil   \n7231   https://cdn.sofifa.org/players/4/19/215192.png    Argentina   \n2232   https://cdn.sofifa.org/players/4/19/204367.png  Netherlands   \n16179  https://cdn.sofifa.org/players/4/19/242124.png        Japan   \n7868   https://cdn.sofifa.org/players/4/19/244274.png      Croatia   \n14466  https://cdn.sofifa.org/players/4/19/236471.png       Norway   \n7402   https://cdn.sofifa.org/players/4/19/203461.png       Kosovo   \n\n                                       Flag  Overall  Potential  \\\n14078   https://cdn.sofifa.org/flags/46.png       61         65   \n13801   https://cdn.sofifa.org/flags/55.png       62         72   \n7339    https://cdn.sofifa.org/flags/47.png       68         68   \n5170    https://cdn.sofifa.org/flags/54.png       70         85   \n7231    https://cdn.sofifa.org/flags/52.png       68         68   \n2232    https://cdn.sofifa.org/flags/34.png       74         76   \n16179  https://cdn.sofifa.org/flags/163.png       58         58   \n7868    https://cdn.sofifa.org/flags/10.png       67         80   \n14466   https://cdn.sofifa.org/flags/36.png       61         74   \n7402   https://cdn.sofifa.org/flags/219.png       68         73   \n\n                   Club                                        Club Logo  \\\n14078         IK Sirius  https://cdn.sofifa.org/teams/2/light/113458.png   \n13801      CD Palestino  https://cdn.sofifa.org/teams/2/light/111328.png   \n7339     BSC Young Boys     https://cdn.sofifa.org/teams/2/light/900.png   \n5170         RB Leipzig  https://cdn.sofifa.org/teams/2/light/112172.png   \n7231    Vélez Sarsfield  https://cdn.sofifa.org/teams/2/light/101088.png   \n2232          NAC Breda    https://cdn.sofifa.org/teams/2/light/1904.png   \n16179  V-Varen Nagasaki  https://cdn.sofifa.org/teams/2/light/112448.png   \n7868      Chievo Verona     https://cdn.sofifa.org/teams/2/light/192.png   \n14466           Odds BK    https://cdn.sofifa.org/teams/2/light/1456.png   \n7402          FC Zürich     https://cdn.sofifa.org/teams/2/light/894.png   \n\n       Value  Wage  Special Preferred Foot  International Reputation  \\\n14078  €230K   €1K      942          Right                       1.0   \n13801  €500K   €1K     1548          Right                       1.0   \n7339   €210K   €4K     1063          Right                       1.0   \n5170   €3.8M  €14K     1723          Right                       1.0   \n7231   €650K   €6K     1894          Right                       1.0   \n2232   €4.7M  €11K     1183          Right                       1.0   \n16179   €50K   €1K     1573          Right                       1.0   \n7868   €1.2M   €3K      916          Right                       1.0   \n14466  €475K   €1K     1628          Right                       1.0   \n7402     €1M   €6K     1848          Right                       1.0   \n\n       Weak Foot  Skill Moves       Work Rate Body Type Real Face Position  \\\n14078        2.0          1.0  Medium/ Medium    Normal        No       GK   \n13801        2.0          3.0  Medium/ Medium    Normal        No       ST   \n7339         3.0          1.0  Medium/ Medium    Normal        No       GK   \n5170         4.0          3.0  Medium/ Medium      Lean        No       ST   \n7231         2.0          3.0  Medium/ Medium    Normal        No       RB   \n2232         2.0          1.0  Medium/ Medium    Normal        No       GK   \n16179        5.0          2.0    Medium/ High      Lean        No      CDM   \n7868         2.0          1.0  Medium/ Medium    Normal        No       GK   \n14466        3.0          3.0  Medium/ Medium      Lean        No       CM   \n7402         3.0          2.0      High/ High      Lean        No      LCM   \n\n       Jersey Number        Joined Loaned From Contract Valid Until Height  \\\n14078           30.0  Dec 20, 2014         NaN                 2019    6'3   \n13801           29.0   Jul 1, 2017         NaN                 2018   5'11   \n7339             1.0   Jul 1, 2000         NaN                 2019    6'1   \n5170            20.0   Jul 1, 2018         NaN                 2023    6'0   \n7231            24.0   Aug 3, 2017         NaN                 2020    5'9   \n2232             1.0           NaN        Ajax         Jun 30, 2019    6'2   \n16179            6.0   Jan 1, 2012         NaN                 2018    5'9   \n7868             1.0   Jul 1, 2016         NaN                 2022    6'4   \n14466           17.0  Sep 14, 2016         NaN                 2021    5'9   \n7402            71.0  Jun 10, 2018         NaN                 2021   5'11   \n\n       Weight    LS    ST    RS    LW    LF    CF    RF    RW   LAM   CAM  \\\n14078  209lbs   NaN   NaN   NaN   NaN   NaN   NaN   NaN   NaN   NaN   NaN   \n13801  165lbs  61+2  61+2  61+2  61+2  60+2  60+2  60+2  61+2  60+2  60+2   \n7339   194lbs   NaN   NaN   NaN   NaN   NaN   NaN   NaN   NaN   NaN   NaN   \n5170   165lbs  68+2  68+2  68+2  69+2  69+2  69+2  69+2  69+2  67+2  67+2   \n7231   165lbs  62+2  62+2  62+2  68+2  67+2  67+2  67+2  68+2  68+2  68+2   \n2232   176lbs   NaN   NaN   NaN   NaN   NaN   NaN   NaN   NaN   NaN   NaN   \n16179  152lbs  49+2  49+2  49+2  51+2  51+2  51+2  51+2  51+2  52+2  52+2   \n7868   201lbs   NaN   NaN   NaN   NaN   NaN   NaN   NaN   NaN   NaN   NaN   \n14466  132lbs  55+2  55+2  55+2  60+2  59+2  59+2  59+2  60+2  61+2  61+2   \n7402   165lbs  61+2  61+2  61+2  64+2  63+2  63+2  63+2  64+2  65+2  65+2   \n\n        RAM    LM   LCM    CM   RCM    RM   LWB   LDM   CDM   RDM   RWB    LB  \\\n14078   NaN   NaN   NaN   NaN   NaN   NaN   NaN   NaN   NaN   NaN   NaN   NaN   \n13801  60+2  61+2  56+2  56+2  56+2  61+2  48+2  46+2  46+2  46+2  48+2  46+2   \n7339    NaN   NaN   NaN   NaN   NaN   NaN   NaN   NaN   NaN   NaN   NaN   NaN   \n5170   67+2  67+2  59+2  59+2  59+2  67+2  49+2  45+2  45+2  45+2  49+2  46+2   \n7231   68+2  69+2  68+2  68+2  68+2  69+2  68+2  67+2  67+2  67+2  68+2  67+2   \n2232    NaN   NaN   NaN   NaN   NaN   NaN   NaN   NaN   NaN   NaN   NaN   NaN   \n16179  52+2  52+2  54+2  54+2  54+2  52+2  56+2  57+2  57+2  57+2  56+2  55+2   \n7868    NaN   NaN   NaN   NaN   NaN   NaN   NaN   NaN   NaN   NaN   NaN   NaN   \n14466  61+2  61+2  60+2  60+2  60+2  61+2  57+2  56+2  56+2  56+2  57+2  56+2   \n7402   65+2  65+2  67+2  67+2  67+2  65+2  67+2  66+2  66+2  66+2  67+2  66+2   \n\n        LCB    CB   RCB    RB  Crossing  Finishing  HeadingAccuracy  \\\n14078   NaN   NaN   NaN   NaN      13.0        6.0             13.0   \n13801  41+2  41+2  41+2  46+2      53.0       63.0             59.0   \n7339    NaN   NaN   NaN   NaN      12.0       13.0             13.0   \n5170   40+2  40+2  40+2  46+2      64.0       69.0             61.0   \n7231   63+2  63+2  63+2  67+2      72.0       44.0             52.0   \n2232    NaN   NaN   NaN   NaN      12.0       12.0             18.0   \n16179  55+2  55+2  55+2  55+2      42.0       37.0             39.0   \n7868    NaN   NaN   NaN   NaN      14.0       15.0             12.0   \n14466  51+2  51+2  51+2  56+2      49.0       45.0             49.0   \n7402   63+2  63+2  63+2  66+2      60.0       48.0             61.0   \n\n       ShortPassing  Volleys  Dribbling  Curve  FKAccuracy  LongPassing  \\\n14078          23.0      9.0       11.0   11.0        13.0         23.0   \n13801          61.0     38.0       64.0   45.0        33.0         58.0   \n7339           13.0     14.0       11.0   16.0        14.0         12.0   \n5170           57.0     61.0       71.0   62.0        56.0         55.0   \n7231           67.0     45.0       69.0   71.0        67.0         68.0   \n2232           34.0     14.0       11.0    9.0        12.0         35.0   \n16179          57.0     46.0       52.0   41.0        43.0         51.0   \n7868           23.0      9.0       12.0   12.0        13.0         24.0   \n14466          63.0     52.0       67.0   56.0        48.0         59.0   \n7402           73.0     51.0       60.0   51.0        39.0         70.0   \n\n       BallControl  Acceleration  SprintSpeed  Agility  Reactions  Balance  \\\n14078         19.0          36.0         35.0     44.0       51.0     32.0   \n13801         65.0          70.0         71.0     66.0       61.0     66.0   \n7339          12.0          37.0         42.0     46.0       69.0     52.0   \n5170          73.0          78.0         75.0     69.0       67.0     69.0   \n7231          73.0          78.0         72.0     76.0       70.0     73.0   \n2232          23.0          44.0         42.0     43.0       73.0     57.0   \n16179         58.0          62.0         53.0     66.0       58.0     73.0   \n7868          15.0          19.0         19.0     21.0       64.0     22.0   \n14466         64.0          71.0         69.0     80.0       62.0     80.0   \n7402          69.0          74.0         74.0     80.0       62.0     74.0   \n\n       ShotPower  Jumping  Stamina  Strength  LongShots  Aggression  \\\n14078       16.0     36.0     28.0      73.0        5.0        24.0   \n13801       63.0     65.0     70.0      69.0       56.0        33.0   \n7339        13.0     66.0     24.0      59.0       12.0        36.0   \n5170        74.0     73.0     68.0      64.0       68.0        59.0   \n7231        72.0     67.0     80.0      66.0       69.0        67.0   \n2232        25.0     69.0     35.0      55.0       19.0        41.0   \n16179       57.0     60.0     70.0      60.0       52.0        64.0   \n7868        18.0     31.0     21.0      47.0       13.0        26.0   \n14466       50.0     52.0     66.0      50.0       39.0        40.0   \n7402        63.0     81.0     83.0      62.0       58.0        60.0   \n\n       Interceptions  Positioning  Vision  Penalties  Composure  Marking  \\\n14078            6.0          5.0    42.0       17.0       42.0     21.0   \n13801           22.0         51.0    50.0       51.0       52.0     32.0   \n7339            23.0         16.0    50.0       11.0       64.0     14.0   \n5170            14.0         68.0    68.0       60.0       64.0     30.0   \n7231            65.0         66.0    72.0       50.0       56.0     64.0   \n2232            13.0         18.0    45.0       27.0       62.0     10.0   \n16179           59.0         43.0    51.0       51.0       48.0     51.0   \n7868            11.0          9.0    63.0       15.0       21.0     13.0   \n14466           50.0         59.0    62.0       45.0       60.0     48.0   \n7402            65.0         61.0    65.0       62.0       67.0     51.0   \n\n       StandingTackle  SlidingTackle  GKDiving  GKHandling  GKKicking  \\\n14078            14.0           10.0      62.0        62.0       61.0   \n13801            27.0           23.0      12.0        12.0       14.0   \n7339             11.0           13.0      72.0        61.0       72.0   \n5170             14.0           24.0       8.0         7.0       13.0   \n7231             62.0           59.0       7.0         8.0        8.0   \n2232             15.0           11.0      72.0        77.0       65.0   \n16179            58.0           56.0      12.0        13.0       15.0   \n7868             12.0           15.0      71.0        63.0       61.0   \n14466            53.0           50.0      11.0        10.0        6.0   \n7402             70.0           64.0      12.0        14.0        9.0   \n\n       GKPositioning  GKReflexes Release Clause  \n14078           58.0        63.0          €305K  \n13801            9.0        16.0          €775K  \n7339            67.0        67.0          €315K  \n5170            13.0        11.0          €8.9M  \n7231             7.0         8.0          €975K  \n2232            72.0        75.0            NaN  \n16179           10.0        13.0           €63K  \n7868            68.0        65.0          €2.8M  \n14466           11.0        12.0          €891K  \n7402            14.0         8.0          €1.5M  ",
      "text/html": "<div>\n<style scoped>\n    .dataframe tbody tr th:only-of-type {\n        vertical-align: middle;\n    }\n\n    .dataframe tbody tr th {\n        vertical-align: top;\n    }\n\n    .dataframe thead th {\n        text-align: right;\n    }\n</style>\n<table border=\"1\" class=\"dataframe\">\n  <thead>\n    <tr style=\"text-align: right;\">\n      <th></th>\n      <th>ID</th>\n      <th>Name</th>\n      <th>Age</th>\n      <th>Photo</th>\n      <th>Nationality</th>\n      <th>Flag</th>\n      <th>Overall</th>\n      <th>Potential</th>\n      <th>Club</th>\n      <th>Club Logo</th>\n      <th>Value</th>\n      <th>Wage</th>\n      <th>Special</th>\n      <th>Preferred Foot</th>\n      <th>International Reputation</th>\n      <th>Weak Foot</th>\n      <th>Skill Moves</th>\n      <th>Work Rate</th>\n      <th>Body Type</th>\n      <th>Real Face</th>\n      <th>Position</th>\n      <th>Jersey Number</th>\n      <th>Joined</th>\n      <th>Loaned From</th>\n      <th>Contract Valid Until</th>\n      <th>Height</th>\n      <th>Weight</th>\n      <th>LS</th>\n      <th>ST</th>\n      <th>RS</th>\n      <th>LW</th>\n      <th>LF</th>\n      <th>CF</th>\n      <th>RF</th>\n      <th>RW</th>\n      <th>LAM</th>\n      <th>CAM</th>\n      <th>RAM</th>\n      <th>LM</th>\n      <th>LCM</th>\n      <th>CM</th>\n      <th>RCM</th>\n      <th>RM</th>\n      <th>LWB</th>\n      <th>LDM</th>\n      <th>CDM</th>\n      <th>RDM</th>\n      <th>RWB</th>\n      <th>LB</th>\n      <th>LCB</th>\n      <th>CB</th>\n      <th>RCB</th>\n      <th>RB</th>\n      <th>Crossing</th>\n      <th>Finishing</th>\n      <th>HeadingAccuracy</th>\n      <th>ShortPassing</th>\n      <th>Volleys</th>\n      <th>Dribbling</th>\n      <th>Curve</th>\n      <th>FKAccuracy</th>\n      <th>LongPassing</th>\n      <th>BallControl</th>\n      <th>Acceleration</th>\n      <th>SprintSpeed</th>\n      <th>Agility</th>\n      <th>Reactions</th>\n      <th>Balance</th>\n      <th>ShotPower</th>\n      <th>Jumping</th>\n      <th>Stamina</th>\n      <th>Strength</th>\n      <th>LongShots</th>\n      <th>Aggression</th>\n      <th>Interceptions</th>\n      <th>Positioning</th>\n      <th>Vision</th>\n      <th>Penalties</th>\n      <th>Composure</th>\n      <th>Marking</th>\n      <th>StandingTackle</th>\n      <th>SlidingTackle</th>\n      <th>GKDiving</th>\n      <th>GKHandling</th>\n      <th>GKKicking</th>\n      <th>GKPositioning</th>\n      <th>GKReflexes</th>\n      <th>Release Clause</th>\n    </tr>\n  </thead>\n  <tbody>\n    <tr>\n      <th>14078</th>\n      <td>237359</td>\n      <td>L. Jonsson</td>\n      <td>25</td>\n      <td>https://cdn.sofifa.org/players/4/19/237359.png</td>\n      <td>Sweden</td>\n      <td>https://cdn.sofifa.org/flags/46.png</td>\n      <td>61</td>\n      <td>65</td>\n      <td>IK Sirius</td>\n      <td>https://cdn.sofifa.org/teams/2/light/113458.png</td>\n      <td>€230K</td>\n      <td>€1K</td>\n      <td>942</td>\n      <td>Right</td>\n      <td>1.0</td>\n      <td>2.0</td>\n      <td>1.0</td>\n      <td>Medium/ Medium</td>\n      <td>Normal</td>\n      <td>No</td>\n      <td>GK</td>\n      <td>30.0</td>\n      <td>Dec 20, 2014</td>\n      <td>NaN</td>\n      <td>2019</td>\n      <td>6'3</td>\n      <td>209lbs</td>\n      <td>NaN</td>\n      <td>NaN</td>\n      <td>NaN</td>\n      <td>NaN</td>\n      <td>NaN</td>\n      <td>NaN</td>\n      <td>NaN</td>\n      <td>NaN</td>\n      <td>NaN</td>\n      <td>NaN</td>\n      <td>NaN</td>\n      <td>NaN</td>\n      <td>NaN</td>\n      <td>NaN</td>\n      <td>NaN</td>\n      <td>NaN</td>\n      <td>NaN</td>\n      <td>NaN</td>\n      <td>NaN</td>\n      <td>NaN</td>\n      <td>NaN</td>\n      <td>NaN</td>\n      <td>NaN</td>\n      <td>NaN</td>\n      <td>NaN</td>\n      <td>NaN</td>\n      <td>13.0</td>\n      <td>6.0</td>\n      <td>13.0</td>\n      <td>23.0</td>\n      <td>9.0</td>\n      <td>11.0</td>\n      <td>11.0</td>\n      <td>13.0</td>\n      <td>23.0</td>\n      <td>19.0</td>\n      <td>36.0</td>\n      <td>35.0</td>\n      <td>44.0</td>\n      <td>51.0</td>\n      <td>32.0</td>\n      <td>16.0</td>\n      <td>36.0</td>\n      <td>28.0</td>\n      <td>73.0</td>\n      <td>5.0</td>\n      <td>24.0</td>\n      <td>6.0</td>\n      <td>5.0</td>\n      <td>42.0</td>\n      <td>17.0</td>\n      <td>42.0</td>\n      <td>21.0</td>\n      <td>14.0</td>\n      <td>10.0</td>\n      <td>62.0</td>\n      <td>62.0</td>\n      <td>61.0</td>\n      <td>58.0</td>\n      <td>63.0</td>\n      <td>€305K</td>\n    </tr>\n    <tr>\n      <th>13801</th>\n      <td>226264</td>\n      <td>F. Ahumada</td>\n      <td>22</td>\n      <td>https://cdn.sofifa.org/players/4/19/226264.png</td>\n      <td>Chile</td>\n      <td>https://cdn.sofifa.org/flags/55.png</td>\n      <td>62</td>\n      <td>72</td>\n      <td>CD Palestino</td>\n      <td>https://cdn.sofifa.org/teams/2/light/111328.png</td>\n      <td>€500K</td>\n      <td>€1K</td>\n      <td>1548</td>\n      <td>Right</td>\n      <td>1.0</td>\n      <td>2.0</td>\n      <td>3.0</td>\n      <td>Medium/ Medium</td>\n      <td>Normal</td>\n      <td>No</td>\n      <td>ST</td>\n      <td>29.0</td>\n      <td>Jul 1, 2017</td>\n      <td>NaN</td>\n      <td>2018</td>\n      <td>5'11</td>\n      <td>165lbs</td>\n      <td>61+2</td>\n      <td>61+2</td>\n      <td>61+2</td>\n      <td>61+2</td>\n      <td>60+2</td>\n      <td>60+2</td>\n      <td>60+2</td>\n      <td>61+2</td>\n      <td>60+2</td>\n      <td>60+2</td>\n      <td>60+2</td>\n      <td>61+2</td>\n      <td>56+2</td>\n      <td>56+2</td>\n      <td>56+2</td>\n      <td>61+2</td>\n      <td>48+2</td>\n      <td>46+2</td>\n      <td>46+2</td>\n      <td>46+2</td>\n      <td>48+2</td>\n      <td>46+2</td>\n      <td>41+2</td>\n      <td>41+2</td>\n      <td>41+2</td>\n      <td>46+2</td>\n      <td>53.0</td>\n      <td>63.0</td>\n      <td>59.0</td>\n      <td>61.0</td>\n      <td>38.0</td>\n      <td>64.0</td>\n      <td>45.0</td>\n      <td>33.0</td>\n      <td>58.0</td>\n      <td>65.0</td>\n      <td>70.0</td>\n      <td>71.0</td>\n      <td>66.0</td>\n      <td>61.0</td>\n      <td>66.0</td>\n      <td>63.0</td>\n      <td>65.0</td>\n      <td>70.0</td>\n      <td>69.0</td>\n      <td>56.0</td>\n      <td>33.0</td>\n      <td>22.0</td>\n      <td>51.0</td>\n      <td>50.0</td>\n      <td>51.0</td>\n      <td>52.0</td>\n      <td>32.0</td>\n      <td>27.0</td>\n      <td>23.0</td>\n      <td>12.0</td>\n      <td>12.0</td>\n      <td>14.0</td>\n      <td>9.0</td>\n      <td>16.0</td>\n      <td>€775K</td>\n    </tr>\n    <tr>\n      <th>7339</th>\n      <td>114356</td>\n      <td>M. Wölfli</td>\n      <td>35</td>\n      <td>https://cdn.sofifa.org/players/4/19/114356.png</td>\n      <td>Switzerland</td>\n      <td>https://cdn.sofifa.org/flags/47.png</td>\n      <td>68</td>\n      <td>68</td>\n      <td>BSC Young Boys</td>\n      <td>https://cdn.sofifa.org/teams/2/light/900.png</td>\n      <td>€210K</td>\n      <td>€4K</td>\n      <td>1063</td>\n      <td>Right</td>\n      <td>1.0</td>\n      <td>3.0</td>\n      <td>1.0</td>\n      <td>Medium/ Medium</td>\n      <td>Normal</td>\n      <td>No</td>\n      <td>GK</td>\n      <td>1.0</td>\n      <td>Jul 1, 2000</td>\n      <td>NaN</td>\n      <td>2019</td>\n      <td>6'1</td>\n      <td>194lbs</td>\n      <td>NaN</td>\n      <td>NaN</td>\n      <td>NaN</td>\n      <td>NaN</td>\n      <td>NaN</td>\n      <td>NaN</td>\n      <td>NaN</td>\n      <td>NaN</td>\n      <td>NaN</td>\n      <td>NaN</td>\n      <td>NaN</td>\n      <td>NaN</td>\n      <td>NaN</td>\n      <td>NaN</td>\n      <td>NaN</td>\n      <td>NaN</td>\n      <td>NaN</td>\n      <td>NaN</td>\n      <td>NaN</td>\n      <td>NaN</td>\n      <td>NaN</td>\n      <td>NaN</td>\n      <td>NaN</td>\n      <td>NaN</td>\n      <td>NaN</td>\n      <td>NaN</td>\n      <td>12.0</td>\n      <td>13.0</td>\n      <td>13.0</td>\n      <td>13.0</td>\n      <td>14.0</td>\n      <td>11.0</td>\n      <td>16.0</td>\n      <td>14.0</td>\n      <td>12.0</td>\n      <td>12.0</td>\n      <td>37.0</td>\n      <td>42.0</td>\n      <td>46.0</td>\n      <td>69.0</td>\n      <td>52.0</td>\n      <td>13.0</td>\n      <td>66.0</td>\n      <td>24.0</td>\n      <td>59.0</td>\n      <td>12.0</td>\n      <td>36.0</td>\n      <td>23.0</td>\n      <td>16.0</td>\n      <td>50.0</td>\n      <td>11.0</td>\n      <td>64.0</td>\n      <td>14.0</td>\n      <td>11.0</td>\n      <td>13.0</td>\n      <td>72.0</td>\n      <td>61.0</td>\n      <td>72.0</td>\n      <td>67.0</td>\n      <td>67.0</td>\n      <td>€315K</td>\n    </tr>\n    <tr>\n      <th>5170</th>\n      <td>240243</td>\n      <td>Matheus Cunha</td>\n      <td>19</td>\n      <td>https://cdn.sofifa.org/players/4/19/240243.png</td>\n      <td>Brazil</td>\n      <td>https://cdn.sofifa.org/flags/54.png</td>\n      <td>70</td>\n      <td>85</td>\n      <td>RB Leipzig</td>\n      <td>https://cdn.sofifa.org/teams/2/light/112172.png</td>\n      <td>€3.8M</td>\n      <td>€14K</td>\n      <td>1723</td>\n      <td>Right</td>\n      <td>1.0</td>\n      <td>4.0</td>\n      <td>3.0</td>\n      <td>Medium/ Medium</td>\n      <td>Lean</td>\n      <td>No</td>\n      <td>ST</td>\n      <td>20.0</td>\n      <td>Jul 1, 2018</td>\n      <td>NaN</td>\n      <td>2023</td>\n      <td>6'0</td>\n      <td>165lbs</td>\n      <td>68+2</td>\n      <td>68+2</td>\n      <td>68+2</td>\n      <td>69+2</td>\n      <td>69+2</td>\n      <td>69+2</td>\n      <td>69+2</td>\n      <td>69+2</td>\n      <td>67+2</td>\n      <td>67+2</td>\n      <td>67+2</td>\n      <td>67+2</td>\n      <td>59+2</td>\n      <td>59+2</td>\n      <td>59+2</td>\n      <td>67+2</td>\n      <td>49+2</td>\n      <td>45+2</td>\n      <td>45+2</td>\n      <td>45+2</td>\n      <td>49+2</td>\n      <td>46+2</td>\n      <td>40+2</td>\n      <td>40+2</td>\n      <td>40+2</td>\n      <td>46+2</td>\n      <td>64.0</td>\n      <td>69.0</td>\n      <td>61.0</td>\n      <td>57.0</td>\n      <td>61.0</td>\n      <td>71.0</td>\n      <td>62.0</td>\n      <td>56.0</td>\n      <td>55.0</td>\n      <td>73.0</td>\n      <td>78.0</td>\n      <td>75.0</td>\n      <td>69.0</td>\n      <td>67.0</td>\n      <td>69.0</td>\n      <td>74.0</td>\n      <td>73.0</td>\n      <td>68.0</td>\n      <td>64.0</td>\n      <td>68.0</td>\n      <td>59.0</td>\n      <td>14.0</td>\n      <td>68.0</td>\n      <td>68.0</td>\n      <td>60.0</td>\n      <td>64.0</td>\n      <td>30.0</td>\n      <td>14.0</td>\n      <td>24.0</td>\n      <td>8.0</td>\n      <td>7.0</td>\n      <td>13.0</td>\n      <td>13.0</td>\n      <td>11.0</td>\n      <td>€8.9M</td>\n    </tr>\n    <tr>\n      <th>7231</th>\n      <td>215192</td>\n      <td>G. Díaz</td>\n      <td>30</td>\n      <td>https://cdn.sofifa.org/players/4/19/215192.png</td>\n      <td>Argentina</td>\n      <td>https://cdn.sofifa.org/flags/52.png</td>\n      <td>68</td>\n      <td>68</td>\n      <td>Vélez Sarsfield</td>\n      <td>https://cdn.sofifa.org/teams/2/light/101088.png</td>\n      <td>€650K</td>\n      <td>€6K</td>\n      <td>1894</td>\n      <td>Right</td>\n      <td>1.0</td>\n      <td>2.0</td>\n      <td>3.0</td>\n      <td>Medium/ Medium</td>\n      <td>Normal</td>\n      <td>No</td>\n      <td>RB</td>\n      <td>24.0</td>\n      <td>Aug 3, 2017</td>\n      <td>NaN</td>\n      <td>2020</td>\n      <td>5'9</td>\n      <td>165lbs</td>\n      <td>62+2</td>\n      <td>62+2</td>\n      <td>62+2</td>\n      <td>68+2</td>\n      <td>67+2</td>\n      <td>67+2</td>\n      <td>67+2</td>\n      <td>68+2</td>\n      <td>68+2</td>\n      <td>68+2</td>\n      <td>68+2</td>\n      <td>69+2</td>\n      <td>68+2</td>\n      <td>68+2</td>\n      <td>68+2</td>\n      <td>69+2</td>\n      <td>68+2</td>\n      <td>67+2</td>\n      <td>67+2</td>\n      <td>67+2</td>\n      <td>68+2</td>\n      <td>67+2</td>\n      <td>63+2</td>\n      <td>63+2</td>\n      <td>63+2</td>\n      <td>67+2</td>\n      <td>72.0</td>\n      <td>44.0</td>\n      <td>52.0</td>\n      <td>67.0</td>\n      <td>45.0</td>\n      <td>69.0</td>\n      <td>71.0</td>\n      <td>67.0</td>\n      <td>68.0</td>\n      <td>73.0</td>\n      <td>78.0</td>\n      <td>72.0</td>\n      <td>76.0</td>\n      <td>70.0</td>\n      <td>73.0</td>\n      <td>72.0</td>\n      <td>67.0</td>\n      <td>80.0</td>\n      <td>66.0</td>\n      <td>69.0</td>\n      <td>67.0</td>\n      <td>65.0</td>\n      <td>66.0</td>\n      <td>72.0</td>\n      <td>50.0</td>\n      <td>56.0</td>\n      <td>64.0</td>\n      <td>62.0</td>\n      <td>59.0</td>\n      <td>7.0</td>\n      <td>8.0</td>\n      <td>8.0</td>\n      <td>7.0</td>\n      <td>8.0</td>\n      <td>€975K</td>\n    </tr>\n    <tr>\n      <th>2232</th>\n      <td>204367</td>\n      <td>B. van Leer</td>\n      <td>26</td>\n      <td>https://cdn.sofifa.org/players/4/19/204367.png</td>\n      <td>Netherlands</td>\n      <td>https://cdn.sofifa.org/flags/34.png</td>\n      <td>74</td>\n      <td>76</td>\n      <td>NAC Breda</td>\n      <td>https://cdn.sofifa.org/teams/2/light/1904.png</td>\n      <td>€4.7M</td>\n      <td>€11K</td>\n      <td>1183</td>\n      <td>Right</td>\n      <td>1.0</td>\n      <td>2.0</td>\n      <td>1.0</td>\n      <td>Medium/ Medium</td>\n      <td>Normal</td>\n      <td>No</td>\n      <td>GK</td>\n      <td>1.0</td>\n      <td>NaN</td>\n      <td>Ajax</td>\n      <td>Jun 30, 2019</td>\n      <td>6'2</td>\n      <td>176lbs</td>\n      <td>NaN</td>\n      <td>NaN</td>\n      <td>NaN</td>\n      <td>NaN</td>\n      <td>NaN</td>\n      <td>NaN</td>\n      <td>NaN</td>\n      <td>NaN</td>\n      <td>NaN</td>\n      <td>NaN</td>\n      <td>NaN</td>\n      <td>NaN</td>\n      <td>NaN</td>\n      <td>NaN</td>\n      <td>NaN</td>\n      <td>NaN</td>\n      <td>NaN</td>\n      <td>NaN</td>\n      <td>NaN</td>\n      <td>NaN</td>\n      <td>NaN</td>\n      <td>NaN</td>\n      <td>NaN</td>\n      <td>NaN</td>\n      <td>NaN</td>\n      <td>NaN</td>\n      <td>12.0</td>\n      <td>12.0</td>\n      <td>18.0</td>\n      <td>34.0</td>\n      <td>14.0</td>\n      <td>11.0</td>\n      <td>9.0</td>\n      <td>12.0</td>\n      <td>35.0</td>\n      <td>23.0</td>\n      <td>44.0</td>\n      <td>42.0</td>\n      <td>43.0</td>\n      <td>73.0</td>\n      <td>57.0</td>\n      <td>25.0</td>\n      <td>69.0</td>\n      <td>35.0</td>\n      <td>55.0</td>\n      <td>19.0</td>\n      <td>41.0</td>\n      <td>13.0</td>\n      <td>18.0</td>\n      <td>45.0</td>\n      <td>27.0</td>\n      <td>62.0</td>\n      <td>10.0</td>\n      <td>15.0</td>\n      <td>11.0</td>\n      <td>72.0</td>\n      <td>77.0</td>\n      <td>65.0</td>\n      <td>72.0</td>\n      <td>75.0</td>\n      <td>NaN</td>\n    </tr>\n    <tr>\n      <th>16179</th>\n      <td>242124</td>\n      <td>Y. Maeda</td>\n      <td>33</td>\n      <td>https://cdn.sofifa.org/players/4/19/242124.png</td>\n      <td>Japan</td>\n      <td>https://cdn.sofifa.org/flags/163.png</td>\n      <td>58</td>\n      <td>58</td>\n      <td>V-Varen Nagasaki</td>\n      <td>https://cdn.sofifa.org/teams/2/light/112448.png</td>\n      <td>€50K</td>\n      <td>€1K</td>\n      <td>1573</td>\n      <td>Right</td>\n      <td>1.0</td>\n      <td>5.0</td>\n      <td>2.0</td>\n      <td>Medium/ High</td>\n      <td>Lean</td>\n      <td>No</td>\n      <td>CDM</td>\n      <td>6.0</td>\n      <td>Jan 1, 2012</td>\n      <td>NaN</td>\n      <td>2018</td>\n      <td>5'9</td>\n      <td>152lbs</td>\n      <td>49+2</td>\n      <td>49+2</td>\n      <td>49+2</td>\n      <td>51+2</td>\n      <td>51+2</td>\n      <td>51+2</td>\n      <td>51+2</td>\n      <td>51+2</td>\n      <td>52+2</td>\n      <td>52+2</td>\n      <td>52+2</td>\n      <td>52+2</td>\n      <td>54+2</td>\n      <td>54+2</td>\n      <td>54+2</td>\n      <td>52+2</td>\n      <td>56+2</td>\n      <td>57+2</td>\n      <td>57+2</td>\n      <td>57+2</td>\n      <td>56+2</td>\n      <td>55+2</td>\n      <td>55+2</td>\n      <td>55+2</td>\n      <td>55+2</td>\n      <td>55+2</td>\n      <td>42.0</td>\n      <td>37.0</td>\n      <td>39.0</td>\n      <td>57.0</td>\n      <td>46.0</td>\n      <td>52.0</td>\n      <td>41.0</td>\n      <td>43.0</td>\n      <td>51.0</td>\n      <td>58.0</td>\n      <td>62.0</td>\n      <td>53.0</td>\n      <td>66.0</td>\n      <td>58.0</td>\n      <td>73.0</td>\n      <td>57.0</td>\n      <td>60.0</td>\n      <td>70.0</td>\n      <td>60.0</td>\n      <td>52.0</td>\n      <td>64.0</td>\n      <td>59.0</td>\n      <td>43.0</td>\n      <td>51.0</td>\n      <td>51.0</td>\n      <td>48.0</td>\n      <td>51.0</td>\n      <td>58.0</td>\n      <td>56.0</td>\n      <td>12.0</td>\n      <td>13.0</td>\n      <td>15.0</td>\n      <td>10.0</td>\n      <td>13.0</td>\n      <td>€63K</td>\n    </tr>\n    <tr>\n      <th>7868</th>\n      <td>244274</td>\n      <td>A. Šemper</td>\n      <td>20</td>\n      <td>https://cdn.sofifa.org/players/4/19/244274.png</td>\n      <td>Croatia</td>\n      <td>https://cdn.sofifa.org/flags/10.png</td>\n      <td>67</td>\n      <td>80</td>\n      <td>Chievo Verona</td>\n      <td>https://cdn.sofifa.org/teams/2/light/192.png</td>\n      <td>€1.2M</td>\n      <td>€3K</td>\n      <td>916</td>\n      <td>Right</td>\n      <td>1.0</td>\n      <td>2.0</td>\n      <td>1.0</td>\n      <td>Medium/ Medium</td>\n      <td>Normal</td>\n      <td>No</td>\n      <td>GK</td>\n      <td>1.0</td>\n      <td>Jul 1, 2016</td>\n      <td>NaN</td>\n      <td>2022</td>\n      <td>6'4</td>\n      <td>201lbs</td>\n      <td>NaN</td>\n      <td>NaN</td>\n      <td>NaN</td>\n      <td>NaN</td>\n      <td>NaN</td>\n      <td>NaN</td>\n      <td>NaN</td>\n      <td>NaN</td>\n      <td>NaN</td>\n      <td>NaN</td>\n      <td>NaN</td>\n      <td>NaN</td>\n      <td>NaN</td>\n      <td>NaN</td>\n      <td>NaN</td>\n      <td>NaN</td>\n      <td>NaN</td>\n      <td>NaN</td>\n      <td>NaN</td>\n      <td>NaN</td>\n      <td>NaN</td>\n      <td>NaN</td>\n      <td>NaN</td>\n      <td>NaN</td>\n      <td>NaN</td>\n      <td>NaN</td>\n      <td>14.0</td>\n      <td>15.0</td>\n      <td>12.0</td>\n      <td>23.0</td>\n      <td>9.0</td>\n      <td>12.0</td>\n      <td>12.0</td>\n      <td>13.0</td>\n      <td>24.0</td>\n      <td>15.0</td>\n      <td>19.0</td>\n      <td>19.0</td>\n      <td>21.0</td>\n      <td>64.0</td>\n      <td>22.0</td>\n      <td>18.0</td>\n      <td>31.0</td>\n      <td>21.0</td>\n      <td>47.0</td>\n      <td>13.0</td>\n      <td>26.0</td>\n      <td>11.0</td>\n      <td>9.0</td>\n      <td>63.0</td>\n      <td>15.0</td>\n      <td>21.0</td>\n      <td>13.0</td>\n      <td>12.0</td>\n      <td>15.0</td>\n      <td>71.0</td>\n      <td>63.0</td>\n      <td>61.0</td>\n      <td>68.0</td>\n      <td>65.0</td>\n      <td>€2.8M</td>\n    </tr>\n    <tr>\n      <th>14466</th>\n      <td>236471</td>\n      <td>M. Kaasa</td>\n      <td>20</td>\n      <td>https://cdn.sofifa.org/players/4/19/236471.png</td>\n      <td>Norway</td>\n      <td>https://cdn.sofifa.org/flags/36.png</td>\n      <td>61</td>\n      <td>74</td>\n      <td>Odds BK</td>\n      <td>https://cdn.sofifa.org/teams/2/light/1456.png</td>\n      <td>€475K</td>\n      <td>€1K</td>\n      <td>1628</td>\n      <td>Right</td>\n      <td>1.0</td>\n      <td>3.0</td>\n      <td>3.0</td>\n      <td>Medium/ Medium</td>\n      <td>Lean</td>\n      <td>No</td>\n      <td>CM</td>\n      <td>17.0</td>\n      <td>Sep 14, 2016</td>\n      <td>NaN</td>\n      <td>2021</td>\n      <td>5'9</td>\n      <td>132lbs</td>\n      <td>55+2</td>\n      <td>55+2</td>\n      <td>55+2</td>\n      <td>60+2</td>\n      <td>59+2</td>\n      <td>59+2</td>\n      <td>59+2</td>\n      <td>60+2</td>\n      <td>61+2</td>\n      <td>61+2</td>\n      <td>61+2</td>\n      <td>61+2</td>\n      <td>60+2</td>\n      <td>60+2</td>\n      <td>60+2</td>\n      <td>61+2</td>\n      <td>57+2</td>\n      <td>56+2</td>\n      <td>56+2</td>\n      <td>56+2</td>\n      <td>57+2</td>\n      <td>56+2</td>\n      <td>51+2</td>\n      <td>51+2</td>\n      <td>51+2</td>\n      <td>56+2</td>\n      <td>49.0</td>\n      <td>45.0</td>\n      <td>49.0</td>\n      <td>63.0</td>\n      <td>52.0</td>\n      <td>67.0</td>\n      <td>56.0</td>\n      <td>48.0</td>\n      <td>59.0</td>\n      <td>64.0</td>\n      <td>71.0</td>\n      <td>69.0</td>\n      <td>80.0</td>\n      <td>62.0</td>\n      <td>80.0</td>\n      <td>50.0</td>\n      <td>52.0</td>\n      <td>66.0</td>\n      <td>50.0</td>\n      <td>39.0</td>\n      <td>40.0</td>\n      <td>50.0</td>\n      <td>59.0</td>\n      <td>62.0</td>\n      <td>45.0</td>\n      <td>60.0</td>\n      <td>48.0</td>\n      <td>53.0</td>\n      <td>50.0</td>\n      <td>11.0</td>\n      <td>10.0</td>\n      <td>6.0</td>\n      <td>11.0</td>\n      <td>12.0</td>\n      <td>€891K</td>\n    </tr>\n    <tr>\n      <th>7402</th>\n      <td>203461</td>\n      <td>H. Kryeziu</td>\n      <td>25</td>\n      <td>https://cdn.sofifa.org/players/4/19/203461.png</td>\n      <td>Kosovo</td>\n      <td>https://cdn.sofifa.org/flags/219.png</td>\n      <td>68</td>\n      <td>73</td>\n      <td>FC Zürich</td>\n      <td>https://cdn.sofifa.org/teams/2/light/894.png</td>\n      <td>€1M</td>\n      <td>€6K</td>\n      <td>1848</td>\n      <td>Right</td>\n      <td>1.0</td>\n      <td>3.0</td>\n      <td>2.0</td>\n      <td>High/ High</td>\n      <td>Lean</td>\n      <td>No</td>\n      <td>LCM</td>\n      <td>71.0</td>\n      <td>Jun 10, 2018</td>\n      <td>NaN</td>\n      <td>2021</td>\n      <td>5'11</td>\n      <td>165lbs</td>\n      <td>61+2</td>\n      <td>61+2</td>\n      <td>61+2</td>\n      <td>64+2</td>\n      <td>63+2</td>\n      <td>63+2</td>\n      <td>63+2</td>\n      <td>64+2</td>\n      <td>65+2</td>\n      <td>65+2</td>\n      <td>65+2</td>\n      <td>65+2</td>\n      <td>67+2</td>\n      <td>67+2</td>\n      <td>67+2</td>\n      <td>65+2</td>\n      <td>67+2</td>\n      <td>66+2</td>\n      <td>66+2</td>\n      <td>66+2</td>\n      <td>67+2</td>\n      <td>66+2</td>\n      <td>63+2</td>\n      <td>63+2</td>\n      <td>63+2</td>\n      <td>66+2</td>\n      <td>60.0</td>\n      <td>48.0</td>\n      <td>61.0</td>\n      <td>73.0</td>\n      <td>51.0</td>\n      <td>60.0</td>\n      <td>51.0</td>\n      <td>39.0</td>\n      <td>70.0</td>\n      <td>69.0</td>\n      <td>74.0</td>\n      <td>74.0</td>\n      <td>80.0</td>\n      <td>62.0</td>\n      <td>74.0</td>\n      <td>63.0</td>\n      <td>81.0</td>\n      <td>83.0</td>\n      <td>62.0</td>\n      <td>58.0</td>\n      <td>60.0</td>\n      <td>65.0</td>\n      <td>61.0</td>\n      <td>65.0</td>\n      <td>62.0</td>\n      <td>67.0</td>\n      <td>51.0</td>\n      <td>70.0</td>\n      <td>64.0</td>\n      <td>12.0</td>\n      <td>14.0</td>\n      <td>9.0</td>\n      <td>14.0</td>\n      <td>8.0</td>\n      <td>€1.5M</td>\n    </tr>\n  </tbody>\n</table>\n</div>"
     },
     "execution_count": 4,
     "metadata": {},
     "output_type": "execute_result"
    },
    {
     "data": {
      "text/plain": "<IPython.core.display.Javascript object>",
      "application/javascript": "\n            setTimeout(function() {\n                var nbb_cell_id = 4;\n                var nbb_unformatted_code = \"# I'm now going to look at 10 random rows\\n# I'm setting the random seed via np.random.seed so that\\n# I get the same random results every time\\n#np.random.seed(1)\\ndf.sample(n=10)\";\n                var nbb_formatted_code = \"# I'm now going to look at 10 random rows\\n# I'm setting the random seed via np.random.seed so that\\n# I get the same random results every time\\n# np.random.seed(1)\\ndf.sample(n=10)\";\n                var nbb_cells = Jupyter.notebook.get_cells();\n                for (var i = 0; i < nbb_cells.length; ++i) {\n                    if (nbb_cells[i].input_prompt_number == nbb_cell_id) {\n                        if (nbb_cells[i].get_text() == nbb_unformatted_code) {\n                             nbb_cells[i].set_text(nbb_formatted_code);\n                        }\n                        break;\n                    }\n                }\n            }, 500);\n            "
     },
     "metadata": {},
     "output_type": "display_data"
    }
   ],
   "source": [
    "# I'm now going to look at 10 random rows\n",
    "# I'm setting the random seed via np.random.seed so that\n",
    "# I get the same random results every time\n",
    "#np.random.seed(1)\n",
    "df.sample(n=10)"
   ]
  },
  {
   "cell_type": "code",
   "execution_count": 5,
   "id": "24c79519",
   "metadata": {},
   "outputs": [
    {
     "data": {
      "text/plain": "<IPython.core.display.Javascript object>",
      "application/javascript": "\n            setTimeout(function() {\n                var nbb_cell_id = 5;\n                var nbb_unformatted_code = \"# Drop the columns that are not useful\\ndf.drop(['ID', 'Photo', 'Flag', 'Club Logo', 'Real Face', 'Jersey Number'],axis=1,inplace=True)\";\n                var nbb_formatted_code = \"# Drop the columns that are not useful\\ndf.drop(\\n    [\\\"ID\\\", \\\"Photo\\\", \\\"Flag\\\", \\\"Club Logo\\\", \\\"Real Face\\\", \\\"Jersey Number\\\"],\\n    axis=1,\\n    inplace=True,\\n)\";\n                var nbb_cells = Jupyter.notebook.get_cells();\n                for (var i = 0; i < nbb_cells.length; ++i) {\n                    if (nbb_cells[i].input_prompt_number == nbb_cell_id) {\n                        if (nbb_cells[i].get_text() == nbb_unformatted_code) {\n                             nbb_cells[i].set_text(nbb_formatted_code);\n                        }\n                        break;\n                    }\n                }\n            }, 500);\n            "
     },
     "metadata": {},
     "output_type": "display_data"
    }
   ],
   "source": [
    "# Drop the columns that are not useful\n",
    "df.drop(['ID', 'Photo', 'Flag', 'Club Logo', 'Real Face', 'Jersey Number'],axis=1,inplace=True)"
   ]
  },
  {
   "cell_type": "markdown",
   "id": "8cea1445",
   "metadata": {},
   "source": [
    "## Dealing with Missing Values"
   ]
  },
  {
   "cell_type": "code",
   "execution_count": 6,
   "id": "94296e9c",
   "metadata": {},
   "outputs": [
    {
     "name": "stdout",
     "output_type": "stream",
     "text": [
      "<class 'pandas.core.frame.DataFrame'>\n",
      "Int64Index: 18207 entries, 0 to 18206\n",
      "Data columns (total 82 columns):\n",
      " #   Column                    Non-Null Count  Dtype  \n",
      "---  ------                    --------------  -----  \n",
      " 0   Name                      18207 non-null  object \n",
      " 1   Age                       18207 non-null  int64  \n",
      " 2   Nationality               18207 non-null  object \n",
      " 3   Overall                   18207 non-null  int64  \n",
      " 4   Potential                 18207 non-null  int64  \n",
      " 5   Club                      17966 non-null  object \n",
      " 6   Value                     18207 non-null  object \n",
      " 7   Wage                      18207 non-null  object \n",
      " 8   Special                   18207 non-null  int64  \n",
      " 9   Preferred Foot            18159 non-null  object \n",
      " 10  International Reputation  18159 non-null  float64\n",
      " 11  Weak Foot                 18159 non-null  float64\n",
      " 12  Skill Moves               18159 non-null  float64\n",
      " 13  Work Rate                 18159 non-null  object \n",
      " 14  Body Type                 18159 non-null  object \n",
      " 15  Position                  18147 non-null  object \n",
      " 16  Joined                    16654 non-null  object \n",
      " 17  Loaned From               1264 non-null   object \n",
      " 18  Contract Valid Until      17918 non-null  object \n",
      " 19  Height                    18159 non-null  object \n",
      " 20  Weight                    18159 non-null  object \n",
      " 21  LS                        16122 non-null  object \n",
      " 22  ST                        16122 non-null  object \n",
      " 23  RS                        16122 non-null  object \n",
      " 24  LW                        16122 non-null  object \n",
      " 25  LF                        16122 non-null  object \n",
      " 26  CF                        16122 non-null  object \n",
      " 27  RF                        16122 non-null  object \n",
      " 28  RW                        16122 non-null  object \n",
      " 29  LAM                       16122 non-null  object \n",
      " 30  CAM                       16122 non-null  object \n",
      " 31  RAM                       16122 non-null  object \n",
      " 32  LM                        16122 non-null  object \n",
      " 33  LCM                       16122 non-null  object \n",
      " 34  CM                        16122 non-null  object \n",
      " 35  RCM                       16122 non-null  object \n",
      " 36  RM                        16122 non-null  object \n",
      " 37  LWB                       16122 non-null  object \n",
      " 38  LDM                       16122 non-null  object \n",
      " 39  CDM                       16122 non-null  object \n",
      " 40  RDM                       16122 non-null  object \n",
      " 41  RWB                       16122 non-null  object \n",
      " 42  LB                        16122 non-null  object \n",
      " 43  LCB                       16122 non-null  object \n",
      " 44  CB                        16122 non-null  object \n",
      " 45  RCB                       16122 non-null  object \n",
      " 46  RB                        16122 non-null  object \n",
      " 47  Crossing                  18159 non-null  float64\n",
      " 48  Finishing                 18159 non-null  float64\n",
      " 49  HeadingAccuracy           18159 non-null  float64\n",
      " 50  ShortPassing              18159 non-null  float64\n",
      " 51  Volleys                   18159 non-null  float64\n",
      " 52  Dribbling                 18159 non-null  float64\n",
      " 53  Curve                     18159 non-null  float64\n",
      " 54  FKAccuracy                18159 non-null  float64\n",
      " 55  LongPassing               18159 non-null  float64\n",
      " 56  BallControl               18159 non-null  float64\n",
      " 57  Acceleration              18159 non-null  float64\n",
      " 58  SprintSpeed               18159 non-null  float64\n",
      " 59  Agility                   18159 non-null  float64\n",
      " 60  Reactions                 18159 non-null  float64\n",
      " 61  Balance                   18159 non-null  float64\n",
      " 62  ShotPower                 18159 non-null  float64\n",
      " 63  Jumping                   18159 non-null  float64\n",
      " 64  Stamina                   18159 non-null  float64\n",
      " 65  Strength                  18159 non-null  float64\n",
      " 66  LongShots                 18159 non-null  float64\n",
      " 67  Aggression                18159 non-null  float64\n",
      " 68  Interceptions             18159 non-null  float64\n",
      " 69  Positioning               18159 non-null  float64\n",
      " 70  Vision                    18159 non-null  float64\n",
      " 71  Penalties                 18159 non-null  float64\n",
      " 72  Composure                 18159 non-null  float64\n",
      " 73  Marking                   18159 non-null  float64\n",
      " 74  StandingTackle            18159 non-null  float64\n",
      " 75  SlidingTackle             18159 non-null  float64\n",
      " 76  GKDiving                  18159 non-null  float64\n",
      " 77  GKHandling                18159 non-null  float64\n",
      " 78  GKKicking                 18159 non-null  float64\n",
      " 79  GKPositioning             18159 non-null  float64\n",
      " 80  GKReflexes                18159 non-null  float64\n",
      " 81  Release Clause            16643 non-null  object \n",
      "dtypes: float64(37), int64(4), object(41)\n",
      "memory usage: 11.5+ MB\n"
     ]
    },
    {
     "data": {
      "text/plain": "<IPython.core.display.Javascript object>",
      "application/javascript": "\n            setTimeout(function() {\n                var nbb_cell_id = 6;\n                var nbb_unformatted_code = \"# Get the data type and null value count for each of the columns\\n# If a data type for numerical column is \\\"object\\\", then that column is missing some value\\ndf.info()\";\n                var nbb_formatted_code = \"# Get the data type and null value count for each of the columns\\n# If a data type for numerical column is \\\"object\\\", then that column is missing some value\\ndf.info()\";\n                var nbb_cells = Jupyter.notebook.get_cells();\n                for (var i = 0; i < nbb_cells.length; ++i) {\n                    if (nbb_cells[i].input_prompt_number == nbb_cell_id) {\n                        if (nbb_cells[i].get_text() == nbb_unformatted_code) {\n                             nbb_cells[i].set_text(nbb_formatted_code);\n                        }\n                        break;\n                    }\n                }\n            }, 500);\n            "
     },
     "metadata": {},
     "output_type": "display_data"
    }
   ],
   "source": [
    "# Get the data type and null value count for each of the columns\n",
    "# If a data type for numerical column is \"object\", then that column is missing some value\n",
    "df.info()"
   ]
  },
  {
   "cell_type": "code",
   "execution_count": 7,
   "id": "f5c4af7b",
   "metadata": {},
   "outputs": [
    {
     "data": {
      "text/plain": "Loaned From                 16943\nRWB                          2085\nLCM                          2085\nLF                           2085\nLW                           2085\nRS                           2085\nST                           2085\nLS                           2085\nRW                           2085\nLAM                          2085\nCAM                          2085\nRAM                          2085\nLM                           2085\nCM                           2085\nRF                           2085\nRCM                          2085\nRM                           2085\nLWB                          2085\nLDM                          2085\nCDM                          2085\nRDM                          2085\nLB                           2085\nLCB                          2085\nCB                           2085\nRCB                          2085\nRB                           2085\nCF                           2085\nRelease Clause               1564\nJoined                       1553\nContract Valid Until          289\nClub                          241\nPosition                       60\nWeight                         48\nPositioning                    48\nAgility                        48\nReactions                      48\nBalance                        48\nShotPower                      48\nJumping                        48\nStamina                        48\nStrength                       48\nLongShots                      48\nAggression                     48\nInterceptions                  48\nPenalties                      48\nVision                         48\nAcceleration                   48\nComposure                      48\nMarking                        48\nStandingTackle                 48\nSlidingTackle                  48\nGKDiving                       48\nGKHandling                     48\nGKKicking                      48\nGKPositioning                  48\nGKReflexes                     48\nSprintSpeed                    48\nLongPassing                    48\nBallControl                    48\nPreferred Foot                 48\nFKAccuracy                     48\nCurve                          48\nDribbling                      48\nVolleys                        48\nShortPassing                   48\nHeadingAccuracy                48\nFinishing                      48\nCrossing                       48\nBody Type                      48\nWork Rate                      48\nHeight                         48\nSkill Moves                    48\nWeak Foot                      48\nInternational Reputation       48\nPotential                       0\nSpecial                         0\nWage                            0\nAge                             0\nValue                           0\nOverall                         0\nNationality                     0\nName                            0\ndtype: int64"
     },
     "execution_count": 7,
     "metadata": {},
     "output_type": "execute_result"
    },
    {
     "data": {
      "text/plain": "<IPython.core.display.Javascript object>",
      "application/javascript": "\n            setTimeout(function() {\n                var nbb_cell_id = 7;\n                var nbb_unformatted_code = \"# looking at which columns have the most missing values\\ndf.isnull().sum().sort_values(ascending=False)\";\n                var nbb_formatted_code = \"# looking at which columns have the most missing values\\ndf.isnull().sum().sort_values(ascending=False)\";\n                var nbb_cells = Jupyter.notebook.get_cells();\n                for (var i = 0; i < nbb_cells.length; ++i) {\n                    if (nbb_cells[i].input_prompt_number == nbb_cell_id) {\n                        if (nbb_cells[i].get_text() == nbb_unformatted_code) {\n                             nbb_cells[i].set_text(nbb_formatted_code);\n                        }\n                        break;\n                    }\n                }\n            }, 500);\n            "
     },
     "metadata": {},
     "output_type": "display_data"
    }
   ],
   "source": [
    "# looking at which columns have the most missing values\n",
    "df.isnull().sum().sort_values(ascending=False)"
   ]
  },
  {
   "cell_type": "code",
   "execution_count": 8,
   "id": "62c972d5",
   "metadata": {},
   "outputs": [
    {
     "data": {
      "text/plain": "<AxesSubplot:xlabel='legs'>"
     },
     "execution_count": 8,
     "metadata": {},
     "output_type": "execute_result"
    },
    {
     "data": {
      "text/plain": "<Figure size 432x288 with 1 Axes>",
      "image/png": "[encoded data removed]"
     },
     "metadata": {},
     "output_type": "display_data"
    },
    {
     "data": {
      "text/plain": "<IPython.core.display.Javascript object>",
      "application/javascript": "\n            setTimeout(function() {\n                var nbb_cell_id = 8;\n                var nbb_unformatted_code = \"# data = pd.DataFrame(\\n#     {\\n#         \\\"Col1\\\": [100, 200, 300, 400],\\n#         \\\"Col2\\\": [500, 600, 700, 800],\\n#         \\\"Col3\\\": [900, 1000, 1100, 1200],\\n#         \\\"Col4\\\": [\\\"Nature\\\", \\\"Wildlife\\\", \\\"Animals\\\", \\\"Humans\\\"],\\n#     }\\n# )\\n# data\\n# np.mean(data, axis=1)\\n# data[\\\"Col4\\\"].str.replace(\\\"Nature\\\", \\\"Beauty\\\")\\n# data[\\\"Col4\\\"].str.replace(\\\"Nature\\\",\\\"Beauty\\\", axis=0,inplace=False)\\n# data[\\\"Col4\\\"].replace(\\\"Nature\\\", \\\"Beauty\\\", inplace=False)\\np1 = pd.Series([2, 5, 12, 15, 19, 4, 6, 11, 16, 18, 12, 12, 42], name=\\\"legs\\\")\\nsns.boxplot(x=p1)\";\n                var nbb_formatted_code = \"# data = pd.DataFrame(\\n#     {\\n#         \\\"Col1\\\": [100, 200, 300, 400],\\n#         \\\"Col2\\\": [500, 600, 700, 800],\\n#         \\\"Col3\\\": [900, 1000, 1100, 1200],\\n#         \\\"Col4\\\": [\\\"Nature\\\", \\\"Wildlife\\\", \\\"Animals\\\", \\\"Humans\\\"],\\n#     }\\n# )\\n# data\\n# np.mean(data, axis=1)\\n# data[\\\"Col4\\\"].str.replace(\\\"Nature\\\", \\\"Beauty\\\")\\n# data[\\\"Col4\\\"].str.replace(\\\"Nature\\\",\\\"Beauty\\\", axis=0,inplace=False)\\n# data[\\\"Col4\\\"].replace(\\\"Nature\\\", \\\"Beauty\\\", inplace=False)\\np1 = pd.Series([2, 5, 12, 15, 19, 4, 6, 11, 16, 18, 12, 12, 42], name=\\\"legs\\\")\\nsns.boxplot(x=p1)\";\n                var nbb_cells = Jupyter.notebook.get_cells();\n                for (var i = 0; i < nbb_cells.length; ++i) {\n                    if (nbb_cells[i].input_prompt_number == nbb_cell_id) {\n                        if (nbb_cells[i].get_text() == nbb_unformatted_code) {\n                             nbb_cells[i].set_text(nbb_formatted_code);\n                        }\n                        break;\n                    }\n                }\n            }, 500);\n            "
     },
     "metadata": {},
     "output_type": "display_data"
    }
   ],
   "source": [
    "# data = pd.DataFrame(\n",
    "#     {\n",
    "#         \"Col1\": [100, 200, 300, 400],\n",
    "#         \"Col2\": [500, 600, 700, 800],\n",
    "#         \"Col3\": [900, 1000, 1100, 1200],\n",
    "#         \"Col4\": [\"Nature\", \"Wildlife\", \"Animals\", \"Humans\"],\n",
    "#     }\n",
    "# )\n",
    "# data\n",
    "# np.mean(data, axis=1)\n",
    "# data[\"Col4\"].str.replace(\"Nature\", \"Beauty\")\n",
    "# data[\"Col4\"].str.replace(\"Nature\",\"Beauty\", axis=0,inplace=False)\n",
    "# data[\"Col4\"].replace(\"Nature\", \"Beauty\", inplace=False)\n",
    "p1 = pd.Series([2, 5, 12, 15, 19, 4, 6, 11, 16, 18, 12, 12, 42], name=\"legs\")\n",
    "sns.boxplot(x=p1)"
   ]
  },
  {
   "cell_type": "code",
   "execution_count": 1,
   "id": "519d99c7",
   "metadata": {},
   "outputs": [
    {
     "name": "stdout",
     "output_type": "stream",
     "text": [
      "-0.9963817945771083\n",
      "0.0002611186203867432\n"
     ]
    }
   ],
   "source": [
    "## Pearson Coefficient\n",
    "from scipy.stats import pearsonr\n",
    "list1 = [4, 5, 8, 10, 11]\n",
    "list2 = [50, 48, 45 , 42, 41]\n",
    "\n",
    "corr, pvalue= pearsonr(list1,list2)\n",
    "print(corr)\n",
    "print (pvalue)"
   ]
  },
  {
   "cell_type": "code",
   "execution_count": null,
   "id": "65c5c320",
   "metadata": {},
   "outputs": [],
   "source": []
  },
  {
   "cell_type": "markdown",
   "id": "68c084a4",
   "metadata": {},
   "source": [
    "# Decision Tree, Logistic Regression"
   ]
  },
  {
   "cell_type": "code",
   "execution_count": 2,
   "id": "37893b85",
   "metadata": {},
   "outputs": [],
   "source": [
    "from sklearn.model_selection import train_test_split\n",
    "from sklearn.tree import DecisionTreeClassifier\n",
    "from sklearn import tree"
   ]
  },
  {
   "cell_type": "code",
   "execution_count": null,
   "id": "4d4efcce",
   "metadata": {},
   "outputs": [],
   "source": []
  },
  {
   "cell_type": "code",
   "execution_count": null,
   "id": "709dacb4",
   "metadata": {},
   "outputs": [],
   "source": []
  }
 ],
 "metadata": {
  "kernelspec": {
   "display_name": "Python 3",
   "language": "python",
   "name": "python3"
  },
  "language_info": {
   "codemirror_mode": {
    "name": "ipython",
    "version": 3
   },
   "file_extension": ".py",
   "mimetype": "text/x-python",
   "name": "python",
   "nbconvert_exporter": "python",
   "pygments_lexer": "ipython3",
   "version": "3.8.8"
  },
  "toc": {
   "base_numbering": 1,
   "nav_menu": {},
   "number_sections": true,
   "sideBar": true,
   "skip_h1_title": false,
   "title_cell": "Table of Contents",
   "title_sidebar": "Contents",
   "toc_cell": false,
   "toc_position": {},
   "toc_section_display": true,
   "toc_window_display": false
  }
 },
 "nbformat": 4,
 "nbformat_minor": 5
}